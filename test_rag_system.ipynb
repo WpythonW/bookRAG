{
 "cells": [
  {
   "cell_type": "markdown",
   "id": "ff9ddecd-5d20-49cb-be13-88b9f146b0e1",
   "metadata": {},
   "source": [
    "# Configuration"
   ]
  },
  {
   "metadata": {
    "ExecuteTime": {
     "end_time": "2024-12-24T07:06:47.204048Z",
     "start_time": "2024-12-24T07:06:24.406168Z"
    }
   },
   "cell_type": "code",
   "source": [
    "from ast import literal_eval\n",
    "import joblib\n",
    "\n",
    "import dotenv\n",
    "dotenv.load_dotenv()\n",
    "\n",
    "import pandas as pd\n",
    "\n",
    "from jinja2 import Template\n",
    "from typing import Dict, Any\n",
    "from gemini_llm import GeminiLLM\n",
    "from chroma_client import ChromaDBManager\n",
    "\n",
    "from langchain_openai import ChatOpenAI\n",
    "from ragas.llms import LangchainLLMWrapper\n",
    "from langchain_community.embeddings import SentenceTransformerEmbeddings\n",
    "from ragas.embeddings import LangchainEmbeddingsWrapper\n",
    "from langchain_core.documents import Document\n",
    "\n",
    "from ragas.testset import TestsetGenerator\n",
    "from ragas import evaluate, RunConfig\n",
    "from ragas.metrics import LLMContextRecall, LLMContextPrecisionWithReference, LLMContextPrecisionWithoutReference, AnswerRelevancy, AnswerCorrectness, AnswerSimilarity, Faithfulness\n",
    "from datasets import Dataset  "
   ],
   "id": "d6180b1d4a7632c4",
   "outputs": [],
   "execution_count": 1
  },
  {
   "metadata": {
    "ExecuteTime": {
     "end_time": "2024-12-24T07:06:49.725338Z",
     "start_time": "2024-12-24T07:06:49.723449Z"
    }
   },
   "cell_type": "code",
   "source": [
    "PROMPT_TEMPLATE = \"\"\"\n",
    "{# Main story #}\n",
    "Story:\n",
    "{{ story }}\n",
    "\n",
    "{# Search results #}\n",
    "Relevant text excerpts:\n",
    "{{ search_results }}\n",
    "\n",
    "{# User question #}\n",
    "Question: {{ user_question }}\n",
    "\"\"\""
   ],
   "id": "c038e9d1517d4064",
   "outputs": [],
   "execution_count": 2
  },
  {
   "metadata": {
    "ExecuteTime": {
     "end_time": "2024-12-24T07:06:52.224195Z",
     "start_time": "2024-12-24T07:06:52.221541Z"
    }
   },
   "cell_type": "code",
   "source": [
    "class RagTester:\n",
    "    def __init__(self):\n",
    "        self.chroma_manager = ChromaDBManager()\n",
    "        self.llm = GeminiLLM()\n",
    "        self.template = Template(PROMPT_TEMPLATE)\n",
    "        self.chat_history = []\n",
    "\n",
    "    def create_prompt(self, collection_name: str, query: str) -> str:\n",
    "        \"\"\"\n",
    "        Создает промпт на основе истории, результатов поиска и вопроса пользователя\n",
    "        \"\"\"\n",
    "        story = self.chroma_manager.get_complete_story(collection_name)\n",
    "        search_results = self.chroma_manager.search(collection_name, query)\n",
    "\n",
    "        prompt = self.template.render(\n",
    "            story=story,\n",
    "            search_results=search_results,\n",
    "            user_question=query\n",
    "        )\n",
    "\n",
    "        return search_results, prompt\n",
    "\n",
    "    def get_response(self, collection_name: str, query: str) -> Dict[str, Any]:\n",
    "        \"\"\"\n",
    "        Получает ответ от модели с учетом контекста коллекции\n",
    "        \"\"\"\n",
    "        search_results, full_prompt = self.create_prompt(\n",
    "            collection_name=collection_name,\n",
    "            query=query\n",
    "        )\n",
    "        \n",
    "        response = self.llm.generate_response(\n",
    "            full_prompt,\n",
    "            chat_history=self.chat_history\n",
    "        )\n",
    "        \n",
    "        # Обновляем историю чата\n",
    "        self.chat_history.extend([\n",
    "            {\"role\": \"user\", \"parts\": [{\"text\": query}]},\n",
    "            {\"role\": \"assistant\", \"parts\": [{\"text\": response[\"text\"]}]}\n",
    "        ])\n",
    "        \n",
    "        return search_results, response"
   ],
   "id": "8225fa8df6828610",
   "outputs": [],
   "execution_count": 3
  },
  {
   "metadata": {
    "ExecuteTime": {
     "end_time": "2024-12-24T07:06:59.803595Z",
     "start_time": "2024-12-24T07:06:54.361532Z"
    }
   },
   "cell_type": "code",
   "source": "tester = RagTester()",
   "id": "8b322a06379918e2",
   "outputs": [
    {
     "name": "stderr",
     "output_type": "stream",
     "text": [
      "<All keys matched successfully>\n"
     ]
    }
   ],
   "execution_count": 4
  },
  {
   "metadata": {
    "ExecuteTime": {
     "end_time": "2024-12-24T07:07:01.443880Z",
     "start_time": "2024-12-24T07:07:01.440901Z"
    }
   },
   "cell_type": "code",
   "source": [
    "collections = tester.chroma_manager.get_base_collection_names()\n",
    "print(\"Available collections:\", collections)"
   ],
   "id": "ff2fed83abf2663b",
   "outputs": [
    {
     "name": "stderr",
     "output_type": "stream",
     "text": [
      "INFO:chroma_client:Найдено 1 базовых коллекций: ['Sherlock_Study_in_Scarlet']\n"
     ]
    },
    {
     "name": "stdout",
     "output_type": "stream",
     "text": [
      "Available collections: ['Sherlock_Study_in_Scarlet']\n"
     ]
    }
   ],
   "execution_count": 5
  },
  {
   "metadata": {
    "ExecuteTime": {
     "end_time": "2024-12-24T07:07:02.405142Z",
     "start_time": "2024-12-24T07:07:02.403774Z"
    }
   },
   "cell_type": "code",
   "source": "collection_name = \"Sherlock_Study_in_Scarlet\"  # Укажите имя вашей коллекции Укажите ваш вопрос",
   "id": "4b8ede1aad5c90d0",
   "outputs": [],
   "execution_count": 6
  },
  {
   "cell_type": "markdown",
   "id": "1ac74ec0-3f3c-4414-b181-f087466768a3",
   "metadata": {},
   "source": [
    "# Ragas"
   ]
  },
  {
   "cell_type": "markdown",
   "id": "90cfe06b-0543-4132-a33f-9fabc0a5f8b9",
   "metadata": {},
   "source": [
    "## Generate"
   ]
  },
  {
   "cell_type": "code",
   "id": "a9897aaa-c6cf-4e87-aabe-5acddc24b5e3",
   "metadata": {
    "ExecuteTime": {
     "end_time": "2024-12-24T07:07:14.422760Z",
     "start_time": "2024-12-24T07:07:09.716697Z"
    }
   },
   "source": [
    "generator_llm = LangchainLLMWrapper(ChatOpenAI(model=\"gpt-4o-mini\"))\n",
    "# generator_llm = LangchainLLMWrapper(llm)\n",
    "# generator_embeddings = LangchainEmbeddingsWrapper(embedding_model)\n",
    "model_name = \"nomic-ai/nomic-embed-text-v1.5\"\n",
    "embedding_model = SentenceTransformerEmbeddings(model_name=model_name, model_kwargs={\"trust_remote_code\":True, 'device': 'cuda'})\n",
    "generator_embeddings = LangchainEmbeddingsWrapper(embedding_model)"
   ],
   "outputs": [
    {
     "name": "stderr",
     "output_type": "stream",
     "text": [
      "/tmp/ipykernel_4374/3403442604.py:5: LangChainDeprecationWarning: The class `HuggingFaceEmbeddings` was deprecated in LangChain 0.2.2 and will be removed in 1.0. An updated version of the class exists in the :class:`~langchain-huggingface package and should be used instead. To use it run `pip install -U :class:`~langchain-huggingface` and import as `from :class:`~langchain_huggingface import HuggingFaceEmbeddings``.\n",
      "  embedding_model = SentenceTransformerEmbeddings(model_name=model_name, model_kwargs={\"trust_remote_code\":True, 'device': 'cuda'})\n",
      "INFO:sentence_transformers.SentenceTransformer:Load pretrained SentenceTransformer: nomic-ai/nomic-embed-text-v1.5\n",
      "WARNING:transformers_modules.nomic-ai.nomic-bert-2048.40b98394640e630d5276807046089b233113aa87.modeling_hf_nomic_bert:<All keys matched successfully>\n"
     ]
    }
   ],
   "execution_count": 7
  },
  {
   "cell_type": "code",
   "id": "24dbfd32-fe6d-4688-a6fa-8759ee5ec28d",
   "metadata": {
    "ExecuteTime": {
     "end_time": "2024-12-23T19:55:16.942259Z",
     "start_time": "2024-12-23T19:55:16.940770Z"
    }
   },
   "source": [
    "testsetgenerator = TestsetGenerator(generator_llm, embedding_model=generator_embeddings)"
   ],
   "outputs": [],
   "execution_count": 17
  },
  {
   "cell_type": "code",
   "execution_count": 12,
   "id": "91a3e680-a282-4294-8fb5-092033a6a86f",
   "metadata": {},
   "outputs": [],
   "source": [
    "# testsetgenerator.knowledge_graph = joblib.load('testsetgenerator_kg.pkl')\n",
    "# testsetgenerator.persona_list = joblib.load('testsetgenerator_pl.pkl')"
   ]
  },
  {
   "cell_type": "code",
   "id": "0f8ff0f3-3cb8-461b-a44b-a3e9ea84e005",
   "metadata": {
    "ExecuteTime": {
     "end_time": "2024-12-23T17:20:43.666381Z",
     "start_time": "2024-12-23T17:20:43.664133Z"
    }
   },
   "source": [
    "testsetgenerator"
   ],
   "outputs": [
    {
     "data": {
      "text/plain": [
       "TestsetGenerator(llm=LangchainLLMWrapper(langchain_llm=ChatOpenAI(...)), embedding_model=LangchainEmbeddingsWrapper(embeddings=HuggingFaceEmbeddings(...)), knowledge_graph=KnowledgeGraph(nodes: 0, relationships: 0), persona_list=None)"
      ]
     },
     "execution_count": 12,
     "metadata": {},
     "output_type": "execute_result"
    }
   ],
   "execution_count": 12
  },
  {
   "metadata": {
    "ExecuteTime": {
     "end_time": "2024-12-23T17:30:59.834228Z",
     "start_time": "2024-12-23T17:30:59.830337Z"
    }
   },
   "cell_type": "code",
   "source": [
    "docs = []\n",
    "\n",
    "for doc in tester.chroma_manager.client.get_collection(collection_name + '_chunks').peek()['documents']:\n",
    "    docs.append(Document(metadata={\"file_name\": collection_name},\n",
    "                         page_content=doc))"
   ],
   "id": "94c5b4fa70f873c5",
   "outputs": [],
   "execution_count": 30
  },
  {
   "cell_type": "code",
   "id": "4b3f3a91-5695-45f4-ae2d-e7cfc1f108ff",
   "metadata": {
    "ExecuteTime": {
     "end_time": "2024-12-23T17:36:17.831638Z",
     "start_time": "2024-12-23T17:32:16.202743Z"
    }
   },
   "source": [
    "test_size = 100\n",
    "testset = testsetgenerator.generate_with_langchain_docs(docs, testset_size=test_size)"
   ],
   "outputs": [
    {
     "data": {
      "text/plain": [
       "Applying HeadlinesExtractor:   0%|          | 0/10 [00:00<?, ?it/s]"
      ],
      "application/vnd.jupyter.widget-view+json": {
       "version_major": 2,
       "version_minor": 0,
       "model_id": "a41f64ca57764fc799855314789874d4"
      }
     },
     "metadata": {},
     "output_type": "display_data"
    },
    {
     "name": "stderr",
     "output_type": "stream",
     "text": [
      "INFO:httpx:HTTP Request: POST https://api.openai.com/v1/chat/completions \"HTTP/1.1 200 OK\"\n",
      "INFO:httpx:HTTP Request: POST https://api.openai.com/v1/chat/completions \"HTTP/1.1 200 OK\"\n",
      "INFO:httpx:HTTP Request: POST https://api.openai.com/v1/chat/completions \"HTTP/1.1 200 OK\"\n",
      "INFO:httpx:HTTP Request: POST https://api.openai.com/v1/chat/completions \"HTTP/1.1 200 OK\"\n",
      "INFO:httpx:HTTP Request: POST https://api.openai.com/v1/chat/completions \"HTTP/1.1 200 OK\"\n",
      "INFO:httpx:HTTP Request: POST https://api.openai.com/v1/chat/completions \"HTTP/1.1 200 OK\"\n",
      "INFO:httpx:HTTP Request: POST https://api.openai.com/v1/chat/completions \"HTTP/1.1 200 OK\"\n",
      "INFO:httpx:HTTP Request: POST https://api.openai.com/v1/chat/completions \"HTTP/1.1 200 OK\"\n",
      "INFO:httpx:HTTP Request: POST https://api.openai.com/v1/chat/completions \"HTTP/1.1 200 OK\"\n",
      "INFO:httpx:HTTP Request: POST https://api.openai.com/v1/chat/completions \"HTTP/1.1 200 OK\"\n"
     ]
    },
    {
     "data": {
      "text/plain": [
       "Applying HeadlineSplitter:   0%|          | 0/10 [00:00<?, ?it/s]"
      ],
      "application/vnd.jupyter.widget-view+json": {
       "version_major": 2,
       "version_minor": 0,
       "model_id": "27421c54274648f9b75bb348683dc91e"
      }
     },
     "metadata": {},
     "output_type": "display_data"
    },
    {
     "data": {
      "text/plain": [
       "Applying SummaryExtractor:   0%|          | 0/19 [00:00<?, ?it/s]"
      ],
      "application/vnd.jupyter.widget-view+json": {
       "version_major": 2,
       "version_minor": 0,
       "model_id": "fd752e5b49914fd8b304c206db7ca338"
      }
     },
     "metadata": {},
     "output_type": "display_data"
    },
    {
     "name": "stderr",
     "output_type": "stream",
     "text": [
      "INFO:httpx:HTTP Request: POST https://api.openai.com/v1/chat/completions \"HTTP/1.1 200 OK\"\n",
      "INFO:httpx:HTTP Request: POST https://api.openai.com/v1/chat/completions \"HTTP/1.1 200 OK\"\n",
      "INFO:httpx:HTTP Request: POST https://api.openai.com/v1/chat/completions \"HTTP/1.1 200 OK\"\n",
      "INFO:httpx:HTTP Request: POST https://api.openai.com/v1/chat/completions \"HTTP/1.1 200 OK\"\n",
      "INFO:httpx:HTTP Request: POST https://api.openai.com/v1/chat/completions \"HTTP/1.1 200 OK\"\n",
      "INFO:httpx:HTTP Request: POST https://api.openai.com/v1/chat/completions \"HTTP/1.1 200 OK\"\n",
      "WARNING:ragas.testset.transforms.base:Property 'summary' already exists in node 'd3a39b'. Skipping!\n",
      "INFO:httpx:HTTP Request: POST https://api.openai.com/v1/chat/completions \"HTTP/1.1 200 OK\"\n",
      "INFO:httpx:HTTP Request: POST https://api.openai.com/v1/chat/completions \"HTTP/1.1 200 OK\"\n",
      "INFO:httpx:HTTP Request: POST https://api.openai.com/v1/chat/completions \"HTTP/1.1 200 OK\"\n",
      "INFO:httpx:HTTP Request: POST https://api.openai.com/v1/chat/completions \"HTTP/1.1 200 OK\"\n",
      "WARNING:ragas.testset.transforms.base:Property 'summary' already exists in node 'bcf63f'. Skipping!\n",
      "INFO:httpx:HTTP Request: POST https://api.openai.com/v1/chat/completions \"HTTP/1.1 200 OK\"\n",
      "WARNING:ragas.testset.transforms.base:Property 'summary' already exists in node '2ec6bf'. Skipping!\n",
      "INFO:httpx:HTTP Request: POST https://api.openai.com/v1/chat/completions \"HTTP/1.1 200 OK\"\n",
      "INFO:httpx:HTTP Request: POST https://api.openai.com/v1/chat/completions \"HTTP/1.1 200 OK\"\n",
      "WARNING:ragas.testset.transforms.base:Property 'summary' already exists in node '0241a4'. Skipping!\n",
      "INFO:httpx:HTTP Request: POST https://api.openai.com/v1/chat/completions \"HTTP/1.1 200 OK\"\n",
      "INFO:httpx:HTTP Request: POST https://api.openai.com/v1/chat/completions \"HTTP/1.1 200 OK\"\n",
      "WARNING:ragas.testset.transforms.base:Property 'summary' already exists in node 'a85ce9'. Skipping!\n",
      "INFO:httpx:HTTP Request: POST https://api.openai.com/v1/chat/completions \"HTTP/1.1 200 OK\"\n",
      "WARNING:ragas.testset.transforms.base:Property 'summary' already exists in node '8e5c86'. Skipping!\n",
      "INFO:httpx:HTTP Request: POST https://api.openai.com/v1/chat/completions \"HTTP/1.1 200 OK\"\n",
      "WARNING:ragas.testset.transforms.base:Property 'summary' already exists in node '771ddd'. Skipping!\n",
      "INFO:httpx:HTTP Request: POST https://api.openai.com/v1/chat/completions \"HTTP/1.1 200 OK\"\n",
      "WARNING:ragas.testset.transforms.base:Property 'summary' already exists in node '76ee42'. Skipping!\n",
      "INFO:httpx:HTTP Request: POST https://api.openai.com/v1/chat/completions \"HTTP/1.1 200 OK\"\n",
      "WARNING:ragas.testset.transforms.base:Property 'summary' already exists in node 'e8b283'. Skipping!\n"
     ]
    },
    {
     "data": {
      "text/plain": [
       "Applying CustomNodeFilter:   0%|          | 0/2 [00:00<?, ?it/s]"
      ],
      "application/vnd.jupyter.widget-view+json": {
       "version_major": 2,
       "version_minor": 0,
       "model_id": "3bd170f56e33458a8057f783503bf10c"
      }
     },
     "metadata": {},
     "output_type": "display_data"
    },
    {
     "name": "stderr",
     "output_type": "stream",
     "text": [
      "INFO:httpx:HTTP Request: POST https://api.openai.com/v1/chat/completions \"HTTP/1.1 200 OK\"\n",
      "INFO:httpx:HTTP Request: POST https://api.openai.com/v1/chat/completions \"HTTP/1.1 200 OK\"\n"
     ]
    },
    {
     "data": {
      "text/plain": [
       "Applying [EmbeddingExtractor, ThemesExtractor, NERExtractor]:   0%|          | 0/23 [00:00<?, ?it/s]"
      ],
      "application/vnd.jupyter.widget-view+json": {
       "version_major": 2,
       "version_minor": 0,
       "model_id": "2f3a5c9483984988bd17610ee9f30da6"
      }
     },
     "metadata": {},
     "output_type": "display_data"
    },
    {
     "name": "stderr",
     "output_type": "stream",
     "text": [
      "WARNING:ragas.testset.transforms.base:Property 'summary_embedding' already exists in node '0241a4'. Skipping!\n",
      "WARNING:ragas.testset.transforms.base:Property 'summary_embedding' already exists in node '76ee42'. Skipping!\n",
      "WARNING:ragas.testset.transforms.base:Property 'summary_embedding' already exists in node 'd3a39b'. Skipping!\n",
      "WARNING:ragas.testset.transforms.base:Property 'summary_embedding' already exists in node 'bcf63f'. Skipping!\n",
      "WARNING:ragas.testset.transforms.base:Property 'summary_embedding' already exists in node '2ec6bf'. Skipping!\n",
      "WARNING:ragas.testset.transforms.base:Property 'summary_embedding' already exists in node 'a85ce9'. Skipping!\n",
      "WARNING:ragas.testset.transforms.base:Property 'summary_embedding' already exists in node '8e5c86'. Skipping!\n",
      "WARNING:ragas.testset.transforms.base:Property 'summary_embedding' already exists in node 'e8b283'. Skipping!\n",
      "WARNING:ragas.testset.transforms.base:Property 'summary_embedding' already exists in node '771ddd'. Skipping!\n",
      "INFO:httpx:HTTP Request: POST https://api.openai.com/v1/chat/completions \"HTTP/1.1 200 OK\"\n",
      "INFO:httpx:HTTP Request: POST https://api.openai.com/v1/chat/completions \"HTTP/1.1 200 OK\"\n",
      "INFO:httpx:HTTP Request: POST https://api.openai.com/v1/chat/completions \"HTTP/1.1 200 OK\"\n",
      "INFO:httpx:HTTP Request: POST https://api.openai.com/v1/chat/completions \"HTTP/1.1 200 OK\"\n"
     ]
    },
    {
     "data": {
      "text/plain": [
       "Applying [CosineSimilarityBuilder, OverlapScoreBuilder]:   0%|          | 0/2 [00:00<?, ?it/s]"
      ],
      "application/vnd.jupyter.widget-view+json": {
       "version_major": 2,
       "version_minor": 0,
       "model_id": "7d74e137235143deb44ae6a06877a9ef"
      }
     },
     "metadata": {},
     "output_type": "display_data"
    },
    {
     "name": "stderr",
     "output_type": "stream",
     "text": [
      "INFO:ragas.testset.synthesizers.multi_hop.abstract:found 112 clusters\n",
      "INFO:ragas.testset.synthesizers.multi_hop.specific:found 0 clusters\n"
     ]
    },
    {
     "data": {
      "text/plain": [
       "Generating personas:   0%|          | 0/3 [00:00<?, ?it/s]"
      ],
      "application/vnd.jupyter.widget-view+json": {
       "version_major": 2,
       "version_minor": 0,
       "model_id": "335d31a4e77948fbab2d12d74fc0f050"
      }
     },
     "metadata": {},
     "output_type": "display_data"
    },
    {
     "name": "stderr",
     "output_type": "stream",
     "text": [
      "INFO:httpx:HTTP Request: POST https://api.openai.com/v1/chat/completions \"HTTP/1.1 200 OK\"\n",
      "INFO:httpx:HTTP Request: POST https://api.openai.com/v1/chat/completions \"HTTP/1.1 200 OK\"\n",
      "INFO:httpx:HTTP Request: POST https://api.openai.com/v1/chat/completions \"HTTP/1.1 200 OK\"\n"
     ]
    },
    {
     "data": {
      "text/plain": [
       "Generating Scenarios:   0%|          | 0/2 [00:00<?, ?it/s]"
      ],
      "application/vnd.jupyter.widget-view+json": {
       "version_major": 2,
       "version_minor": 0,
       "model_id": "6cacec147b874f48bc47c14e1b490dfc"
      }
     },
     "metadata": {},
     "output_type": "display_data"
    },
    {
     "name": "stderr",
     "output_type": "stream",
     "text": [
      "INFO:ragas.testset.synthesizers.multi_hop.abstract:found 112 clusters\n",
      "INFO:httpx:HTTP Request: POST https://api.openai.com/v1/chat/completions \"HTTP/1.1 200 OK\"\n",
      "INFO:httpx:HTTP Request: POST https://api.openai.com/v1/chat/completions \"HTTP/1.1 200 OK\"\n",
      "INFO:httpx:HTTP Request: POST https://api.openai.com/v1/chat/completions \"HTTP/1.1 200 OK\"\n",
      "INFO:httpx:HTTP Request: POST https://api.openai.com/v1/chat/completions \"HTTP/1.1 200 OK\"\n",
      "INFO:httpx:HTTP Request: POST https://api.openai.com/v1/chat/completions \"HTTP/1.1 200 OK\"\n",
      "INFO:httpx:HTTP Request: POST https://api.openai.com/v1/chat/completions \"HTTP/1.1 200 OK\"\n",
      "INFO:httpx:HTTP Request: POST https://api.openai.com/v1/chat/completions \"HTTP/1.1 200 OK\"\n",
      "INFO:httpx:HTTP Request: POST https://api.openai.com/v1/chat/completions \"HTTP/1.1 200 OK\"\n",
      "INFO:httpx:HTTP Request: POST https://api.openai.com/v1/chat/completions \"HTTP/1.1 200 OK\"\n",
      "INFO:httpx:HTTP Request: POST https://api.openai.com/v1/chat/completions \"HTTP/1.1 200 OK\"\n",
      "INFO:httpx:HTTP Request: POST https://api.openai.com/v1/chat/completions \"HTTP/1.1 200 OK\"\n",
      "INFO:httpx:HTTP Request: POST https://api.openai.com/v1/chat/completions \"HTTP/1.1 200 OK\"\n",
      "INFO:httpx:HTTP Request: POST https://api.openai.com/v1/chat/completions \"HTTP/1.1 200 OK\"\n",
      "INFO:httpx:HTTP Request: POST https://api.openai.com/v1/chat/completions \"HTTP/1.1 200 OK\"\n",
      "INFO:httpx:HTTP Request: POST https://api.openai.com/v1/chat/completions \"HTTP/1.1 200 OK\"\n",
      "INFO:httpx:HTTP Request: POST https://api.openai.com/v1/chat/completions \"HTTP/1.1 200 OK\"\n",
      "INFO:httpx:HTTP Request: POST https://api.openai.com/v1/chat/completions \"HTTP/1.1 200 OK\"\n",
      "INFO:httpx:HTTP Request: POST https://api.openai.com/v1/chat/completions \"HTTP/1.1 200 OK\"\n",
      "INFO:httpx:HTTP Request: POST https://api.openai.com/v1/chat/completions \"HTTP/1.1 200 OK\"\n",
      "INFO:httpx:HTTP Request: POST https://api.openai.com/v1/chat/completions \"HTTP/1.1 200 OK\"\n",
      "INFO:httpx:HTTP Request: POST https://api.openai.com/v1/chat/completions \"HTTP/1.1 200 OK\"\n",
      "INFO:httpx:HTTP Request: POST https://api.openai.com/v1/chat/completions \"HTTP/1.1 200 OK\"\n",
      "INFO:httpx:HTTP Request: POST https://api.openai.com/v1/chat/completions \"HTTP/1.1 200 OK\"\n",
      "INFO:httpx:HTTP Request: POST https://api.openai.com/v1/chat/completions \"HTTP/1.1 200 OK\"\n",
      "INFO:httpx:HTTP Request: POST https://api.openai.com/v1/chat/completions \"HTTP/1.1 200 OK\"\n",
      "INFO:httpx:HTTP Request: POST https://api.openai.com/v1/chat/completions \"HTTP/1.1 200 OK\"\n",
      "INFO:httpx:HTTP Request: POST https://api.openai.com/v1/chat/completions \"HTTP/1.1 200 OK\"\n",
      "INFO:httpx:HTTP Request: POST https://api.openai.com/v1/chat/completions \"HTTP/1.1 200 OK\"\n",
      "INFO:httpx:HTTP Request: POST https://api.openai.com/v1/chat/completions \"HTTP/1.1 200 OK\"\n",
      "INFO:httpx:HTTP Request: POST https://api.openai.com/v1/chat/completions \"HTTP/1.1 200 OK\"\n",
      "INFO:httpx:HTTP Request: POST https://api.openai.com/v1/chat/completions \"HTTP/1.1 200 OK\"\n",
      "INFO:httpx:HTTP Request: POST https://api.openai.com/v1/chat/completions \"HTTP/1.1 200 OK\"\n",
      "INFO:httpx:HTTP Request: POST https://api.openai.com/v1/chat/completions \"HTTP/1.1 200 OK\"\n",
      "INFO:httpx:HTTP Request: POST https://api.openai.com/v1/chat/completions \"HTTP/1.1 200 OK\"\n",
      "INFO:httpx:HTTP Request: POST https://api.openai.com/v1/chat/completions \"HTTP/1.1 200 OK\"\n",
      "INFO:httpx:HTTP Request: POST https://api.openai.com/v1/chat/completions \"HTTP/1.1 200 OK\"\n",
      "INFO:httpx:HTTP Request: POST https://api.openai.com/v1/chat/completions \"HTTP/1.1 200 OK\"\n",
      "INFO:httpx:HTTP Request: POST https://api.openai.com/v1/chat/completions \"HTTP/1.1 200 OK\"\n",
      "INFO:httpx:HTTP Request: POST https://api.openai.com/v1/chat/completions \"HTTP/1.1 200 OK\"\n",
      "INFO:httpx:HTTP Request: POST https://api.openai.com/v1/chat/completions \"HTTP/1.1 200 OK\"\n",
      "INFO:httpx:HTTP Request: POST https://api.openai.com/v1/chat/completions \"HTTP/1.1 200 OK\"\n",
      "INFO:httpx:HTTP Request: POST https://api.openai.com/v1/chat/completions \"HTTP/1.1 200 OK\"\n",
      "INFO:httpx:HTTP Request: POST https://api.openai.com/v1/chat/completions \"HTTP/1.1 200 OK\"\n",
      "INFO:httpx:HTTP Request: POST https://api.openai.com/v1/chat/completions \"HTTP/1.1 200 OK\"\n",
      "INFO:httpx:HTTP Request: POST https://api.openai.com/v1/chat/completions \"HTTP/1.1 200 OK\"\n",
      "INFO:httpx:HTTP Request: POST https://api.openai.com/v1/chat/completions \"HTTP/1.1 200 OK\"\n",
      "INFO:httpx:HTTP Request: POST https://api.openai.com/v1/chat/completions \"HTTP/1.1 200 OK\"\n",
      "INFO:httpx:HTTP Request: POST https://api.openai.com/v1/chat/completions \"HTTP/1.1 200 OK\"\n",
      "INFO:httpx:HTTP Request: POST https://api.openai.com/v1/chat/completions \"HTTP/1.1 200 OK\"\n",
      "INFO:httpx:HTTP Request: POST https://api.openai.com/v1/chat/completions \"HTTP/1.1 200 OK\"\n",
      "INFO:httpx:HTTP Request: POST https://api.openai.com/v1/chat/completions \"HTTP/1.1 200 OK\"\n",
      "INFO:httpx:HTTP Request: POST https://api.openai.com/v1/chat/completions \"HTTP/1.1 200 OK\"\n",
      "INFO:httpx:HTTP Request: POST https://api.openai.com/v1/chat/completions \"HTTP/1.1 200 OK\"\n",
      "INFO:httpx:HTTP Request: POST https://api.openai.com/v1/chat/completions \"HTTP/1.1 200 OK\"\n",
      "INFO:httpx:HTTP Request: POST https://api.openai.com/v1/chat/completions \"HTTP/1.1 200 OK\"\n",
      "INFO:httpx:HTTP Request: POST https://api.openai.com/v1/chat/completions \"HTTP/1.1 200 OK\"\n",
      "INFO:httpx:HTTP Request: POST https://api.openai.com/v1/chat/completions \"HTTP/1.1 200 OK\"\n",
      "INFO:httpx:HTTP Request: POST https://api.openai.com/v1/chat/completions \"HTTP/1.1 200 OK\"\n",
      "INFO:httpx:HTTP Request: POST https://api.openai.com/v1/chat/completions \"HTTP/1.1 200 OK\"\n",
      "INFO:httpx:HTTP Request: POST https://api.openai.com/v1/chat/completions \"HTTP/1.1 200 OK\"\n",
      "INFO:httpx:HTTP Request: POST https://api.openai.com/v1/chat/completions \"HTTP/1.1 200 OK\"\n",
      "INFO:httpx:HTTP Request: POST https://api.openai.com/v1/chat/completions \"HTTP/1.1 200 OK\"\n",
      "INFO:httpx:HTTP Request: POST https://api.openai.com/v1/chat/completions \"HTTP/1.1 200 OK\"\n",
      "INFO:httpx:HTTP Request: POST https://api.openai.com/v1/chat/completions \"HTTP/1.1 200 OK\"\n",
      "INFO:httpx:HTTP Request: POST https://api.openai.com/v1/chat/completions \"HTTP/1.1 200 OK\"\n",
      "INFO:httpx:HTTP Request: POST https://api.openai.com/v1/chat/completions \"HTTP/1.1 200 OK\"\n",
      "INFO:httpx:HTTP Request: POST https://api.openai.com/v1/chat/completions \"HTTP/1.1 200 OK\"\n",
      "INFO:httpx:HTTP Request: POST https://api.openai.com/v1/chat/completions \"HTTP/1.1 200 OK\"\n",
      "INFO:httpx:HTTP Request: POST https://api.openai.com/v1/chat/completions \"HTTP/1.1 200 OK\"\n",
      "INFO:httpx:HTTP Request: POST https://api.openai.com/v1/chat/completions \"HTTP/1.1 200 OK\"\n",
      "INFO:httpx:HTTP Request: POST https://api.openai.com/v1/chat/completions \"HTTP/1.1 200 OK\"\n",
      "INFO:httpx:HTTP Request: POST https://api.openai.com/v1/chat/completions \"HTTP/1.1 200 OK\"\n",
      "INFO:httpx:HTTP Request: POST https://api.openai.com/v1/chat/completions \"HTTP/1.1 200 OK\"\n",
      "INFO:httpx:HTTP Request: POST https://api.openai.com/v1/chat/completions \"HTTP/1.1 200 OK\"\n",
      "INFO:httpx:HTTP Request: POST https://api.openai.com/v1/chat/completions \"HTTP/1.1 200 OK\"\n",
      "INFO:httpx:HTTP Request: POST https://api.openai.com/v1/chat/completions \"HTTP/1.1 200 OK\"\n",
      "INFO:httpx:HTTP Request: POST https://api.openai.com/v1/chat/completions \"HTTP/1.1 200 OK\"\n",
      "INFO:httpx:HTTP Request: POST https://api.openai.com/v1/chat/completions \"HTTP/1.1 200 OK\"\n",
      "INFO:httpx:HTTP Request: POST https://api.openai.com/v1/chat/completions \"HTTP/1.1 200 OK\"\n",
      "INFO:httpx:HTTP Request: POST https://api.openai.com/v1/chat/completions \"HTTP/1.1 200 OK\"\n",
      "INFO:httpx:HTTP Request: POST https://api.openai.com/v1/chat/completions \"HTTP/1.1 200 OK\"\n",
      "INFO:httpx:HTTP Request: POST https://api.openai.com/v1/chat/completions \"HTTP/1.1 200 OK\"\n",
      "INFO:httpx:HTTP Request: POST https://api.openai.com/v1/chat/completions \"HTTP/1.1 200 OK\"\n",
      "INFO:httpx:HTTP Request: POST https://api.openai.com/v1/chat/completions \"HTTP/1.1 200 OK\"\n",
      "INFO:httpx:HTTP Request: POST https://api.openai.com/v1/chat/completions \"HTTP/1.1 200 OK\"\n",
      "INFO:httpx:HTTP Request: POST https://api.openai.com/v1/chat/completions \"HTTP/1.1 200 OK\"\n",
      "INFO:httpx:HTTP Request: POST https://api.openai.com/v1/chat/completions \"HTTP/1.1 200 OK\"\n",
      "INFO:httpx:HTTP Request: POST https://api.openai.com/v1/chat/completions \"HTTP/1.1 200 OK\"\n",
      "INFO:httpx:HTTP Request: POST https://api.openai.com/v1/chat/completions \"HTTP/1.1 200 OK\"\n",
      "INFO:httpx:HTTP Request: POST https://api.openai.com/v1/chat/completions \"HTTP/1.1 200 OK\"\n",
      "INFO:httpx:HTTP Request: POST https://api.openai.com/v1/chat/completions \"HTTP/1.1 200 OK\"\n",
      "INFO:httpx:HTTP Request: POST https://api.openai.com/v1/chat/completions \"HTTP/1.1 200 OK\"\n",
      "INFO:httpx:HTTP Request: POST https://api.openai.com/v1/chat/completions \"HTTP/1.1 200 OK\"\n",
      "INFO:httpx:HTTP Request: POST https://api.openai.com/v1/chat/completions \"HTTP/1.1 200 OK\"\n",
      "INFO:httpx:HTTP Request: POST https://api.openai.com/v1/chat/completions \"HTTP/1.1 200 OK\"\n",
      "INFO:httpx:HTTP Request: POST https://api.openai.com/v1/chat/completions \"HTTP/1.1 200 OK\"\n",
      "INFO:httpx:HTTP Request: POST https://api.openai.com/v1/chat/completions \"HTTP/1.1 200 OK\"\n",
      "INFO:httpx:HTTP Request: POST https://api.openai.com/v1/chat/completions \"HTTP/1.1 200 OK\"\n",
      "INFO:httpx:HTTP Request: POST https://api.openai.com/v1/chat/completions \"HTTP/1.1 200 OK\"\n",
      "INFO:httpx:HTTP Request: POST https://api.openai.com/v1/chat/completions \"HTTP/1.1 200 OK\"\n",
      "INFO:httpx:HTTP Request: POST https://api.openai.com/v1/chat/completions \"HTTP/1.1 200 OK\"\n",
      "INFO:httpx:HTTP Request: POST https://api.openai.com/v1/chat/completions \"HTTP/1.1 200 OK\"\n",
      "INFO:httpx:HTTP Request: POST https://api.openai.com/v1/chat/completions \"HTTP/1.1 200 OK\"\n",
      "INFO:httpx:HTTP Request: POST https://api.openai.com/v1/chat/completions \"HTTP/1.1 200 OK\"\n",
      "INFO:httpx:HTTP Request: POST https://api.openai.com/v1/chat/completions \"HTTP/1.1 200 OK\"\n",
      "INFO:httpx:HTTP Request: POST https://api.openai.com/v1/chat/completions \"HTTP/1.1 200 OK\"\n",
      "INFO:httpx:HTTP Request: POST https://api.openai.com/v1/chat/completions \"HTTP/1.1 200 OK\"\n",
      "INFO:httpx:HTTP Request: POST https://api.openai.com/v1/chat/completions \"HTTP/1.1 200 OK\"\n",
      "INFO:httpx:HTTP Request: POST https://api.openai.com/v1/chat/completions \"HTTP/1.1 200 OK\"\n",
      "INFO:httpx:HTTP Request: POST https://api.openai.com/v1/chat/completions \"HTTP/1.1 200 OK\"\n",
      "INFO:httpx:HTTP Request: POST https://api.openai.com/v1/chat/completions \"HTTP/1.1 200 OK\"\n",
      "INFO:httpx:HTTP Request: POST https://api.openai.com/v1/chat/completions \"HTTP/1.1 200 OK\"\n",
      "INFO:httpx:HTTP Request: POST https://api.openai.com/v1/chat/completions \"HTTP/1.1 200 OK\"\n",
      "INFO:httpx:HTTP Request: POST https://api.openai.com/v1/chat/completions \"HTTP/1.1 200 OK\"\n",
      "INFO:httpx:HTTP Request: POST https://api.openai.com/v1/chat/completions \"HTTP/1.1 200 OK\"\n",
      "INFO:httpx:HTTP Request: POST https://api.openai.com/v1/chat/completions \"HTTP/1.1 200 OK\"\n",
      "INFO:httpx:HTTP Request: POST https://api.openai.com/v1/chat/completions \"HTTP/1.1 200 OK\"\n",
      "INFO:httpx:HTTP Request: POST https://api.openai.com/v1/chat/completions \"HTTP/1.1 200 OK\"\n",
      "INFO:httpx:HTTP Request: POST https://api.openai.com/v1/chat/completions \"HTTP/1.1 200 OK\"\n",
      "INFO:httpx:HTTP Request: POST https://api.openai.com/v1/chat/completions \"HTTP/1.1 200 OK\"\n",
      "INFO:httpx:HTTP Request: POST https://api.openai.com/v1/chat/completions \"HTTP/1.1 200 OK\"\n",
      "INFO:httpx:HTTP Request: POST https://api.openai.com/v1/chat/completions \"HTTP/1.1 200 OK\"\n",
      "INFO:httpx:HTTP Request: POST https://api.openai.com/v1/chat/completions \"HTTP/1.1 200 OK\"\n",
      "INFO:httpx:HTTP Request: POST https://api.openai.com/v1/chat/completions \"HTTP/1.1 200 OK\"\n",
      "INFO:httpx:HTTP Request: POST https://api.openai.com/v1/chat/completions \"HTTP/1.1 200 OK\"\n",
      "INFO:httpx:HTTP Request: POST https://api.openai.com/v1/chat/completions \"HTTP/1.1 200 OK\"\n",
      "INFO:httpx:HTTP Request: POST https://api.openai.com/v1/chat/completions \"HTTP/1.1 200 OK\"\n",
      "INFO:httpx:HTTP Request: POST https://api.openai.com/v1/chat/completions \"HTTP/1.1 200 OK\"\n",
      "INFO:httpx:HTTP Request: POST https://api.openai.com/v1/chat/completions \"HTTP/1.1 200 OK\"\n",
      "INFO:httpx:HTTP Request: POST https://api.openai.com/v1/chat/completions \"HTTP/1.1 200 OK\"\n",
      "INFO:httpx:HTTP Request: POST https://api.openai.com/v1/chat/completions \"HTTP/1.1 200 OK\"\n",
      "INFO:httpx:HTTP Request: POST https://api.openai.com/v1/chat/completions \"HTTP/1.1 200 OK\"\n",
      "INFO:httpx:HTTP Request: POST https://api.openai.com/v1/chat/completions \"HTTP/1.1 200 OK\"\n",
      "INFO:httpx:HTTP Request: POST https://api.openai.com/v1/chat/completions \"HTTP/1.1 200 OK\"\n",
      "INFO:httpx:HTTP Request: POST https://api.openai.com/v1/chat/completions \"HTTP/1.1 200 OK\"\n",
      "INFO:httpx:HTTP Request: POST https://api.openai.com/v1/chat/completions \"HTTP/1.1 200 OK\"\n",
      "INFO:httpx:HTTP Request: POST https://api.openai.com/v1/chat/completions \"HTTP/1.1 200 OK\"\n",
      "INFO:httpx:HTTP Request: POST https://api.openai.com/v1/chat/completions \"HTTP/1.1 200 OK\"\n",
      "INFO:httpx:HTTP Request: POST https://api.openai.com/v1/chat/completions \"HTTP/1.1 200 OK\"\n",
      "INFO:httpx:HTTP Request: POST https://api.openai.com/v1/chat/completions \"HTTP/1.1 200 OK\"\n",
      "INFO:httpx:HTTP Request: POST https://api.openai.com/v1/chat/completions \"HTTP/1.1 200 OK\"\n",
      "INFO:httpx:HTTP Request: POST https://api.openai.com/v1/chat/completions \"HTTP/1.1 200 OK\"\n",
      "INFO:httpx:HTTP Request: POST https://api.openai.com/v1/chat/completions \"HTTP/1.1 200 OK\"\n",
      "INFO:httpx:HTTP Request: POST https://api.openai.com/v1/chat/completions \"HTTP/1.1 200 OK\"\n",
      "INFO:httpx:HTTP Request: POST https://api.openai.com/v1/chat/completions \"HTTP/1.1 200 OK\"\n",
      "INFO:httpx:HTTP Request: POST https://api.openai.com/v1/chat/completions \"HTTP/1.1 200 OK\"\n",
      "INFO:httpx:HTTP Request: POST https://api.openai.com/v1/chat/completions \"HTTP/1.1 200 OK\"\n",
      "INFO:httpx:HTTP Request: POST https://api.openai.com/v1/chat/completions \"HTTP/1.1 200 OK\"\n",
      "INFO:httpx:HTTP Request: POST https://api.openai.com/v1/chat/completions \"HTTP/1.1 200 OK\"\n",
      "INFO:httpx:HTTP Request: POST https://api.openai.com/v1/chat/completions \"HTTP/1.1 200 OK\"\n",
      "INFO:httpx:HTTP Request: POST https://api.openai.com/v1/chat/completions \"HTTP/1.1 200 OK\"\n",
      "INFO:httpx:HTTP Request: POST https://api.openai.com/v1/chat/completions \"HTTP/1.1 200 OK\"\n",
      "INFO:httpx:HTTP Request: POST https://api.openai.com/v1/chat/completions \"HTTP/1.1 200 OK\"\n",
      "INFO:httpx:HTTP Request: POST https://api.openai.com/v1/chat/completions \"HTTP/1.1 200 OK\"\n",
      "INFO:httpx:HTTP Request: POST https://api.openai.com/v1/chat/completions \"HTTP/1.1 200 OK\"\n",
      "INFO:httpx:HTTP Request: POST https://api.openai.com/v1/chat/completions \"HTTP/1.1 200 OK\"\n",
      "INFO:httpx:HTTP Request: POST https://api.openai.com/v1/chat/completions \"HTTP/1.1 200 OK\"\n",
      "INFO:httpx:HTTP Request: POST https://api.openai.com/v1/chat/completions \"HTTP/1.1 200 OK\"\n",
      "INFO:httpx:HTTP Request: POST https://api.openai.com/v1/chat/completions \"HTTP/1.1 200 OK\"\n",
      "INFO:httpx:HTTP Request: POST https://api.openai.com/v1/chat/completions \"HTTP/1.1 200 OK\"\n",
      "INFO:httpx:HTTP Request: POST https://api.openai.com/v1/chat/completions \"HTTP/1.1 200 OK\"\n",
      "INFO:httpx:HTTP Request: POST https://api.openai.com/v1/chat/completions \"HTTP/1.1 200 OK\"\n",
      "INFO:httpx:HTTP Request: POST https://api.openai.com/v1/chat/completions \"HTTP/1.1 200 OK\"\n",
      "INFO:httpx:HTTP Request: POST https://api.openai.com/v1/chat/completions \"HTTP/1.1 200 OK\"\n",
      "INFO:httpx:HTTP Request: POST https://api.openai.com/v1/chat/completions \"HTTP/1.1 200 OK\"\n",
      "INFO:httpx:HTTP Request: POST https://api.openai.com/v1/chat/completions \"HTTP/1.1 200 OK\"\n",
      "INFO:httpx:HTTP Request: POST https://api.openai.com/v1/chat/completions \"HTTP/1.1 200 OK\"\n",
      "INFO:httpx:HTTP Request: POST https://api.openai.com/v1/chat/completions \"HTTP/1.1 200 OK\"\n",
      "INFO:httpx:HTTP Request: POST https://api.openai.com/v1/chat/completions \"HTTP/1.1 200 OK\"\n",
      "INFO:httpx:HTTP Request: POST https://api.openai.com/v1/chat/completions \"HTTP/1.1 200 OK\"\n",
      "INFO:httpx:HTTP Request: POST https://api.openai.com/v1/chat/completions \"HTTP/1.1 200 OK\"\n",
      "INFO:httpx:HTTP Request: POST https://api.openai.com/v1/chat/completions \"HTTP/1.1 200 OK\"\n",
      "INFO:httpx:HTTP Request: POST https://api.openai.com/v1/chat/completions \"HTTP/1.1 200 OK\"\n",
      "INFO:httpx:HTTP Request: POST https://api.openai.com/v1/chat/completions \"HTTP/1.1 200 OK\"\n",
      "INFO:httpx:HTTP Request: POST https://api.openai.com/v1/chat/completions \"HTTP/1.1 200 OK\"\n",
      "INFO:httpx:HTTP Request: POST https://api.openai.com/v1/chat/completions \"HTTP/1.1 200 OK\"\n",
      "INFO:httpx:HTTP Request: POST https://api.openai.com/v1/chat/completions \"HTTP/1.1 200 OK\"\n",
      "INFO:httpx:HTTP Request: POST https://api.openai.com/v1/chat/completions \"HTTP/1.1 200 OK\"\n",
      "INFO:httpx:HTTP Request: POST https://api.openai.com/v1/chat/completions \"HTTP/1.1 200 OK\"\n",
      "INFO:httpx:HTTP Request: POST https://api.openai.com/v1/chat/completions \"HTTP/1.1 200 OK\"\n",
      "INFO:httpx:HTTP Request: POST https://api.openai.com/v1/chat/completions \"HTTP/1.1 200 OK\"\n",
      "INFO:httpx:HTTP Request: POST https://api.openai.com/v1/chat/completions \"HTTP/1.1 200 OK\"\n",
      "INFO:httpx:HTTP Request: POST https://api.openai.com/v1/chat/completions \"HTTP/1.1 200 OK\"\n",
      "INFO:httpx:HTTP Request: POST https://api.openai.com/v1/chat/completions \"HTTP/1.1 200 OK\"\n",
      "INFO:httpx:HTTP Request: POST https://api.openai.com/v1/chat/completions \"HTTP/1.1 200 OK\"\n",
      "INFO:httpx:HTTP Request: POST https://api.openai.com/v1/chat/completions \"HTTP/1.1 200 OK\"\n",
      "INFO:httpx:HTTP Request: POST https://api.openai.com/v1/chat/completions \"HTTP/1.1 200 OK\"\n",
      "INFO:httpx:HTTP Request: POST https://api.openai.com/v1/chat/completions \"HTTP/1.1 200 OK\"\n",
      "INFO:httpx:HTTP Request: POST https://api.openai.com/v1/chat/completions \"HTTP/1.1 200 OK\"\n",
      "INFO:httpx:HTTP Request: POST https://api.openai.com/v1/chat/completions \"HTTP/1.1 200 OK\"\n",
      "INFO:httpx:HTTP Request: POST https://api.openai.com/v1/chat/completions \"HTTP/1.1 200 OK\"\n",
      "INFO:httpx:HTTP Request: POST https://api.openai.com/v1/chat/completions \"HTTP/1.1 200 OK\"\n",
      "INFO:httpx:HTTP Request: POST https://api.openai.com/v1/chat/completions \"HTTP/1.1 200 OK\"\n",
      "INFO:httpx:HTTP Request: POST https://api.openai.com/v1/chat/completions \"HTTP/1.1 200 OK\"\n",
      "INFO:httpx:HTTP Request: POST https://api.openai.com/v1/chat/completions \"HTTP/1.1 200 OK\"\n",
      "INFO:httpx:HTTP Request: POST https://api.openai.com/v1/chat/completions \"HTTP/1.1 200 OK\"\n",
      "INFO:httpx:HTTP Request: POST https://api.openai.com/v1/chat/completions \"HTTP/1.1 200 OK\"\n",
      "INFO:httpx:HTTP Request: POST https://api.openai.com/v1/chat/completions \"HTTP/1.1 200 OK\"\n",
      "INFO:httpx:HTTP Request: POST https://api.openai.com/v1/chat/completions \"HTTP/1.1 200 OK\"\n",
      "INFO:httpx:HTTP Request: POST https://api.openai.com/v1/chat/completions \"HTTP/1.1 200 OK\"\n",
      "INFO:httpx:HTTP Request: POST https://api.openai.com/v1/chat/completions \"HTTP/1.1 200 OK\"\n",
      "INFO:httpx:HTTP Request: POST https://api.openai.com/v1/chat/completions \"HTTP/1.1 200 OK\"\n",
      "INFO:httpx:HTTP Request: POST https://api.openai.com/v1/chat/completions \"HTTP/1.1 200 OK\"\n",
      "INFO:httpx:HTTP Request: POST https://api.openai.com/v1/chat/completions \"HTTP/1.1 200 OK\"\n",
      "INFO:httpx:HTTP Request: POST https://api.openai.com/v1/chat/completions \"HTTP/1.1 200 OK\"\n",
      "INFO:httpx:HTTP Request: POST https://api.openai.com/v1/chat/completions \"HTTP/1.1 200 OK\"\n",
      "INFO:httpx:HTTP Request: POST https://api.openai.com/v1/chat/completions \"HTTP/1.1 200 OK\"\n",
      "INFO:httpx:HTTP Request: POST https://api.openai.com/v1/chat/completions \"HTTP/1.1 200 OK\"\n",
      "INFO:httpx:HTTP Request: POST https://api.openai.com/v1/chat/completions \"HTTP/1.1 200 OK\"\n",
      "INFO:httpx:HTTP Request: POST https://api.openai.com/v1/chat/completions \"HTTP/1.1 200 OK\"\n",
      "INFO:httpx:HTTP Request: POST https://api.openai.com/v1/chat/completions \"HTTP/1.1 200 OK\"\n",
      "INFO:httpx:HTTP Request: POST https://api.openai.com/v1/chat/completions \"HTTP/1.1 200 OK\"\n",
      "INFO:httpx:HTTP Request: POST https://api.openai.com/v1/chat/completions \"HTTP/1.1 200 OK\"\n",
      "INFO:httpx:HTTP Request: POST https://api.openai.com/v1/chat/completions \"HTTP/1.1 200 OK\"\n",
      "INFO:httpx:HTTP Request: POST https://api.openai.com/v1/chat/completions \"HTTP/1.1 200 OK\"\n",
      "INFO:httpx:HTTP Request: POST https://api.openai.com/v1/chat/completions \"HTTP/1.1 200 OK\"\n",
      "INFO:httpx:HTTP Request: POST https://api.openai.com/v1/chat/completions \"HTTP/1.1 200 OK\"\n",
      "INFO:httpx:HTTP Request: POST https://api.openai.com/v1/chat/completions \"HTTP/1.1 200 OK\"\n",
      "INFO:httpx:HTTP Request: POST https://api.openai.com/v1/chat/completions \"HTTP/1.1 200 OK\"\n",
      "INFO:httpx:HTTP Request: POST https://api.openai.com/v1/chat/completions \"HTTP/1.1 200 OK\"\n",
      "INFO:httpx:HTTP Request: POST https://api.openai.com/v1/chat/completions \"HTTP/1.1 200 OK\"\n",
      "INFO:httpx:HTTP Request: POST https://api.openai.com/v1/chat/completions \"HTTP/1.1 200 OK\"\n",
      "INFO:httpx:HTTP Request: POST https://api.openai.com/v1/chat/completions \"HTTP/1.1 200 OK\"\n",
      "INFO:httpx:HTTP Request: POST https://api.openai.com/v1/chat/completions \"HTTP/1.1 200 OK\"\n",
      "INFO:httpx:HTTP Request: POST https://api.openai.com/v1/chat/completions \"HTTP/1.1 200 OK\"\n",
      "INFO:httpx:HTTP Request: POST https://api.openai.com/v1/chat/completions \"HTTP/1.1 200 OK\"\n"
     ]
    },
    {
     "data": {
      "text/plain": [
       "Generating Samples:   0%|          | 0/75 [00:00<?, ?it/s]"
      ],
      "application/vnd.jupyter.widget-view+json": {
       "version_major": 2,
       "version_minor": 0,
       "model_id": "694df09684f9456f860aa6177b567e31"
      }
     },
     "metadata": {},
     "output_type": "display_data"
    },
    {
     "name": "stderr",
     "output_type": "stream",
     "text": [
      "INFO:httpx:HTTP Request: POST https://api.openai.com/v1/chat/completions \"HTTP/1.1 200 OK\"\n",
      "INFO:httpx:HTTP Request: POST https://api.openai.com/v1/chat/completions \"HTTP/1.1 200 OK\"\n",
      "INFO:httpx:HTTP Request: POST https://api.openai.com/v1/chat/completions \"HTTP/1.1 200 OK\"\n",
      "INFO:httpx:HTTP Request: POST https://api.openai.com/v1/chat/completions \"HTTP/1.1 200 OK\"\n",
      "INFO:httpx:HTTP Request: POST https://api.openai.com/v1/chat/completions \"HTTP/1.1 200 OK\"\n",
      "INFO:httpx:HTTP Request: POST https://api.openai.com/v1/chat/completions \"HTTP/1.1 200 OK\"\n",
      "INFO:httpx:HTTP Request: POST https://api.openai.com/v1/chat/completions \"HTTP/1.1 200 OK\"\n",
      "INFO:httpx:HTTP Request: POST https://api.openai.com/v1/chat/completions \"HTTP/1.1 200 OK\"\n",
      "INFO:httpx:HTTP Request: POST https://api.openai.com/v1/chat/completions \"HTTP/1.1 200 OK\"\n",
      "INFO:httpx:HTTP Request: POST https://api.openai.com/v1/chat/completions \"HTTP/1.1 200 OK\"\n",
      "INFO:httpx:HTTP Request: POST https://api.openai.com/v1/chat/completions \"HTTP/1.1 200 OK\"\n",
      "INFO:httpx:HTTP Request: POST https://api.openai.com/v1/chat/completions \"HTTP/1.1 200 OK\"\n",
      "INFO:httpx:HTTP Request: POST https://api.openai.com/v1/chat/completions \"HTTP/1.1 200 OK\"\n",
      "INFO:httpx:HTTP Request: POST https://api.openai.com/v1/chat/completions \"HTTP/1.1 200 OK\"\n",
      "INFO:httpx:HTTP Request: POST https://api.openai.com/v1/chat/completions \"HTTP/1.1 200 OK\"\n",
      "INFO:httpx:HTTP Request: POST https://api.openai.com/v1/chat/completions \"HTTP/1.1 200 OK\"\n",
      "INFO:httpx:HTTP Request: POST https://api.openai.com/v1/chat/completions \"HTTP/1.1 200 OK\"\n",
      "INFO:httpx:HTTP Request: POST https://api.openai.com/v1/chat/completions \"HTTP/1.1 200 OK\"\n",
      "INFO:httpx:HTTP Request: POST https://api.openai.com/v1/chat/completions \"HTTP/1.1 200 OK\"\n",
      "INFO:httpx:HTTP Request: POST https://api.openai.com/v1/chat/completions \"HTTP/1.1 200 OK\"\n",
      "INFO:httpx:HTTP Request: POST https://api.openai.com/v1/chat/completions \"HTTP/1.1 200 OK\"\n",
      "INFO:httpx:HTTP Request: POST https://api.openai.com/v1/chat/completions \"HTTP/1.1 200 OK\"\n",
      "INFO:httpx:HTTP Request: POST https://api.openai.com/v1/chat/completions \"HTTP/1.1 200 OK\"\n",
      "INFO:httpx:HTTP Request: POST https://api.openai.com/v1/chat/completions \"HTTP/1.1 200 OK\"\n",
      "INFO:httpx:HTTP Request: POST https://api.openai.com/v1/chat/completions \"HTTP/1.1 200 OK\"\n",
      "INFO:httpx:HTTP Request: POST https://api.openai.com/v1/chat/completions \"HTTP/1.1 200 OK\"\n",
      "INFO:httpx:HTTP Request: POST https://api.openai.com/v1/chat/completions \"HTTP/1.1 200 OK\"\n",
      "INFO:httpx:HTTP Request: POST https://api.openai.com/v1/chat/completions \"HTTP/1.1 200 OK\"\n",
      "INFO:httpx:HTTP Request: POST https://api.openai.com/v1/chat/completions \"HTTP/1.1 200 OK\"\n",
      "INFO:httpx:HTTP Request: POST https://api.openai.com/v1/chat/completions \"HTTP/1.1 200 OK\"\n",
      "INFO:httpx:HTTP Request: POST https://api.openai.com/v1/chat/completions \"HTTP/1.1 200 OK\"\n",
      "INFO:httpx:HTTP Request: POST https://api.openai.com/v1/chat/completions \"HTTP/1.1 200 OK\"\n",
      "INFO:httpx:HTTP Request: POST https://api.openai.com/v1/chat/completions \"HTTP/1.1 200 OK\"\n",
      "INFO:httpx:HTTP Request: POST https://api.openai.com/v1/chat/completions \"HTTP/1.1 200 OK\"\n",
      "INFO:httpx:HTTP Request: POST https://api.openai.com/v1/chat/completions \"HTTP/1.1 200 OK\"\n",
      "INFO:httpx:HTTP Request: POST https://api.openai.com/v1/chat/completions \"HTTP/1.1 200 OK\"\n",
      "INFO:httpx:HTTP Request: POST https://api.openai.com/v1/chat/completions \"HTTP/1.1 200 OK\"\n",
      "INFO:httpx:HTTP Request: POST https://api.openai.com/v1/chat/completions \"HTTP/1.1 200 OK\"\n",
      "INFO:httpx:HTTP Request: POST https://api.openai.com/v1/chat/completions \"HTTP/1.1 200 OK\"\n",
      "INFO:httpx:HTTP Request: POST https://api.openai.com/v1/chat/completions \"HTTP/1.1 200 OK\"\n",
      "INFO:httpx:HTTP Request: POST https://api.openai.com/v1/chat/completions \"HTTP/1.1 200 OK\"\n",
      "INFO:httpx:HTTP Request: POST https://api.openai.com/v1/chat/completions \"HTTP/1.1 200 OK\"\n",
      "INFO:httpx:HTTP Request: POST https://api.openai.com/v1/chat/completions \"HTTP/1.1 200 OK\"\n",
      "INFO:httpx:HTTP Request: POST https://api.openai.com/v1/chat/completions \"HTTP/1.1 200 OK\"\n",
      "INFO:httpx:HTTP Request: POST https://api.openai.com/v1/chat/completions \"HTTP/1.1 200 OK\"\n",
      "INFO:httpx:HTTP Request: POST https://api.openai.com/v1/chat/completions \"HTTP/1.1 200 OK\"\n",
      "INFO:httpx:HTTP Request: POST https://api.openai.com/v1/chat/completions \"HTTP/1.1 200 OK\"\n",
      "INFO:httpx:HTTP Request: POST https://api.openai.com/v1/chat/completions \"HTTP/1.1 200 OK\"\n",
      "INFO:httpx:HTTP Request: POST https://api.openai.com/v1/chat/completions \"HTTP/1.1 200 OK\"\n",
      "INFO:httpx:HTTP Request: POST https://api.openai.com/v1/chat/completions \"HTTP/1.1 200 OK\"\n",
      "INFO:httpx:HTTP Request: POST https://api.openai.com/v1/chat/completions \"HTTP/1.1 200 OK\"\n",
      "INFO:httpx:HTTP Request: POST https://api.openai.com/v1/chat/completions \"HTTP/1.1 200 OK\"\n",
      "INFO:httpx:HTTP Request: POST https://api.openai.com/v1/chat/completions \"HTTP/1.1 200 OK\"\n",
      "INFO:httpx:HTTP Request: POST https://api.openai.com/v1/chat/completions \"HTTP/1.1 200 OK\"\n",
      "INFO:httpx:HTTP Request: POST https://api.openai.com/v1/chat/completions \"HTTP/1.1 200 OK\"\n",
      "INFO:httpx:HTTP Request: POST https://api.openai.com/v1/chat/completions \"HTTP/1.1 200 OK\"\n",
      "INFO:httpx:HTTP Request: POST https://api.openai.com/v1/chat/completions \"HTTP/1.1 200 OK\"\n",
      "INFO:httpx:HTTP Request: POST https://api.openai.com/v1/chat/completions \"HTTP/1.1 200 OK\"\n",
      "INFO:httpx:HTTP Request: POST https://api.openai.com/v1/chat/completions \"HTTP/1.1 200 OK\"\n",
      "INFO:httpx:HTTP Request: POST https://api.openai.com/v1/chat/completions \"HTTP/1.1 200 OK\"\n",
      "INFO:httpx:HTTP Request: POST https://api.openai.com/v1/chat/completions \"HTTP/1.1 200 OK\"\n",
      "INFO:httpx:HTTP Request: POST https://api.openai.com/v1/chat/completions \"HTTP/1.1 200 OK\"\n",
      "INFO:httpx:HTTP Request: POST https://api.openai.com/v1/chat/completions \"HTTP/1.1 200 OK\"\n",
      "INFO:httpx:HTTP Request: POST https://api.openai.com/v1/chat/completions \"HTTP/1.1 200 OK\"\n",
      "INFO:httpx:HTTP Request: POST https://api.openai.com/v1/chat/completions \"HTTP/1.1 200 OK\"\n",
      "INFO:httpx:HTTP Request: POST https://api.openai.com/v1/chat/completions \"HTTP/1.1 200 OK\"\n",
      "INFO:httpx:HTTP Request: POST https://api.openai.com/v1/chat/completions \"HTTP/1.1 200 OK\"\n",
      "INFO:httpx:HTTP Request: POST https://api.openai.com/v1/chat/completions \"HTTP/1.1 200 OK\"\n",
      "INFO:httpx:HTTP Request: POST https://api.openai.com/v1/chat/completions \"HTTP/1.1 200 OK\"\n",
      "INFO:httpx:HTTP Request: POST https://api.openai.com/v1/chat/completions \"HTTP/1.1 200 OK\"\n",
      "INFO:httpx:HTTP Request: POST https://api.openai.com/v1/chat/completions \"HTTP/1.1 200 OK\"\n",
      "INFO:httpx:HTTP Request: POST https://api.openai.com/v1/chat/completions \"HTTP/1.1 200 OK\"\n",
      "INFO:httpx:HTTP Request: POST https://api.openai.com/v1/chat/completions \"HTTP/1.1 200 OK\"\n",
      "INFO:httpx:HTTP Request: POST https://api.openai.com/v1/chat/completions \"HTTP/1.1 200 OK\"\n",
      "INFO:httpx:HTTP Request: POST https://api.openai.com/v1/chat/completions \"HTTP/1.1 200 OK\"\n"
     ]
    }
   ],
   "execution_count": 34
  },
  {
   "cell_type": "code",
   "id": "489b376c-0fd5-4f38-bdf0-5e4d43d20a1c",
   "metadata": {
    "ExecuteTime": {
     "end_time": "2024-12-23T17:36:17.840288Z",
     "start_time": "2024-12-23T17:36:17.834087Z"
    }
   },
   "source": [
    "testset_pd = testset.to_pandas()\n",
    "testset_pd.head()"
   ],
   "outputs": [
    {
     "data": {
      "text/plain": [
       "                                          user_input  \\\n",
       "0       What kind of knowledge SHERLOCK HOLMES have?   \n",
       "1  What kind of knowledge does SHERLOCK HOLMES po...   \n",
       "2  In what ways does the character SHERLOCK HOLME...   \n",
       "3  What are the limits of SHERLOCK HOLMES's knowl...   \n",
       "4  What are the limitations of SHERLOCK HOLMES's ...   \n",
       "\n",
       "                                  reference_contexts  \\\n",
       "0  [I was on the point of asking him what that wo...   \n",
       "1  [I was on the point of asking him what that wo...   \n",
       "2  [I was on the point of asking him what that wo...   \n",
       "3  [I was on the point of asking him what that wo...   \n",
       "4  [I was on the point of asking him what that wo...   \n",
       "\n",
       "                                           reference  \\\n",
       "0  SHERLOCK HOLMES has no knowledge of Literature...   \n",
       "1  According to the observations made, SHERLOCK H...   \n",
       "2  The character SHERLOCK HOLMES demonstrates a s...   \n",
       "3  According to the context, SHERLOCK HOLMES has ...   \n",
       "4  According to the context, SHERLOCK HOLMES has ...   \n",
       "\n",
       "                       synthesizer_name  \n",
       "0  single_hop_specifc_query_synthesizer  \n",
       "1  single_hop_specifc_query_synthesizer  \n",
       "2  single_hop_specifc_query_synthesizer  \n",
       "3  single_hop_specifc_query_synthesizer  \n",
       "4  single_hop_specifc_query_synthesizer  "
      ],
      "text/html": [
       "<div>\n",
       "<style scoped>\n",
       "    .dataframe tbody tr th:only-of-type {\n",
       "        vertical-align: middle;\n",
       "    }\n",
       "\n",
       "    .dataframe tbody tr th {\n",
       "        vertical-align: top;\n",
       "    }\n",
       "\n",
       "    .dataframe thead th {\n",
       "        text-align: right;\n",
       "    }\n",
       "</style>\n",
       "<table border=\"1\" class=\"dataframe\">\n",
       "  <thead>\n",
       "    <tr style=\"text-align: right;\">\n",
       "      <th></th>\n",
       "      <th>user_input</th>\n",
       "      <th>reference_contexts</th>\n",
       "      <th>reference</th>\n",
       "      <th>synthesizer_name</th>\n",
       "    </tr>\n",
       "  </thead>\n",
       "  <tbody>\n",
       "    <tr>\n",
       "      <th>0</th>\n",
       "      <td>What kind of knowledge SHERLOCK HOLMES have?</td>\n",
       "      <td>[I was on the point of asking him what that wo...</td>\n",
       "      <td>SHERLOCK HOLMES has no knowledge of Literature...</td>\n",
       "      <td>single_hop_specifc_query_synthesizer</td>\n",
       "    </tr>\n",
       "    <tr>\n",
       "      <th>1</th>\n",
       "      <td>What kind of knowledge does SHERLOCK HOLMES po...</td>\n",
       "      <td>[I was on the point of asking him what that wo...</td>\n",
       "      <td>According to the observations made, SHERLOCK H...</td>\n",
       "      <td>single_hop_specifc_query_synthesizer</td>\n",
       "    </tr>\n",
       "    <tr>\n",
       "      <th>2</th>\n",
       "      <td>In what ways does the character SHERLOCK HOLME...</td>\n",
       "      <td>[I was on the point of asking him what that wo...</td>\n",
       "      <td>The character SHERLOCK HOLMES demonstrates a s...</td>\n",
       "      <td>single_hop_specifc_query_synthesizer</td>\n",
       "    </tr>\n",
       "    <tr>\n",
       "      <th>3</th>\n",
       "      <td>What are the limits of SHERLOCK HOLMES's knowl...</td>\n",
       "      <td>[I was on the point of asking him what that wo...</td>\n",
       "      <td>According to the context, SHERLOCK HOLMES has ...</td>\n",
       "      <td>single_hop_specifc_query_synthesizer</td>\n",
       "    </tr>\n",
       "    <tr>\n",
       "      <th>4</th>\n",
       "      <td>What are the limitations of SHERLOCK HOLMES's ...</td>\n",
       "      <td>[I was on the point of asking him what that wo...</td>\n",
       "      <td>According to the context, SHERLOCK HOLMES has ...</td>\n",
       "      <td>single_hop_specifc_query_synthesizer</td>\n",
       "    </tr>\n",
       "  </tbody>\n",
       "</table>\n",
       "</div>"
      ]
     },
     "execution_count": 35,
     "metadata": {},
     "output_type": "execute_result"
    }
   ],
   "execution_count": 35
  },
  {
   "cell_type": "code",
   "id": "c7fd11cd-d698-4046-b8ce-03b6d36c07ba",
   "metadata": {
    "ExecuteTime": {
     "end_time": "2024-12-23T17:36:17.919429Z",
     "start_time": "2024-12-23T17:36:17.911653Z"
    }
   },
   "source": [
    "testset_pd.to_csv('synthetic_data_ragas_4o-mini.csv', index=False)"
   ],
   "outputs": [],
   "execution_count": 36
  },
  {
   "cell_type": "code",
   "id": "fba9e94d-b407-4ed4-a837-baf1c785f855",
   "metadata": {
    "ExecuteTime": {
     "end_time": "2024-12-23T17:37:22.684530Z",
     "start_time": "2024-12-23T17:37:22.670165Z"
    }
   },
   "source": "# joblib.dump(testsetgenerator.knowledge_graph, 'testsetgenerator_kg_llama_4o-mini.pkl')",
   "outputs": [
    {
     "data": {
      "text/plain": [
       "['testsetgenerator_kg_llama_4o-mini.pkl']"
      ]
     },
     "execution_count": 40,
     "metadata": {},
     "output_type": "execute_result"
    }
   ],
   "execution_count": 40
  },
  {
   "cell_type": "code",
   "id": "9b43aca8-4597-4d23-a243-c49f4c49db4d",
   "metadata": {
    "ExecuteTime": {
     "end_time": "2024-12-23T17:37:25.520655Z",
     "start_time": "2024-12-23T17:37:25.518221Z"
    }
   },
   "source": "# joblib.dump(testsetgenerator.persona_list, 'testsetgenerator_pl_llama_4o-mini.pkl') ",
   "outputs": [
    {
     "data": {
      "text/plain": [
       "['testsetgenerator_pl_llama_4o-mini.pkl']"
      ]
     },
     "execution_count": 41,
     "metadata": {},
     "output_type": "execute_result"
    }
   ],
   "execution_count": 41
  },
  {
   "cell_type": "markdown",
   "id": "5f64422d-337e-4901-ba32-4732b19df1c2",
   "metadata": {},
   "source": [
    "## Eval"
   ]
  },
  {
   "cell_type": "code",
   "id": "f131b188-1ea6-4b82-b721-bac86815cf3c",
   "metadata": {
    "ExecuteTime": {
     "end_time": "2024-12-23T17:37:38.671621Z",
     "start_time": "2024-12-23T17:37:38.665521Z"
    }
   },
   "source": [
    "testset_pd = pd.read_csv('synthetic_data_ragas_4o-mini.csv', converters={'reference_contexts': literal_eval})"
   ],
   "outputs": [],
   "execution_count": 44
  },
  {
   "metadata": {
    "ExecuteTime": {
     "end_time": "2024-12-23T17:37:40.266698Z",
     "start_time": "2024-12-23T17:37:40.263110Z"
    }
   },
   "cell_type": "code",
   "source": "testset_pd['reference_contexts']",
   "id": "2297e02376f0959d",
   "outputs": [
    {
     "data": {
      "text/plain": [
       "0     [I was on the point of asking him what that wo...\n",
       "1     [I was on the point of asking him what that wo...\n",
       "2     [I was on the point of asking him what that wo...\n",
       "3     [I was on the point of asking him what that wo...\n",
       "4     [I was on the point of asking him what that wo...\n",
       "                            ...                        \n",
       "70    [<1-hop>\\n\\nI was on the point of asking him w...\n",
       "71    [<1-hop>\\n\\nI was on the point of asking him w...\n",
       "72    [<1-hop>\\n\\nI was on the point of asking him w...\n",
       "73    [<1-hop>\\n\\nI was on the point of asking him w...\n",
       "74    [<1-hop>\\n\\nI was on the point of asking him w...\n",
       "Name: reference_contexts, Length: 75, dtype: object"
      ]
     },
     "execution_count": 45,
     "metadata": {},
     "output_type": "execute_result"
    }
   ],
   "execution_count": 45
  },
  {
   "metadata": {
    "ExecuteTime": {
     "end_time": "2024-12-23T17:38:00.916611Z",
     "start_time": "2024-12-23T17:38:00.911063Z"
    }
   },
   "cell_type": "code",
   "source": "testset_pd",
   "id": "311e741f9c1578b4",
   "outputs": [
    {
     "data": {
      "text/plain": [
       "                                           user_input  \\\n",
       "0        What kind of knowledge SHERLOCK HOLMES have?   \n",
       "1   What kind of knowledge does SHERLOCK HOLMES po...   \n",
       "2   In what ways does the character SHERLOCK HOLME...   \n",
       "3   What are the limits of SHERLOCK HOLMES's knowl...   \n",
       "4   What are the limitations of SHERLOCK HOLMES's ...   \n",
       "..                                                ...   \n",
       "70  What can be inferred about Sherlock Holmes's k...   \n",
       "71  What insights can be drawn from Sherlock Holme...   \n",
       "72  What insights can be drawn from Sherlock Holme...   \n",
       "73  What can be inferred about Sherlock Holmes's k...   \n",
       "74  What can be inferred about Sherlock Holmes's k...   \n",
       "\n",
       "                                   reference_contexts  \\\n",
       "0   [I was on the point of asking him what that wo...   \n",
       "1   [I was on the point of asking him what that wo...   \n",
       "2   [I was on the point of asking him what that wo...   \n",
       "3   [I was on the point of asking him what that wo...   \n",
       "4   [I was on the point of asking him what that wo...   \n",
       "..                                                ...   \n",
       "70  [<1-hop>\\n\\nI was on the point of asking him w...   \n",
       "71  [<1-hop>\\n\\nI was on the point of asking him w...   \n",
       "72  [<1-hop>\\n\\nI was on the point of asking him w...   \n",
       "73  [<1-hop>\\n\\nI was on the point of asking him w...   \n",
       "74  [<1-hop>\\n\\nI was on the point of asking him w...   \n",
       "\n",
       "                                            reference  \\\n",
       "0   SHERLOCK HOLMES has no knowledge of Literature...   \n",
       "1   According to the observations made, SHERLOCK H...   \n",
       "2   The character SHERLOCK HOLMES demonstrates a s...   \n",
       "3   According to the context, SHERLOCK HOLMES has ...   \n",
       "4   According to the context, SHERLOCK HOLMES has ...   \n",
       "..                                                ...   \n",
       "70  Sherlock Holmes's knowledge in politics is des...   \n",
       "71  Sherlock Holmes' knowledge in politics is desc...   \n",
       "72  Sherlock Holmes' knowledge in politics is desc...   \n",
       "73  Sherlock Holmes's knowledge in politics is des...   \n",
       "74  Sherlock Holmes's knowledge in politics is des...   \n",
       "\n",
       "                        synthesizer_name  \n",
       "0   single_hop_specifc_query_synthesizer  \n",
       "1   single_hop_specifc_query_synthesizer  \n",
       "2   single_hop_specifc_query_synthesizer  \n",
       "3   single_hop_specifc_query_synthesizer  \n",
       "4   single_hop_specifc_query_synthesizer  \n",
       "..                                   ...  \n",
       "70  multi_hop_abstract_query_synthesizer  \n",
       "71  multi_hop_abstract_query_synthesizer  \n",
       "72  multi_hop_abstract_query_synthesizer  \n",
       "73  multi_hop_abstract_query_synthesizer  \n",
       "74  multi_hop_abstract_query_synthesizer  \n",
       "\n",
       "[75 rows x 4 columns]"
      ],
      "text/html": [
       "<div>\n",
       "<style scoped>\n",
       "    .dataframe tbody tr th:only-of-type {\n",
       "        vertical-align: middle;\n",
       "    }\n",
       "\n",
       "    .dataframe tbody tr th {\n",
       "        vertical-align: top;\n",
       "    }\n",
       "\n",
       "    .dataframe thead th {\n",
       "        text-align: right;\n",
       "    }\n",
       "</style>\n",
       "<table border=\"1\" class=\"dataframe\">\n",
       "  <thead>\n",
       "    <tr style=\"text-align: right;\">\n",
       "      <th></th>\n",
       "      <th>user_input</th>\n",
       "      <th>reference_contexts</th>\n",
       "      <th>reference</th>\n",
       "      <th>synthesizer_name</th>\n",
       "    </tr>\n",
       "  </thead>\n",
       "  <tbody>\n",
       "    <tr>\n",
       "      <th>0</th>\n",
       "      <td>What kind of knowledge SHERLOCK HOLMES have?</td>\n",
       "      <td>[I was on the point of asking him what that wo...</td>\n",
       "      <td>SHERLOCK HOLMES has no knowledge of Literature...</td>\n",
       "      <td>single_hop_specifc_query_synthesizer</td>\n",
       "    </tr>\n",
       "    <tr>\n",
       "      <th>1</th>\n",
       "      <td>What kind of knowledge does SHERLOCK HOLMES po...</td>\n",
       "      <td>[I was on the point of asking him what that wo...</td>\n",
       "      <td>According to the observations made, SHERLOCK H...</td>\n",
       "      <td>single_hop_specifc_query_synthesizer</td>\n",
       "    </tr>\n",
       "    <tr>\n",
       "      <th>2</th>\n",
       "      <td>In what ways does the character SHERLOCK HOLME...</td>\n",
       "      <td>[I was on the point of asking him what that wo...</td>\n",
       "      <td>The character SHERLOCK HOLMES demonstrates a s...</td>\n",
       "      <td>single_hop_specifc_query_synthesizer</td>\n",
       "    </tr>\n",
       "    <tr>\n",
       "      <th>3</th>\n",
       "      <td>What are the limits of SHERLOCK HOLMES's knowl...</td>\n",
       "      <td>[I was on the point of asking him what that wo...</td>\n",
       "      <td>According to the context, SHERLOCK HOLMES has ...</td>\n",
       "      <td>single_hop_specifc_query_synthesizer</td>\n",
       "    </tr>\n",
       "    <tr>\n",
       "      <th>4</th>\n",
       "      <td>What are the limitations of SHERLOCK HOLMES's ...</td>\n",
       "      <td>[I was on the point of asking him what that wo...</td>\n",
       "      <td>According to the context, SHERLOCK HOLMES has ...</td>\n",
       "      <td>single_hop_specifc_query_synthesizer</td>\n",
       "    </tr>\n",
       "    <tr>\n",
       "      <th>...</th>\n",
       "      <td>...</td>\n",
       "      <td>...</td>\n",
       "      <td>...</td>\n",
       "      <td>...</td>\n",
       "    </tr>\n",
       "    <tr>\n",
       "      <th>70</th>\n",
       "      <td>What can be inferred about Sherlock Holmes's k...</td>\n",
       "      <td>[&lt;1-hop&gt;\\n\\nI was on the point of asking him w...</td>\n",
       "      <td>Sherlock Holmes's knowledge in politics is des...</td>\n",
       "      <td>multi_hop_abstract_query_synthesizer</td>\n",
       "    </tr>\n",
       "    <tr>\n",
       "      <th>71</th>\n",
       "      <td>What insights can be drawn from Sherlock Holme...</td>\n",
       "      <td>[&lt;1-hop&gt;\\n\\nI was on the point of asking him w...</td>\n",
       "      <td>Sherlock Holmes' knowledge in politics is desc...</td>\n",
       "      <td>multi_hop_abstract_query_synthesizer</td>\n",
       "    </tr>\n",
       "    <tr>\n",
       "      <th>72</th>\n",
       "      <td>What insights can be drawn from Sherlock Holme...</td>\n",
       "      <td>[&lt;1-hop&gt;\\n\\nI was on the point of asking him w...</td>\n",
       "      <td>Sherlock Holmes' knowledge in politics is desc...</td>\n",
       "      <td>multi_hop_abstract_query_synthesizer</td>\n",
       "    </tr>\n",
       "    <tr>\n",
       "      <th>73</th>\n",
       "      <td>What can be inferred about Sherlock Holmes's k...</td>\n",
       "      <td>[&lt;1-hop&gt;\\n\\nI was on the point of asking him w...</td>\n",
       "      <td>Sherlock Holmes's knowledge in politics is des...</td>\n",
       "      <td>multi_hop_abstract_query_synthesizer</td>\n",
       "    </tr>\n",
       "    <tr>\n",
       "      <th>74</th>\n",
       "      <td>What can be inferred about Sherlock Holmes's k...</td>\n",
       "      <td>[&lt;1-hop&gt;\\n\\nI was on the point of asking him w...</td>\n",
       "      <td>Sherlock Holmes's knowledge in politics is des...</td>\n",
       "      <td>multi_hop_abstract_query_synthesizer</td>\n",
       "    </tr>\n",
       "  </tbody>\n",
       "</table>\n",
       "<p>75 rows × 4 columns</p>\n",
       "</div>"
      ]
     },
     "execution_count": 46,
     "metadata": {},
     "output_type": "execute_result"
    }
   ],
   "execution_count": 46
  },
  {
   "cell_type": "code",
   "id": "7d4d3460-a5f1-4290-95ca-735a893eb61b",
   "metadata": {
    "ExecuteTime": {
     "end_time": "2024-12-23T17:48:57.747464Z",
     "start_time": "2024-12-23T17:48:57.745157Z"
    }
   },
   "source": [
    "evalset_pd = pd.DataFrame({'user_input':testset_pd['user_input'],\n",
    "                           'retrieved_contexts': [''] * len(testset_pd),\n",
    "                           'reference_contexts': testset_pd['reference_contexts'],\n",
    "                           'response': [''] * len(testset_pd),\n",
    "                           'reference': testset_pd['reference']})"
   ],
   "outputs": [],
   "execution_count": 59
  },
  {
   "cell_type": "code",
   "id": "7896e22e-523e-49e9-8bce-cebe3e81919c",
   "metadata": {
    "ExecuteTime": {
     "end_time": "2024-12-23T18:10:38.261849Z",
     "start_time": "2024-12-23T17:49:00.445452Z"
    }
   },
   "source": "evalset_pd[['retrieved_contexts', 'response']] = evalset_pd.apply(lambda row: tester.get_response(collection_name, row['user_input']), axis=1, result_type ='expand')",
   "outputs": [
    {
     "name": "stderr",
     "output_type": "stream",
     "text": [
      "INFO:chroma_client:Собрано 64 сцен в единый текст\n",
      "INFO:chroma_client:Поиск по запросу: What kind of knowledge SHERLOCK HOLMES have?\n"
     ]
    },
    {
     "data": {
      "text/plain": [
       "Batches:   0%|          | 0/1 [00:00<?, ?it/s]"
      ],
      "application/vnd.jupyter.widget-view+json": {
       "version_major": 2,
       "version_minor": 0,
       "model_id": "39a2dfe95c72479681a532762bc6dfbe"
      }
     },
     "metadata": {},
     "output_type": "display_data"
    },
    {
     "name": "stderr",
     "output_type": "stream",
     "text": [
      "INFO:chroma_client:Собрано 64 сцен в единый текст\n",
      "INFO:chroma_client:Поиск по запросу: What kind of knowledge does SHERLOCK HOLMES possess according to the observations made?\n"
     ]
    },
    {
     "data": {
      "text/plain": [
       "Batches:   0%|          | 0/1 [00:00<?, ?it/s]"
      ],
      "application/vnd.jupyter.widget-view+json": {
       "version_major": 2,
       "version_minor": 0,
       "model_id": "8c81cf9d2dec48a699b0aa070c1753a5"
      }
     },
     "metadata": {},
     "output_type": "display_data"
    },
    {
     "name": "stderr",
     "output_type": "stream",
     "text": [
      "INFO:chroma_client:Собрано 64 сцен в единый текст\n",
      "INFO:chroma_client:Поиск по запросу: In what ways does the character SHERLOCK HOLMES demonstrate a selective approach to knowledge acquisition, as inferred from the context provided?\n"
     ]
    },
    {
     "data": {
      "text/plain": [
       "Batches:   0%|          | 0/1 [00:00<?, ?it/s]"
      ],
      "application/vnd.jupyter.widget-view+json": {
       "version_major": 2,
       "version_minor": 0,
       "model_id": "d379dcbebe7442669660d647714ed588"
      }
     },
     "metadata": {},
     "output_type": "display_data"
    },
    {
     "name": "stderr",
     "output_type": "stream",
     "text": [
      "INFO:chroma_client:Собрано 64 сцен в единый текст\n",
      "INFO:chroma_client:Поиск по запросу: What are the limits of SHERLOCK HOLMES's knowledge according to the context?\n"
     ]
    },
    {
     "data": {
      "text/plain": [
       "Batches:   0%|          | 0/1 [00:00<?, ?it/s]"
      ],
      "application/vnd.jupyter.widget-view+json": {
       "version_major": 2,
       "version_minor": 0,
       "model_id": "8943a04db02c4b9caed8652121edb68c"
      }
     },
     "metadata": {},
     "output_type": "display_data"
    },
    {
     "name": "stderr",
     "output_type": "stream",
     "text": [
      "INFO:chroma_client:Собрано 64 сцен в единый текст\n",
      "INFO:chroma_client:Поиск по запросу: What are the limitations of SHERLOCK HOLMES's knowledge according to the context?\n"
     ]
    },
    {
     "data": {
      "text/plain": [
       "Batches:   0%|          | 0/1 [00:00<?, ?it/s]"
      ],
      "application/vnd.jupyter.widget-view+json": {
       "version_major": 2,
       "version_minor": 0,
       "model_id": "beca589b0a914e3aa15e298d4cd2f55b"
      }
     },
     "metadata": {},
     "output_type": "display_data"
    },
    {
     "name": "stderr",
     "output_type": "stream",
     "text": [
      "INFO:chroma_client:Собрано 64 сцен в единый текст\n",
      "INFO:chroma_client:Поиск по запросу: What are the limitations of SHERLOCK HOLMES's knowledge as inferred from the context?\n"
     ]
    },
    {
     "data": {
      "text/plain": [
       "Batches:   0%|          | 0/1 [00:00<?, ?it/s]"
      ],
      "application/vnd.jupyter.widget-view+json": {
       "version_major": 2,
       "version_minor": 0,
       "model_id": "ef31b1f0e6c647459f9786ab889afd75"
      }
     },
     "metadata": {},
     "output_type": "display_data"
    },
    {
     "name": "stderr",
     "output_type": "stream",
     "text": [
      "INFO:chroma_client:Собрано 64 сцен в единый текст\n",
      "INFO:chroma_client:Поиск по запросу: What does the document reveal about SHERLOCK HOLMES's knowledge?\n"
     ]
    },
    {
     "data": {
      "text/plain": [
       "Batches:   0%|          | 0/1 [00:00<?, ?it/s]"
      ],
      "application/vnd.jupyter.widget-view+json": {
       "version_major": 2,
       "version_minor": 0,
       "model_id": "9c0c03af29db48a58b1ca5dee1404dde"
      }
     },
     "metadata": {},
     "output_type": "display_data"
    },
    {
     "name": "stderr",
     "output_type": "stream",
     "text": [
      "INFO:chroma_client:Собрано 64 сцен в единый текст\n",
      "INFO:chroma_client:Поиск по запросу: Wot are the limits of SHERLOCK HOLMES's knowledge?\n"
     ]
    },
    {
     "data": {
      "text/plain": [
       "Batches:   0%|          | 0/1 [00:00<?, ?it/s]"
      ],
      "application/vnd.jupyter.widget-view+json": {
       "version_major": 2,
       "version_minor": 0,
       "model_id": "5a8b071deb6b43a2ad0ee6b33fef8425"
      }
     },
     "metadata": {},
     "output_type": "display_data"
    },
    {
     "name": "stderr",
     "output_type": "stream",
     "text": [
      "INFO:chroma_client:Собрано 64 сцен в единый текст\n",
      "INFO:chroma_client:Поиск по запросу: What SHERLOCK HOLMES know?\n"
     ]
    },
    {
     "data": {
      "text/plain": [
       "Batches:   0%|          | 0/1 [00:00<?, ?it/s]"
      ],
      "application/vnd.jupyter.widget-view+json": {
       "version_major": 2,
       "version_minor": 0,
       "model_id": "4f2dbc9ff4b34e73b60af1b60ee3c656"
      }
     },
     "metadata": {},
     "output_type": "display_data"
    },
    {
     "name": "stderr",
     "output_type": "stream",
     "text": [
      "INFO:chroma_client:Собрано 64 сцен в единый текст\n",
      "INFO:chroma_client:Поиск по запросу: What are the limits of SHERLOCK HOLMES's knowledge as described in the context?\n"
     ]
    },
    {
     "data": {
      "text/plain": [
       "Batches:   0%|          | 0/1 [00:00<?, ?it/s]"
      ],
      "application/vnd.jupyter.widget-view+json": {
       "version_major": 2,
       "version_minor": 0,
       "model_id": "10ce2460ba3f45ecb45fcb7a3d7c8a41"
      }
     },
     "metadata": {},
     "output_type": "display_data"
    },
    {
     "name": "stderr",
     "output_type": "stream",
     "text": [
      "INFO:chroma_client:Собрано 64 сцен в единый текст\n",
      "INFO:chroma_client:Поиск по запросу: What can be inferred about SHERLOCK HOLMES's knowledge based on the context provided?\n"
     ]
    },
    {
     "data": {
      "text/plain": [
       "Batches:   0%|          | 0/1 [00:00<?, ?it/s]"
      ],
      "application/vnd.jupyter.widget-view+json": {
       "version_major": 2,
       "version_minor": 0,
       "model_id": "27b1468f2bef4766aba5d5925163d34d"
      }
     },
     "metadata": {},
     "output_type": "display_data"
    },
    {
     "name": "stderr",
     "output_type": "stream",
     "text": [
      "INFO:chroma_client:Собрано 64 сцен в единый текст\n",
      "INFO:chroma_client:Поиск по запросу: Wot is the limitashuns of SHERLOCK HOLMES?\n"
     ]
    },
    {
     "data": {
      "text/plain": [
       "Batches:   0%|          | 0/1 [00:00<?, ?it/s]"
      ],
      "application/vnd.jupyter.widget-view+json": {
       "version_major": 2,
       "version_minor": 0,
       "model_id": "03369b0184e74e7dbe221461d0704b64"
      }
     },
     "metadata": {},
     "output_type": "display_data"
    },
    {
     "name": "stderr",
     "output_type": "stream",
     "text": [
      "INFO:chroma_client:Собрано 64 сцен в единый текст\n",
      "INFO:chroma_client:Поиск по запросу: What knowledge does the character possess about British law?\n"
     ]
    },
    {
     "data": {
      "text/plain": [
       "Batches:   0%|          | 0/1 [00:00<?, ?it/s]"
      ],
      "application/vnd.jupyter.widget-view+json": {
       "version_major": 2,
       "version_minor": 0,
       "model_id": "6fd50fc27deb45a7a696aab286c35b7b"
      }
     },
     "metadata": {},
     "output_type": "display_data"
    },
    {
     "name": "stderr",
     "output_type": "stream",
     "text": [
      "INFO:chroma_client:Собрано 64 сцен в единый текст\n",
      "INFO:chroma_client:Поиск по запросу: What can you tell me about Mendelssohn's music as experienced by the consulting detective?\n"
     ]
    },
    {
     "data": {
      "text/plain": [
       "Batches:   0%|          | 0/1 [00:00<?, ?it/s]"
      ],
      "application/vnd.jupyter.widget-view+json": {
       "version_major": 2,
       "version_minor": 0,
       "model_id": "78138bf3dff64fdd8460833db9742fde"
      }
     },
     "metadata": {},
     "output_type": "display_data"
    },
    {
     "name": "stderr",
     "output_type": "stream",
     "text": [
      "INFO:chroma_client:Собрано 64 сцен в единый текст\n",
      "INFO:chroma_client:Поиск по запросу: What are some of the skills and interests of Sherlock Holmes?\n"
     ]
    },
    {
     "data": {
      "text/plain": [
       "Batches:   0%|          | 0/1 [00:00<?, ?it/s]"
      ],
      "application/vnd.jupyter.widget-view+json": {
       "version_major": 2,
       "version_minor": 0,
       "model_id": "b34b2b3ad10e4038a5a10c1321349e39"
      }
     },
     "metadata": {},
     "output_type": "display_data"
    },
    {
     "name": "stderr",
     "output_type": "stream",
     "text": [
      "INFO:chroma_client:Собрано 64 сцен в единый текст\n",
      "INFO:chroma_client:Поиск по запросу: What knowledge does Sherlock Holmes possess regarding British law?\n"
     ]
    },
    {
     "data": {
      "text/plain": [
       "Batches:   0%|          | 0/1 [00:00<?, ?it/s]"
      ],
      "application/vnd.jupyter.widget-view+json": {
       "version_major": 2,
       "version_minor": 0,
       "model_id": "71cdba392f154de9b80135b6a96ff821"
      }
     },
     "metadata": {},
     "output_type": "display_data"
    },
    {
     "name": "stderr",
     "output_type": "stream",
     "text": [
      "INFO:chroma_client:Собрано 64 сцен в единый текст\n",
      "INFO:chroma_client:Поиск по запросу: Wot is the knoledge of British law like?\n"
     ]
    },
    {
     "data": {
      "text/plain": [
       "Batches:   0%|          | 0/1 [00:00<?, ?it/s]"
      ],
      "application/vnd.jupyter.widget-view+json": {
       "version_major": 2,
       "version_minor": 0,
       "model_id": "f0ecd2e7efe34accbddafe40be5cb285"
      }
     },
     "metadata": {},
     "output_type": "display_data"
    },
    {
     "name": "stderr",
     "output_type": "stream",
     "text": [
      "INFO:chroma_client:Собрано 64 сцен в единый текст\n",
      "INFO:chroma_client:Поиск по запросу: What can you tell me about Mendelssohn's music as played by the character in the context?\n"
     ]
    },
    {
     "data": {
      "text/plain": [
       "Batches:   0%|          | 0/1 [00:00<?, ?it/s]"
      ],
      "application/vnd.jupyter.widget-view+json": {
       "version_major": 2,
       "version_minor": 0,
       "model_id": "72825b8f4a69435d8cd736d7434c0043"
      }
     },
     "metadata": {},
     "output_type": "display_data"
    },
    {
     "name": "stderr",
     "output_type": "stream",
     "text": [
      "INFO:chroma_client:Собрано 64 сцен в единый текст\n",
      "INFO:chroma_client:Поиск по запросу: Wot is the significance of British law in the context of a consulting detective's work?\n"
     ]
    },
    {
     "data": {
      "text/plain": [
       "Batches:   0%|          | 0/1 [00:00<?, ?it/s]"
      ],
      "application/vnd.jupyter.widget-view+json": {
       "version_major": 2,
       "version_minor": 0,
       "model_id": "3db5ad1d9b0a481f9379133172330f40"
      }
     },
     "metadata": {},
     "output_type": "display_data"
    },
    {
     "name": "stderr",
     "output_type": "stream",
     "text": [
      "INFO:chroma_client:Собрано 64 сцен в единый текст\n",
      "INFO:chroma_client:Поиск по запросу: What can be inferred about the social interactions of individuals in London based on the context provided?\n"
     ]
    },
    {
     "data": {
      "text/plain": [
       "Batches:   0%|          | 0/1 [00:00<?, ?it/s]"
      ],
      "application/vnd.jupyter.widget-view+json": {
       "version_major": 2,
       "version_minor": 0,
       "model_id": "ee714ba094494722a9212409418acfdc"
      }
     },
     "metadata": {},
     "output_type": "display_data"
    },
    {
     "name": "stderr",
     "output_type": "stream",
     "text": [
      "INFO:chroma_client:Собрано 64 сцен в единый текст\n",
      "INFO:chroma_client:Поиск по запросу: What pieces did Sherlock Holmes play on the violin that were composed by Mendelssohn?\n"
     ]
    },
    {
     "data": {
      "text/plain": [
       "Batches:   0%|          | 0/1 [00:00<?, ?it/s]"
      ],
      "application/vnd.jupyter.widget-view+json": {
       "version_major": 2,
       "version_minor": 0,
       "model_id": "7530fa73bcd44940bce0505e2a268ff6"
      }
     },
     "metadata": {},
     "output_type": "display_data"
    },
    {
     "name": "stderr",
     "output_type": "stream",
     "text": [
      "INFO:chroma_client:Собрано 64 сцен в единый текст\n",
      "INFO:chroma_client:Поиск по запросу: What kind of skills does Sherlock Holmes have that make him a unique detective?\n"
     ]
    },
    {
     "data": {
      "text/plain": [
       "Batches:   0%|          | 0/1 [00:00<?, ?it/s]"
      ],
      "application/vnd.jupyter.widget-view+json": {
       "version_major": 2,
       "version_minor": 0,
       "model_id": "57b8f7410f834b0bbd6c2cc549c2952a"
      }
     },
     "metadata": {},
     "output_type": "display_data"
    },
    {
     "name": "stderr",
     "output_type": "stream",
     "text": [
      "INFO:chroma_client:Собрано 64 сцен в единый текст\n",
      "INFO:chroma_client:Поиск по запросу: What are some of the diverse skills and knowledge areas that Sherlock Holmes possesses, as described in the context?\n"
     ]
    },
    {
     "data": {
      "text/plain": [
       "Batches:   0%|          | 0/1 [00:00<?, ?it/s]"
      ],
      "application/vnd.jupyter.widget-view+json": {
       "version_major": 2,
       "version_minor": 0,
       "model_id": "7e938c5f73ad40b388907db32cbf34a9"
      }
     },
     "metadata": {},
     "output_type": "display_data"
    },
    {
     "name": "stderr",
     "output_type": "stream",
     "text": [
      "INFO:chroma_client:Собрано 64 сцен в единый текст\n",
      "INFO:chroma_client:Поиск по запросу: What pieces did Sherlock Holmes play on the violin, particularly by Mendelssohn?\n"
     ]
    },
    {
     "data": {
      "text/plain": [
       "Batches:   0%|          | 0/1 [00:00<?, ?it/s]"
      ],
      "application/vnd.jupyter.widget-view+json": {
       "version_major": 2,
       "version_minor": 0,
       "model_id": "fb1d8afbb0124857bb302c825aeddb4d"
      }
     },
     "metadata": {},
     "output_type": "display_data"
    },
    {
     "name": "stderr",
     "output_type": "stream",
     "text": [
      "INFO:chroma_client:Собрано 64 сцен в единый текст\n",
      "INFO:chroma_client:Поиск по запросу: Who is Mr. Lestrade and what role does he play in the context of the narrative?\n"
     ]
    },
    {
     "data": {
      "text/plain": [
       "Batches:   0%|          | 0/1 [00:00<?, ?it/s]"
      ],
      "application/vnd.jupyter.widget-view+json": {
       "version_major": 2,
       "version_minor": 0,
       "model_id": "9ae69d85c29e4931bdacc9113bd897f4"
      }
     },
     "metadata": {},
     "output_type": "display_data"
    },
    {
     "name": "stderr",
     "output_type": "stream",
     "text": [
      "INFO:chroma_client:Собрано 64 сцен в единый текст\n",
      "INFO:chroma_client:Поиск по запросу: What insights can be drawn about the various individuals visiting Sherlock Holmes in London, and how do they reflect his role as a consulting detective?\n"
     ]
    },
    {
     "data": {
      "text/plain": [
       "Batches:   0%|          | 0/1 [00:00<?, ?it/s]"
      ],
      "application/vnd.jupyter.widget-view+json": {
       "version_major": 2,
       "version_minor": 0,
       "model_id": "969ae64b59724707aa144e852964b153"
      }
     },
     "metadata": {},
     "output_type": "display_data"
    },
    {
     "name": "stderr",
     "output_type": "stream",
     "text": [
      "INFO:chroma_client:Собрано 64 сцен в единый текст\n",
      "INFO:chroma_client:Поиск по запросу: What can you tell me about London?\n"
     ]
    },
    {
     "data": {
      "text/plain": [
       "Batches:   0%|          | 0/1 [00:00<?, ?it/s]"
      ],
      "application/vnd.jupyter.widget-view+json": {
       "version_major": 2,
       "version_minor": 0,
       "model_id": "6b1b76a422b744d0b2a1405357b781b9"
      }
     },
     "metadata": {},
     "output_type": "display_data"
    },
    {
     "name": "stderr",
     "output_type": "stream",
     "text": [
      "INFO:chroma_client:Собрано 64 сцен в единый текст\n",
      "INFO:chroma_client:Поиск по запросу: What are some of the notable skills and characteristics of Sherlock Holmes as described in the context?\n"
     ]
    },
    {
     "data": {
      "text/plain": [
       "Batches:   0%|          | 0/1 [00:00<?, ?it/s]"
      ],
      "application/vnd.jupyter.widget-view+json": {
       "version_major": 2,
       "version_minor": 0,
       "model_id": "46eb89a9c48d45b59d59086ef1ba00d0"
      }
     },
     "metadata": {},
     "output_type": "display_data"
    },
    {
     "name": "stderr",
     "output_type": "stream",
     "text": [
      "INFO:chroma_client:Собрано 64 сцен в единый текст\n",
      "INFO:chroma_client:Поиск по запросу: What kind of knowledge does the individual possess regarding British law, and how does it relate to his other skills?\n"
     ]
    },
    {
     "data": {
      "text/plain": [
       "Batches:   0%|          | 0/1 [00:00<?, ?it/s]"
      ],
      "application/vnd.jupyter.widget-view+json": {
       "version_major": 2,
       "version_minor": 0,
       "model_id": "a4287b89068043b7886d4cf8f66b2c44"
      }
     },
     "metadata": {},
     "output_type": "display_data"
    },
    {
     "name": "stderr",
     "output_type": "stream",
     "text": [
      "INFO:chroma_client:Собрано 64 сцен в единый текст\n",
      "INFO:chroma_client:Поиск по запросу: What is the significance of having a good practical knowledge of British law for a consulting detective?\n"
     ]
    },
    {
     "data": {
      "text/plain": [
       "Batches:   0%|          | 0/1 [00:00<?, ?it/s]"
      ],
      "application/vnd.jupyter.widget-view+json": {
       "version_major": 2,
       "version_minor": 0,
       "model_id": "968ac28ca5224400a157590ab8c1b327"
      }
     },
     "metadata": {},
     "output_type": "display_data"
    },
    {
     "name": "stderr",
     "output_type": "stream",
     "text": [
      "INFO:chroma_client:Собрано 64 сцен в единый текст\n",
      "INFO:chroma_client:Поиск по запросу: Who is Mr. Lestrade in relation to the detective?\n"
     ]
    },
    {
     "data": {
      "text/plain": [
       "Batches:   0%|          | 0/1 [00:00<?, ?it/s]"
      ],
      "application/vnd.jupyter.widget-view+json": {
       "version_major": 2,
       "version_minor": 0,
       "model_id": "78e2568a1d274971a6f61cb032aafd3c"
      }
     },
     "metadata": {},
     "output_type": "display_data"
    },
    {
     "name": "stderr",
     "output_type": "stream",
     "text": [
      "INFO:chroma_client:Собрано 64 сцен в единый текст\n",
      "INFO:chroma_client:Поиск по запросу: What can you tell me about the different types of people Sherlock Holmes interacts with in London?\n"
     ]
    },
    {
     "data": {
      "text/plain": [
       "Batches:   0%|          | 0/1 [00:00<?, ?it/s]"
      ],
      "application/vnd.jupyter.widget-view+json": {
       "version_major": 2,
       "version_minor": 0,
       "model_id": "16f3e4d268c04cb898102f0acc095d03"
      }
     },
     "metadata": {},
     "output_type": "display_data"
    },
    {
     "name": "stderr",
     "output_type": "stream",
     "text": [
      "INFO:chroma_client:Собрано 64 сцен в единый текст\n",
      "INFO:chroma_client:Поиск по запросу: What role does Mr. Lestrade play in the context of Sherlock Holmes's interactions with various individuals?\n"
     ]
    },
    {
     "data": {
      "text/plain": [
       "Batches:   0%|          | 0/1 [00:00<?, ?it/s]"
      ],
      "application/vnd.jupyter.widget-view+json": {
       "version_major": 2,
       "version_minor": 0,
       "model_id": "999dd9cd66d947ca803a6438175e7c1f"
      }
     },
     "metadata": {},
     "output_type": "display_data"
    },
    {
     "name": "stderr",
     "output_type": "stream",
     "text": [
      "INFO:chroma_client:Собрано 64 сцен в единый текст\n",
      "INFO:chroma_client:Поиск по запросу: What knowledge does Sherlock Holmes possess regarding British law?\n"
     ]
    },
    {
     "data": {
      "text/plain": [
       "Batches:   0%|          | 0/1 [00:00<?, ?it/s]"
      ],
      "application/vnd.jupyter.widget-view+json": {
       "version_major": 2,
       "version_minor": 0,
       "model_id": "b8a24f846ef442a59c284d4c6c3b7839"
      }
     },
     "metadata": {},
     "output_type": "display_data"
    },
    {
     "name": "stderr",
     "output_type": "stream",
     "text": [
      "INFO:chroma_client:Собрано 64 сцен в единый текст\n",
      "INFO:chroma_client:Поиск по запросу: Wot can ya tell me about the significance of London in the context of Sherlock Holmes's work?\n"
     ]
    },
    {
     "data": {
      "text/plain": [
       "Batches:   0%|          | 0/1 [00:00<?, ?it/s]"
      ],
      "application/vnd.jupyter.widget-view+json": {
       "version_major": 2,
       "version_minor": 0,
       "model_id": "6b56949a11b24412b2729ec5235742e3"
      }
     },
     "metadata": {},
     "output_type": "display_data"
    },
    {
     "name": "stderr",
     "output_type": "stream",
     "text": [
      "INFO:chroma_client:Собрано 64 сцен в единый текст\n",
      "INFO:chroma_client:Поиск по запросу: Who is Mr. Lestrade and what role does he play in the life of the consulting detective?\n"
     ]
    },
    {
     "data": {
      "text/plain": [
       "Batches:   0%|          | 0/1 [00:00<?, ?it/s]"
      ],
      "application/vnd.jupyter.widget-view+json": {
       "version_major": 2,
       "version_minor": 0,
       "model_id": "984e16a441b343f692ae48f08164c570"
      }
     },
     "metadata": {},
     "output_type": "display_data"
    },
    {
     "name": "stderr",
     "output_type": "stream",
     "text": [
      "INFO:chroma_client:Собрано 64 сцен в единый текст\n",
      "INFO:chroma_client:Поиск по запросу: What can you tell me about Sherlock Holmes's ability to play Mendelssohn's music?\n"
     ]
    },
    {
     "data": {
      "text/plain": [
       "Batches:   0%|          | 0/1 [00:00<?, ?it/s]"
      ],
      "application/vnd.jupyter.widget-view+json": {
       "version_major": 2,
       "version_minor": 0,
       "model_id": "8f322ded42624986b67a990e104d13f9"
      }
     },
     "metadata": {},
     "output_type": "display_data"
    },
    {
     "name": "stderr",
     "output_type": "stream",
     "text": [
      "INFO:chroma_client:Собрано 64 сцен в единый текст\n",
      "INFO:chroma_client:Поиск по запросу: What insights can be drawn from Sherlock Holmes' knowledge in politics and how does it relate to his overall capabilities as a consulting detective?\n"
     ]
    },
    {
     "data": {
      "text/plain": [
       "Batches:   0%|          | 0/1 [00:00<?, ?it/s]"
      ],
      "application/vnd.jupyter.widget-view+json": {
       "version_major": 2,
       "version_minor": 0,
       "model_id": "fce9772e62df44478050e27eb7f78615"
      }
     },
     "metadata": {},
     "output_type": "display_data"
    },
    {
     "name": "stderr",
     "output_type": "stream",
     "text": [
      "INFO:chroma_client:Собрано 64 сцен в единый текст\n",
      "INFO:chroma_client:Поиск по запросу: What insights can be drawn from Sherlock Holmes' knowledge in politics and how does it relate to his overall inquiry skills?\n"
     ]
    },
    {
     "data": {
      "text/plain": [
       "Batches:   0%|          | 0/1 [00:00<?, ?it/s]"
      ],
      "application/vnd.jupyter.widget-view+json": {
       "version_major": 2,
       "version_minor": 0,
       "model_id": "85dde87987bf42fca3887b00482aa935"
      }
     },
     "metadata": {},
     "output_type": "display_data"
    },
    {
     "name": "stderr",
     "output_type": "stream",
     "text": [
      "INFO:chroma_client:Собрано 64 сцен в единый текст\n",
      "INFO:chroma_client:Поиск по запросу: What kind of knowledge does Sherlock Holmes acquire that relates to politics and how does it reflect on his character?\n"
     ]
    },
    {
     "data": {
      "text/plain": [
       "Batches:   0%|          | 0/1 [00:00<?, ?it/s]"
      ],
      "application/vnd.jupyter.widget-view+json": {
       "version_major": 2,
       "version_minor": 0,
       "model_id": "99adec07a4444d67a34a0cdd9c004cae"
      }
     },
     "metadata": {},
     "output_type": "display_data"
    },
    {
     "name": "stderr",
     "output_type": "stream",
     "text": [
      "INFO:chroma_client:Собрано 64 сцен в единый текст\n",
      "INFO:chroma_client:Поиск по запросу: What insights can be drawn from Sherlock Holmes' knowledge in politics and how does it relate to his overall capabilities as a consulting detective?\n"
     ]
    },
    {
     "data": {
      "text/plain": [
       "Batches:   0%|          | 0/1 [00:00<?, ?it/s]"
      ],
      "application/vnd.jupyter.widget-view+json": {
       "version_major": 2,
       "version_minor": 0,
       "model_id": "add65a79756a47ecae11baac73aae417"
      }
     },
     "metadata": {},
     "output_type": "display_data"
    },
    {
     "name": "stderr",
     "output_type": "stream",
     "text": [
      "INFO:chroma_client:Собрано 64 сцен в единый текст\n",
      "INFO:chroma_client:Поиск по запросу: What insights can be drawn from Sherlock Holmes' knowledge in politics and how does it relate to his overall capabilities as a consulting detective?\n"
     ]
    },
    {
     "data": {
      "text/plain": [
       "Batches:   0%|          | 0/1 [00:00<?, ?it/s]"
      ],
      "application/vnd.jupyter.widget-view+json": {
       "version_major": 2,
       "version_minor": 0,
       "model_id": "55feafbb0417433c942ad28dde935780"
      }
     },
     "metadata": {},
     "output_type": "display_data"
    },
    {
     "name": "stderr",
     "output_type": "stream",
     "text": [
      "INFO:chroma_client:Собрано 64 сцен в единый текст\n",
      "INFO:chroma_client:Поиск по запросу: What can be inferred about Sherlock Holmes's knowledge in politics and how does it relate to his overall inquiry skills?\n"
     ]
    },
    {
     "data": {
      "text/plain": [
       "Batches:   0%|          | 0/1 [00:00<?, ?it/s]"
      ],
      "application/vnd.jupyter.widget-view+json": {
       "version_major": 2,
       "version_minor": 0,
       "model_id": "5fdd26b3bc2a400f941d5f90bb8eadeb"
      }
     },
     "metadata": {},
     "output_type": "display_data"
    },
    {
     "name": "stderr",
     "output_type": "stream",
     "text": [
      "INFO:chroma_client:Собрано 64 сцен в единый текст\n",
      "INFO:chroma_client:Поиск по запросу: What insights can be drawn from Sherlock Holmes' knowledge of politics and how it relates to his other skills in solving inquiries?\n"
     ]
    },
    {
     "data": {
      "text/plain": [
       "Batches:   0%|          | 0/1 [00:00<?, ?it/s]"
      ],
      "application/vnd.jupyter.widget-view+json": {
       "version_major": 2,
       "version_minor": 0,
       "model_id": "db9d38a3b41b447595ec42e6dec7d6c8"
      }
     },
     "metadata": {},
     "output_type": "display_data"
    },
    {
     "name": "stderr",
     "output_type": "stream",
     "text": [
      "INFO:chroma_client:Собрано 64 сцен в единый текст\n",
      "INFO:chroma_client:Поиск по запросу: What insights can be drawn about Sherlock Holmes' knowledge acquisition in relation to his understanding of politics and how it affects his interactions with clients?\n"
     ]
    },
    {
     "data": {
      "text/plain": [
       "Batches:   0%|          | 0/1 [00:00<?, ?it/s]"
      ],
      "application/vnd.jupyter.widget-view+json": {
       "version_major": 2,
       "version_minor": 0,
       "model_id": "1126ef14638044b6a7125eaa5fbf6447"
      }
     },
     "metadata": {},
     "output_type": "display_data"
    },
    {
     "name": "stderr",
     "output_type": "stream",
     "text": [
      "INFO:chroma_client:Собрано 64 сцен в единый текст\n",
      "INFO:chroma_client:Поиск по запросу: What can be inferred about Sherlock Holmes's knowledge in politics and how does it relate to his inquiry skills?\n"
     ]
    },
    {
     "data": {
      "text/plain": [
       "Batches:   0%|          | 0/1 [00:00<?, ?it/s]"
      ],
      "application/vnd.jupyter.widget-view+json": {
       "version_major": 2,
       "version_minor": 0,
       "model_id": "5284368fdf3c4bd589666b5dcfa2d078"
      }
     },
     "metadata": {},
     "output_type": "display_data"
    },
    {
     "name": "stderr",
     "output_type": "stream",
     "text": [
      "INFO:chroma_client:Собрано 64 сцен в единый текст\n",
      "INFO:chroma_client:Поиск по запросу: In what ways does Sherlock Holmes's knowledge in various fields, particularly in politics, reflect his approach to inquiry and solving cases?\n"
     ]
    },
    {
     "data": {
      "text/plain": [
       "Batches:   0%|          | 0/1 [00:00<?, ?it/s]"
      ],
      "application/vnd.jupyter.widget-view+json": {
       "version_major": 2,
       "version_minor": 0,
       "model_id": "4553a1fe78e24042af833e35d848d3c9"
      }
     },
     "metadata": {},
     "output_type": "display_data"
    },
    {
     "name": "stderr",
     "output_type": "stream",
     "text": [
      "INFO:chroma_client:Собрано 64 сцен в единый текст\n",
      "INFO:chroma_client:Поиск по запросу: What can be inferred about Sherlock Holmes's knowledge in politics and how does it relate to his overall inquiry skills?\n"
     ]
    },
    {
     "data": {
      "text/plain": [
       "Batches:   0%|          | 0/1 [00:00<?, ?it/s]"
      ],
      "application/vnd.jupyter.widget-view+json": {
       "version_major": 2,
       "version_minor": 0,
       "model_id": "7d15f96298864742b9c26046bb935809"
      }
     },
     "metadata": {},
     "output_type": "display_data"
    },
    {
     "name": "stderr",
     "output_type": "stream",
     "text": [
      "INFO:chroma_client:Собрано 64 сцен в единый текст\n",
      "INFO:chroma_client:Поиск по запросу: What can be inferred about Sherlock Holmes's knowledge in politics and how it relates to his inquiry skills?\n"
     ]
    },
    {
     "data": {
      "text/plain": [
       "Batches:   0%|          | 0/1 [00:00<?, ?it/s]"
      ],
      "application/vnd.jupyter.widget-view+json": {
       "version_major": 2,
       "version_minor": 0,
       "model_id": "cdadd4d845394650a1a7d26e65ec54cb"
      }
     },
     "metadata": {},
     "output_type": "display_data"
    },
    {
     "name": "stderr",
     "output_type": "stream",
     "text": [
      "INFO:chroma_client:Собрано 64 сцен в единый текст\n",
      "INFO:chroma_client:Поиск по запросу: What insights can be drawn from Sherlock Holmes' knowledge of politics in relation to his other skills and the nature of his inquiries?\n"
     ]
    },
    {
     "data": {
      "text/plain": [
       "Batches:   0%|          | 0/1 [00:00<?, ?it/s]"
      ],
      "application/vnd.jupyter.widget-view+json": {
       "version_major": 2,
       "version_minor": 0,
       "model_id": "51df3cdcfa6d4ca6ba7fb000e75c9922"
      }
     },
     "metadata": {},
     "output_type": "display_data"
    },
    {
     "name": "stderr",
     "output_type": "stream",
     "text": [
      "INFO:chroma_client:Собрано 64 сцен в единый текст\n",
      "INFO:chroma_client:Поиск по запросу: In what ways does Sherlock Holmes's knowledge in various fields, particularly in politics and law, contribute to his effectiveness in solving inquiries related to complex cases?\n"
     ]
    },
    {
     "data": {
      "text/plain": [
       "Batches:   0%|          | 0/1 [00:00<?, ?it/s]"
      ],
      "application/vnd.jupyter.widget-view+json": {
       "version_major": 2,
       "version_minor": 0,
       "model_id": "3a2a7f86bb7d4da68f0bb1b04faf7f56"
      }
     },
     "metadata": {},
     "output_type": "display_data"
    },
    {
     "name": "stderr",
     "output_type": "stream",
     "text": [
      "INFO:chroma_client:Собрано 64 сцен в единый текст\n",
      "INFO:chroma_client:Поиск по запросу: In what ways does Sherlock Holmes's knowledge of politics reflect his overall inquiry skills and how does it relate to his interactions with various clients?\n"
     ]
    },
    {
     "data": {
      "text/plain": [
       "Batches:   0%|          | 0/1 [00:00<?, ?it/s]"
      ],
      "application/vnd.jupyter.widget-view+json": {
       "version_major": 2,
       "version_minor": 0,
       "model_id": "cd2c450e69324f238667d173301bd153"
      }
     },
     "metadata": {},
     "output_type": "display_data"
    },
    {
     "name": "stderr",
     "output_type": "stream",
     "text": [
      "INFO:chroma_client:Собрано 64 сцен в единый текст\n",
      "INFO:chroma_client:Поиск по запросу: What can be inferred about Sherlock Holmes's knowledge in politics and how does it relate to his other skills?\n"
     ]
    },
    {
     "data": {
      "text/plain": [
       "Batches:   0%|          | 0/1 [00:00<?, ?it/s]"
      ],
      "application/vnd.jupyter.widget-view+json": {
       "version_major": 2,
       "version_minor": 0,
       "model_id": "498ec5e890a24cd1a69948274d97cb71"
      }
     },
     "metadata": {},
     "output_type": "display_data"
    },
    {
     "name": "stderr",
     "output_type": "stream",
     "text": [
      "INFO:chroma_client:Собрано 64 сцен в единый текст\n",
      "INFO:chroma_client:Поиск по запросу: What can be inferred about Sherlock Holmes's knowledge in politics and how does it relate to his overall inquiry skills in solving cases?\n"
     ]
    },
    {
     "data": {
      "text/plain": [
       "Batches:   0%|          | 0/1 [00:00<?, ?it/s]"
      ],
      "application/vnd.jupyter.widget-view+json": {
       "version_major": 2,
       "version_minor": 0,
       "model_id": "9c8ef0445ba5428281014f11d469b017"
      }
     },
     "metadata": {},
     "output_type": "display_data"
    },
    {
     "name": "stderr",
     "output_type": "stream",
     "text": [
      "INFO:chroma_client:Собрано 64 сцен в единый текст\n",
      "INFO:chroma_client:Поиск по запросу: In what ways does Sherlock Holmes's knowledge in politics and other fields contribute to his ability to assist clients in complex inquiries?\n"
     ]
    },
    {
     "data": {
      "text/plain": [
       "Batches:   0%|          | 0/1 [00:00<?, ?it/s]"
      ],
      "application/vnd.jupyter.widget-view+json": {
       "version_major": 2,
       "version_minor": 0,
       "model_id": "5c51abd83c914816a456671cb515d781"
      }
     },
     "metadata": {},
     "output_type": "display_data"
    },
    {
     "name": "stderr",
     "output_type": "stream",
     "text": [
      "INFO:chroma_client:Собрано 64 сцен в единый текст\n",
      "INFO:chroma_client:Поиск по запросу: What insights can be drawn from Sherlock Holmes' knowledge in politics and how does it relate to his overall capabilities as a consulting detective?\n"
     ]
    },
    {
     "data": {
      "text/plain": [
       "Batches:   0%|          | 0/1 [00:00<?, ?it/s]"
      ],
      "application/vnd.jupyter.widget-view+json": {
       "version_major": 2,
       "version_minor": 0,
       "model_id": "12972f5abbf0414f927bfcea27f79bd5"
      }
     },
     "metadata": {},
     "output_type": "display_data"
    },
    {
     "name": "stderr",
     "output_type": "stream",
     "text": [
      "INFO:chroma_client:Собрано 64 сцен в единый текст\n",
      "INFO:chroma_client:Поиск по запросу: What insights can be drawn from Sherlock Holmes' knowledge in politics and how does it relate to his overall inquiry skills in solving cases?\n"
     ]
    },
    {
     "data": {
      "text/plain": [
       "Batches:   0%|          | 0/1 [00:00<?, ?it/s]"
      ],
      "application/vnd.jupyter.widget-view+json": {
       "version_major": 2,
       "version_minor": 0,
       "model_id": "884eba9830bb4a7f8244204c1e24b28a"
      }
     },
     "metadata": {},
     "output_type": "display_data"
    },
    {
     "name": "stderr",
     "output_type": "stream",
     "text": [
      "INFO:chroma_client:Собрано 64 сцен в единый текст\n",
      "INFO:chroma_client:Поиск по запросу: What insights can be drawn from Sherlock Holmes' knowledge in politics and how does it relate to his overall inquiry skills in solving cases?\n"
     ]
    },
    {
     "data": {
      "text/plain": [
       "Batches:   0%|          | 0/1 [00:00<?, ?it/s]"
      ],
      "application/vnd.jupyter.widget-view+json": {
       "version_major": 2,
       "version_minor": 0,
       "model_id": "d1942945c5494146a8bb374db53101dd"
      }
     },
     "metadata": {},
     "output_type": "display_data"
    },
    {
     "name": "stderr",
     "output_type": "stream",
     "text": [
      "INFO:chroma_client:Собрано 64 сцен в единый текст\n",
      "INFO:chroma_client:Поиск по запросу: What insights can be drawn from Sherlock Holmes' knowledge of politics and how it relates to his other skills in solving inquiries?\n"
     ]
    },
    {
     "data": {
      "text/plain": [
       "Batches:   0%|          | 0/1 [00:00<?, ?it/s]"
      ],
      "application/vnd.jupyter.widget-view+json": {
       "version_major": 2,
       "version_minor": 0,
       "model_id": "39665bdea7064075a60e172fd266d6be"
      }
     },
     "metadata": {},
     "output_type": "display_data"
    },
    {
     "name": "stderr",
     "output_type": "stream",
     "text": [
      "INFO:chroma_client:Собрано 64 сцен в единый текст\n",
      "INFO:chroma_client:Поиск по запросу: What can be inferred about Sherlock Holmes's knowledge in politics and how it relates to his inquiry skills?\n"
     ]
    },
    {
     "data": {
      "text/plain": [
       "Batches:   0%|          | 0/1 [00:00<?, ?it/s]"
      ],
      "application/vnd.jupyter.widget-view+json": {
       "version_major": 2,
       "version_minor": 0,
       "model_id": "b6dfad9345654bb7835a77cb1a647a48"
      }
     },
     "metadata": {},
     "output_type": "display_data"
    },
    {
     "name": "stderr",
     "output_type": "stream",
     "text": [
      "INFO:chroma_client:Собрано 64 сцен в единый текст\n",
      "INFO:chroma_client:Поиск по запросу: In what ways does Sherlock Holmes's knowledge in various fields, particularly in politics and law, contribute to his ability to assist clients in complex inquiries?\n"
     ]
    },
    {
     "data": {
      "text/plain": [
       "Batches:   0%|          | 0/1 [00:00<?, ?it/s]"
      ],
      "application/vnd.jupyter.widget-view+json": {
       "version_major": 2,
       "version_minor": 0,
       "model_id": "79e65b286b8049acadc8438cb27f7978"
      }
     },
     "metadata": {},
     "output_type": "display_data"
    },
    {
     "name": "stderr",
     "output_type": "stream",
     "text": [
      "INFO:chroma_client:Собрано 64 сцен в единый текст\n",
      "INFO:chroma_client:Поиск по запросу: What can be inferred about Sherlock Holmes's knowledge in politics and how does it relate to his overall inquiry skills?\n"
     ]
    },
    {
     "data": {
      "text/plain": [
       "Batches:   0%|          | 0/1 [00:00<?, ?it/s]"
      ],
      "application/vnd.jupyter.widget-view+json": {
       "version_major": 2,
       "version_minor": 0,
       "model_id": "30e25c6999c949fba23e2a5e03303fdf"
      }
     },
     "metadata": {},
     "output_type": "display_data"
    },
    {
     "name": "stderr",
     "output_type": "stream",
     "text": [
      "INFO:chroma_client:Собрано 64 сцен в единый текст\n",
      "INFO:chroma_client:Поиск по запросу: What insights can be drawn from Sherlock Holmes' knowledge in politics and how does it relate to his overall capabilities as a consulting detective?\n"
     ]
    },
    {
     "data": {
      "text/plain": [
       "Batches:   0%|          | 0/1 [00:00<?, ?it/s]"
      ],
      "application/vnd.jupyter.widget-view+json": {
       "version_major": 2,
       "version_minor": 0,
       "model_id": "8a2bab7b789a41bdaa1b06b2409cb31a"
      }
     },
     "metadata": {},
     "output_type": "display_data"
    },
    {
     "name": "stderr",
     "output_type": "stream",
     "text": [
      "INFO:chroma_client:Собрано 64 сцен в единый текст\n",
      "INFO:chroma_client:Поиск по запросу: What can be inferred about Sherlock Holmes's knowledge in politics and how it relates to his inquiry skills?\n"
     ]
    },
    {
     "data": {
      "text/plain": [
       "Batches:   0%|          | 0/1 [00:00<?, ?it/s]"
      ],
      "application/vnd.jupyter.widget-view+json": {
       "version_major": 2,
       "version_minor": 0,
       "model_id": "e4845ab5268847bca48161128dc04727"
      }
     },
     "metadata": {},
     "output_type": "display_data"
    },
    {
     "name": "stderr",
     "output_type": "stream",
     "text": [
      "INFO:chroma_client:Собрано 64 сцен в единый текст\n",
      "INFO:chroma_client:Поиск по запросу: What insights can be drawn from Sherlock Holmes' knowledge in politics and how does it relate to his overall inquiry skills in solving cases?\n"
     ]
    },
    {
     "data": {
      "text/plain": [
       "Batches:   0%|          | 0/1 [00:00<?, ?it/s]"
      ],
      "application/vnd.jupyter.widget-view+json": {
       "version_major": 2,
       "version_minor": 0,
       "model_id": "70a5736fcb3b4ee5be92849cdb3961e0"
      }
     },
     "metadata": {},
     "output_type": "display_data"
    },
    {
     "name": "stderr",
     "output_type": "stream",
     "text": [
      "INFO:chroma_client:Собрано 64 сцен в единый текст\n",
      "INFO:chroma_client:Поиск по запросу: What can be inferred about Sherlock Holmes's knowledge in politics and how does it relate to his overall inquiry skills in solving cases?\n"
     ]
    },
    {
     "data": {
      "text/plain": [
       "Batches:   0%|          | 0/1 [00:00<?, ?it/s]"
      ],
      "application/vnd.jupyter.widget-view+json": {
       "version_major": 2,
       "version_minor": 0,
       "model_id": "9dfac94fb86444ec8e50a3a785a549f2"
      }
     },
     "metadata": {},
     "output_type": "display_data"
    },
    {
     "name": "stderr",
     "output_type": "stream",
     "text": [
      "INFO:chroma_client:Собрано 64 сцен в единый текст\n",
      "INFO:chroma_client:Поиск по запросу: In what ways does Sherlock Holmes's knowledge of various subjects, particularly in politics and his inquiry methods, reflect his capabilities as a consulting detective?\n"
     ]
    },
    {
     "data": {
      "text/plain": [
       "Batches:   0%|          | 0/1 [00:00<?, ?it/s]"
      ],
      "application/vnd.jupyter.widget-view+json": {
       "version_major": 2,
       "version_minor": 0,
       "model_id": "67347575d7df4a3cbbe1026d5d7e2d77"
      }
     },
     "metadata": {},
     "output_type": "display_data"
    },
    {
     "name": "stderr",
     "output_type": "stream",
     "text": [
      "INFO:chroma_client:Собрано 64 сцен в единый текст\n",
      "INFO:chroma_client:Поиск по запросу: What can be inferred about Sherlock Holmes's knowledge in politics and how does it relate to his overall inquiry skills?\n"
     ]
    },
    {
     "data": {
      "text/plain": [
       "Batches:   0%|          | 0/1 [00:00<?, ?it/s]"
      ],
      "application/vnd.jupyter.widget-view+json": {
       "version_major": 2,
       "version_minor": 0,
       "model_id": "0375ddd9dad7477a939d7cd3d39d948f"
      }
     },
     "metadata": {},
     "output_type": "display_data"
    },
    {
     "name": "stderr",
     "output_type": "stream",
     "text": [
      "INFO:chroma_client:Собрано 64 сцен в единый текст\n",
      "INFO:chroma_client:Поиск по запросу: What insights can be drawn from Sherlock Holmes' knowledge of politics in relation to his other skills and the nature of his inquiries?\n"
     ]
    },
    {
     "data": {
      "text/plain": [
       "Batches:   0%|          | 0/1 [00:00<?, ?it/s]"
      ],
      "application/vnd.jupyter.widget-view+json": {
       "version_major": 2,
       "version_minor": 0,
       "model_id": "d57b197ea3e44a58a5a3019cbb9a5d4d"
      }
     },
     "metadata": {},
     "output_type": "display_data"
    },
    {
     "name": "stderr",
     "output_type": "stream",
     "text": [
      "INFO:chroma_client:Собрано 64 сцен в единый текст\n",
      "INFO:chroma_client:Поиск по запросу: What can be inferred about Sherlock Holmes's knowledge in politics and how does it relate to his overall inquiry skills?\n"
     ]
    },
    {
     "data": {
      "text/plain": [
       "Batches:   0%|          | 0/1 [00:00<?, ?it/s]"
      ],
      "application/vnd.jupyter.widget-view+json": {
       "version_major": 2,
       "version_minor": 0,
       "model_id": "0941bf9a26484622b1dc0a95c57688e6"
      }
     },
     "metadata": {},
     "output_type": "display_data"
    },
    {
     "name": "stderr",
     "output_type": "stream",
     "text": [
      "INFO:chroma_client:Собрано 64 сцен в единый текст\n",
      "INFO:chroma_client:Поиск по запросу: What can be inferred about Sherlock Holmes's knowledge in politics and how it relates to his inquiry skills?\n"
     ]
    },
    {
     "data": {
      "text/plain": [
       "Batches:   0%|          | 0/1 [00:00<?, ?it/s]"
      ],
      "application/vnd.jupyter.widget-view+json": {
       "version_major": 2,
       "version_minor": 0,
       "model_id": "de083d2b57c74177863a7bcb44a9f19e"
      }
     },
     "metadata": {},
     "output_type": "display_data"
    },
    {
     "name": "stderr",
     "output_type": "stream",
     "text": [
      "INFO:chroma_client:Собрано 64 сцен в единый текст\n",
      "INFO:chroma_client:Поиск по запросу: What insights can be drawn from Sherlock Holmes' knowledge in politics and how does it relate to his overall capabilities as a consulting detective?\n"
     ]
    },
    {
     "data": {
      "text/plain": [
       "Batches:   0%|          | 0/1 [00:00<?, ?it/s]"
      ],
      "application/vnd.jupyter.widget-view+json": {
       "version_major": 2,
       "version_minor": 0,
       "model_id": "d919a2c862c64096b268d692277b2d06"
      }
     },
     "metadata": {},
     "output_type": "display_data"
    },
    {
     "name": "stderr",
     "output_type": "stream",
     "text": [
      "INFO:chroma_client:Собрано 64 сцен в единый текст\n",
      "INFO:chroma_client:Поиск по запросу: What insights can be drawn from Sherlock Holmes' knowledge in politics and how does it relate to his overall inquiry skills?\n"
     ]
    },
    {
     "data": {
      "text/plain": [
       "Batches:   0%|          | 0/1 [00:00<?, ?it/s]"
      ],
      "application/vnd.jupyter.widget-view+json": {
       "version_major": 2,
       "version_minor": 0,
       "model_id": "7ecc47ff1d7f4d8e831e094fced8fc2d"
      }
     },
     "metadata": {},
     "output_type": "display_data"
    },
    {
     "name": "stderr",
     "output_type": "stream",
     "text": [
      "INFO:chroma_client:Собрано 64 сцен в единый текст\n",
      "INFO:chroma_client:Поиск по запросу: What can be inferred about Sherlock Holmes's knowledge in politics and how does it relate to his overall inquiry skills?\n"
     ]
    },
    {
     "data": {
      "text/plain": [
       "Batches:   0%|          | 0/1 [00:00<?, ?it/s]"
      ],
      "application/vnd.jupyter.widget-view+json": {
       "version_major": 2,
       "version_minor": 0,
       "model_id": "5ab65599e76c4e9eb89a803f43bf09a7"
      }
     },
     "metadata": {},
     "output_type": "display_data"
    },
    {
     "name": "stderr",
     "output_type": "stream",
     "text": [
      "INFO:chroma_client:Собрано 64 сцен в единый текст\n",
      "INFO:chroma_client:Поиск по запросу: What can be inferred about Sherlock Holmes's knowledge in politics and how it relates to his inquiry skills?\n"
     ]
    },
    {
     "data": {
      "text/plain": [
       "Batches:   0%|          | 0/1 [00:00<?, ?it/s]"
      ],
      "application/vnd.jupyter.widget-view+json": {
       "version_major": 2,
       "version_minor": 0,
       "model_id": "c34d28d0aac64971997f516693115f24"
      }
     },
     "metadata": {},
     "output_type": "display_data"
    }
   ],
   "execution_count": 60
  },
  {
   "cell_type": "code",
   "id": "5a666c65-4f7d-467f-b70e-cf4f13d22919",
   "metadata": {
    "ExecuteTime": {
     "end_time": "2024-12-23T18:10:38.335610Z",
     "start_time": "2024-12-23T18:10:38.283210Z"
    }
   },
   "source": "evalset_pd.to_csv('synthetic_full_data_ragas_4o-mini_gemini.csv', index=False)",
   "outputs": [],
   "execution_count": 61
  },
  {
   "cell_type": "code",
   "id": "7ab70ebb-f871-4fb0-9541-77208e58cff5",
   "metadata": {
    "ExecuteTime": {
     "end_time": "2024-12-24T07:07:35.169727Z",
     "start_time": "2024-12-24T07:07:35.123562Z"
    }
   },
   "source": "evalset_pd = pd.read_csv('synthetic_full_data_ragas_4o-mini_gemini.csv', converters={'retrieved_contexts': literal_eval, 'reference_contexts': literal_eval})",
   "outputs": [],
   "execution_count": 8
  },
  {
   "metadata": {
    "ExecuteTime": {
     "end_time": "2024-12-24T07:07:36.563665Z",
     "start_time": "2024-12-24T07:07:36.561508Z"
    }
   },
   "cell_type": "code",
   "source": [
    "def parsing_context(context):\n",
    "    \n",
    "    retrieved_context = []\n",
    "    \n",
    "    for item_scene in context:\n",
    "        if item_scene.get('chunks'):\n",
    "            for chunk in item_scene['chunks']:\n",
    "                retrieved_context.append(chunk['document'])\n",
    "    \n",
    "    return retrieved_context\n",
    "    "
   ],
   "id": "dfe6901be842766a",
   "outputs": [],
   "execution_count": 9
  },
  {
   "metadata": {
    "ExecuteTime": {
     "end_time": "2024-12-24T07:07:38.601823Z",
     "start_time": "2024-12-24T07:07:38.598584Z"
    }
   },
   "cell_type": "code",
   "source": "evalset_pd['retrieved_contexts'] = evalset_pd.apply(lambda row: parsing_context(row['retrieved_contexts']), axis=1)",
   "id": "e51e0f2d08503e6f",
   "outputs": [],
   "execution_count": 10
  },
  {
   "metadata": {
    "ExecuteTime": {
     "end_time": "2024-12-24T07:07:39.287751Z",
     "start_time": "2024-12-24T07:07:39.277062Z"
    }
   },
   "cell_type": "code",
   "source": "evalset_pd",
   "id": "e3ba1ba685eaaffc",
   "outputs": [
    {
     "data": {
      "text/plain": [
       "                                           user_input  \\\n",
       "0        What kind of knowledge SHERLOCK HOLMES have?   \n",
       "1   What kind of knowledge does SHERLOCK HOLMES po...   \n",
       "2   In what ways does the character SHERLOCK HOLME...   \n",
       "3   What are the limits of SHERLOCK HOLMES's knowl...   \n",
       "4   What are the limitations of SHERLOCK HOLMES's ...   \n",
       "..                                                ...   \n",
       "70  What can be inferred about Sherlock Holmes's k...   \n",
       "71  What insights can be drawn from Sherlock Holme...   \n",
       "72  What insights can be drawn from Sherlock Holme...   \n",
       "73  What can be inferred about Sherlock Holmes's k...   \n",
       "74  What can be inferred about Sherlock Holmes's k...   \n",
       "\n",
       "                                   retrieved_contexts  \\\n",
       "0   [I was on the point of asking him what that wo...   \n",
       "1   [I was on the point of asking him what that wo...   \n",
       "2   [I was on the point of asking him what that wo...   \n",
       "3   [I was on the point of asking him what that wo...   \n",
       "4   [I was on the point of asking him what that wo...   \n",
       "..                                                ...   \n",
       "70  [I was on the point of asking him what that wo...   \n",
       "71  [I was on the point of asking him what that wo...   \n",
       "72  [I was on the point of asking him what that wo...   \n",
       "73  [I was on the point of asking him what that wo...   \n",
       "74  [I was on the point of asking him what that wo...   \n",
       "\n",
       "                                   reference_contexts  \\\n",
       "0   [I was on the point of asking him what that wo...   \n",
       "1   [I was on the point of asking him what that wo...   \n",
       "2   [I was on the point of asking him what that wo...   \n",
       "3   [I was on the point of asking him what that wo...   \n",
       "4   [I was on the point of asking him what that wo...   \n",
       "..                                                ...   \n",
       "70  [<1-hop>\\n\\nI was on the point of asking him w...   \n",
       "71  [<1-hop>\\n\\nI was on the point of asking him w...   \n",
       "72  [<1-hop>\\n\\nI was on the point of asking him w...   \n",
       "73  [<1-hop>\\n\\nI was on the point of asking him w...   \n",
       "74  [<1-hop>\\n\\nI was on the point of asking him w...   \n",
       "\n",
       "                                             response  \\\n",
       "0   {'text': \"Based on the narrator's list, Sherlo...   \n",
       "1   {'text': \"Based on the narrator's observations...   \n",
       "2   {'text': 'Based on the provided text excerpts,...   \n",
       "3   {'text': \"Based on the text provided, the limi...   \n",
       "4   {'text': 'Based on the provided text excerpts,...   \n",
       "..                                                ...   \n",
       "70  {'text': 'Okay, let\\'s analyze what can be inf...   \n",
       "71  {'text': 'Okay, let\\'s analyze Sherlock Holmes...   \n",
       "72  {'text': 'Okay, let\\'s analyze what can be inf...   \n",
       "73  {'text': 'Okay, let\\'s analyze what can be inf...   \n",
       "74  {'text': 'Okay, let\\'s analyze what can be inf...   \n",
       "\n",
       "                                            reference  \n",
       "0   SHERLOCK HOLMES has no knowledge of Literature...  \n",
       "1   According to the observations made, SHERLOCK H...  \n",
       "2   The character SHERLOCK HOLMES demonstrates a s...  \n",
       "3   According to the context, SHERLOCK HOLMES has ...  \n",
       "4   According to the context, SHERLOCK HOLMES has ...  \n",
       "..                                                ...  \n",
       "70  Sherlock Holmes's knowledge in politics is des...  \n",
       "71  Sherlock Holmes' knowledge in politics is desc...  \n",
       "72  Sherlock Holmes' knowledge in politics is desc...  \n",
       "73  Sherlock Holmes's knowledge in politics is des...  \n",
       "74  Sherlock Holmes's knowledge in politics is des...  \n",
       "\n",
       "[75 rows x 5 columns]"
      ],
      "text/html": [
       "<div>\n",
       "<style scoped>\n",
       "    .dataframe tbody tr th:only-of-type {\n",
       "        vertical-align: middle;\n",
       "    }\n",
       "\n",
       "    .dataframe tbody tr th {\n",
       "        vertical-align: top;\n",
       "    }\n",
       "\n",
       "    .dataframe thead th {\n",
       "        text-align: right;\n",
       "    }\n",
       "</style>\n",
       "<table border=\"1\" class=\"dataframe\">\n",
       "  <thead>\n",
       "    <tr style=\"text-align: right;\">\n",
       "      <th></th>\n",
       "      <th>user_input</th>\n",
       "      <th>retrieved_contexts</th>\n",
       "      <th>reference_contexts</th>\n",
       "      <th>response</th>\n",
       "      <th>reference</th>\n",
       "    </tr>\n",
       "  </thead>\n",
       "  <tbody>\n",
       "    <tr>\n",
       "      <th>0</th>\n",
       "      <td>What kind of knowledge SHERLOCK HOLMES have?</td>\n",
       "      <td>[I was on the point of asking him what that wo...</td>\n",
       "      <td>[I was on the point of asking him what that wo...</td>\n",
       "      <td>{'text': \"Based on the narrator's list, Sherlo...</td>\n",
       "      <td>SHERLOCK HOLMES has no knowledge of Literature...</td>\n",
       "    </tr>\n",
       "    <tr>\n",
       "      <th>1</th>\n",
       "      <td>What kind of knowledge does SHERLOCK HOLMES po...</td>\n",
       "      <td>[I was on the point of asking him what that wo...</td>\n",
       "      <td>[I was on the point of asking him what that wo...</td>\n",
       "      <td>{'text': \"Based on the narrator's observations...</td>\n",
       "      <td>According to the observations made, SHERLOCK H...</td>\n",
       "    </tr>\n",
       "    <tr>\n",
       "      <th>2</th>\n",
       "      <td>In what ways does the character SHERLOCK HOLME...</td>\n",
       "      <td>[I was on the point of asking him what that wo...</td>\n",
       "      <td>[I was on the point of asking him what that wo...</td>\n",
       "      <td>{'text': 'Based on the provided text excerpts,...</td>\n",
       "      <td>The character SHERLOCK HOLMES demonstrates a s...</td>\n",
       "    </tr>\n",
       "    <tr>\n",
       "      <th>3</th>\n",
       "      <td>What are the limits of SHERLOCK HOLMES's knowl...</td>\n",
       "      <td>[I was on the point of asking him what that wo...</td>\n",
       "      <td>[I was on the point of asking him what that wo...</td>\n",
       "      <td>{'text': \"Based on the text provided, the limi...</td>\n",
       "      <td>According to the context, SHERLOCK HOLMES has ...</td>\n",
       "    </tr>\n",
       "    <tr>\n",
       "      <th>4</th>\n",
       "      <td>What are the limitations of SHERLOCK HOLMES's ...</td>\n",
       "      <td>[I was on the point of asking him what that wo...</td>\n",
       "      <td>[I was on the point of asking him what that wo...</td>\n",
       "      <td>{'text': 'Based on the provided text excerpts,...</td>\n",
       "      <td>According to the context, SHERLOCK HOLMES has ...</td>\n",
       "    </tr>\n",
       "    <tr>\n",
       "      <th>...</th>\n",
       "      <td>...</td>\n",
       "      <td>...</td>\n",
       "      <td>...</td>\n",
       "      <td>...</td>\n",
       "      <td>...</td>\n",
       "    </tr>\n",
       "    <tr>\n",
       "      <th>70</th>\n",
       "      <td>What can be inferred about Sherlock Holmes's k...</td>\n",
       "      <td>[I was on the point of asking him what that wo...</td>\n",
       "      <td>[&lt;1-hop&gt;\\n\\nI was on the point of asking him w...</td>\n",
       "      <td>{'text': 'Okay, let\\'s analyze what can be inf...</td>\n",
       "      <td>Sherlock Holmes's knowledge in politics is des...</td>\n",
       "    </tr>\n",
       "    <tr>\n",
       "      <th>71</th>\n",
       "      <td>What insights can be drawn from Sherlock Holme...</td>\n",
       "      <td>[I was on the point of asking him what that wo...</td>\n",
       "      <td>[&lt;1-hop&gt;\\n\\nI was on the point of asking him w...</td>\n",
       "      <td>{'text': 'Okay, let\\'s analyze Sherlock Holmes...</td>\n",
       "      <td>Sherlock Holmes' knowledge in politics is desc...</td>\n",
       "    </tr>\n",
       "    <tr>\n",
       "      <th>72</th>\n",
       "      <td>What insights can be drawn from Sherlock Holme...</td>\n",
       "      <td>[I was on the point of asking him what that wo...</td>\n",
       "      <td>[&lt;1-hop&gt;\\n\\nI was on the point of asking him w...</td>\n",
       "      <td>{'text': 'Okay, let\\'s analyze what can be inf...</td>\n",
       "      <td>Sherlock Holmes' knowledge in politics is desc...</td>\n",
       "    </tr>\n",
       "    <tr>\n",
       "      <th>73</th>\n",
       "      <td>What can be inferred about Sherlock Holmes's k...</td>\n",
       "      <td>[I was on the point of asking him what that wo...</td>\n",
       "      <td>[&lt;1-hop&gt;\\n\\nI was on the point of asking him w...</td>\n",
       "      <td>{'text': 'Okay, let\\'s analyze what can be inf...</td>\n",
       "      <td>Sherlock Holmes's knowledge in politics is des...</td>\n",
       "    </tr>\n",
       "    <tr>\n",
       "      <th>74</th>\n",
       "      <td>What can be inferred about Sherlock Holmes's k...</td>\n",
       "      <td>[I was on the point of asking him what that wo...</td>\n",
       "      <td>[&lt;1-hop&gt;\\n\\nI was on the point of asking him w...</td>\n",
       "      <td>{'text': 'Okay, let\\'s analyze what can be inf...</td>\n",
       "      <td>Sherlock Holmes's knowledge in politics is des...</td>\n",
       "    </tr>\n",
       "  </tbody>\n",
       "</table>\n",
       "<p>75 rows × 5 columns</p>\n",
       "</div>"
      ]
     },
     "execution_count": 11,
     "metadata": {},
     "output_type": "execute_result"
    }
   ],
   "execution_count": 11
  },
  {
   "cell_type": "code",
   "id": "8f3d7a41-a4fc-4eac-9e11-2694ecfbaeb4",
   "metadata": {
    "ExecuteTime": {
     "end_time": "2024-12-24T07:07:43.158904Z",
     "start_time": "2024-12-24T07:07:43.157116Z"
    }
   },
   "source": [
    "run_config = RunConfig(timeout=120, max_wait = 180, max_workers= 1)"
   ],
   "outputs": [],
   "execution_count": 12
  },
  {
   "cell_type": "code",
   "id": "650693e9-7e9a-45ae-9aea-8e6f9e79bac5",
   "metadata": {
    "ExecuteTime": {
     "end_time": "2024-12-24T07:55:01.076421Z",
     "start_time": "2024-12-24T07:07:54.088391Z"
    }
   },
   "source": [
    "score_result = evaluate(\n",
    "  dataset=Dataset.from_pandas(evalset_pd),\n",
    "  metrics=[\n",
    "      LLMContextRecall(llm=generator_llm),\n",
    "      LLMContextPrecisionWithReference(llm=generator_llm),\n",
    "      LLMContextPrecisionWithoutReference(llm=generator_llm),\n",
    "      AnswerCorrectness(llm=generator_llm, embeddings=generator_embeddings),\n",
    "      AnswerRelevancy(llm=generator_llm, embeddings=generator_embeddings),\n",
    "      AnswerSimilarity(embeddings=generator_embeddings),\n",
    "      Faithfulness(llm=generator_llm)\n",
    "  ]\n",
    ")"
   ],
   "outputs": [
    {
     "data": {
      "text/plain": [
       "Evaluating:   0%|          | 0/525 [00:00<?, ?it/s]"
      ],
      "application/vnd.jupyter.widget-view+json": {
       "version_major": 2,
       "version_minor": 0,
       "model_id": "c1ec14388db6413f9d604b982e0407d4"
      }
     },
     "metadata": {},
     "output_type": "display_data"
    },
    {
     "name": "stderr",
     "output_type": "stream",
     "text": [
      "ERROR:ragas.executor:Exception raised in Job[5]: TypeError('NoneType' object is not subscriptable)\n",
      "INFO:httpx:HTTP Request: POST https://api.openai.com/v1/chat/completions \"HTTP/1.1 200 OK\"\n",
      "INFO:httpx:HTTP Request: POST https://api.openai.com/v1/chat/completions \"HTTP/1.1 200 OK\"\n",
      "INFO:httpx:HTTP Request: POST https://api.openai.com/v1/chat/completions \"HTTP/1.1 200 OK\"\n",
      "INFO:httpx:HTTP Request: POST https://api.openai.com/v1/chat/completions \"HTTP/1.1 200 OK\"\n",
      "INFO:httpx:HTTP Request: POST https://api.openai.com/v1/chat/completions \"HTTP/1.1 200 OK\"\n",
      "INFO:httpx:HTTP Request: POST https://api.openai.com/v1/chat/completions \"HTTP/1.1 200 OK\"\n",
      "INFO:httpx:HTTP Request: POST https://api.openai.com/v1/chat/completions \"HTTP/1.1 200 OK\"\n",
      "INFO:httpx:HTTP Request: POST https://api.openai.com/v1/chat/completions \"HTTP/1.1 200 OK\"\n",
      "INFO:httpx:HTTP Request: POST https://api.openai.com/v1/chat/completions \"HTTP/1.1 200 OK\"\n",
      "INFO:httpx:HTTP Request: POST https://api.openai.com/v1/chat/completions \"HTTP/1.1 200 OK\"\n",
      "INFO:httpx:HTTP Request: POST https://api.openai.com/v1/chat/completions \"HTTP/1.1 200 OK\"\n",
      "INFO:httpx:HTTP Request: POST https://api.openai.com/v1/chat/completions \"HTTP/1.1 200 OK\"\n",
      "INFO:httpx:HTTP Request: POST https://api.openai.com/v1/chat/completions \"HTTP/1.1 200 OK\"\n",
      "INFO:httpx:HTTP Request: POST https://api.openai.com/v1/chat/completions \"HTTP/1.1 200 OK\"\n",
      "INFO:httpx:HTTP Request: POST https://api.openai.com/v1/chat/completions \"HTTP/1.1 200 OK\"\n",
      "INFO:httpx:HTTP Request: POST https://api.openai.com/v1/chat/completions \"HTTP/1.1 200 OK\"\n",
      "INFO:httpx:HTTP Request: POST https://api.openai.com/v1/chat/completions \"HTTP/1.1 200 OK\"\n",
      "INFO:httpx:HTTP Request: POST https://api.openai.com/v1/chat/completions \"HTTP/1.1 200 OK\"\n",
      "INFO:httpx:HTTP Request: POST https://api.openai.com/v1/chat/completions \"HTTP/1.1 200 OK\"\n",
      "INFO:httpx:HTTP Request: POST https://api.openai.com/v1/chat/completions \"HTTP/1.1 200 OK\"\n",
      "INFO:httpx:HTTP Request: POST https://api.openai.com/v1/chat/completions \"HTTP/1.1 200 OK\"\n",
      "INFO:httpx:HTTP Request: POST https://api.openai.com/v1/chat/completions \"HTTP/1.1 200 OK\"\n",
      "INFO:httpx:HTTP Request: POST https://api.openai.com/v1/chat/completions \"HTTP/1.1 200 OK\"\n",
      "INFO:httpx:HTTP Request: POST https://api.openai.com/v1/chat/completions \"HTTP/1.1 200 OK\"\n",
      "INFO:httpx:HTTP Request: POST https://api.openai.com/v1/chat/completions \"HTTP/1.1 200 OK\"\n",
      "INFO:httpx:HTTP Request: POST https://api.openai.com/v1/chat/completions \"HTTP/1.1 200 OK\"\n",
      "INFO:httpx:HTTP Request: POST https://api.openai.com/v1/chat/completions \"HTTP/1.1 200 OK\"\n",
      "INFO:httpx:HTTP Request: POST https://api.openai.com/v1/chat/completions \"HTTP/1.1 200 OK\"\n",
      "INFO:httpx:HTTP Request: POST https://api.openai.com/v1/chat/completions \"HTTP/1.1 200 OK\"\n",
      "INFO:httpx:HTTP Request: POST https://api.openai.com/v1/chat/completions \"HTTP/1.1 200 OK\"\n",
      "INFO:httpx:HTTP Request: POST https://api.openai.com/v1/chat/completions \"HTTP/1.1 200 OK\"\n",
      "INFO:httpx:HTTP Request: POST https://api.openai.com/v1/chat/completions \"HTTP/1.1 200 OK\"\n",
      "INFO:httpx:HTTP Request: POST https://api.openai.com/v1/chat/completions \"HTTP/1.1 200 OK\"\n",
      "INFO:httpx:HTTP Request: POST https://api.openai.com/v1/chat/completions \"HTTP/1.1 200 OK\"\n",
      "INFO:httpx:HTTP Request: POST https://api.openai.com/v1/chat/completions \"HTTP/1.1 200 OK\"\n",
      "INFO:httpx:HTTP Request: POST https://api.openai.com/v1/chat/completions \"HTTP/1.1 200 OK\"\n",
      "INFO:httpx:HTTP Request: POST https://api.openai.com/v1/chat/completions \"HTTP/1.1 200 OK\"\n",
      "INFO:httpx:HTTP Request: POST https://api.openai.com/v1/chat/completions \"HTTP/1.1 200 OK\"\n",
      "INFO:httpx:HTTP Request: POST https://api.openai.com/v1/chat/completions \"HTTP/1.1 200 OK\"\n",
      "INFO:httpx:HTTP Request: POST https://api.openai.com/v1/chat/completions \"HTTP/1.1 200 OK\"\n",
      "INFO:httpx:HTTP Request: POST https://api.openai.com/v1/chat/completions \"HTTP/1.1 200 OK\"\n",
      "INFO:httpx:HTTP Request: POST https://api.openai.com/v1/chat/completions \"HTTP/1.1 200 OK\"\n",
      "INFO:httpx:HTTP Request: POST https://api.openai.com/v1/chat/completions \"HTTP/1.1 200 OK\"\n",
      "INFO:httpx:HTTP Request: POST https://api.openai.com/v1/chat/completions \"HTTP/1.1 200 OK\"\n",
      "INFO:httpx:HTTP Request: POST https://api.openai.com/v1/chat/completions \"HTTP/1.1 200 OK\"\n",
      "INFO:httpx:HTTP Request: POST https://api.openai.com/v1/chat/completions \"HTTP/1.1 200 OK\"\n",
      "INFO:httpx:HTTP Request: POST https://api.openai.com/v1/chat/completions \"HTTP/1.1 200 OK\"\n",
      "INFO:httpx:HTTP Request: POST https://api.openai.com/v1/chat/completions \"HTTP/1.1 200 OK\"\n",
      "INFO:httpx:HTTP Request: POST https://api.openai.com/v1/chat/completions \"HTTP/1.1 200 OK\"\n",
      "INFO:httpx:HTTP Request: POST https://api.openai.com/v1/chat/completions \"HTTP/1.1 200 OK\"\n",
      "INFO:httpx:HTTP Request: POST https://api.openai.com/v1/chat/completions \"HTTP/1.1 200 OK\"\n",
      "INFO:httpx:HTTP Request: POST https://api.openai.com/v1/chat/completions \"HTTP/1.1 200 OK\"\n",
      "INFO:httpx:HTTP Request: POST https://api.openai.com/v1/chat/completions \"HTTP/1.1 200 OK\"\n",
      "INFO:httpx:HTTP Request: POST https://api.openai.com/v1/chat/completions \"HTTP/1.1 200 OK\"\n",
      "INFO:httpx:HTTP Request: POST https://api.openai.com/v1/chat/completions \"HTTP/1.1 200 OK\"\n",
      "INFO:httpx:HTTP Request: POST https://api.openai.com/v1/chat/completions \"HTTP/1.1 200 OK\"\n",
      "INFO:httpx:HTTP Request: POST https://api.openai.com/v1/chat/completions \"HTTP/1.1 200 OK\"\n",
      "INFO:httpx:HTTP Request: POST https://api.openai.com/v1/chat/completions \"HTTP/1.1 200 OK\"\n",
      "INFO:httpx:HTTP Request: POST https://api.openai.com/v1/chat/completions \"HTTP/1.1 200 OK\"\n",
      "INFO:httpx:HTTP Request: POST https://api.openai.com/v1/chat/completions \"HTTP/1.1 200 OK\"\n",
      "INFO:httpx:HTTP Request: POST https://api.openai.com/v1/chat/completions \"HTTP/1.1 200 OK\"\n",
      "INFO:httpx:HTTP Request: POST https://api.openai.com/v1/chat/completions \"HTTP/1.1 200 OK\"\n",
      "INFO:httpx:HTTP Request: POST https://api.openai.com/v1/chat/completions \"HTTP/1.1 200 OK\"\n",
      "INFO:httpx:HTTP Request: POST https://api.openai.com/v1/chat/completions \"HTTP/1.1 200 OK\"\n",
      "INFO:httpx:HTTP Request: POST https://api.openai.com/v1/chat/completions \"HTTP/1.1 200 OK\"\n",
      "INFO:httpx:HTTP Request: POST https://api.openai.com/v1/chat/completions \"HTTP/1.1 200 OK\"\n",
      "INFO:httpx:HTTP Request: POST https://api.openai.com/v1/chat/completions \"HTTP/1.1 200 OK\"\n",
      "INFO:httpx:HTTP Request: POST https://api.openai.com/v1/chat/completions \"HTTP/1.1 200 OK\"\n",
      "INFO:httpx:HTTP Request: POST https://api.openai.com/v1/chat/completions \"HTTP/1.1 200 OK\"\n",
      "INFO:httpx:HTTP Request: POST https://api.openai.com/v1/chat/completions \"HTTP/1.1 200 OK\"\n",
      "INFO:httpx:HTTP Request: POST https://api.openai.com/v1/chat/completions \"HTTP/1.1 200 OK\"\n",
      "INFO:httpx:HTTP Request: POST https://api.openai.com/v1/chat/completions \"HTTP/1.1 200 OK\"\n",
      "INFO:httpx:HTTP Request: POST https://api.openai.com/v1/chat/completions \"HTTP/1.1 200 OK\"\n",
      "INFO:httpx:HTTP Request: POST https://api.openai.com/v1/chat/completions \"HTTP/1.1 200 OK\"\n",
      "INFO:httpx:HTTP Request: POST https://api.openai.com/v1/chat/completions \"HTTP/1.1 200 OK\"\n",
      "INFO:httpx:HTTP Request: POST https://api.openai.com/v1/chat/completions \"HTTP/1.1 200 OK\"\n",
      "INFO:httpx:HTTP Request: POST https://api.openai.com/v1/chat/completions \"HTTP/1.1 200 OK\"\n",
      "INFO:httpx:HTTP Request: POST https://api.openai.com/v1/chat/completions \"HTTP/1.1 200 OK\"\n",
      "INFO:httpx:HTTP Request: POST https://api.openai.com/v1/chat/completions \"HTTP/1.1 200 OK\"\n",
      "INFO:httpx:HTTP Request: POST https://api.openai.com/v1/chat/completions \"HTTP/1.1 200 OK\"\n",
      "INFO:httpx:HTTP Request: POST https://api.openai.com/v1/chat/completions \"HTTP/1.1 200 OK\"\n",
      "INFO:httpx:HTTP Request: POST https://api.openai.com/v1/chat/completions \"HTTP/1.1 200 OK\"\n",
      "INFO:httpx:HTTP Request: POST https://api.openai.com/v1/chat/completions \"HTTP/1.1 200 OK\"\n",
      "INFO:httpx:HTTP Request: POST https://api.openai.com/v1/chat/completions \"HTTP/1.1 200 OK\"\n",
      "INFO:httpx:HTTP Request: POST https://api.openai.com/v1/chat/completions \"HTTP/1.1 200 OK\"\n",
      "INFO:httpx:HTTP Request: POST https://api.openai.com/v1/chat/completions \"HTTP/1.1 200 OK\"\n",
      "INFO:httpx:HTTP Request: POST https://api.openai.com/v1/chat/completions \"HTTP/1.1 200 OK\"\n",
      "INFO:httpx:HTTP Request: POST https://api.openai.com/v1/chat/completions \"HTTP/1.1 200 OK\"\n",
      "INFO:httpx:HTTP Request: POST https://api.openai.com/v1/chat/completions \"HTTP/1.1 200 OK\"\n",
      "INFO:httpx:HTTP Request: POST https://api.openai.com/v1/chat/completions \"HTTP/1.1 200 OK\"\n",
      "INFO:httpx:HTTP Request: POST https://api.openai.com/v1/chat/completions \"HTTP/1.1 200 OK\"\n",
      "INFO:httpx:HTTP Request: POST https://api.openai.com/v1/chat/completions \"HTTP/1.1 200 OK\"\n",
      "INFO:httpx:HTTP Request: POST https://api.openai.com/v1/chat/completions \"HTTP/1.1 200 OK\"\n",
      "INFO:httpx:HTTP Request: POST https://api.openai.com/v1/chat/completions \"HTTP/1.1 200 OK\"\n",
      "INFO:httpx:HTTP Request: POST https://api.openai.com/v1/chat/completions \"HTTP/1.1 200 OK\"\n",
      "INFO:httpx:HTTP Request: POST https://api.openai.com/v1/chat/completions \"HTTP/1.1 200 OK\"\n",
      "INFO:httpx:HTTP Request: POST https://api.openai.com/v1/chat/completions \"HTTP/1.1 200 OK\"\n",
      "INFO:httpx:HTTP Request: POST https://api.openai.com/v1/chat/completions \"HTTP/1.1 200 OK\"\n",
      "INFO:httpx:HTTP Request: POST https://api.openai.com/v1/chat/completions \"HTTP/1.1 200 OK\"\n",
      "INFO:httpx:HTTP Request: POST https://api.openai.com/v1/chat/completions \"HTTP/1.1 200 OK\"\n",
      "INFO:httpx:HTTP Request: POST https://api.openai.com/v1/chat/completions \"HTTP/1.1 200 OK\"\n",
      "INFO:httpx:HTTP Request: POST https://api.openai.com/v1/chat/completions \"HTTP/1.1 200 OK\"\n",
      "INFO:httpx:HTTP Request: POST https://api.openai.com/v1/chat/completions \"HTTP/1.1 200 OK\"\n",
      "INFO:httpx:HTTP Request: POST https://api.openai.com/v1/chat/completions \"HTTP/1.1 200 OK\"\n",
      "INFO:httpx:HTTP Request: POST https://api.openai.com/v1/chat/completions \"HTTP/1.1 200 OK\"\n",
      "INFO:httpx:HTTP Request: POST https://api.openai.com/v1/chat/completions \"HTTP/1.1 200 OK\"\n",
      "INFO:httpx:HTTP Request: POST https://api.openai.com/v1/chat/completions \"HTTP/1.1 200 OK\"\n",
      "INFO:httpx:HTTP Request: POST https://api.openai.com/v1/chat/completions \"HTTP/1.1 200 OK\"\n",
      "INFO:httpx:HTTP Request: POST https://api.openai.com/v1/chat/completions \"HTTP/1.1 200 OK\"\n",
      "INFO:httpx:HTTP Request: POST https://api.openai.com/v1/chat/completions \"HTTP/1.1 200 OK\"\n",
      "INFO:httpx:HTTP Request: POST https://api.openai.com/v1/chat/completions \"HTTP/1.1 200 OK\"\n",
      "INFO:httpx:HTTP Request: POST https://api.openai.com/v1/chat/completions \"HTTP/1.1 200 OK\"\n",
      "INFO:httpx:HTTP Request: POST https://api.openai.com/v1/chat/completions \"HTTP/1.1 200 OK\"\n",
      "INFO:httpx:HTTP Request: POST https://api.openai.com/v1/chat/completions \"HTTP/1.1 200 OK\"\n",
      "INFO:httpx:HTTP Request: POST https://api.openai.com/v1/chat/completions \"HTTP/1.1 200 OK\"\n",
      "INFO:httpx:HTTP Request: POST https://api.openai.com/v1/chat/completions \"HTTP/1.1 200 OK\"\n",
      "INFO:httpx:HTTP Request: POST https://api.openai.com/v1/chat/completions \"HTTP/1.1 200 OK\"\n",
      "INFO:httpx:HTTP Request: POST https://api.openai.com/v1/chat/completions \"HTTP/1.1 200 OK\"\n",
      "INFO:httpx:HTTP Request: POST https://api.openai.com/v1/chat/completions \"HTTP/1.1 200 OK\"\n",
      "INFO:httpx:HTTP Request: POST https://api.openai.com/v1/chat/completions \"HTTP/1.1 200 OK\"\n",
      "INFO:httpx:HTTP Request: POST https://api.openai.com/v1/chat/completions \"HTTP/1.1 200 OK\"\n",
      "INFO:httpx:HTTP Request: POST https://api.openai.com/v1/chat/completions \"HTTP/1.1 200 OK\"\n",
      "INFO:httpx:HTTP Request: POST https://api.openai.com/v1/chat/completions \"HTTP/1.1 200 OK\"\n",
      "INFO:httpx:HTTP Request: POST https://api.openai.com/v1/chat/completions \"HTTP/1.1 200 OK\"\n",
      "INFO:httpx:HTTP Request: POST https://api.openai.com/v1/chat/completions \"HTTP/1.1 200 OK\"\n",
      "INFO:httpx:HTTP Request: POST https://api.openai.com/v1/chat/completions \"HTTP/1.1 200 OK\"\n",
      "INFO:httpx:HTTP Request: POST https://api.openai.com/v1/chat/completions \"HTTP/1.1 200 OK\"\n",
      "INFO:httpx:HTTP Request: POST https://api.openai.com/v1/chat/completions \"HTTP/1.1 200 OK\"\n",
      "INFO:httpx:HTTP Request: POST https://api.openai.com/v1/chat/completions \"HTTP/1.1 200 OK\"\n",
      "INFO:httpx:HTTP Request: POST https://api.openai.com/v1/chat/completions \"HTTP/1.1 200 OK\"\n",
      "INFO:httpx:HTTP Request: POST https://api.openai.com/v1/chat/completions \"HTTP/1.1 200 OK\"\n",
      "INFO:httpx:HTTP Request: POST https://api.openai.com/v1/chat/completions \"HTTP/1.1 200 OK\"\n",
      "INFO:httpx:HTTP Request: POST https://api.openai.com/v1/chat/completions \"HTTP/1.1 200 OK\"\n",
      "INFO:httpx:HTTP Request: POST https://api.openai.com/v1/chat/completions \"HTTP/1.1 200 OK\"\n",
      "INFO:httpx:HTTP Request: POST https://api.openai.com/v1/chat/completions \"HTTP/1.1 200 OK\"\n",
      "INFO:httpx:HTTP Request: POST https://api.openai.com/v1/chat/completions \"HTTP/1.1 200 OK\"\n",
      "INFO:httpx:HTTP Request: POST https://api.openai.com/v1/chat/completions \"HTTP/1.1 200 OK\"\n",
      "INFO:httpx:HTTP Request: POST https://api.openai.com/v1/chat/completions \"HTTP/1.1 200 OK\"\n",
      "INFO:httpx:HTTP Request: POST https://api.openai.com/v1/chat/completions \"HTTP/1.1 200 OK\"\n",
      "INFO:httpx:HTTP Request: POST https://api.openai.com/v1/chat/completions \"HTTP/1.1 200 OK\"\n",
      "INFO:httpx:HTTP Request: POST https://api.openai.com/v1/chat/completions \"HTTP/1.1 200 OK\"\n",
      "INFO:httpx:HTTP Request: POST https://api.openai.com/v1/chat/completions \"HTTP/1.1 200 OK\"\n",
      "INFO:httpx:HTTP Request: POST https://api.openai.com/v1/chat/completions \"HTTP/1.1 200 OK\"\n",
      "INFO:httpx:HTTP Request: POST https://api.openai.com/v1/chat/completions \"HTTP/1.1 200 OK\"\n",
      "INFO:httpx:HTTP Request: POST https://api.openai.com/v1/chat/completions \"HTTP/1.1 200 OK\"\n",
      "INFO:httpx:HTTP Request: POST https://api.openai.com/v1/chat/completions \"HTTP/1.1 200 OK\"\n",
      "INFO:httpx:HTTP Request: POST https://api.openai.com/v1/chat/completions \"HTTP/1.1 200 OK\"\n",
      "INFO:httpx:HTTP Request: POST https://api.openai.com/v1/chat/completions \"HTTP/1.1 200 OK\"\n",
      "INFO:httpx:HTTP Request: POST https://api.openai.com/v1/chat/completions \"HTTP/1.1 200 OK\"\n",
      "INFO:httpx:HTTP Request: POST https://api.openai.com/v1/chat/completions \"HTTP/1.1 200 OK\"\n",
      "INFO:httpx:HTTP Request: POST https://api.openai.com/v1/chat/completions \"HTTP/1.1 200 OK\"\n",
      "INFO:httpx:HTTP Request: POST https://api.openai.com/v1/chat/completions \"HTTP/1.1 200 OK\"\n",
      "INFO:httpx:HTTP Request: POST https://api.openai.com/v1/chat/completions \"HTTP/1.1 200 OK\"\n",
      "INFO:httpx:HTTP Request: POST https://api.openai.com/v1/chat/completions \"HTTP/1.1 200 OK\"\n",
      "INFO:httpx:HTTP Request: POST https://api.openai.com/v1/chat/completions \"HTTP/1.1 200 OK\"\n",
      "INFO:httpx:HTTP Request: POST https://api.openai.com/v1/chat/completions \"HTTP/1.1 200 OK\"\n",
      "INFO:httpx:HTTP Request: POST https://api.openai.com/v1/chat/completions \"HTTP/1.1 200 OK\"\n",
      "INFO:httpx:HTTP Request: POST https://api.openai.com/v1/chat/completions \"HTTP/1.1 200 OK\"\n",
      "INFO:httpx:HTTP Request: POST https://api.openai.com/v1/chat/completions \"HTTP/1.1 200 OK\"\n",
      "INFO:httpx:HTTP Request: POST https://api.openai.com/v1/chat/completions \"HTTP/1.1 200 OK\"\n",
      "INFO:httpx:HTTP Request: POST https://api.openai.com/v1/chat/completions \"HTTP/1.1 200 OK\"\n",
      "INFO:httpx:HTTP Request: POST https://api.openai.com/v1/chat/completions \"HTTP/1.1 200 OK\"\n",
      "INFO:httpx:HTTP Request: POST https://api.openai.com/v1/chat/completions \"HTTP/1.1 200 OK\"\n",
      "INFO:httpx:HTTP Request: POST https://api.openai.com/v1/chat/completions \"HTTP/1.1 200 OK\"\n",
      "INFO:httpx:HTTP Request: POST https://api.openai.com/v1/chat/completions \"HTTP/1.1 200 OK\"\n",
      "INFO:httpx:HTTP Request: POST https://api.openai.com/v1/chat/completions \"HTTP/1.1 200 OK\"\n",
      "INFO:httpx:HTTP Request: POST https://api.openai.com/v1/chat/completions \"HTTP/1.1 200 OK\"\n",
      "INFO:httpx:HTTP Request: POST https://api.openai.com/v1/chat/completions \"HTTP/1.1 200 OK\"\n",
      "INFO:httpx:HTTP Request: POST https://api.openai.com/v1/chat/completions \"HTTP/1.1 200 OK\"\n",
      "ERROR:ragas.executor:Exception raised in Job[43]: TimeoutError()\n",
      "INFO:httpx:HTTP Request: POST https://api.openai.com/v1/chat/completions \"HTTP/1.1 200 OK\"\n",
      "INFO:httpx:HTTP Request: POST https://api.openai.com/v1/chat/completions \"HTTP/1.1 200 OK\"\n",
      "INFO:httpx:HTTP Request: POST https://api.openai.com/v1/chat/completions \"HTTP/1.1 200 OK\"\n",
      "INFO:httpx:HTTP Request: POST https://api.openai.com/v1/chat/completions \"HTTP/1.1 200 OK\"\n",
      "INFO:httpx:HTTP Request: POST https://api.openai.com/v1/chat/completions \"HTTP/1.1 200 OK\"\n",
      "INFO:httpx:HTTP Request: POST https://api.openai.com/v1/chat/completions \"HTTP/1.1 200 OK\"\n",
      "INFO:httpx:HTTP Request: POST https://api.openai.com/v1/chat/completions \"HTTP/1.1 200 OK\"\n",
      "INFO:httpx:HTTP Request: POST https://api.openai.com/v1/chat/completions \"HTTP/1.1 200 OK\"\n",
      "INFO:httpx:HTTP Request: POST https://api.openai.com/v1/chat/completions \"HTTP/1.1 200 OK\"\n",
      "INFO:httpx:HTTP Request: POST https://api.openai.com/v1/chat/completions \"HTTP/1.1 200 OK\"\n",
      "INFO:httpx:HTTP Request: POST https://api.openai.com/v1/chat/completions \"HTTP/1.1 200 OK\"\n",
      "INFO:httpx:HTTP Request: POST https://api.openai.com/v1/chat/completions \"HTTP/1.1 200 OK\"\n",
      "INFO:httpx:HTTP Request: POST https://api.openai.com/v1/chat/completions \"HTTP/1.1 200 OK\"\n",
      "INFO:httpx:HTTP Request: POST https://api.openai.com/v1/chat/completions \"HTTP/1.1 200 OK\"\n",
      "INFO:httpx:HTTP Request: POST https://api.openai.com/v1/chat/completions \"HTTP/1.1 200 OK\"\n",
      "INFO:httpx:HTTP Request: POST https://api.openai.com/v1/chat/completions \"HTTP/1.1 200 OK\"\n",
      "INFO:httpx:HTTP Request: POST https://api.openai.com/v1/chat/completions \"HTTP/1.1 200 OK\"\n",
      "INFO:httpx:HTTP Request: POST https://api.openai.com/v1/chat/completions \"HTTP/1.1 200 OK\"\n",
      "ERROR:ragas.executor:Exception raised in Job[44]: TimeoutError()\n",
      "INFO:httpx:HTTP Request: POST https://api.openai.com/v1/chat/completions \"HTTP/1.1 200 OK\"\n",
      "INFO:httpx:HTTP Request: POST https://api.openai.com/v1/chat/completions \"HTTP/1.1 200 OK\"\n",
      "INFO:httpx:HTTP Request: POST https://api.openai.com/v1/chat/completions \"HTTP/1.1 200 OK\"\n",
      "INFO:httpx:HTTP Request: POST https://api.openai.com/v1/chat/completions \"HTTP/1.1 200 OK\"\n",
      "INFO:httpx:HTTP Request: POST https://api.openai.com/v1/chat/completions \"HTTP/1.1 200 OK\"\n",
      "INFO:httpx:HTTP Request: POST https://api.openai.com/v1/chat/completions \"HTTP/1.1 200 OK\"\n",
      "INFO:httpx:HTTP Request: POST https://api.openai.com/v1/chat/completions \"HTTP/1.1 200 OK\"\n",
      "INFO:httpx:HTTP Request: POST https://api.openai.com/v1/chat/completions \"HTTP/1.1 200 OK\"\n",
      "INFO:httpx:HTTP Request: POST https://api.openai.com/v1/chat/completions \"HTTP/1.1 200 OK\"\n",
      "INFO:httpx:HTTP Request: POST https://api.openai.com/v1/chat/completions \"HTTP/1.1 200 OK\"\n",
      "INFO:httpx:HTTP Request: POST https://api.openai.com/v1/chat/completions \"HTTP/1.1 200 OK\"\n",
      "INFO:httpx:HTTP Request: POST https://api.openai.com/v1/chat/completions \"HTTP/1.1 200 OK\"\n",
      "INFO:httpx:HTTP Request: POST https://api.openai.com/v1/chat/completions \"HTTP/1.1 200 OK\"\n",
      "INFO:httpx:HTTP Request: POST https://api.openai.com/v1/chat/completions \"HTTP/1.1 200 OK\"\n",
      "INFO:httpx:HTTP Request: POST https://api.openai.com/v1/chat/completions \"HTTP/1.1 200 OK\"\n",
      "INFO:httpx:HTTP Request: POST https://api.openai.com/v1/chat/completions \"HTTP/1.1 200 OK\"\n",
      "INFO:httpx:HTTP Request: POST https://api.openai.com/v1/chat/completions \"HTTP/1.1 200 OK\"\n",
      "INFO:httpx:HTTP Request: POST https://api.openai.com/v1/chat/completions \"HTTP/1.1 200 OK\"\n",
      "INFO:httpx:HTTP Request: POST https://api.openai.com/v1/chat/completions \"HTTP/1.1 200 OK\"\n",
      "INFO:httpx:HTTP Request: POST https://api.openai.com/v1/chat/completions \"HTTP/1.1 200 OK\"\n",
      "INFO:httpx:HTTP Request: POST https://api.openai.com/v1/chat/completions \"HTTP/1.1 200 OK\"\n",
      "INFO:httpx:HTTP Request: POST https://api.openai.com/v1/chat/completions \"HTTP/1.1 200 OK\"\n",
      "INFO:httpx:HTTP Request: POST https://api.openai.com/v1/chat/completions \"HTTP/1.1 200 OK\"\n",
      "INFO:httpx:HTTP Request: POST https://api.openai.com/v1/chat/completions \"HTTP/1.1 200 OK\"\n",
      "INFO:httpx:HTTP Request: POST https://api.openai.com/v1/chat/completions \"HTTP/1.1 200 OK\"\n",
      "INFO:httpx:HTTP Request: POST https://api.openai.com/v1/chat/completions \"HTTP/1.1 200 OK\"\n",
      "INFO:httpx:HTTP Request: POST https://api.openai.com/v1/chat/completions \"HTTP/1.1 200 OK\"\n",
      "INFO:httpx:HTTP Request: POST https://api.openai.com/v1/chat/completions \"HTTP/1.1 200 OK\"\n",
      "INFO:httpx:HTTP Request: POST https://api.openai.com/v1/chat/completions \"HTTP/1.1 200 OK\"\n",
      "INFO:httpx:HTTP Request: POST https://api.openai.com/v1/chat/completions \"HTTP/1.1 200 OK\"\n",
      "INFO:httpx:HTTP Request: POST https://api.openai.com/v1/chat/completions \"HTTP/1.1 200 OK\"\n",
      "INFO:httpx:HTTP Request: POST https://api.openai.com/v1/chat/completions \"HTTP/1.1 200 OK\"\n",
      "INFO:httpx:HTTP Request: POST https://api.openai.com/v1/chat/completions \"HTTP/1.1 200 OK\"\n",
      "INFO:httpx:HTTP Request: POST https://api.openai.com/v1/chat/completions \"HTTP/1.1 200 OK\"\n",
      "INFO:httpx:HTTP Request: POST https://api.openai.com/v1/chat/completions \"HTTP/1.1 200 OK\"\n",
      "INFO:httpx:HTTP Request: POST https://api.openai.com/v1/chat/completions \"HTTP/1.1 200 OK\"\n",
      "INFO:httpx:HTTP Request: POST https://api.openai.com/v1/chat/completions \"HTTP/1.1 200 OK\"\n",
      "INFO:httpx:HTTP Request: POST https://api.openai.com/v1/chat/completions \"HTTP/1.1 200 OK\"\n",
      "INFO:httpx:HTTP Request: POST https://api.openai.com/v1/chat/completions \"HTTP/1.1 200 OK\"\n",
      "INFO:httpx:HTTP Request: POST https://api.openai.com/v1/chat/completions \"HTTP/1.1 200 OK\"\n",
      "INFO:httpx:HTTP Request: POST https://api.openai.com/v1/chat/completions \"HTTP/1.1 200 OK\"\n",
      "INFO:httpx:HTTP Request: POST https://api.openai.com/v1/chat/completions \"HTTP/1.1 200 OK\"\n",
      "INFO:httpx:HTTP Request: POST https://api.openai.com/v1/chat/completions \"HTTP/1.1 200 OK\"\n",
      "INFO:httpx:HTTP Request: POST https://api.openai.com/v1/chat/completions \"HTTP/1.1 200 OK\"\n",
      "INFO:httpx:HTTP Request: POST https://api.openai.com/v1/chat/completions \"HTTP/1.1 200 OK\"\n",
      "INFO:httpx:HTTP Request: POST https://api.openai.com/v1/chat/completions \"HTTP/1.1 200 OK\"\n",
      "INFO:httpx:HTTP Request: POST https://api.openai.com/v1/chat/completions \"HTTP/1.1 200 OK\"\n",
      "INFO:httpx:HTTP Request: POST https://api.openai.com/v1/chat/completions \"HTTP/1.1 200 OK\"\n",
      "INFO:httpx:HTTP Request: POST https://api.openai.com/v1/chat/completions \"HTTP/1.1 200 OK\"\n",
      "INFO:httpx:HTTP Request: POST https://api.openai.com/v1/chat/completions \"HTTP/1.1 200 OK\"\n",
      "INFO:httpx:HTTP Request: POST https://api.openai.com/v1/chat/completions \"HTTP/1.1 200 OK\"\n",
      "INFO:httpx:HTTP Request: POST https://api.openai.com/v1/chat/completions \"HTTP/1.1 200 OK\"\n",
      "INFO:httpx:HTTP Request: POST https://api.openai.com/v1/chat/completions \"HTTP/1.1 200 OK\"\n",
      "INFO:httpx:HTTP Request: POST https://api.openai.com/v1/chat/completions \"HTTP/1.1 200 OK\"\n",
      "INFO:httpx:HTTP Request: POST https://api.openai.com/v1/chat/completions \"HTTP/1.1 200 OK\"\n",
      "INFO:httpx:HTTP Request: POST https://api.openai.com/v1/chat/completions \"HTTP/1.1 200 OK\"\n",
      "INFO:httpx:HTTP Request: POST https://api.openai.com/v1/chat/completions \"HTTP/1.1 200 OK\"\n",
      "INFO:httpx:HTTP Request: POST https://api.openai.com/v1/chat/completions \"HTTP/1.1 200 OK\"\n",
      "INFO:httpx:HTTP Request: POST https://api.openai.com/v1/chat/completions \"HTTP/1.1 200 OK\"\n",
      "INFO:httpx:HTTP Request: POST https://api.openai.com/v1/chat/completions \"HTTP/1.1 200 OK\"\n",
      "INFO:httpx:HTTP Request: POST https://api.openai.com/v1/chat/completions \"HTTP/1.1 200 OK\"\n",
      "ERROR:ragas.executor:Exception raised in Job[58]: TimeoutError()\n",
      "INFO:httpx:HTTP Request: POST https://api.openai.com/v1/chat/completions \"HTTP/1.1 200 OK\"\n",
      "INFO:httpx:HTTP Request: POST https://api.openai.com/v1/chat/completions \"HTTP/1.1 200 OK\"\n",
      "INFO:httpx:HTTP Request: POST https://api.openai.com/v1/chat/completions \"HTTP/1.1 200 OK\"\n",
      "INFO:httpx:HTTP Request: POST https://api.openai.com/v1/chat/completions \"HTTP/1.1 200 OK\"\n",
      "INFO:httpx:HTTP Request: POST https://api.openai.com/v1/chat/completions \"HTTP/1.1 200 OK\"\n",
      "INFO:httpx:HTTP Request: POST https://api.openai.com/v1/chat/completions \"HTTP/1.1 200 OK\"\n",
      "INFO:httpx:HTTP Request: POST https://api.openai.com/v1/chat/completions \"HTTP/1.1 200 OK\"\n",
      "INFO:httpx:HTTP Request: POST https://api.openai.com/v1/chat/completions \"HTTP/1.1 200 OK\"\n",
      "INFO:httpx:HTTP Request: POST https://api.openai.com/v1/chat/completions \"HTTP/1.1 200 OK\"\n",
      "INFO:httpx:HTTP Request: POST https://api.openai.com/v1/chat/completions \"HTTP/1.1 200 OK\"\n",
      "INFO:httpx:HTTP Request: POST https://api.openai.com/v1/chat/completions \"HTTP/1.1 200 OK\"\n",
      "INFO:httpx:HTTP Request: POST https://api.openai.com/v1/chat/completions \"HTTP/1.1 200 OK\"\n",
      "INFO:httpx:HTTP Request: POST https://api.openai.com/v1/chat/completions \"HTTP/1.1 200 OK\"\n",
      "INFO:httpx:HTTP Request: POST https://api.openai.com/v1/chat/completions \"HTTP/1.1 200 OK\"\n",
      "INFO:httpx:HTTP Request: POST https://api.openai.com/v1/chat/completions \"HTTP/1.1 200 OK\"\n",
      "INFO:httpx:HTTP Request: POST https://api.openai.com/v1/chat/completions \"HTTP/1.1 200 OK\"\n",
      "INFO:httpx:HTTP Request: POST https://api.openai.com/v1/chat/completions \"HTTP/1.1 200 OK\"\n",
      "INFO:httpx:HTTP Request: POST https://api.openai.com/v1/chat/completions \"HTTP/1.1 200 OK\"\n",
      "INFO:httpx:HTTP Request: POST https://api.openai.com/v1/chat/completions \"HTTP/1.1 200 OK\"\n",
      "INFO:httpx:HTTP Request: POST https://api.openai.com/v1/chat/completions \"HTTP/1.1 200 OK\"\n",
      "INFO:httpx:HTTP Request: POST https://api.openai.com/v1/chat/completions \"HTTP/1.1 200 OK\"\n",
      "INFO:httpx:HTTP Request: POST https://api.openai.com/v1/chat/completions \"HTTP/1.1 200 OK\"\n",
      "INFO:httpx:HTTP Request: POST https://api.openai.com/v1/chat/completions \"HTTP/1.1 200 OK\"\n",
      "INFO:httpx:HTTP Request: POST https://api.openai.com/v1/chat/completions \"HTTP/1.1 200 OK\"\n",
      "INFO:httpx:HTTP Request: POST https://api.openai.com/v1/chat/completions \"HTTP/1.1 200 OK\"\n",
      "INFO:httpx:HTTP Request: POST https://api.openai.com/v1/chat/completions \"HTTP/1.1 200 OK\"\n",
      "INFO:httpx:HTTP Request: POST https://api.openai.com/v1/chat/completions \"HTTP/1.1 200 OK\"\n",
      "INFO:httpx:HTTP Request: POST https://api.openai.com/v1/chat/completions \"HTTP/1.1 200 OK\"\n",
      "INFO:httpx:HTTP Request: POST https://api.openai.com/v1/chat/completions \"HTTP/1.1 200 OK\"\n",
      "INFO:httpx:HTTP Request: POST https://api.openai.com/v1/chat/completions \"HTTP/1.1 200 OK\"\n",
      "INFO:httpx:HTTP Request: POST https://api.openai.com/v1/chat/completions \"HTTP/1.1 200 OK\"\n",
      "INFO:httpx:HTTP Request: POST https://api.openai.com/v1/chat/completions \"HTTP/1.1 200 OK\"\n",
      "INFO:httpx:HTTP Request: POST https://api.openai.com/v1/chat/completions \"HTTP/1.1 200 OK\"\n",
      "INFO:httpx:HTTP Request: POST https://api.openai.com/v1/chat/completions \"HTTP/1.1 200 OK\"\n",
      "INFO:httpx:HTTP Request: POST https://api.openai.com/v1/chat/completions \"HTTP/1.1 200 OK\"\n",
      "ERROR:ragas.executor:Exception raised in Job[73]: TimeoutError()\n",
      "INFO:httpx:HTTP Request: POST https://api.openai.com/v1/chat/completions \"HTTP/1.1 200 OK\"\n",
      "INFO:httpx:HTTP Request: POST https://api.openai.com/v1/chat/completions \"HTTP/1.1 200 OK\"\n",
      "INFO:httpx:HTTP Request: POST https://api.openai.com/v1/chat/completions \"HTTP/1.1 200 OK\"\n",
      "INFO:httpx:HTTP Request: POST https://api.openai.com/v1/chat/completions \"HTTP/1.1 200 OK\"\n",
      "INFO:httpx:HTTP Request: POST https://api.openai.com/v1/chat/completions \"HTTP/1.1 200 OK\"\n",
      "INFO:httpx:HTTP Request: POST https://api.openai.com/v1/chat/completions \"HTTP/1.1 200 OK\"\n",
      "INFO:httpx:HTTP Request: POST https://api.openai.com/v1/chat/completions \"HTTP/1.1 200 OK\"\n",
      "INFO:httpx:HTTP Request: POST https://api.openai.com/v1/chat/completions \"HTTP/1.1 200 OK\"\n",
      "INFO:httpx:HTTP Request: POST https://api.openai.com/v1/chat/completions \"HTTP/1.1 200 OK\"\n",
      "INFO:httpx:HTTP Request: POST https://api.openai.com/v1/chat/completions \"HTTP/1.1 200 OK\"\n",
      "INFO:httpx:HTTP Request: POST https://api.openai.com/v1/chat/completions \"HTTP/1.1 200 OK\"\n",
      "INFO:httpx:HTTP Request: POST https://api.openai.com/v1/chat/completions \"HTTP/1.1 200 OK\"\n",
      "INFO:httpx:HTTP Request: POST https://api.openai.com/v1/chat/completions \"HTTP/1.1 200 OK\"\n",
      "INFO:httpx:HTTP Request: POST https://api.openai.com/v1/chat/completions \"HTTP/1.1 200 OK\"\n",
      "INFO:httpx:HTTP Request: POST https://api.openai.com/v1/chat/completions \"HTTP/1.1 200 OK\"\n",
      "INFO:httpx:HTTP Request: POST https://api.openai.com/v1/chat/completions \"HTTP/1.1 200 OK\"\n",
      "INFO:httpx:HTTP Request: POST https://api.openai.com/v1/chat/completions \"HTTP/1.1 200 OK\"\n",
      "INFO:httpx:HTTP Request: POST https://api.openai.com/v1/chat/completions \"HTTP/1.1 200 OK\"\n",
      "INFO:httpx:HTTP Request: POST https://api.openai.com/v1/chat/completions \"HTTP/1.1 200 OK\"\n",
      "INFO:httpx:HTTP Request: POST https://api.openai.com/v1/chat/completions \"HTTP/1.1 200 OK\"\n",
      "INFO:httpx:HTTP Request: POST https://api.openai.com/v1/chat/completions \"HTTP/1.1 200 OK\"\n",
      "INFO:httpx:HTTP Request: POST https://api.openai.com/v1/chat/completions \"HTTP/1.1 200 OK\"\n",
      "INFO:httpx:HTTP Request: POST https://api.openai.com/v1/chat/completions \"HTTP/1.1 200 OK\"\n",
      "INFO:httpx:HTTP Request: POST https://api.openai.com/v1/chat/completions \"HTTP/1.1 200 OK\"\n",
      "INFO:httpx:HTTP Request: POST https://api.openai.com/v1/chat/completions \"HTTP/1.1 200 OK\"\n",
      "INFO:httpx:HTTP Request: POST https://api.openai.com/v1/chat/completions \"HTTP/1.1 200 OK\"\n",
      "INFO:httpx:HTTP Request: POST https://api.openai.com/v1/chat/completions \"HTTP/1.1 200 OK\"\n",
      "INFO:httpx:HTTP Request: POST https://api.openai.com/v1/chat/completions \"HTTP/1.1 200 OK\"\n",
      "INFO:httpx:HTTP Request: POST https://api.openai.com/v1/chat/completions \"HTTP/1.1 200 OK\"\n",
      "INFO:httpx:HTTP Request: POST https://api.openai.com/v1/chat/completions \"HTTP/1.1 200 OK\"\n",
      "INFO:httpx:HTTP Request: POST https://api.openai.com/v1/chat/completions \"HTTP/1.1 200 OK\"\n",
      "INFO:httpx:HTTP Request: POST https://api.openai.com/v1/chat/completions \"HTTP/1.1 200 OK\"\n",
      "INFO:httpx:HTTP Request: POST https://api.openai.com/v1/chat/completions \"HTTP/1.1 200 OK\"\n",
      "INFO:httpx:HTTP Request: POST https://api.openai.com/v1/chat/completions \"HTTP/1.1 200 OK\"\n",
      "INFO:httpx:HTTP Request: POST https://api.openai.com/v1/chat/completions \"HTTP/1.1 200 OK\"\n",
      "INFO:httpx:HTTP Request: POST https://api.openai.com/v1/chat/completions \"HTTP/1.1 200 OK\"\n",
      "INFO:httpx:HTTP Request: POST https://api.openai.com/v1/chat/completions \"HTTP/1.1 200 OK\"\n",
      "INFO:httpx:HTTP Request: POST https://api.openai.com/v1/chat/completions \"HTTP/1.1 200 OK\"\n",
      "INFO:httpx:HTTP Request: POST https://api.openai.com/v1/chat/completions \"HTTP/1.1 200 OK\"\n",
      "INFO:httpx:HTTP Request: POST https://api.openai.com/v1/chat/completions \"HTTP/1.1 200 OK\"\n",
      "INFO:httpx:HTTP Request: POST https://api.openai.com/v1/chat/completions \"HTTP/1.1 200 OK\"\n",
      "INFO:httpx:HTTP Request: POST https://api.openai.com/v1/chat/completions \"HTTP/1.1 200 OK\"\n",
      "INFO:httpx:HTTP Request: POST https://api.openai.com/v1/chat/completions \"HTTP/1.1 200 OK\"\n",
      "INFO:httpx:HTTP Request: POST https://api.openai.com/v1/chat/completions \"HTTP/1.1 200 OK\"\n",
      "INFO:httpx:HTTP Request: POST https://api.openai.com/v1/chat/completions \"HTTP/1.1 200 OK\"\n",
      "INFO:httpx:HTTP Request: POST https://api.openai.com/v1/chat/completions \"HTTP/1.1 200 OK\"\n",
      "INFO:httpx:HTTP Request: POST https://api.openai.com/v1/chat/completions \"HTTP/1.1 200 OK\"\n",
      "INFO:httpx:HTTP Request: POST https://api.openai.com/v1/chat/completions \"HTTP/1.1 200 OK\"\n",
      "INFO:httpx:HTTP Request: POST https://api.openai.com/v1/chat/completions \"HTTP/1.1 200 OK\"\n",
      "INFO:httpx:HTTP Request: POST https://api.openai.com/v1/chat/completions \"HTTP/1.1 200 OK\"\n",
      "INFO:httpx:HTTP Request: POST https://api.openai.com/v1/chat/completions \"HTTP/1.1 200 OK\"\n",
      "INFO:httpx:HTTP Request: POST https://api.openai.com/v1/chat/completions \"HTTP/1.1 200 OK\"\n",
      "INFO:httpx:HTTP Request: POST https://api.openai.com/v1/chat/completions \"HTTP/1.1 200 OK\"\n",
      "INFO:httpx:HTTP Request: POST https://api.openai.com/v1/chat/completions \"HTTP/1.1 200 OK\"\n",
      "INFO:httpx:HTTP Request: POST https://api.openai.com/v1/chat/completions \"HTTP/1.1 200 OK\"\n",
      "INFO:httpx:HTTP Request: POST https://api.openai.com/v1/chat/completions \"HTTP/1.1 200 OK\"\n",
      "INFO:httpx:HTTP Request: POST https://api.openai.com/v1/chat/completions \"HTTP/1.1 200 OK\"\n",
      "INFO:httpx:HTTP Request: POST https://api.openai.com/v1/chat/completions \"HTTP/1.1 200 OK\"\n",
      "INFO:httpx:HTTP Request: POST https://api.openai.com/v1/chat/completions \"HTTP/1.1 200 OK\"\n",
      "INFO:httpx:HTTP Request: POST https://api.openai.com/v1/chat/completions \"HTTP/1.1 200 OK\"\n",
      "INFO:httpx:HTTP Request: POST https://api.openai.com/v1/chat/completions \"HTTP/1.1 200 OK\"\n",
      "INFO:httpx:HTTP Request: POST https://api.openai.com/v1/chat/completions \"HTTP/1.1 200 OK\"\n",
      "INFO:httpx:HTTP Request: POST https://api.openai.com/v1/chat/completions \"HTTP/1.1 200 OK\"\n",
      "INFO:httpx:HTTP Request: POST https://api.openai.com/v1/chat/completions \"HTTP/1.1 200 OK\"\n",
      "INFO:httpx:HTTP Request: POST https://api.openai.com/v1/chat/completions \"HTTP/1.1 200 OK\"\n",
      "INFO:httpx:HTTP Request: POST https://api.openai.com/v1/chat/completions \"HTTP/1.1 200 OK\"\n",
      "INFO:httpx:HTTP Request: POST https://api.openai.com/v1/chat/completions \"HTTP/1.1 200 OK\"\n",
      "INFO:httpx:HTTP Request: POST https://api.openai.com/v1/chat/completions \"HTTP/1.1 200 OK\"\n",
      "INFO:httpx:HTTP Request: POST https://api.openai.com/v1/chat/completions \"HTTP/1.1 200 OK\"\n",
      "INFO:httpx:HTTP Request: POST https://api.openai.com/v1/chat/completions \"HTTP/1.1 200 OK\"\n",
      "ERROR:ragas.executor:Exception raised in Job[92]: TimeoutError()\n",
      "INFO:httpx:HTTP Request: POST https://api.openai.com/v1/chat/completions \"HTTP/1.1 200 OK\"\n",
      "INFO:httpx:HTTP Request: POST https://api.openai.com/v1/chat/completions \"HTTP/1.1 200 OK\"\n",
      "INFO:httpx:HTTP Request: POST https://api.openai.com/v1/chat/completions \"HTTP/1.1 200 OK\"\n",
      "INFO:httpx:HTTP Request: POST https://api.openai.com/v1/chat/completions \"HTTP/1.1 200 OK\"\n",
      "INFO:httpx:HTTP Request: POST https://api.openai.com/v1/chat/completions \"HTTP/1.1 200 OK\"\n",
      "INFO:httpx:HTTP Request: POST https://api.openai.com/v1/chat/completions \"HTTP/1.1 200 OK\"\n",
      "INFO:httpx:HTTP Request: POST https://api.openai.com/v1/chat/completions \"HTTP/1.1 200 OK\"\n",
      "INFO:httpx:HTTP Request: POST https://api.openai.com/v1/chat/completions \"HTTP/1.1 200 OK\"\n",
      "INFO:httpx:HTTP Request: POST https://api.openai.com/v1/chat/completions \"HTTP/1.1 200 OK\"\n",
      "INFO:httpx:HTTP Request: POST https://api.openai.com/v1/chat/completions \"HTTP/1.1 200 OK\"\n",
      "INFO:httpx:HTTP Request: POST https://api.openai.com/v1/chat/completions \"HTTP/1.1 200 OK\"\n",
      "INFO:httpx:HTTP Request: POST https://api.openai.com/v1/chat/completions \"HTTP/1.1 200 OK\"\n",
      "INFO:httpx:HTTP Request: POST https://api.openai.com/v1/chat/completions \"HTTP/1.1 200 OK\"\n",
      "INFO:httpx:HTTP Request: POST https://api.openai.com/v1/chat/completions \"HTTP/1.1 200 OK\"\n",
      "INFO:httpx:HTTP Request: POST https://api.openai.com/v1/chat/completions \"HTTP/1.1 200 OK\"\n",
      "INFO:httpx:HTTP Request: POST https://api.openai.com/v1/chat/completions \"HTTP/1.1 200 OK\"\n",
      "INFO:httpx:HTTP Request: POST https://api.openai.com/v1/chat/completions \"HTTP/1.1 200 OK\"\n",
      "INFO:httpx:HTTP Request: POST https://api.openai.com/v1/chat/completions \"HTTP/1.1 200 OK\"\n",
      "INFO:httpx:HTTP Request: POST https://api.openai.com/v1/chat/completions \"HTTP/1.1 200 OK\"\n",
      "INFO:httpx:HTTP Request: POST https://api.openai.com/v1/chat/completions \"HTTP/1.1 200 OK\"\n",
      "INFO:httpx:HTTP Request: POST https://api.openai.com/v1/chat/completions \"HTTP/1.1 200 OK\"\n",
      "INFO:httpx:HTTP Request: POST https://api.openai.com/v1/chat/completions \"HTTP/1.1 200 OK\"\n",
      "INFO:httpx:HTTP Request: POST https://api.openai.com/v1/chat/completions \"HTTP/1.1 200 OK\"\n",
      "INFO:httpx:HTTP Request: POST https://api.openai.com/v1/chat/completions \"HTTP/1.1 200 OK\"\n",
      "INFO:httpx:HTTP Request: POST https://api.openai.com/v1/chat/completions \"HTTP/1.1 200 OK\"\n",
      "INFO:httpx:HTTP Request: POST https://api.openai.com/v1/chat/completions \"HTTP/1.1 200 OK\"\n",
      "INFO:httpx:HTTP Request: POST https://api.openai.com/v1/chat/completions \"HTTP/1.1 200 OK\"\n",
      "INFO:httpx:HTTP Request: POST https://api.openai.com/v1/chat/completions \"HTTP/1.1 200 OK\"\n",
      "INFO:httpx:HTTP Request: POST https://api.openai.com/v1/chat/completions \"HTTP/1.1 200 OK\"\n",
      "INFO:httpx:HTTP Request: POST https://api.openai.com/v1/chat/completions \"HTTP/1.1 200 OK\"\n",
      "INFO:httpx:HTTP Request: POST https://api.openai.com/v1/chat/completions \"HTTP/1.1 200 OK\"\n",
      "INFO:httpx:HTTP Request: POST https://api.openai.com/v1/chat/completions \"HTTP/1.1 200 OK\"\n",
      "INFO:httpx:HTTP Request: POST https://api.openai.com/v1/chat/completions \"HTTP/1.1 200 OK\"\n",
      "INFO:httpx:HTTP Request: POST https://api.openai.com/v1/chat/completions \"HTTP/1.1 200 OK\"\n",
      "INFO:httpx:HTTP Request: POST https://api.openai.com/v1/chat/completions \"HTTP/1.1 200 OK\"\n",
      "INFO:httpx:HTTP Request: POST https://api.openai.com/v1/chat/completions \"HTTP/1.1 200 OK\"\n",
      "INFO:httpx:HTTP Request: POST https://api.openai.com/v1/chat/completions \"HTTP/1.1 200 OK\"\n",
      "INFO:httpx:HTTP Request: POST https://api.openai.com/v1/chat/completions \"HTTP/1.1 200 OK\"\n",
      "INFO:httpx:HTTP Request: POST https://api.openai.com/v1/chat/completions \"HTTP/1.1 200 OK\"\n",
      "INFO:httpx:HTTP Request: POST https://api.openai.com/v1/chat/completions \"HTTP/1.1 200 OK\"\n",
      "INFO:httpx:HTTP Request: POST https://api.openai.com/v1/chat/completions \"HTTP/1.1 200 OK\"\n",
      "INFO:httpx:HTTP Request: POST https://api.openai.com/v1/chat/completions \"HTTP/1.1 200 OK\"\n",
      "INFO:httpx:HTTP Request: POST https://api.openai.com/v1/chat/completions \"HTTP/1.1 200 OK\"\n",
      "INFO:httpx:HTTP Request: POST https://api.openai.com/v1/chat/completions \"HTTP/1.1 200 OK\"\n",
      "INFO:httpx:HTTP Request: POST https://api.openai.com/v1/chat/completions \"HTTP/1.1 200 OK\"\n",
      "INFO:httpx:HTTP Request: POST https://api.openai.com/v1/chat/completions \"HTTP/1.1 200 OK\"\n",
      "INFO:httpx:HTTP Request: POST https://api.openai.com/v1/chat/completions \"HTTP/1.1 200 OK\"\n",
      "INFO:httpx:HTTP Request: POST https://api.openai.com/v1/chat/completions \"HTTP/1.1 200 OK\"\n",
      "INFO:httpx:HTTP Request: POST https://api.openai.com/v1/chat/completions \"HTTP/1.1 200 OK\"\n",
      "INFO:httpx:HTTP Request: POST https://api.openai.com/v1/chat/completions \"HTTP/1.1 200 OK\"\n",
      "INFO:httpx:HTTP Request: POST https://api.openai.com/v1/chat/completions \"HTTP/1.1 200 OK\"\n",
      "INFO:httpx:HTTP Request: POST https://api.openai.com/v1/chat/completions \"HTTP/1.1 200 OK\"\n",
      "INFO:httpx:HTTP Request: POST https://api.openai.com/v1/chat/completions \"HTTP/1.1 200 OK\"\n",
      "INFO:httpx:HTTP Request: POST https://api.openai.com/v1/chat/completions \"HTTP/1.1 200 OK\"\n",
      "INFO:httpx:HTTP Request: POST https://api.openai.com/v1/chat/completions \"HTTP/1.1 200 OK\"\n",
      "INFO:httpx:HTTP Request: POST https://api.openai.com/v1/chat/completions \"HTTP/1.1 200 OK\"\n",
      "INFO:httpx:HTTP Request: POST https://api.openai.com/v1/chat/completions \"HTTP/1.1 200 OK\"\n",
      "INFO:httpx:HTTP Request: POST https://api.openai.com/v1/chat/completions \"HTTP/1.1 200 OK\"\n",
      "INFO:httpx:HTTP Request: POST https://api.openai.com/v1/chat/completions \"HTTP/1.1 200 OK\"\n",
      "INFO:httpx:HTTP Request: POST https://api.openai.com/v1/chat/completions \"HTTP/1.1 200 OK\"\n",
      "INFO:httpx:HTTP Request: POST https://api.openai.com/v1/chat/completions \"HTTP/1.1 200 OK\"\n",
      "INFO:httpx:HTTP Request: POST https://api.openai.com/v1/chat/completions \"HTTP/1.1 200 OK\"\n",
      "INFO:httpx:HTTP Request: POST https://api.openai.com/v1/chat/completions \"HTTP/1.1 200 OK\"\n",
      "INFO:httpx:HTTP Request: POST https://api.openai.com/v1/chat/completions \"HTTP/1.1 200 OK\"\n",
      "INFO:httpx:HTTP Request: POST https://api.openai.com/v1/chat/completions \"HTTP/1.1 200 OK\"\n",
      "INFO:httpx:HTTP Request: POST https://api.openai.com/v1/chat/completions \"HTTP/1.1 200 OK\"\n",
      "INFO:httpx:HTTP Request: POST https://api.openai.com/v1/chat/completions \"HTTP/1.1 200 OK\"\n",
      "INFO:httpx:HTTP Request: POST https://api.openai.com/v1/chat/completions \"HTTP/1.1 200 OK\"\n",
      "INFO:httpx:HTTP Request: POST https://api.openai.com/v1/chat/completions \"HTTP/1.1 200 OK\"\n",
      "INFO:httpx:HTTP Request: POST https://api.openai.com/v1/chat/completions \"HTTP/1.1 200 OK\"\n",
      "INFO:httpx:HTTP Request: POST https://api.openai.com/v1/chat/completions \"HTTP/1.1 200 OK\"\n",
      "INFO:httpx:HTTP Request: POST https://api.openai.com/v1/chat/completions \"HTTP/1.1 200 OK\"\n",
      "INFO:httpx:HTTP Request: POST https://api.openai.com/v1/chat/completions \"HTTP/1.1 200 OK\"\n",
      "INFO:httpx:HTTP Request: POST https://api.openai.com/v1/chat/completions \"HTTP/1.1 200 OK\"\n",
      "INFO:httpx:HTTP Request: POST https://api.openai.com/v1/chat/completions \"HTTP/1.1 200 OK\"\n",
      "INFO:httpx:HTTP Request: POST https://api.openai.com/v1/chat/completions \"HTTP/1.1 200 OK\"\n",
      "INFO:httpx:HTTP Request: POST https://api.openai.com/v1/chat/completions \"HTTP/1.1 200 OK\"\n",
      "INFO:httpx:HTTP Request: POST https://api.openai.com/v1/chat/completions \"HTTP/1.1 200 OK\"\n",
      "INFO:httpx:HTTP Request: POST https://api.openai.com/v1/chat/completions \"HTTP/1.1 200 OK\"\n",
      "INFO:httpx:HTTP Request: POST https://api.openai.com/v1/chat/completions \"HTTP/1.1 200 OK\"\n",
      "INFO:httpx:HTTP Request: POST https://api.openai.com/v1/chat/completions \"HTTP/1.1 200 OK\"\n",
      "INFO:httpx:HTTP Request: POST https://api.openai.com/v1/chat/completions \"HTTP/1.1 200 OK\"\n",
      "INFO:httpx:HTTP Request: POST https://api.openai.com/v1/chat/completions \"HTTP/1.1 200 OK\"\n",
      "INFO:httpx:HTTP Request: POST https://api.openai.com/v1/chat/completions \"HTTP/1.1 200 OK\"\n",
      "INFO:httpx:HTTP Request: POST https://api.openai.com/v1/chat/completions \"HTTP/1.1 200 OK\"\n",
      "INFO:httpx:HTTP Request: POST https://api.openai.com/v1/chat/completions \"HTTP/1.1 200 OK\"\n",
      "INFO:httpx:HTTP Request: POST https://api.openai.com/v1/chat/completions \"HTTP/1.1 200 OK\"\n",
      "INFO:httpx:HTTP Request: POST https://api.openai.com/v1/chat/completions \"HTTP/1.1 200 OK\"\n",
      "INFO:httpx:HTTP Request: POST https://api.openai.com/v1/chat/completions \"HTTP/1.1 200 OK\"\n",
      "INFO:httpx:HTTP Request: POST https://api.openai.com/v1/chat/completions \"HTTP/1.1 200 OK\"\n",
      "INFO:httpx:HTTP Request: POST https://api.openai.com/v1/chat/completions \"HTTP/1.1 200 OK\"\n",
      "INFO:httpx:HTTP Request: POST https://api.openai.com/v1/chat/completions \"HTTP/1.1 200 OK\"\n",
      "INFO:httpx:HTTP Request: POST https://api.openai.com/v1/chat/completions \"HTTP/1.1 200 OK\"\n",
      "INFO:httpx:HTTP Request: POST https://api.openai.com/v1/chat/completions \"HTTP/1.1 200 OK\"\n",
      "INFO:httpx:HTTP Request: POST https://api.openai.com/v1/chat/completions \"HTTP/1.1 200 OK\"\n",
      "INFO:httpx:HTTP Request: POST https://api.openai.com/v1/chat/completions \"HTTP/1.1 200 OK\"\n",
      "INFO:httpx:HTTP Request: POST https://api.openai.com/v1/chat/completions \"HTTP/1.1 200 OK\"\n",
      "INFO:httpx:HTTP Request: POST https://api.openai.com/v1/chat/completions \"HTTP/1.1 200 OK\"\n",
      "INFO:httpx:HTTP Request: POST https://api.openai.com/v1/chat/completions \"HTTP/1.1 200 OK\"\n",
      "INFO:httpx:HTTP Request: POST https://api.openai.com/v1/chat/completions \"HTTP/1.1 200 OK\"\n",
      "INFO:httpx:HTTP Request: POST https://api.openai.com/v1/chat/completions \"HTTP/1.1 200 OK\"\n",
      "INFO:httpx:HTTP Request: POST https://api.openai.com/v1/chat/completions \"HTTP/1.1 200 OK\"\n",
      "INFO:httpx:HTTP Request: POST https://api.openai.com/v1/chat/completions \"HTTP/1.1 200 OK\"\n",
      "INFO:httpx:HTTP Request: POST https://api.openai.com/v1/chat/completions \"HTTP/1.1 200 OK\"\n",
      "INFO:httpx:HTTP Request: POST https://api.openai.com/v1/chat/completions \"HTTP/1.1 200 OK\"\n",
      "INFO:httpx:HTTP Request: POST https://api.openai.com/v1/chat/completions \"HTTP/1.1 200 OK\"\n",
      "INFO:httpx:HTTP Request: POST https://api.openai.com/v1/chat/completions \"HTTP/1.1 200 OK\"\n",
      "INFO:httpx:HTTP Request: POST https://api.openai.com/v1/chat/completions \"HTTP/1.1 200 OK\"\n",
      "INFO:httpx:HTTP Request: POST https://api.openai.com/v1/chat/completions \"HTTP/1.1 200 OK\"\n",
      "INFO:httpx:HTTP Request: POST https://api.openai.com/v1/chat/completions \"HTTP/1.1 200 OK\"\n",
      "INFO:httpx:HTTP Request: POST https://api.openai.com/v1/chat/completions \"HTTP/1.1 200 OK\"\n",
      "INFO:httpx:HTTP Request: POST https://api.openai.com/v1/chat/completions \"HTTP/1.1 200 OK\"\n",
      "INFO:httpx:HTTP Request: POST https://api.openai.com/v1/chat/completions \"HTTP/1.1 200 OK\"\n",
      "INFO:httpx:HTTP Request: POST https://api.openai.com/v1/chat/completions \"HTTP/1.1 200 OK\"\n",
      "INFO:httpx:HTTP Request: POST https://api.openai.com/v1/chat/completions \"HTTP/1.1 200 OK\"\n",
      "INFO:httpx:HTTP Request: POST https://api.openai.com/v1/chat/completions \"HTTP/1.1 200 OK\"\n",
      "INFO:httpx:HTTP Request: POST https://api.openai.com/v1/chat/completions \"HTTP/1.1 200 OK\"\n",
      "INFO:httpx:HTTP Request: POST https://api.openai.com/v1/chat/completions \"HTTP/1.1 200 OK\"\n",
      "INFO:httpx:HTTP Request: POST https://api.openai.com/v1/chat/completions \"HTTP/1.1 200 OK\"\n",
      "INFO:httpx:HTTP Request: POST https://api.openai.com/v1/chat/completions \"HTTP/1.1 200 OK\"\n",
      "INFO:httpx:HTTP Request: POST https://api.openai.com/v1/chat/completions \"HTTP/1.1 200 OK\"\n",
      "INFO:httpx:HTTP Request: POST https://api.openai.com/v1/chat/completions \"HTTP/1.1 200 OK\"\n",
      "INFO:httpx:HTTP Request: POST https://api.openai.com/v1/chat/completions \"HTTP/1.1 200 OK\"\n",
      "INFO:httpx:HTTP Request: POST https://api.openai.com/v1/chat/completions \"HTTP/1.1 200 OK\"\n",
      "INFO:httpx:HTTP Request: POST https://api.openai.com/v1/chat/completions \"HTTP/1.1 200 OK\"\n",
      "INFO:httpx:HTTP Request: POST https://api.openai.com/v1/chat/completions \"HTTP/1.1 200 OK\"\n",
      "INFO:httpx:HTTP Request: POST https://api.openai.com/v1/chat/completions \"HTTP/1.1 200 OK\"\n",
      "INFO:httpx:HTTP Request: POST https://api.openai.com/v1/chat/completions \"HTTP/1.1 200 OK\"\n",
      "INFO:httpx:HTTP Request: POST https://api.openai.com/v1/chat/completions \"HTTP/1.1 200 OK\"\n",
      "INFO:httpx:HTTP Request: POST https://api.openai.com/v1/chat/completions \"HTTP/1.1 200 OK\"\n",
      "INFO:httpx:HTTP Request: POST https://api.openai.com/v1/chat/completions \"HTTP/1.1 200 OK\"\n",
      "INFO:httpx:HTTP Request: POST https://api.openai.com/v1/chat/completions \"HTTP/1.1 200 OK\"\n",
      "INFO:httpx:HTTP Request: POST https://api.openai.com/v1/chat/completions \"HTTP/1.1 200 OK\"\n",
      "INFO:httpx:HTTP Request: POST https://api.openai.com/v1/chat/completions \"HTTP/1.1 200 OK\"\n",
      "INFO:httpx:HTTP Request: POST https://api.openai.com/v1/chat/completions \"HTTP/1.1 200 OK\"\n",
      "INFO:httpx:HTTP Request: POST https://api.openai.com/v1/chat/completions \"HTTP/1.1 200 OK\"\n",
      "INFO:httpx:HTTP Request: POST https://api.openai.com/v1/chat/completions \"HTTP/1.1 200 OK\"\n",
      "INFO:httpx:HTTP Request: POST https://api.openai.com/v1/chat/completions \"HTTP/1.1 200 OK\"\n",
      "INFO:httpx:HTTP Request: POST https://api.openai.com/v1/chat/completions \"HTTP/1.1 200 OK\"\n",
      "INFO:httpx:HTTP Request: POST https://api.openai.com/v1/chat/completions \"HTTP/1.1 200 OK\"\n",
      "INFO:httpx:HTTP Request: POST https://api.openai.com/v1/chat/completions \"HTTP/1.1 200 OK\"\n",
      "INFO:httpx:HTTP Request: POST https://api.openai.com/v1/chat/completions \"HTTP/1.1 200 OK\"\n",
      "INFO:httpx:HTTP Request: POST https://api.openai.com/v1/chat/completions \"HTTP/1.1 200 OK\"\n",
      "INFO:httpx:HTTP Request: POST https://api.openai.com/v1/chat/completions \"HTTP/1.1 200 OK\"\n",
      "INFO:httpx:HTTP Request: POST https://api.openai.com/v1/chat/completions \"HTTP/1.1 200 OK\"\n",
      "INFO:httpx:HTTP Request: POST https://api.openai.com/v1/chat/completions \"HTTP/1.1 200 OK\"\n",
      "INFO:httpx:HTTP Request: POST https://api.openai.com/v1/chat/completions \"HTTP/1.1 200 OK\"\n",
      "INFO:httpx:HTTP Request: POST https://api.openai.com/v1/chat/completions \"HTTP/1.1 200 OK\"\n",
      "INFO:httpx:HTTP Request: POST https://api.openai.com/v1/chat/completions \"HTTP/1.1 200 OK\"\n",
      "INFO:httpx:HTTP Request: POST https://api.openai.com/v1/chat/completions \"HTTP/1.1 200 OK\"\n",
      "INFO:httpx:HTTP Request: POST https://api.openai.com/v1/chat/completions \"HTTP/1.1 200 OK\"\n",
      "INFO:httpx:HTTP Request: POST https://api.openai.com/v1/chat/completions \"HTTP/1.1 200 OK\"\n",
      "INFO:httpx:HTTP Request: POST https://api.openai.com/v1/chat/completions \"HTTP/1.1 200 OK\"\n",
      "INFO:httpx:HTTP Request: POST https://api.openai.com/v1/chat/completions \"HTTP/1.1 200 OK\"\n",
      "INFO:httpx:HTTP Request: POST https://api.openai.com/v1/chat/completions \"HTTP/1.1 200 OK\"\n",
      "INFO:httpx:HTTP Request: POST https://api.openai.com/v1/chat/completions \"HTTP/1.1 200 OK\"\n",
      "INFO:httpx:HTTP Request: POST https://api.openai.com/v1/chat/completions \"HTTP/1.1 200 OK\"\n",
      "INFO:httpx:HTTP Request: POST https://api.openai.com/v1/chat/completions \"HTTP/1.1 200 OK\"\n",
      "INFO:httpx:HTTP Request: POST https://api.openai.com/v1/chat/completions \"HTTP/1.1 200 OK\"\n",
      "INFO:httpx:HTTP Request: POST https://api.openai.com/v1/chat/completions \"HTTP/1.1 200 OK\"\n",
      "INFO:httpx:HTTP Request: POST https://api.openai.com/v1/chat/completions \"HTTP/1.1 200 OK\"\n",
      "INFO:httpx:HTTP Request: POST https://api.openai.com/v1/chat/completions \"HTTP/1.1 200 OK\"\n",
      "INFO:httpx:HTTP Request: POST https://api.openai.com/v1/chat/completions \"HTTP/1.1 200 OK\"\n",
      "INFO:httpx:HTTP Request: POST https://api.openai.com/v1/chat/completions \"HTTP/1.1 200 OK\"\n",
      "INFO:httpx:HTTP Request: POST https://api.openai.com/v1/chat/completions \"HTTP/1.1 200 OK\"\n",
      "INFO:httpx:HTTP Request: POST https://api.openai.com/v1/chat/completions \"HTTP/1.1 200 OK\"\n",
      "INFO:httpx:HTTP Request: POST https://api.openai.com/v1/chat/completions \"HTTP/1.1 200 OK\"\n",
      "INFO:httpx:HTTP Request: POST https://api.openai.com/v1/chat/completions \"HTTP/1.1 200 OK\"\n",
      "INFO:httpx:HTTP Request: POST https://api.openai.com/v1/chat/completions \"HTTP/1.1 200 OK\"\n",
      "INFO:httpx:HTTP Request: POST https://api.openai.com/v1/chat/completions \"HTTP/1.1 200 OK\"\n",
      "INFO:httpx:HTTP Request: POST https://api.openai.com/v1/chat/completions \"HTTP/1.1 200 OK\"\n",
      "INFO:httpx:HTTP Request: POST https://api.openai.com/v1/chat/completions \"HTTP/1.1 200 OK\"\n",
      "INFO:httpx:HTTP Request: POST https://api.openai.com/v1/chat/completions \"HTTP/1.1 200 OK\"\n",
      "INFO:httpx:HTTP Request: POST https://api.openai.com/v1/chat/completions \"HTTP/1.1 200 OK\"\n",
      "INFO:httpx:HTTP Request: POST https://api.openai.com/v1/chat/completions \"HTTP/1.1 200 OK\"\n",
      "INFO:httpx:HTTP Request: POST https://api.openai.com/v1/chat/completions \"HTTP/1.1 200 OK\"\n",
      "INFO:httpx:HTTP Request: POST https://api.openai.com/v1/chat/completions \"HTTP/1.1 200 OK\"\n",
      "INFO:httpx:HTTP Request: POST https://api.openai.com/v1/chat/completions \"HTTP/1.1 200 OK\"\n",
      "INFO:httpx:HTTP Request: POST https://api.openai.com/v1/chat/completions \"HTTP/1.1 200 OK\"\n",
      "INFO:httpx:HTTP Request: POST https://api.openai.com/v1/chat/completions \"HTTP/1.1 200 OK\"\n",
      "INFO:httpx:HTTP Request: POST https://api.openai.com/v1/chat/completions \"HTTP/1.1 200 OK\"\n",
      "INFO:httpx:HTTP Request: POST https://api.openai.com/v1/chat/completions \"HTTP/1.1 200 OK\"\n",
      "INFO:httpx:HTTP Request: POST https://api.openai.com/v1/chat/completions \"HTTP/1.1 200 OK\"\n",
      "INFO:httpx:HTTP Request: POST https://api.openai.com/v1/chat/completions \"HTTP/1.1 200 OK\"\n",
      "INFO:httpx:HTTP Request: POST https://api.openai.com/v1/chat/completions \"HTTP/1.1 200 OK\"\n",
      "INFO:httpx:HTTP Request: POST https://api.openai.com/v1/chat/completions \"HTTP/1.1 200 OK\"\n",
      "INFO:httpx:HTTP Request: POST https://api.openai.com/v1/chat/completions \"HTTP/1.1 200 OK\"\n",
      "INFO:httpx:HTTP Request: POST https://api.openai.com/v1/chat/completions \"HTTP/1.1 200 OK\"\n",
      "INFO:httpx:HTTP Request: POST https://api.openai.com/v1/chat/completions \"HTTP/1.1 200 OK\"\n",
      "INFO:httpx:HTTP Request: POST https://api.openai.com/v1/chat/completions \"HTTP/1.1 200 OK\"\n",
      "INFO:httpx:HTTP Request: POST https://api.openai.com/v1/chat/completions \"HTTP/1.1 200 OK\"\n",
      "INFO:httpx:HTTP Request: POST https://api.openai.com/v1/chat/completions \"HTTP/1.1 200 OK\"\n",
      "INFO:httpx:HTTP Request: POST https://api.openai.com/v1/chat/completions \"HTTP/1.1 200 OK\"\n",
      "INFO:httpx:HTTP Request: POST https://api.openai.com/v1/chat/completions \"HTTP/1.1 200 OK\"\n",
      "INFO:httpx:HTTP Request: POST https://api.openai.com/v1/chat/completions \"HTTP/1.1 200 OK\"\n",
      "INFO:httpx:HTTP Request: POST https://api.openai.com/v1/chat/completions \"HTTP/1.1 200 OK\"\n",
      "INFO:httpx:HTTP Request: POST https://api.openai.com/v1/chat/completions \"HTTP/1.1 200 OK\"\n",
      "INFO:httpx:HTTP Request: POST https://api.openai.com/v1/chat/completions \"HTTP/1.1 200 OK\"\n",
      "INFO:httpx:HTTP Request: POST https://api.openai.com/v1/chat/completions \"HTTP/1.1 200 OK\"\n",
      "INFO:httpx:HTTP Request: POST https://api.openai.com/v1/chat/completions \"HTTP/1.1 200 OK\"\n",
      "INFO:httpx:HTTP Request: POST https://api.openai.com/v1/chat/completions \"HTTP/1.1 200 OK\"\n",
      "INFO:httpx:HTTP Request: POST https://api.openai.com/v1/chat/completions \"HTTP/1.1 200 OK\"\n",
      "INFO:httpx:HTTP Request: POST https://api.openai.com/v1/chat/completions \"HTTP/1.1 200 OK\"\n",
      "INFO:httpx:HTTP Request: POST https://api.openai.com/v1/chat/completions \"HTTP/1.1 200 OK\"\n",
      "INFO:httpx:HTTP Request: POST https://api.openai.com/v1/chat/completions \"HTTP/1.1 200 OK\"\n",
      "INFO:httpx:HTTP Request: POST https://api.openai.com/v1/chat/completions \"HTTP/1.1 200 OK\"\n",
      "INFO:httpx:HTTP Request: POST https://api.openai.com/v1/chat/completions \"HTTP/1.1 200 OK\"\n",
      "INFO:httpx:HTTP Request: POST https://api.openai.com/v1/chat/completions \"HTTP/1.1 200 OK\"\n",
      "INFO:httpx:HTTP Request: POST https://api.openai.com/v1/chat/completions \"HTTP/1.1 200 OK\"\n",
      "INFO:httpx:HTTP Request: POST https://api.openai.com/v1/chat/completions \"HTTP/1.1 200 OK\"\n",
      "INFO:httpx:HTTP Request: POST https://api.openai.com/v1/chat/completions \"HTTP/1.1 200 OK\"\n",
      "INFO:httpx:HTTP Request: POST https://api.openai.com/v1/chat/completions \"HTTP/1.1 200 OK\"\n",
      "INFO:httpx:HTTP Request: POST https://api.openai.com/v1/chat/completions \"HTTP/1.1 200 OK\"\n",
      "INFO:httpx:HTTP Request: POST https://api.openai.com/v1/chat/completions \"HTTP/1.1 200 OK\"\n",
      "INFO:httpx:HTTP Request: POST https://api.openai.com/v1/chat/completions \"HTTP/1.1 200 OK\"\n",
      "INFO:httpx:HTTP Request: POST https://api.openai.com/v1/chat/completions \"HTTP/1.1 200 OK\"\n",
      "INFO:httpx:HTTP Request: POST https://api.openai.com/v1/chat/completions \"HTTP/1.1 200 OK\"\n",
      "INFO:httpx:HTTP Request: POST https://api.openai.com/v1/chat/completions \"HTTP/1.1 200 OK\"\n",
      "INFO:httpx:HTTP Request: POST https://api.openai.com/v1/chat/completions \"HTTP/1.1 200 OK\"\n",
      "INFO:httpx:HTTP Request: POST https://api.openai.com/v1/chat/completions \"HTTP/1.1 200 OK\"\n",
      "INFO:httpx:HTTP Request: POST https://api.openai.com/v1/chat/completions \"HTTP/1.1 200 OK\"\n",
      "INFO:httpx:HTTP Request: POST https://api.openai.com/v1/chat/completions \"HTTP/1.1 200 OK\"\n",
      "INFO:httpx:HTTP Request: POST https://api.openai.com/v1/chat/completions \"HTTP/1.1 200 OK\"\n",
      "INFO:httpx:HTTP Request: POST https://api.openai.com/v1/chat/completions \"HTTP/1.1 200 OK\"\n",
      "INFO:httpx:HTTP Request: POST https://api.openai.com/v1/chat/completions \"HTTP/1.1 200 OK\"\n",
      "INFO:httpx:HTTP Request: POST https://api.openai.com/v1/chat/completions \"HTTP/1.1 200 OK\"\n",
      "INFO:httpx:HTTP Request: POST https://api.openai.com/v1/chat/completions \"HTTP/1.1 200 OK\"\n",
      "INFO:httpx:HTTP Request: POST https://api.openai.com/v1/chat/completions \"HTTP/1.1 200 OK\"\n",
      "INFO:httpx:HTTP Request: POST https://api.openai.com/v1/chat/completions \"HTTP/1.1 200 OK\"\n",
      "INFO:httpx:HTTP Request: POST https://api.openai.com/v1/chat/completions \"HTTP/1.1 200 OK\"\n",
      "INFO:httpx:HTTP Request: POST https://api.openai.com/v1/chat/completions \"HTTP/1.1 200 OK\"\n",
      "INFO:httpx:HTTP Request: POST https://api.openai.com/v1/chat/completions \"HTTP/1.1 200 OK\"\n",
      "INFO:httpx:HTTP Request: POST https://api.openai.com/v1/chat/completions \"HTTP/1.1 200 OK\"\n",
      "INFO:httpx:HTTP Request: POST https://api.openai.com/v1/chat/completions \"HTTP/1.1 200 OK\"\n",
      "INFO:httpx:HTTP Request: POST https://api.openai.com/v1/chat/completions \"HTTP/1.1 200 OK\"\n",
      "INFO:httpx:HTTP Request: POST https://api.openai.com/v1/chat/completions \"HTTP/1.1 200 OK\"\n",
      "INFO:httpx:HTTP Request: POST https://api.openai.com/v1/chat/completions \"HTTP/1.1 200 OK\"\n",
      "INFO:httpx:HTTP Request: POST https://api.openai.com/v1/chat/completions \"HTTP/1.1 200 OK\"\n",
      "INFO:httpx:HTTP Request: POST https://api.openai.com/v1/chat/completions \"HTTP/1.1 200 OK\"\n",
      "INFO:httpx:HTTP Request: POST https://api.openai.com/v1/chat/completions \"HTTP/1.1 200 OK\"\n",
      "INFO:httpx:HTTP Request: POST https://api.openai.com/v1/chat/completions \"HTTP/1.1 200 OK\"\n",
      "INFO:httpx:HTTP Request: POST https://api.openai.com/v1/chat/completions \"HTTP/1.1 200 OK\"\n",
      "INFO:httpx:HTTP Request: POST https://api.openai.com/v1/chat/completions \"HTTP/1.1 200 OK\"\n",
      "INFO:httpx:HTTP Request: POST https://api.openai.com/v1/chat/completions \"HTTP/1.1 200 OK\"\n",
      "INFO:httpx:HTTP Request: POST https://api.openai.com/v1/chat/completions \"HTTP/1.1 200 OK\"\n",
      "INFO:httpx:HTTP Request: POST https://api.openai.com/v1/chat/completions \"HTTP/1.1 200 OK\"\n",
      "INFO:httpx:HTTP Request: POST https://api.openai.com/v1/chat/completions \"HTTP/1.1 200 OK\"\n",
      "INFO:httpx:HTTP Request: POST https://api.openai.com/v1/chat/completions \"HTTP/1.1 200 OK\"\n",
      "INFO:httpx:HTTP Request: POST https://api.openai.com/v1/chat/completions \"HTTP/1.1 200 OK\"\n",
      "INFO:httpx:HTTP Request: POST https://api.openai.com/v1/chat/completions \"HTTP/1.1 200 OK\"\n",
      "INFO:httpx:HTTP Request: POST https://api.openai.com/v1/chat/completions \"HTTP/1.1 200 OK\"\n",
      "INFO:httpx:HTTP Request: POST https://api.openai.com/v1/chat/completions \"HTTP/1.1 200 OK\"\n",
      "INFO:httpx:HTTP Request: POST https://api.openai.com/v1/chat/completions \"HTTP/1.1 200 OK\"\n",
      "INFO:httpx:HTTP Request: POST https://api.openai.com/v1/chat/completions \"HTTP/1.1 200 OK\"\n",
      "INFO:httpx:HTTP Request: POST https://api.openai.com/v1/chat/completions \"HTTP/1.1 200 OK\"\n",
      "INFO:httpx:HTTP Request: POST https://api.openai.com/v1/chat/completions \"HTTP/1.1 200 OK\"\n",
      "INFO:httpx:HTTP Request: POST https://api.openai.com/v1/chat/completions \"HTTP/1.1 200 OK\"\n",
      "INFO:httpx:HTTP Request: POST https://api.openai.com/v1/chat/completions \"HTTP/1.1 200 OK\"\n",
      "INFO:httpx:HTTP Request: POST https://api.openai.com/v1/chat/completions \"HTTP/1.1 200 OK\"\n",
      "INFO:httpx:HTTP Request: POST https://api.openai.com/v1/chat/completions \"HTTP/1.1 200 OK\"\n",
      "INFO:httpx:HTTP Request: POST https://api.openai.com/v1/chat/completions \"HTTP/1.1 200 OK\"\n",
      "INFO:httpx:HTTP Request: POST https://api.openai.com/v1/chat/completions \"HTTP/1.1 200 OK\"\n",
      "ERROR:ragas.executor:Exception raised in Job[177]: TimeoutError()\n",
      "INFO:httpx:HTTP Request: POST https://api.openai.com/v1/chat/completions \"HTTP/1.1 200 OK\"\n",
      "INFO:httpx:HTTP Request: POST https://api.openai.com/v1/chat/completions \"HTTP/1.1 200 OK\"\n",
      "INFO:httpx:HTTP Request: POST https://api.openai.com/v1/chat/completions \"HTTP/1.1 200 OK\"\n",
      "INFO:httpx:HTTP Request: POST https://api.openai.com/v1/chat/completions \"HTTP/1.1 200 OK\"\n",
      "INFO:httpx:HTTP Request: POST https://api.openai.com/v1/chat/completions \"HTTP/1.1 200 OK\"\n",
      "INFO:httpx:HTTP Request: POST https://api.openai.com/v1/chat/completions \"HTTP/1.1 200 OK\"\n",
      "INFO:httpx:HTTP Request: POST https://api.openai.com/v1/chat/completions \"HTTP/1.1 200 OK\"\n",
      "INFO:httpx:HTTP Request: POST https://api.openai.com/v1/chat/completions \"HTTP/1.1 200 OK\"\n",
      "INFO:httpx:HTTP Request: POST https://api.openai.com/v1/chat/completions \"HTTP/1.1 200 OK\"\n",
      "INFO:httpx:HTTP Request: POST https://api.openai.com/v1/chat/completions \"HTTP/1.1 200 OK\"\n",
      "INFO:httpx:HTTP Request: POST https://api.openai.com/v1/chat/completions \"HTTP/1.1 200 OK\"\n",
      "INFO:httpx:HTTP Request: POST https://api.openai.com/v1/chat/completions \"HTTP/1.1 200 OK\"\n",
      "INFO:httpx:HTTP Request: POST https://api.openai.com/v1/chat/completions \"HTTP/1.1 200 OK\"\n",
      "INFO:httpx:HTTP Request: POST https://api.openai.com/v1/chat/completions \"HTTP/1.1 200 OK\"\n",
      "INFO:httpx:HTTP Request: POST https://api.openai.com/v1/chat/completions \"HTTP/1.1 200 OK\"\n",
      "INFO:httpx:HTTP Request: POST https://api.openai.com/v1/chat/completions \"HTTP/1.1 200 OK\"\n",
      "INFO:httpx:HTTP Request: POST https://api.openai.com/v1/chat/completions \"HTTP/1.1 200 OK\"\n",
      "INFO:httpx:HTTP Request: POST https://api.openai.com/v1/chat/completions \"HTTP/1.1 200 OK\"\n",
      "INFO:httpx:HTTP Request: POST https://api.openai.com/v1/chat/completions \"HTTP/1.1 200 OK\"\n",
      "INFO:httpx:HTTP Request: POST https://api.openai.com/v1/chat/completions \"HTTP/1.1 200 OK\"\n",
      "INFO:httpx:HTTP Request: POST https://api.openai.com/v1/chat/completions \"HTTP/1.1 200 OK\"\n",
      "INFO:httpx:HTTP Request: POST https://api.openai.com/v1/chat/completions \"HTTP/1.1 200 OK\"\n",
      "INFO:httpx:HTTP Request: POST https://api.openai.com/v1/chat/completions \"HTTP/1.1 200 OK\"\n",
      "INFO:httpx:HTTP Request: POST https://api.openai.com/v1/chat/completions \"HTTP/1.1 200 OK\"\n",
      "INFO:httpx:HTTP Request: POST https://api.openai.com/v1/chat/completions \"HTTP/1.1 200 OK\"\n",
      "INFO:httpx:HTTP Request: POST https://api.openai.com/v1/chat/completions \"HTTP/1.1 200 OK\"\n",
      "INFO:httpx:HTTP Request: POST https://api.openai.com/v1/chat/completions \"HTTP/1.1 200 OK\"\n",
      "INFO:httpx:HTTP Request: POST https://api.openai.com/v1/chat/completions \"HTTP/1.1 200 OK\"\n",
      "INFO:httpx:HTTP Request: POST https://api.openai.com/v1/chat/completions \"HTTP/1.1 200 OK\"\n",
      "INFO:httpx:HTTP Request: POST https://api.openai.com/v1/chat/completions \"HTTP/1.1 200 OK\"\n",
      "INFO:httpx:HTTP Request: POST https://api.openai.com/v1/chat/completions \"HTTP/1.1 200 OK\"\n",
      "INFO:httpx:HTTP Request: POST https://api.openai.com/v1/chat/completions \"HTTP/1.1 200 OK\"\n",
      "INFO:httpx:HTTP Request: POST https://api.openai.com/v1/chat/completions \"HTTP/1.1 200 OK\"\n",
      "INFO:httpx:HTTP Request: POST https://api.openai.com/v1/chat/completions \"HTTP/1.1 200 OK\"\n",
      "INFO:httpx:HTTP Request: POST https://api.openai.com/v1/chat/completions \"HTTP/1.1 200 OK\"\n",
      "INFO:httpx:HTTP Request: POST https://api.openai.com/v1/chat/completions \"HTTP/1.1 200 OK\"\n",
      "INFO:httpx:HTTP Request: POST https://api.openai.com/v1/chat/completions \"HTTP/1.1 200 OK\"\n",
      "INFO:httpx:HTTP Request: POST https://api.openai.com/v1/chat/completions \"HTTP/1.1 200 OK\"\n",
      "ERROR:ragas.executor:Exception raised in Job[192]: TimeoutError()\n",
      "INFO:httpx:HTTP Request: POST https://api.openai.com/v1/chat/completions \"HTTP/1.1 200 OK\"\n",
      "INFO:httpx:HTTP Request: POST https://api.openai.com/v1/chat/completions \"HTTP/1.1 200 OK\"\n",
      "INFO:httpx:HTTP Request: POST https://api.openai.com/v1/chat/completions \"HTTP/1.1 200 OK\"\n",
      "INFO:httpx:HTTP Request: POST https://api.openai.com/v1/chat/completions \"HTTP/1.1 200 OK\"\n",
      "INFO:httpx:HTTP Request: POST https://api.openai.com/v1/chat/completions \"HTTP/1.1 200 OK\"\n",
      "INFO:httpx:HTTP Request: POST https://api.openai.com/v1/chat/completions \"HTTP/1.1 200 OK\"\n",
      "INFO:httpx:HTTP Request: POST https://api.openai.com/v1/chat/completions \"HTTP/1.1 200 OK\"\n",
      "INFO:httpx:HTTP Request: POST https://api.openai.com/v1/chat/completions \"HTTP/1.1 200 OK\"\n",
      "INFO:httpx:HTTP Request: POST https://api.openai.com/v1/chat/completions \"HTTP/1.1 200 OK\"\n",
      "INFO:httpx:HTTP Request: POST https://api.openai.com/v1/chat/completions \"HTTP/1.1 200 OK\"\n",
      "INFO:httpx:HTTP Request: POST https://api.openai.com/v1/chat/completions \"HTTP/1.1 200 OK\"\n",
      "INFO:httpx:HTTP Request: POST https://api.openai.com/v1/chat/completions \"HTTP/1.1 200 OK\"\n",
      "INFO:httpx:HTTP Request: POST https://api.openai.com/v1/chat/completions \"HTTP/1.1 200 OK\"\n",
      "INFO:httpx:HTTP Request: POST https://api.openai.com/v1/chat/completions \"HTTP/1.1 200 OK\"\n",
      "INFO:httpx:HTTP Request: POST https://api.openai.com/v1/chat/completions \"HTTP/1.1 200 OK\"\n",
      "INFO:httpx:HTTP Request: POST https://api.openai.com/v1/chat/completions \"HTTP/1.1 200 OK\"\n",
      "INFO:httpx:HTTP Request: POST https://api.openai.com/v1/chat/completions \"HTTP/1.1 200 OK\"\n",
      "INFO:httpx:HTTP Request: POST https://api.openai.com/v1/chat/completions \"HTTP/1.1 200 OK\"\n",
      "INFO:httpx:HTTP Request: POST https://api.openai.com/v1/chat/completions \"HTTP/1.1 200 OK\"\n",
      "INFO:httpx:HTTP Request: POST https://api.openai.com/v1/chat/completions \"HTTP/1.1 200 OK\"\n",
      "INFO:httpx:HTTP Request: POST https://api.openai.com/v1/chat/completions \"HTTP/1.1 200 OK\"\n",
      "INFO:httpx:HTTP Request: POST https://api.openai.com/v1/chat/completions \"HTTP/1.1 200 OK\"\n",
      "INFO:httpx:HTTP Request: POST https://api.openai.com/v1/chat/completions \"HTTP/1.1 200 OK\"\n",
      "INFO:httpx:HTTP Request: POST https://api.openai.com/v1/chat/completions \"HTTP/1.1 200 OK\"\n",
      "INFO:httpx:HTTP Request: POST https://api.openai.com/v1/chat/completions \"HTTP/1.1 200 OK\"\n",
      "INFO:httpx:HTTP Request: POST https://api.openai.com/v1/chat/completions \"HTTP/1.1 200 OK\"\n",
      "INFO:httpx:HTTP Request: POST https://api.openai.com/v1/chat/completions \"HTTP/1.1 200 OK\"\n",
      "INFO:httpx:HTTP Request: POST https://api.openai.com/v1/chat/completions \"HTTP/1.1 200 OK\"\n",
      "INFO:httpx:HTTP Request: POST https://api.openai.com/v1/chat/completions \"HTTP/1.1 200 OK\"\n",
      "INFO:httpx:HTTP Request: POST https://api.openai.com/v1/chat/completions \"HTTP/1.1 200 OK\"\n",
      "INFO:httpx:HTTP Request: POST https://api.openai.com/v1/chat/completions \"HTTP/1.1 200 OK\"\n",
      "INFO:httpx:HTTP Request: POST https://api.openai.com/v1/chat/completions \"HTTP/1.1 200 OK\"\n",
      "INFO:httpx:HTTP Request: POST https://api.openai.com/v1/chat/completions \"HTTP/1.1 200 OK\"\n",
      "INFO:httpx:HTTP Request: POST https://api.openai.com/v1/chat/completions \"HTTP/1.1 200 OK\"\n",
      "INFO:httpx:HTTP Request: POST https://api.openai.com/v1/chat/completions \"HTTP/1.1 200 OK\"\n",
      "INFO:httpx:HTTP Request: POST https://api.openai.com/v1/chat/completions \"HTTP/1.1 200 OK\"\n",
      "INFO:httpx:HTTP Request: POST https://api.openai.com/v1/chat/completions \"HTTP/1.1 200 OK\"\n",
      "INFO:httpx:HTTP Request: POST https://api.openai.com/v1/chat/completions \"HTTP/1.1 200 OK\"\n",
      "INFO:httpx:HTTP Request: POST https://api.openai.com/v1/chat/completions \"HTTP/1.1 200 OK\"\n",
      "INFO:httpx:HTTP Request: POST https://api.openai.com/v1/chat/completions \"HTTP/1.1 200 OK\"\n",
      "INFO:httpx:HTTP Request: POST https://api.openai.com/v1/chat/completions \"HTTP/1.1 200 OK\"\n",
      "INFO:httpx:HTTP Request: POST https://api.openai.com/v1/chat/completions \"HTTP/1.1 200 OK\"\n",
      "INFO:httpx:HTTP Request: POST https://api.openai.com/v1/chat/completions \"HTTP/1.1 200 OK\"\n",
      "INFO:httpx:HTTP Request: POST https://api.openai.com/v1/chat/completions \"HTTP/1.1 200 OK\"\n",
      "INFO:httpx:HTTP Request: POST https://api.openai.com/v1/chat/completions \"HTTP/1.1 200 OK\"\n",
      "INFO:httpx:HTTP Request: POST https://api.openai.com/v1/chat/completions \"HTTP/1.1 200 OK\"\n",
      "INFO:httpx:HTTP Request: POST https://api.openai.com/v1/chat/completions \"HTTP/1.1 200 OK\"\n",
      "INFO:httpx:HTTP Request: POST https://api.openai.com/v1/chat/completions \"HTTP/1.1 200 OK\"\n",
      "INFO:httpx:HTTP Request: POST https://api.openai.com/v1/chat/completions \"HTTP/1.1 200 OK\"\n",
      "INFO:httpx:HTTP Request: POST https://api.openai.com/v1/chat/completions \"HTTP/1.1 200 OK\"\n",
      "INFO:httpx:HTTP Request: POST https://api.openai.com/v1/chat/completions \"HTTP/1.1 200 OK\"\n",
      "INFO:httpx:HTTP Request: POST https://api.openai.com/v1/chat/completions \"HTTP/1.1 200 OK\"\n",
      "INFO:httpx:HTTP Request: POST https://api.openai.com/v1/chat/completions \"HTTP/1.1 200 OK\"\n",
      "INFO:httpx:HTTP Request: POST https://api.openai.com/v1/chat/completions \"HTTP/1.1 200 OK\"\n",
      "INFO:httpx:HTTP Request: POST https://api.openai.com/v1/chat/completions \"HTTP/1.1 200 OK\"\n",
      "INFO:httpx:HTTP Request: POST https://api.openai.com/v1/chat/completions \"HTTP/1.1 200 OK\"\n",
      "INFO:httpx:HTTP Request: POST https://api.openai.com/v1/chat/completions \"HTTP/1.1 200 OK\"\n",
      "INFO:httpx:HTTP Request: POST https://api.openai.com/v1/chat/completions \"HTTP/1.1 200 OK\"\n",
      "INFO:httpx:HTTP Request: POST https://api.openai.com/v1/chat/completions \"HTTP/1.1 200 OK\"\n",
      "INFO:httpx:HTTP Request: POST https://api.openai.com/v1/chat/completions \"HTTP/1.1 200 OK\"\n",
      "INFO:httpx:HTTP Request: POST https://api.openai.com/v1/chat/completions \"HTTP/1.1 200 OK\"\n",
      "INFO:httpx:HTTP Request: POST https://api.openai.com/v1/chat/completions \"HTTP/1.1 200 OK\"\n",
      "INFO:httpx:HTTP Request: POST https://api.openai.com/v1/chat/completions \"HTTP/1.1 200 OK\"\n",
      "INFO:httpx:HTTP Request: POST https://api.openai.com/v1/chat/completions \"HTTP/1.1 200 OK\"\n",
      "INFO:httpx:HTTP Request: POST https://api.openai.com/v1/chat/completions \"HTTP/1.1 200 OK\"\n",
      "INFO:httpx:HTTP Request: POST https://api.openai.com/v1/chat/completions \"HTTP/1.1 200 OK\"\n",
      "INFO:httpx:HTTP Request: POST https://api.openai.com/v1/chat/completions \"HTTP/1.1 200 OK\"\n",
      "INFO:httpx:HTTP Request: POST https://api.openai.com/v1/chat/completions \"HTTP/1.1 200 OK\"\n",
      "INFO:httpx:HTTP Request: POST https://api.openai.com/v1/chat/completions \"HTTP/1.1 200 OK\"\n",
      "INFO:httpx:HTTP Request: POST https://api.openai.com/v1/chat/completions \"HTTP/1.1 200 OK\"\n",
      "INFO:httpx:HTTP Request: POST https://api.openai.com/v1/chat/completions \"HTTP/1.1 200 OK\"\n",
      "INFO:httpx:HTTP Request: POST https://api.openai.com/v1/chat/completions \"HTTP/1.1 200 OK\"\n",
      "INFO:httpx:HTTP Request: POST https://api.openai.com/v1/chat/completions \"HTTP/1.1 200 OK\"\n",
      "INFO:httpx:HTTP Request: POST https://api.openai.com/v1/chat/completions \"HTTP/1.1 200 OK\"\n",
      "INFO:httpx:HTTP Request: POST https://api.openai.com/v1/chat/completions \"HTTP/1.1 200 OK\"\n",
      "INFO:httpx:HTTP Request: POST https://api.openai.com/v1/chat/completions \"HTTP/1.1 200 OK\"\n",
      "INFO:httpx:HTTP Request: POST https://api.openai.com/v1/chat/completions \"HTTP/1.1 200 OK\"\n",
      "INFO:httpx:HTTP Request: POST https://api.openai.com/v1/chat/completions \"HTTP/1.1 200 OK\"\n",
      "INFO:httpx:HTTP Request: POST https://api.openai.com/v1/chat/completions \"HTTP/1.1 200 OK\"\n",
      "INFO:httpx:HTTP Request: POST https://api.openai.com/v1/chat/completions \"HTTP/1.1 200 OK\"\n",
      "INFO:httpx:HTTP Request: POST https://api.openai.com/v1/chat/completions \"HTTP/1.1 200 OK\"\n",
      "INFO:httpx:HTTP Request: POST https://api.openai.com/v1/chat/completions \"HTTP/1.1 200 OK\"\n",
      "INFO:httpx:HTTP Request: POST https://api.openai.com/v1/chat/completions \"HTTP/1.1 200 OK\"\n",
      "INFO:httpx:HTTP Request: POST https://api.openai.com/v1/chat/completions \"HTTP/1.1 200 OK\"\n",
      "INFO:httpx:HTTP Request: POST https://api.openai.com/v1/chat/completions \"HTTP/1.1 200 OK\"\n",
      "INFO:httpx:HTTP Request: POST https://api.openai.com/v1/chat/completions \"HTTP/1.1 200 OK\"\n",
      "INFO:httpx:HTTP Request: POST https://api.openai.com/v1/chat/completions \"HTTP/1.1 200 OK\"\n",
      "INFO:httpx:HTTP Request: POST https://api.openai.com/v1/chat/completions \"HTTP/1.1 200 OK\"\n",
      "INFO:httpx:HTTP Request: POST https://api.openai.com/v1/chat/completions \"HTTP/1.1 200 OK\"\n",
      "INFO:httpx:HTTP Request: POST https://api.openai.com/v1/chat/completions \"HTTP/1.1 200 OK\"\n",
      "INFO:httpx:HTTP Request: POST https://api.openai.com/v1/chat/completions \"HTTP/1.1 200 OK\"\n",
      "INFO:httpx:HTTP Request: POST https://api.openai.com/v1/chat/completions \"HTTP/1.1 200 OK\"\n",
      "INFO:httpx:HTTP Request: POST https://api.openai.com/v1/chat/completions \"HTTP/1.1 200 OK\"\n",
      "INFO:httpx:HTTP Request: POST https://api.openai.com/v1/chat/completions \"HTTP/1.1 200 OK\"\n",
      "INFO:httpx:HTTP Request: POST https://api.openai.com/v1/chat/completions \"HTTP/1.1 200 OK\"\n",
      "INFO:httpx:HTTP Request: POST https://api.openai.com/v1/chat/completions \"HTTP/1.1 200 OK\"\n",
      "INFO:httpx:HTTP Request: POST https://api.openai.com/v1/chat/completions \"HTTP/1.1 200 OK\"\n",
      "INFO:httpx:HTTP Request: POST https://api.openai.com/v1/chat/completions \"HTTP/1.1 200 OK\"\n",
      "INFO:httpx:HTTP Request: POST https://api.openai.com/v1/chat/completions \"HTTP/1.1 200 OK\"\n",
      "INFO:httpx:HTTP Request: POST https://api.openai.com/v1/chat/completions \"HTTP/1.1 200 OK\"\n",
      "INFO:httpx:HTTP Request: POST https://api.openai.com/v1/chat/completions \"HTTP/1.1 200 OK\"\n",
      "INFO:httpx:HTTP Request: POST https://api.openai.com/v1/chat/completions \"HTTP/1.1 200 OK\"\n",
      "INFO:httpx:HTTP Request: POST https://api.openai.com/v1/chat/completions \"HTTP/1.1 200 OK\"\n",
      "INFO:httpx:HTTP Request: POST https://api.openai.com/v1/chat/completions \"HTTP/1.1 200 OK\"\n",
      "INFO:httpx:HTTP Request: POST https://api.openai.com/v1/chat/completions \"HTTP/1.1 200 OK\"\n",
      "INFO:httpx:HTTP Request: POST https://api.openai.com/v1/chat/completions \"HTTP/1.1 200 OK\"\n",
      "INFO:httpx:HTTP Request: POST https://api.openai.com/v1/chat/completions \"HTTP/1.1 200 OK\"\n",
      "INFO:httpx:HTTP Request: POST https://api.openai.com/v1/chat/completions \"HTTP/1.1 200 OK\"\n",
      "INFO:httpx:HTTP Request: POST https://api.openai.com/v1/chat/completions \"HTTP/1.1 200 OK\"\n",
      "INFO:httpx:HTTP Request: POST https://api.openai.com/v1/chat/completions \"HTTP/1.1 200 OK\"\n",
      "INFO:httpx:HTTP Request: POST https://api.openai.com/v1/chat/completions \"HTTP/1.1 200 OK\"\n",
      "INFO:httpx:HTTP Request: POST https://api.openai.com/v1/chat/completions \"HTTP/1.1 200 OK\"\n",
      "INFO:httpx:HTTP Request: POST https://api.openai.com/v1/chat/completions \"HTTP/1.1 200 OK\"\n",
      "INFO:httpx:HTTP Request: POST https://api.openai.com/v1/chat/completions \"HTTP/1.1 200 OK\"\n",
      "INFO:httpx:HTTP Request: POST https://api.openai.com/v1/chat/completions \"HTTP/1.1 200 OK\"\n",
      "INFO:httpx:HTTP Request: POST https://api.openai.com/v1/chat/completions \"HTTP/1.1 200 OK\"\n",
      "INFO:httpx:HTTP Request: POST https://api.openai.com/v1/chat/completions \"HTTP/1.1 200 OK\"\n",
      "INFO:httpx:HTTP Request: POST https://api.openai.com/v1/chat/completions \"HTTP/1.1 200 OK\"\n",
      "INFO:httpx:HTTP Request: POST https://api.openai.com/v1/chat/completions \"HTTP/1.1 200 OK\"\n",
      "INFO:httpx:HTTP Request: POST https://api.openai.com/v1/chat/completions \"HTTP/1.1 200 OK\"\n",
      "INFO:httpx:HTTP Request: POST https://api.openai.com/v1/chat/completions \"HTTP/1.1 200 OK\"\n",
      "INFO:httpx:HTTP Request: POST https://api.openai.com/v1/chat/completions \"HTTP/1.1 200 OK\"\n",
      "INFO:httpx:HTTP Request: POST https://api.openai.com/v1/chat/completions \"HTTP/1.1 200 OK\"\n",
      "INFO:httpx:HTTP Request: POST https://api.openai.com/v1/chat/completions \"HTTP/1.1 200 OK\"\n",
      "INFO:httpx:HTTP Request: POST https://api.openai.com/v1/chat/completions \"HTTP/1.1 200 OK\"\n",
      "INFO:httpx:HTTP Request: POST https://api.openai.com/v1/chat/completions \"HTTP/1.1 200 OK\"\n",
      "INFO:httpx:HTTP Request: POST https://api.openai.com/v1/chat/completions \"HTTP/1.1 200 OK\"\n",
      "INFO:httpx:HTTP Request: POST https://api.openai.com/v1/chat/completions \"HTTP/1.1 200 OK\"\n",
      "INFO:httpx:HTTP Request: POST https://api.openai.com/v1/chat/completions \"HTTP/1.1 200 OK\"\n",
      "INFO:httpx:HTTP Request: POST https://api.openai.com/v1/chat/completions \"HTTP/1.1 200 OK\"\n",
      "INFO:httpx:HTTP Request: POST https://api.openai.com/v1/chat/completions \"HTTP/1.1 200 OK\"\n",
      "INFO:httpx:HTTP Request: POST https://api.openai.com/v1/chat/completions \"HTTP/1.1 200 OK\"\n",
      "INFO:httpx:HTTP Request: POST https://api.openai.com/v1/chat/completions \"HTTP/1.1 200 OK\"\n",
      "INFO:httpx:HTTP Request: POST https://api.openai.com/v1/chat/completions \"HTTP/1.1 200 OK\"\n",
      "INFO:httpx:HTTP Request: POST https://api.openai.com/v1/chat/completions \"HTTP/1.1 200 OK\"\n",
      "INFO:httpx:HTTP Request: POST https://api.openai.com/v1/chat/completions \"HTTP/1.1 200 OK\"\n",
      "INFO:httpx:HTTP Request: POST https://api.openai.com/v1/chat/completions \"HTTP/1.1 200 OK\"\n",
      "INFO:httpx:HTTP Request: POST https://api.openai.com/v1/chat/completions \"HTTP/1.1 200 OK\"\n",
      "INFO:httpx:HTTP Request: POST https://api.openai.com/v1/chat/completions \"HTTP/1.1 200 OK\"\n",
      "INFO:httpx:HTTP Request: POST https://api.openai.com/v1/chat/completions \"HTTP/1.1 200 OK\"\n",
      "INFO:httpx:HTTP Request: POST https://api.openai.com/v1/chat/completions \"HTTP/1.1 200 OK\"\n",
      "INFO:httpx:HTTP Request: POST https://api.openai.com/v1/chat/completions \"HTTP/1.1 200 OK\"\n",
      "INFO:httpx:HTTP Request: POST https://api.openai.com/v1/chat/completions \"HTTP/1.1 200 OK\"\n",
      "INFO:httpx:HTTP Request: POST https://api.openai.com/v1/chat/completions \"HTTP/1.1 200 OK\"\n",
      "INFO:httpx:HTTP Request: POST https://api.openai.com/v1/chat/completions \"HTTP/1.1 200 OK\"\n",
      "INFO:httpx:HTTP Request: POST https://api.openai.com/v1/chat/completions \"HTTP/1.1 200 OK\"\n",
      "INFO:httpx:HTTP Request: POST https://api.openai.com/v1/chat/completions \"HTTP/1.1 200 OK\"\n",
      "INFO:httpx:HTTP Request: POST https://api.openai.com/v1/chat/completions \"HTTP/1.1 200 OK\"\n",
      "INFO:httpx:HTTP Request: POST https://api.openai.com/v1/chat/completions \"HTTP/1.1 200 OK\"\n",
      "INFO:httpx:HTTP Request: POST https://api.openai.com/v1/chat/completions \"HTTP/1.1 200 OK\"\n",
      "INFO:httpx:HTTP Request: POST https://api.openai.com/v1/chat/completions \"HTTP/1.1 200 OK\"\n",
      "INFO:httpx:HTTP Request: POST https://api.openai.com/v1/chat/completions \"HTTP/1.1 200 OK\"\n",
      "INFO:httpx:HTTP Request: POST https://api.openai.com/v1/chat/completions \"HTTP/1.1 200 OK\"\n",
      "INFO:httpx:HTTP Request: POST https://api.openai.com/v1/chat/completions \"HTTP/1.1 200 OK\"\n",
      "INFO:httpx:HTTP Request: POST https://api.openai.com/v1/chat/completions \"HTTP/1.1 200 OK\"\n",
      "INFO:httpx:HTTP Request: POST https://api.openai.com/v1/chat/completions \"HTTP/1.1 200 OK\"\n",
      "INFO:httpx:HTTP Request: POST https://api.openai.com/v1/chat/completions \"HTTP/1.1 200 OK\"\n",
      "INFO:httpx:HTTP Request: POST https://api.openai.com/v1/chat/completions \"HTTP/1.1 200 OK\"\n",
      "INFO:httpx:HTTP Request: POST https://api.openai.com/v1/chat/completions \"HTTP/1.1 200 OK\"\n",
      "INFO:httpx:HTTP Request: POST https://api.openai.com/v1/chat/completions \"HTTP/1.1 200 OK\"\n",
      "INFO:httpx:HTTP Request: POST https://api.openai.com/v1/chat/completions \"HTTP/1.1 200 OK\"\n",
      "INFO:httpx:HTTP Request: POST https://api.openai.com/v1/chat/completions \"HTTP/1.1 200 OK\"\n",
      "INFO:httpx:HTTP Request: POST https://api.openai.com/v1/chat/completions \"HTTP/1.1 200 OK\"\n",
      "INFO:httpx:HTTP Request: POST https://api.openai.com/v1/chat/completions \"HTTP/1.1 200 OK\"\n",
      "INFO:httpx:HTTP Request: POST https://api.openai.com/v1/chat/completions \"HTTP/1.1 200 OK\"\n",
      "INFO:httpx:HTTP Request: POST https://api.openai.com/v1/chat/completions \"HTTP/1.1 200 OK\"\n",
      "INFO:httpx:HTTP Request: POST https://api.openai.com/v1/chat/completions \"HTTP/1.1 200 OK\"\n",
      "INFO:httpx:HTTP Request: POST https://api.openai.com/v1/chat/completions \"HTTP/1.1 200 OK\"\n",
      "INFO:httpx:HTTP Request: POST https://api.openai.com/v1/chat/completions \"HTTP/1.1 200 OK\"\n",
      "INFO:httpx:HTTP Request: POST https://api.openai.com/v1/chat/completions \"HTTP/1.1 200 OK\"\n",
      "INFO:httpx:HTTP Request: POST https://api.openai.com/v1/chat/completions \"HTTP/1.1 200 OK\"\n",
      "INFO:httpx:HTTP Request: POST https://api.openai.com/v1/chat/completions \"HTTP/1.1 200 OK\"\n",
      "INFO:httpx:HTTP Request: POST https://api.openai.com/v1/chat/completions \"HTTP/1.1 200 OK\"\n",
      "INFO:httpx:HTTP Request: POST https://api.openai.com/v1/chat/completions \"HTTP/1.1 200 OK\"\n",
      "INFO:httpx:HTTP Request: POST https://api.openai.com/v1/chat/completions \"HTTP/1.1 200 OK\"\n",
      "ERROR:ragas.executor:Exception raised in Job[240]: TimeoutError()\n",
      "INFO:httpx:HTTP Request: POST https://api.openai.com/v1/chat/completions \"HTTP/1.1 200 OK\"\n",
      "INFO:httpx:HTTP Request: POST https://api.openai.com/v1/chat/completions \"HTTP/1.1 200 OK\"\n",
      "INFO:httpx:HTTP Request: POST https://api.openai.com/v1/chat/completions \"HTTP/1.1 200 OK\"\n",
      "INFO:httpx:HTTP Request: POST https://api.openai.com/v1/chat/completions \"HTTP/1.1 200 OK\"\n",
      "INFO:httpx:HTTP Request: POST https://api.openai.com/v1/chat/completions \"HTTP/1.1 200 OK\"\n",
      "INFO:httpx:HTTP Request: POST https://api.openai.com/v1/chat/completions \"HTTP/1.1 200 OK\"\n",
      "INFO:httpx:HTTP Request: POST https://api.openai.com/v1/chat/completions \"HTTP/1.1 200 OK\"\n",
      "INFO:httpx:HTTP Request: POST https://api.openai.com/v1/chat/completions \"HTTP/1.1 200 OK\"\n",
      "INFO:httpx:HTTP Request: POST https://api.openai.com/v1/chat/completions \"HTTP/1.1 200 OK\"\n",
      "INFO:httpx:HTTP Request: POST https://api.openai.com/v1/chat/completions \"HTTP/1.1 200 OK\"\n",
      "INFO:httpx:HTTP Request: POST https://api.openai.com/v1/chat/completions \"HTTP/1.1 200 OK\"\n",
      "INFO:httpx:HTTP Request: POST https://api.openai.com/v1/chat/completions \"HTTP/1.1 200 OK\"\n",
      "INFO:httpx:HTTP Request: POST https://api.openai.com/v1/chat/completions \"HTTP/1.1 200 OK\"\n",
      "INFO:httpx:HTTP Request: POST https://api.openai.com/v1/chat/completions \"HTTP/1.1 200 OK\"\n",
      "INFO:httpx:HTTP Request: POST https://api.openai.com/v1/chat/completions \"HTTP/1.1 200 OK\"\n",
      "INFO:httpx:HTTP Request: POST https://api.openai.com/v1/chat/completions \"HTTP/1.1 200 OK\"\n",
      "INFO:httpx:HTTP Request: POST https://api.openai.com/v1/chat/completions \"HTTP/1.1 200 OK\"\n",
      "INFO:httpx:HTTP Request: POST https://api.openai.com/v1/chat/completions \"HTTP/1.1 200 OK\"\n",
      "INFO:httpx:HTTP Request: POST https://api.openai.com/v1/chat/completions \"HTTP/1.1 200 OK\"\n",
      "INFO:httpx:HTTP Request: POST https://api.openai.com/v1/chat/completions \"HTTP/1.1 200 OK\"\n",
      "INFO:httpx:HTTP Request: POST https://api.openai.com/v1/chat/completions \"HTTP/1.1 200 OK\"\n",
      "INFO:httpx:HTTP Request: POST https://api.openai.com/v1/chat/completions \"HTTP/1.1 200 OK\"\n",
      "INFO:httpx:HTTP Request: POST https://api.openai.com/v1/chat/completions \"HTTP/1.1 200 OK\"\n",
      "INFO:httpx:HTTP Request: POST https://api.openai.com/v1/chat/completions \"HTTP/1.1 200 OK\"\n",
      "INFO:httpx:HTTP Request: POST https://api.openai.com/v1/chat/completions \"HTTP/1.1 200 OK\"\n",
      "INFO:httpx:HTTP Request: POST https://api.openai.com/v1/chat/completions \"HTTP/1.1 200 OK\"\n",
      "INFO:httpx:HTTP Request: POST https://api.openai.com/v1/chat/completions \"HTTP/1.1 200 OK\"\n",
      "INFO:httpx:HTTP Request: POST https://api.openai.com/v1/chat/completions \"HTTP/1.1 200 OK\"\n",
      "ERROR:ragas.executor:Exception raised in Job[247]: TimeoutError()\n",
      "ERROR:ragas.executor:Exception raised in Job[248]: TimeoutError()\n",
      "INFO:httpx:HTTP Request: POST https://api.openai.com/v1/chat/completions \"HTTP/1.1 200 OK\"\n",
      "INFO:httpx:HTTP Request: POST https://api.openai.com/v1/chat/completions \"HTTP/1.1 200 OK\"\n",
      "INFO:httpx:HTTP Request: POST https://api.openai.com/v1/chat/completions \"HTTP/1.1 200 OK\"\n",
      "INFO:httpx:HTTP Request: POST https://api.openai.com/v1/chat/completions \"HTTP/1.1 200 OK\"\n",
      "INFO:httpx:HTTP Request: POST https://api.openai.com/v1/chat/completions \"HTTP/1.1 200 OK\"\n",
      "INFO:httpx:HTTP Request: POST https://api.openai.com/v1/chat/completions \"HTTP/1.1 200 OK\"\n",
      "INFO:httpx:HTTP Request: POST https://api.openai.com/v1/chat/completions \"HTTP/1.1 200 OK\"\n",
      "INFO:httpx:HTTP Request: POST https://api.openai.com/v1/chat/completions \"HTTP/1.1 200 OK\"\n",
      "INFO:httpx:HTTP Request: POST https://api.openai.com/v1/chat/completions \"HTTP/1.1 200 OK\"\n",
      "INFO:httpx:HTTP Request: POST https://api.openai.com/v1/chat/completions \"HTTP/1.1 200 OK\"\n",
      "INFO:httpx:HTTP Request: POST https://api.openai.com/v1/chat/completions \"HTTP/1.1 200 OK\"\n",
      "INFO:httpx:HTTP Request: POST https://api.openai.com/v1/chat/completions \"HTTP/1.1 200 OK\"\n",
      "INFO:httpx:HTTP Request: POST https://api.openai.com/v1/chat/completions \"HTTP/1.1 200 OK\"\n",
      "INFO:httpx:HTTP Request: POST https://api.openai.com/v1/chat/completions \"HTTP/1.1 200 OK\"\n",
      "INFO:httpx:HTTP Request: POST https://api.openai.com/v1/chat/completions \"HTTP/1.1 200 OK\"\n",
      "INFO:httpx:HTTP Request: POST https://api.openai.com/v1/chat/completions \"HTTP/1.1 200 OK\"\n",
      "INFO:httpx:HTTP Request: POST https://api.openai.com/v1/chat/completions \"HTTP/1.1 200 OK\"\n",
      "INFO:httpx:HTTP Request: POST https://api.openai.com/v1/chat/completions \"HTTP/1.1 200 OK\"\n",
      "INFO:httpx:HTTP Request: POST https://api.openai.com/v1/chat/completions \"HTTP/1.1 200 OK\"\n",
      "INFO:httpx:HTTP Request: POST https://api.openai.com/v1/chat/completions \"HTTP/1.1 200 OK\"\n",
      "INFO:httpx:HTTP Request: POST https://api.openai.com/v1/chat/completions \"HTTP/1.1 200 OK\"\n",
      "INFO:httpx:HTTP Request: POST https://api.openai.com/v1/chat/completions \"HTTP/1.1 200 OK\"\n",
      "INFO:httpx:HTTP Request: POST https://api.openai.com/v1/chat/completions \"HTTP/1.1 200 OK\"\n",
      "INFO:httpx:HTTP Request: POST https://api.openai.com/v1/chat/completions \"HTTP/1.1 200 OK\"\n",
      "INFO:httpx:HTTP Request: POST https://api.openai.com/v1/chat/completions \"HTTP/1.1 200 OK\"\n",
      "INFO:httpx:HTTP Request: POST https://api.openai.com/v1/chat/completions \"HTTP/1.1 200 OK\"\n",
      "INFO:httpx:HTTP Request: POST https://api.openai.com/v1/chat/completions \"HTTP/1.1 200 OK\"\n",
      "INFO:httpx:HTTP Request: POST https://api.openai.com/v1/chat/completions \"HTTP/1.1 200 OK\"\n",
      "INFO:httpx:HTTP Request: POST https://api.openai.com/v1/chat/completions \"HTTP/1.1 200 OK\"\n",
      "INFO:httpx:HTTP Request: POST https://api.openai.com/v1/chat/completions \"HTTP/1.1 200 OK\"\n",
      "INFO:httpx:HTTP Request: POST https://api.openai.com/v1/chat/completions \"HTTP/1.1 200 OK\"\n",
      "INFO:httpx:HTTP Request: POST https://api.openai.com/v1/chat/completions \"HTTP/1.1 200 OK\"\n",
      "INFO:httpx:HTTP Request: POST https://api.openai.com/v1/chat/completions \"HTTP/1.1 200 OK\"\n",
      "INFO:httpx:HTTP Request: POST https://api.openai.com/v1/chat/completions \"HTTP/1.1 200 OK\"\n",
      "INFO:httpx:HTTP Request: POST https://api.openai.com/v1/chat/completions \"HTTP/1.1 200 OK\"\n",
      "INFO:httpx:HTTP Request: POST https://api.openai.com/v1/chat/completions \"HTTP/1.1 200 OK\"\n",
      "INFO:httpx:HTTP Request: POST https://api.openai.com/v1/chat/completions \"HTTP/1.1 200 OK\"\n",
      "INFO:httpx:HTTP Request: POST https://api.openai.com/v1/chat/completions \"HTTP/1.1 200 OK\"\n",
      "INFO:httpx:HTTP Request: POST https://api.openai.com/v1/chat/completions \"HTTP/1.1 200 OK\"\n",
      "INFO:httpx:HTTP Request: POST https://api.openai.com/v1/chat/completions \"HTTP/1.1 200 OK\"\n",
      "INFO:httpx:HTTP Request: POST https://api.openai.com/v1/chat/completions \"HTTP/1.1 200 OK\"\n",
      "INFO:httpx:HTTP Request: POST https://api.openai.com/v1/chat/completions \"HTTP/1.1 200 OK\"\n",
      "INFO:httpx:HTTP Request: POST https://api.openai.com/v1/chat/completions \"HTTP/1.1 200 OK\"\n",
      "INFO:httpx:HTTP Request: POST https://api.openai.com/v1/chat/completions \"HTTP/1.1 200 OK\"\n",
      "INFO:httpx:HTTP Request: POST https://api.openai.com/v1/chat/completions \"HTTP/1.1 200 OK\"\n",
      "INFO:httpx:HTTP Request: POST https://api.openai.com/v1/chat/completions \"HTTP/1.1 200 OK\"\n",
      "INFO:httpx:HTTP Request: POST https://api.openai.com/v1/chat/completions \"HTTP/1.1 200 OK\"\n",
      "INFO:httpx:HTTP Request: POST https://api.openai.com/v1/chat/completions \"HTTP/1.1 200 OK\"\n",
      "INFO:httpx:HTTP Request: POST https://api.openai.com/v1/chat/completions \"HTTP/1.1 200 OK\"\n",
      "INFO:httpx:HTTP Request: POST https://api.openai.com/v1/chat/completions \"HTTP/1.1 200 OK\"\n",
      "INFO:httpx:HTTP Request: POST https://api.openai.com/v1/chat/completions \"HTTP/1.1 200 OK\"\n",
      "INFO:httpx:HTTP Request: POST https://api.openai.com/v1/chat/completions \"HTTP/1.1 200 OK\"\n",
      "INFO:httpx:HTTP Request: POST https://api.openai.com/v1/chat/completions \"HTTP/1.1 200 OK\"\n",
      "INFO:httpx:HTTP Request: POST https://api.openai.com/v1/chat/completions \"HTTP/1.1 200 OK\"\n",
      "INFO:httpx:HTTP Request: POST https://api.openai.com/v1/chat/completions \"HTTP/1.1 200 OK\"\n",
      "INFO:httpx:HTTP Request: POST https://api.openai.com/v1/chat/completions \"HTTP/1.1 200 OK\"\n",
      "INFO:httpx:HTTP Request: POST https://api.openai.com/v1/chat/completions \"HTTP/1.1 200 OK\"\n",
      "INFO:httpx:HTTP Request: POST https://api.openai.com/v1/chat/completions \"HTTP/1.1 200 OK\"\n",
      "INFO:httpx:HTTP Request: POST https://api.openai.com/v1/chat/completions \"HTTP/1.1 200 OK\"\n",
      "INFO:httpx:HTTP Request: POST https://api.openai.com/v1/chat/completions \"HTTP/1.1 200 OK\"\n",
      "INFO:httpx:HTTP Request: POST https://api.openai.com/v1/chat/completions \"HTTP/1.1 200 OK\"\n",
      "INFO:httpx:HTTP Request: POST https://api.openai.com/v1/chat/completions \"HTTP/1.1 200 OK\"\n",
      "INFO:httpx:HTTP Request: POST https://api.openai.com/v1/chat/completions \"HTTP/1.1 200 OK\"\n",
      "INFO:httpx:HTTP Request: POST https://api.openai.com/v1/chat/completions \"HTTP/1.1 200 OK\"\n",
      "INFO:httpx:HTTP Request: POST https://api.openai.com/v1/chat/completions \"HTTP/1.1 200 OK\"\n",
      "INFO:httpx:HTTP Request: POST https://api.openai.com/v1/chat/completions \"HTTP/1.1 200 OK\"\n",
      "INFO:httpx:HTTP Request: POST https://api.openai.com/v1/chat/completions \"HTTP/1.1 200 OK\"\n",
      "INFO:httpx:HTTP Request: POST https://api.openai.com/v1/chat/completions \"HTTP/1.1 200 OK\"\n",
      "INFO:httpx:HTTP Request: POST https://api.openai.com/v1/chat/completions \"HTTP/1.1 200 OK\"\n",
      "INFO:httpx:HTTP Request: POST https://api.openai.com/v1/chat/completions \"HTTP/1.1 200 OK\"\n",
      "INFO:httpx:HTTP Request: POST https://api.openai.com/v1/chat/completions \"HTTP/1.1 200 OK\"\n",
      "INFO:httpx:HTTP Request: POST https://api.openai.com/v1/chat/completions \"HTTP/1.1 200 OK\"\n",
      "INFO:httpx:HTTP Request: POST https://api.openai.com/v1/chat/completions \"HTTP/1.1 200 OK\"\n",
      "INFO:httpx:HTTP Request: POST https://api.openai.com/v1/chat/completions \"HTTP/1.1 200 OK\"\n",
      "INFO:httpx:HTTP Request: POST https://api.openai.com/v1/chat/completions \"HTTP/1.1 200 OK\"\n",
      "INFO:httpx:HTTP Request: POST https://api.openai.com/v1/chat/completions \"HTTP/1.1 200 OK\"\n",
      "INFO:httpx:HTTP Request: POST https://api.openai.com/v1/chat/completions \"HTTP/1.1 200 OK\"\n",
      "INFO:httpx:HTTP Request: POST https://api.openai.com/v1/chat/completions \"HTTP/1.1 200 OK\"\n",
      "INFO:httpx:HTTP Request: POST https://api.openai.com/v1/chat/completions \"HTTP/1.1 200 OK\"\n",
      "INFO:httpx:HTTP Request: POST https://api.openai.com/v1/chat/completions \"HTTP/1.1 200 OK\"\n",
      "INFO:httpx:HTTP Request: POST https://api.openai.com/v1/chat/completions \"HTTP/1.1 200 OK\"\n",
      "INFO:httpx:HTTP Request: POST https://api.openai.com/v1/chat/completions \"HTTP/1.1 200 OK\"\n",
      "INFO:httpx:HTTP Request: POST https://api.openai.com/v1/chat/completions \"HTTP/1.1 200 OK\"\n",
      "INFO:httpx:HTTP Request: POST https://api.openai.com/v1/chat/completions \"HTTP/1.1 200 OK\"\n",
      "INFO:httpx:HTTP Request: POST https://api.openai.com/v1/chat/completions \"HTTP/1.1 200 OK\"\n",
      "INFO:httpx:HTTP Request: POST https://api.openai.com/v1/chat/completions \"HTTP/1.1 200 OK\"\n",
      "INFO:httpx:HTTP Request: POST https://api.openai.com/v1/chat/completions \"HTTP/1.1 200 OK\"\n",
      "INFO:httpx:HTTP Request: POST https://api.openai.com/v1/chat/completions \"HTTP/1.1 200 OK\"\n",
      "INFO:httpx:HTTP Request: POST https://api.openai.com/v1/chat/completions \"HTTP/1.1 200 OK\"\n",
      "INFO:httpx:HTTP Request: POST https://api.openai.com/v1/chat/completions \"HTTP/1.1 200 OK\"\n",
      "INFO:httpx:HTTP Request: POST https://api.openai.com/v1/chat/completions \"HTTP/1.1 200 OK\"\n",
      "INFO:httpx:HTTP Request: POST https://api.openai.com/v1/chat/completions \"HTTP/1.1 200 OK\"\n",
      "INFO:httpx:HTTP Request: POST https://api.openai.com/v1/chat/completions \"HTTP/1.1 200 OK\"\n",
      "INFO:httpx:HTTP Request: POST https://api.openai.com/v1/chat/completions \"HTTP/1.1 200 OK\"\n",
      "INFO:httpx:HTTP Request: POST https://api.openai.com/v1/chat/completions \"HTTP/1.1 200 OK\"\n",
      "INFO:httpx:HTTP Request: POST https://api.openai.com/v1/chat/completions \"HTTP/1.1 200 OK\"\n",
      "INFO:httpx:HTTP Request: POST https://api.openai.com/v1/chat/completions \"HTTP/1.1 200 OK\"\n",
      "INFO:httpx:HTTP Request: POST https://api.openai.com/v1/chat/completions \"HTTP/1.1 200 OK\"\n",
      "INFO:httpx:HTTP Request: POST https://api.openai.com/v1/chat/completions \"HTTP/1.1 200 OK\"\n",
      "INFO:httpx:HTTP Request: POST https://api.openai.com/v1/chat/completions \"HTTP/1.1 200 OK\"\n",
      "INFO:httpx:HTTP Request: POST https://api.openai.com/v1/chat/completions \"HTTP/1.1 200 OK\"\n",
      "INFO:httpx:HTTP Request: POST https://api.openai.com/v1/chat/completions \"HTTP/1.1 200 OK\"\n",
      "INFO:httpx:HTTP Request: POST https://api.openai.com/v1/chat/completions \"HTTP/1.1 200 OK\"\n",
      "INFO:httpx:HTTP Request: POST https://api.openai.com/v1/chat/completions \"HTTP/1.1 200 OK\"\n",
      "INFO:httpx:HTTP Request: POST https://api.openai.com/v1/chat/completions \"HTTP/1.1 200 OK\"\n",
      "INFO:httpx:HTTP Request: POST https://api.openai.com/v1/chat/completions \"HTTP/1.1 200 OK\"\n",
      "INFO:httpx:HTTP Request: POST https://api.openai.com/v1/chat/completions \"HTTP/1.1 200 OK\"\n",
      "INFO:httpx:HTTP Request: POST https://api.openai.com/v1/chat/completions \"HTTP/1.1 200 OK\"\n",
      "INFO:httpx:HTTP Request: POST https://api.openai.com/v1/chat/completions \"HTTP/1.1 200 OK\"\n",
      "INFO:httpx:HTTP Request: POST https://api.openai.com/v1/chat/completions \"HTTP/1.1 200 OK\"\n",
      "INFO:httpx:HTTP Request: POST https://api.openai.com/v1/chat/completions \"HTTP/1.1 200 OK\"\n",
      "INFO:httpx:HTTP Request: POST https://api.openai.com/v1/chat/completions \"HTTP/1.1 200 OK\"\n",
      "INFO:httpx:HTTP Request: POST https://api.openai.com/v1/chat/completions \"HTTP/1.1 200 OK\"\n",
      "INFO:httpx:HTTP Request: POST https://api.openai.com/v1/chat/completions \"HTTP/1.1 200 OK\"\n",
      "INFO:httpx:HTTP Request: POST https://api.openai.com/v1/chat/completions \"HTTP/1.1 200 OK\"\n",
      "INFO:httpx:HTTP Request: POST https://api.openai.com/v1/chat/completions \"HTTP/1.1 200 OK\"\n",
      "INFO:httpx:HTTP Request: POST https://api.openai.com/v1/chat/completions \"HTTP/1.1 200 OK\"\n",
      "INFO:httpx:HTTP Request: POST https://api.openai.com/v1/chat/completions \"HTTP/1.1 200 OK\"\n",
      "INFO:httpx:HTTP Request: POST https://api.openai.com/v1/chat/completions \"HTTP/1.1 200 OK\"\n",
      "ERROR:ragas.executor:Exception raised in Job[296]: TimeoutError()\n",
      "ERROR:ragas.executor:Exception raised in Job[295]: TimeoutError()\n",
      "INFO:httpx:HTTP Request: POST https://api.openai.com/v1/chat/completions \"HTTP/1.1 200 OK\"\n",
      "INFO:httpx:HTTP Request: POST https://api.openai.com/v1/chat/completions \"HTTP/1.1 200 OK\"\n",
      "INFO:httpx:HTTP Request: POST https://api.openai.com/v1/chat/completions \"HTTP/1.1 200 OK\"\n",
      "INFO:httpx:HTTP Request: POST https://api.openai.com/v1/chat/completions \"HTTP/1.1 200 OK\"\n",
      "INFO:httpx:HTTP Request: POST https://api.openai.com/v1/chat/completions \"HTTP/1.1 200 OK\"\n",
      "INFO:httpx:HTTP Request: POST https://api.openai.com/v1/chat/completions \"HTTP/1.1 200 OK\"\n",
      "INFO:httpx:HTTP Request: POST https://api.openai.com/v1/chat/completions \"HTTP/1.1 200 OK\"\n",
      "INFO:httpx:HTTP Request: POST https://api.openai.com/v1/chat/completions \"HTTP/1.1 200 OK\"\n",
      "INFO:httpx:HTTP Request: POST https://api.openai.com/v1/chat/completions \"HTTP/1.1 200 OK\"\n",
      "INFO:httpx:HTTP Request: POST https://api.openai.com/v1/chat/completions \"HTTP/1.1 200 OK\"\n",
      "INFO:httpx:HTTP Request: POST https://api.openai.com/v1/chat/completions \"HTTP/1.1 200 OK\"\n",
      "INFO:httpx:HTTP Request: POST https://api.openai.com/v1/chat/completions \"HTTP/1.1 200 OK\"\n",
      "INFO:httpx:HTTP Request: POST https://api.openai.com/v1/chat/completions \"HTTP/1.1 200 OK\"\n",
      "INFO:httpx:HTTP Request: POST https://api.openai.com/v1/chat/completions \"HTTP/1.1 200 OK\"\n",
      "INFO:httpx:HTTP Request: POST https://api.openai.com/v1/chat/completions \"HTTP/1.1 200 OK\"\n",
      "INFO:httpx:HTTP Request: POST https://api.openai.com/v1/chat/completions \"HTTP/1.1 200 OK\"\n",
      "INFO:httpx:HTTP Request: POST https://api.openai.com/v1/chat/completions \"HTTP/1.1 200 OK\"\n",
      "INFO:httpx:HTTP Request: POST https://api.openai.com/v1/chat/completions \"HTTP/1.1 200 OK\"\n",
      "INFO:httpx:HTTP Request: POST https://api.openai.com/v1/chat/completions \"HTTP/1.1 200 OK\"\n",
      "INFO:httpx:HTTP Request: POST https://api.openai.com/v1/chat/completions \"HTTP/1.1 200 OK\"\n",
      "INFO:httpx:HTTP Request: POST https://api.openai.com/v1/chat/completions \"HTTP/1.1 200 OK\"\n",
      "INFO:httpx:HTTP Request: POST https://api.openai.com/v1/chat/completions \"HTTP/1.1 200 OK\"\n",
      "INFO:httpx:HTTP Request: POST https://api.openai.com/v1/chat/completions \"HTTP/1.1 200 OK\"\n",
      "INFO:httpx:HTTP Request: POST https://api.openai.com/v1/chat/completions \"HTTP/1.1 200 OK\"\n",
      "INFO:httpx:HTTP Request: POST https://api.openai.com/v1/chat/completions \"HTTP/1.1 200 OK\"\n",
      "INFO:httpx:HTTP Request: POST https://api.openai.com/v1/chat/completions \"HTTP/1.1 200 OK\"\n",
      "INFO:httpx:HTTP Request: POST https://api.openai.com/v1/chat/completions \"HTTP/1.1 200 OK\"\n",
      "INFO:httpx:HTTP Request: POST https://api.openai.com/v1/chat/completions \"HTTP/1.1 200 OK\"\n",
      "INFO:httpx:HTTP Request: POST https://api.openai.com/v1/chat/completions \"HTTP/1.1 200 OK\"\n",
      "INFO:httpx:HTTP Request: POST https://api.openai.com/v1/chat/completions \"HTTP/1.1 200 OK\"\n",
      "INFO:httpx:HTTP Request: POST https://api.openai.com/v1/chat/completions \"HTTP/1.1 200 OK\"\n",
      "INFO:httpx:HTTP Request: POST https://api.openai.com/v1/chat/completions \"HTTP/1.1 200 OK\"\n",
      "INFO:httpx:HTTP Request: POST https://api.openai.com/v1/chat/completions \"HTTP/1.1 200 OK\"\n",
      "INFO:httpx:HTTP Request: POST https://api.openai.com/v1/chat/completions \"HTTP/1.1 200 OK\"\n",
      "INFO:httpx:HTTP Request: POST https://api.openai.com/v1/chat/completions \"HTTP/1.1 200 OK\"\n",
      "INFO:httpx:HTTP Request: POST https://api.openai.com/v1/chat/completions \"HTTP/1.1 200 OK\"\n",
      "INFO:httpx:HTTP Request: POST https://api.openai.com/v1/chat/completions \"HTTP/1.1 200 OK\"\n",
      "INFO:httpx:HTTP Request: POST https://api.openai.com/v1/chat/completions \"HTTP/1.1 200 OK\"\n",
      "INFO:httpx:HTTP Request: POST https://api.openai.com/v1/chat/completions \"HTTP/1.1 200 OK\"\n",
      "INFO:httpx:HTTP Request: POST https://api.openai.com/v1/chat/completions \"HTTP/1.1 200 OK\"\n",
      "INFO:httpx:HTTP Request: POST https://api.openai.com/v1/chat/completions \"HTTP/1.1 200 OK\"\n",
      "INFO:httpx:HTTP Request: POST https://api.openai.com/v1/chat/completions \"HTTP/1.1 200 OK\"\n",
      "INFO:httpx:HTTP Request: POST https://api.openai.com/v1/chat/completions \"HTTP/1.1 200 OK\"\n",
      "INFO:httpx:HTTP Request: POST https://api.openai.com/v1/chat/completions \"HTTP/1.1 200 OK\"\n",
      "INFO:httpx:HTTP Request: POST https://api.openai.com/v1/chat/completions \"HTTP/1.1 200 OK\"\n",
      "INFO:httpx:HTTP Request: POST https://api.openai.com/v1/chat/completions \"HTTP/1.1 200 OK\"\n",
      "INFO:httpx:HTTP Request: POST https://api.openai.com/v1/chat/completions \"HTTP/1.1 200 OK\"\n",
      "INFO:httpx:HTTP Request: POST https://api.openai.com/v1/chat/completions \"HTTP/1.1 200 OK\"\n",
      "INFO:httpx:HTTP Request: POST https://api.openai.com/v1/chat/completions \"HTTP/1.1 200 OK\"\n",
      "INFO:httpx:HTTP Request: POST https://api.openai.com/v1/chat/completions \"HTTP/1.1 200 OK\"\n",
      "INFO:httpx:HTTP Request: POST https://api.openai.com/v1/chat/completions \"HTTP/1.1 200 OK\"\n",
      "INFO:httpx:HTTP Request: POST https://api.openai.com/v1/chat/completions \"HTTP/1.1 200 OK\"\n",
      "INFO:httpx:HTTP Request: POST https://api.openai.com/v1/chat/completions \"HTTP/1.1 200 OK\"\n",
      "INFO:httpx:HTTP Request: POST https://api.openai.com/v1/chat/completions \"HTTP/1.1 200 OK\"\n",
      "INFO:httpx:HTTP Request: POST https://api.openai.com/v1/chat/completions \"HTTP/1.1 200 OK\"\n",
      "INFO:httpx:HTTP Request: POST https://api.openai.com/v1/chat/completions \"HTTP/1.1 200 OK\"\n",
      "INFO:httpx:HTTP Request: POST https://api.openai.com/v1/chat/completions \"HTTP/1.1 200 OK\"\n",
      "INFO:httpx:HTTP Request: POST https://api.openai.com/v1/chat/completions \"HTTP/1.1 200 OK\"\n",
      "INFO:httpx:HTTP Request: POST https://api.openai.com/v1/chat/completions \"HTTP/1.1 200 OK\"\n",
      "INFO:httpx:HTTP Request: POST https://api.openai.com/v1/chat/completions \"HTTP/1.1 200 OK\"\n",
      "INFO:httpx:HTTP Request: POST https://api.openai.com/v1/chat/completions \"HTTP/1.1 200 OK\"\n",
      "INFO:httpx:HTTP Request: POST https://api.openai.com/v1/chat/completions \"HTTP/1.1 200 OK\"\n",
      "INFO:httpx:HTTP Request: POST https://api.openai.com/v1/chat/completions \"HTTP/1.1 200 OK\"\n",
      "INFO:httpx:HTTP Request: POST https://api.openai.com/v1/chat/completions \"HTTP/1.1 200 OK\"\n",
      "INFO:httpx:HTTP Request: POST https://api.openai.com/v1/chat/completions \"HTTP/1.1 200 OK\"\n",
      "INFO:httpx:HTTP Request: POST https://api.openai.com/v1/chat/completions \"HTTP/1.1 200 OK\"\n",
      "INFO:httpx:HTTP Request: POST https://api.openai.com/v1/chat/completions \"HTTP/1.1 200 OK\"\n",
      "INFO:httpx:HTTP Request: POST https://api.openai.com/v1/chat/completions \"HTTP/1.1 200 OK\"\n",
      "INFO:httpx:HTTP Request: POST https://api.openai.com/v1/chat/completions \"HTTP/1.1 200 OK\"\n",
      "INFO:httpx:HTTP Request: POST https://api.openai.com/v1/chat/completions \"HTTP/1.1 200 OK\"\n",
      "INFO:httpx:HTTP Request: POST https://api.openai.com/v1/chat/completions \"HTTP/1.1 200 OK\"\n",
      "INFO:httpx:HTTP Request: POST https://api.openai.com/v1/chat/completions \"HTTP/1.1 200 OK\"\n",
      "INFO:httpx:HTTP Request: POST https://api.openai.com/v1/chat/completions \"HTTP/1.1 200 OK\"\n",
      "INFO:httpx:HTTP Request: POST https://api.openai.com/v1/chat/completions \"HTTP/1.1 200 OK\"\n",
      "INFO:httpx:HTTP Request: POST https://api.openai.com/v1/chat/completions \"HTTP/1.1 200 OK\"\n",
      "INFO:httpx:HTTP Request: POST https://api.openai.com/v1/chat/completions \"HTTP/1.1 200 OK\"\n",
      "INFO:httpx:HTTP Request: POST https://api.openai.com/v1/chat/completions \"HTTP/1.1 200 OK\"\n",
      "INFO:httpx:HTTP Request: POST https://api.openai.com/v1/chat/completions \"HTTP/1.1 200 OK\"\n",
      "INFO:httpx:HTTP Request: POST https://api.openai.com/v1/chat/completions \"HTTP/1.1 200 OK\"\n",
      "INFO:httpx:HTTP Request: POST https://api.openai.com/v1/chat/completions \"HTTP/1.1 200 OK\"\n",
      "INFO:httpx:HTTP Request: POST https://api.openai.com/v1/chat/completions \"HTTP/1.1 200 OK\"\n",
      "INFO:httpx:HTTP Request: POST https://api.openai.com/v1/chat/completions \"HTTP/1.1 200 OK\"\n",
      "INFO:httpx:HTTP Request: POST https://api.openai.com/v1/chat/completions \"HTTP/1.1 200 OK\"\n",
      "INFO:httpx:HTTP Request: POST https://api.openai.com/v1/chat/completions \"HTTP/1.1 200 OK\"\n",
      "INFO:httpx:HTTP Request: POST https://api.openai.com/v1/chat/completions \"HTTP/1.1 200 OK\"\n",
      "INFO:httpx:HTTP Request: POST https://api.openai.com/v1/chat/completions \"HTTP/1.1 200 OK\"\n",
      "INFO:httpx:HTTP Request: POST https://api.openai.com/v1/chat/completions \"HTTP/1.1 200 OK\"\n",
      "INFO:httpx:HTTP Request: POST https://api.openai.com/v1/chat/completions \"HTTP/1.1 200 OK\"\n",
      "INFO:httpx:HTTP Request: POST https://api.openai.com/v1/chat/completions \"HTTP/1.1 200 OK\"\n",
      "INFO:httpx:HTTP Request: POST https://api.openai.com/v1/chat/completions \"HTTP/1.1 200 OK\"\n",
      "INFO:httpx:HTTP Request: POST https://api.openai.com/v1/chat/completions \"HTTP/1.1 200 OK\"\n",
      "INFO:httpx:HTTP Request: POST https://api.openai.com/v1/chat/completions \"HTTP/1.1 200 OK\"\n",
      "INFO:httpx:HTTP Request: POST https://api.openai.com/v1/chat/completions \"HTTP/1.1 200 OK\"\n",
      "INFO:httpx:HTTP Request: POST https://api.openai.com/v1/chat/completions \"HTTP/1.1 200 OK\"\n",
      "INFO:httpx:HTTP Request: POST https://api.openai.com/v1/chat/completions \"HTTP/1.1 200 OK\"\n",
      "INFO:httpx:HTTP Request: POST https://api.openai.com/v1/chat/completions \"HTTP/1.1 200 OK\"\n",
      "INFO:httpx:HTTP Request: POST https://api.openai.com/v1/chat/completions \"HTTP/1.1 200 OK\"\n",
      "INFO:httpx:HTTP Request: POST https://api.openai.com/v1/chat/completions \"HTTP/1.1 200 OK\"\n",
      "INFO:httpx:HTTP Request: POST https://api.openai.com/v1/chat/completions \"HTTP/1.1 200 OK\"\n",
      "INFO:httpx:HTTP Request: POST https://api.openai.com/v1/chat/completions \"HTTP/1.1 200 OK\"\n",
      "INFO:httpx:HTTP Request: POST https://api.openai.com/v1/chat/completions \"HTTP/1.1 200 OK\"\n",
      "INFO:httpx:HTTP Request: POST https://api.openai.com/v1/chat/completions \"HTTP/1.1 200 OK\"\n",
      "INFO:httpx:HTTP Request: POST https://api.openai.com/v1/chat/completions \"HTTP/1.1 200 OK\"\n",
      "INFO:httpx:HTTP Request: POST https://api.openai.com/v1/chat/completions \"HTTP/1.1 200 OK\"\n",
      "INFO:httpx:HTTP Request: POST https://api.openai.com/v1/chat/completions \"HTTP/1.1 200 OK\"\n",
      "INFO:httpx:HTTP Request: POST https://api.openai.com/v1/chat/completions \"HTTP/1.1 200 OK\"\n",
      "INFO:httpx:HTTP Request: POST https://api.openai.com/v1/chat/completions \"HTTP/1.1 200 OK\"\n",
      "INFO:httpx:HTTP Request: POST https://api.openai.com/v1/chat/completions \"HTTP/1.1 200 OK\"\n",
      "INFO:httpx:HTTP Request: POST https://api.openai.com/v1/chat/completions \"HTTP/1.1 200 OK\"\n",
      "INFO:httpx:HTTP Request: POST https://api.openai.com/v1/chat/completions \"HTTP/1.1 200 OK\"\n",
      "INFO:httpx:HTTP Request: POST https://api.openai.com/v1/chat/completions \"HTTP/1.1 200 OK\"\n",
      "INFO:httpx:HTTP Request: POST https://api.openai.com/v1/chat/completions \"HTTP/1.1 200 OK\"\n",
      "INFO:httpx:HTTP Request: POST https://api.openai.com/v1/chat/completions \"HTTP/1.1 200 OK\"\n",
      "INFO:httpx:HTTP Request: POST https://api.openai.com/v1/chat/completions \"HTTP/1.1 200 OK\"\n",
      "INFO:httpx:HTTP Request: POST https://api.openai.com/v1/chat/completions \"HTTP/1.1 200 OK\"\n",
      "INFO:httpx:HTTP Request: POST https://api.openai.com/v1/chat/completions \"HTTP/1.1 200 OK\"\n",
      "INFO:httpx:HTTP Request: POST https://api.openai.com/v1/chat/completions \"HTTP/1.1 200 OK\"\n",
      "INFO:httpx:HTTP Request: POST https://api.openai.com/v1/chat/completions \"HTTP/1.1 200 OK\"\n",
      "INFO:httpx:HTTP Request: POST https://api.openai.com/v1/chat/completions \"HTTP/1.1 200 OK\"\n",
      "INFO:httpx:HTTP Request: POST https://api.openai.com/v1/chat/completions \"HTTP/1.1 200 OK\"\n",
      "INFO:httpx:HTTP Request: POST https://api.openai.com/v1/chat/completions \"HTTP/1.1 200 OK\"\n",
      "INFO:httpx:HTTP Request: POST https://api.openai.com/v1/chat/completions \"HTTP/1.1 200 OK\"\n",
      "INFO:httpx:HTTP Request: POST https://api.openai.com/v1/chat/completions \"HTTP/1.1 200 OK\"\n",
      "INFO:httpx:HTTP Request: POST https://api.openai.com/v1/chat/completions \"HTTP/1.1 200 OK\"\n",
      "INFO:httpx:HTTP Request: POST https://api.openai.com/v1/chat/completions \"HTTP/1.1 200 OK\"\n",
      "INFO:httpx:HTTP Request: POST https://api.openai.com/v1/chat/completions \"HTTP/1.1 200 OK\"\n",
      "INFO:httpx:HTTP Request: POST https://api.openai.com/v1/chat/completions \"HTTP/1.1 200 OK\"\n",
      "INFO:httpx:HTTP Request: POST https://api.openai.com/v1/chat/completions \"HTTP/1.1 200 OK\"\n",
      "INFO:httpx:HTTP Request: POST https://api.openai.com/v1/chat/completions \"HTTP/1.1 200 OK\"\n",
      "INFO:httpx:HTTP Request: POST https://api.openai.com/v1/chat/completions \"HTTP/1.1 200 OK\"\n",
      "INFO:httpx:HTTP Request: POST https://api.openai.com/v1/chat/completions \"HTTP/1.1 200 OK\"\n",
      "INFO:httpx:HTTP Request: POST https://api.openai.com/v1/chat/completions \"HTTP/1.1 200 OK\"\n",
      "INFO:httpx:HTTP Request: POST https://api.openai.com/v1/chat/completions \"HTTP/1.1 200 OK\"\n",
      "INFO:httpx:HTTP Request: POST https://api.openai.com/v1/chat/completions \"HTTP/1.1 200 OK\"\n",
      "INFO:httpx:HTTP Request: POST https://api.openai.com/v1/chat/completions \"HTTP/1.1 200 OK\"\n",
      "INFO:httpx:HTTP Request: POST https://api.openai.com/v1/chat/completions \"HTTP/1.1 200 OK\"\n",
      "ERROR:ragas.executor:Exception raised in Job[338]: TimeoutError()\n",
      "INFO:httpx:HTTP Request: POST https://api.openai.com/v1/chat/completions \"HTTP/1.1 200 OK\"\n",
      "INFO:httpx:HTTP Request: POST https://api.openai.com/v1/chat/completions \"HTTP/1.1 200 OK\"\n",
      "INFO:httpx:HTTP Request: POST https://api.openai.com/v1/chat/completions \"HTTP/1.1 200 OK\"\n",
      "INFO:httpx:HTTP Request: POST https://api.openai.com/v1/chat/completions \"HTTP/1.1 200 OK\"\n",
      "INFO:httpx:HTTP Request: POST https://api.openai.com/v1/chat/completions \"HTTP/1.1 200 OK\"\n",
      "INFO:httpx:HTTP Request: POST https://api.openai.com/v1/chat/completions \"HTTP/1.1 200 OK\"\n",
      "INFO:httpx:HTTP Request: POST https://api.openai.com/v1/chat/completions \"HTTP/1.1 200 OK\"\n",
      "INFO:httpx:HTTP Request: POST https://api.openai.com/v1/chat/completions \"HTTP/1.1 200 OK\"\n",
      "INFO:httpx:HTTP Request: POST https://api.openai.com/v1/chat/completions \"HTTP/1.1 200 OK\"\n",
      "INFO:httpx:HTTP Request: POST https://api.openai.com/v1/chat/completions \"HTTP/1.1 200 OK\"\n",
      "INFO:httpx:HTTP Request: POST https://api.openai.com/v1/chat/completions \"HTTP/1.1 200 OK\"\n",
      "INFO:httpx:HTTP Request: POST https://api.openai.com/v1/chat/completions \"HTTP/1.1 200 OK\"\n",
      "INFO:httpx:HTTP Request: POST https://api.openai.com/v1/chat/completions \"HTTP/1.1 200 OK\"\n",
      "INFO:httpx:HTTP Request: POST https://api.openai.com/v1/chat/completions \"HTTP/1.1 200 OK\"\n",
      "INFO:httpx:HTTP Request: POST https://api.openai.com/v1/chat/completions \"HTTP/1.1 200 OK\"\n",
      "INFO:httpx:HTTP Request: POST https://api.openai.com/v1/chat/completions \"HTTP/1.1 200 OK\"\n",
      "INFO:httpx:HTTP Request: POST https://api.openai.com/v1/chat/completions \"HTTP/1.1 200 OK\"\n",
      "INFO:httpx:HTTP Request: POST https://api.openai.com/v1/chat/completions \"HTTP/1.1 200 OK\"\n",
      "INFO:httpx:HTTP Request: POST https://api.openai.com/v1/chat/completions \"HTTP/1.1 200 OK\"\n",
      "INFO:httpx:HTTP Request: POST https://api.openai.com/v1/chat/completions \"HTTP/1.1 200 OK\"\n",
      "INFO:httpx:HTTP Request: POST https://api.openai.com/v1/chat/completions \"HTTP/1.1 200 OK\"\n",
      "INFO:httpx:HTTP Request: POST https://api.openai.com/v1/chat/completions \"HTTP/1.1 200 OK\"\n",
      "INFO:httpx:HTTP Request: POST https://api.openai.com/v1/chat/completions \"HTTP/1.1 200 OK\"\n",
      "INFO:httpx:HTTP Request: POST https://api.openai.com/v1/chat/completions \"HTTP/1.1 200 OK\"\n",
      "INFO:httpx:HTTP Request: POST https://api.openai.com/v1/chat/completions \"HTTP/1.1 200 OK\"\n",
      "INFO:httpx:HTTP Request: POST https://api.openai.com/v1/chat/completions \"HTTP/1.1 200 OK\"\n",
      "INFO:httpx:HTTP Request: POST https://api.openai.com/v1/chat/completions \"HTTP/1.1 200 OK\"\n",
      "INFO:httpx:HTTP Request: POST https://api.openai.com/v1/chat/completions \"HTTP/1.1 200 OK\"\n",
      "INFO:httpx:HTTP Request: POST https://api.openai.com/v1/chat/completions \"HTTP/1.1 200 OK\"\n",
      "INFO:httpx:HTTP Request: POST https://api.openai.com/v1/chat/completions \"HTTP/1.1 200 OK\"\n",
      "INFO:httpx:HTTP Request: POST https://api.openai.com/v1/chat/completions \"HTTP/1.1 200 OK\"\n",
      "INFO:httpx:HTTP Request: POST https://api.openai.com/v1/chat/completions \"HTTP/1.1 200 OK\"\n",
      "INFO:httpx:HTTP Request: POST https://api.openai.com/v1/chat/completions \"HTTP/1.1 200 OK\"\n",
      "INFO:httpx:HTTP Request: POST https://api.openai.com/v1/chat/completions \"HTTP/1.1 200 OK\"\n",
      "INFO:httpx:HTTP Request: POST https://api.openai.com/v1/chat/completions \"HTTP/1.1 200 OK\"\n",
      "INFO:httpx:HTTP Request: POST https://api.openai.com/v1/chat/completions \"HTTP/1.1 200 OK\"\n",
      "INFO:httpx:HTTP Request: POST https://api.openai.com/v1/chat/completions \"HTTP/1.1 200 OK\"\n",
      "INFO:httpx:HTTP Request: POST https://api.openai.com/v1/chat/completions \"HTTP/1.1 200 OK\"\n",
      "INFO:httpx:HTTP Request: POST https://api.openai.com/v1/chat/completions \"HTTP/1.1 200 OK\"\n",
      "INFO:httpx:HTTP Request: POST https://api.openai.com/v1/chat/completions \"HTTP/1.1 200 OK\"\n",
      "INFO:httpx:HTTP Request: POST https://api.openai.com/v1/chat/completions \"HTTP/1.1 200 OK\"\n",
      "INFO:httpx:HTTP Request: POST https://api.openai.com/v1/chat/completions \"HTTP/1.1 200 OK\"\n",
      "INFO:httpx:HTTP Request: POST https://api.openai.com/v1/chat/completions \"HTTP/1.1 200 OK\"\n",
      "INFO:httpx:HTTP Request: POST https://api.openai.com/v1/chat/completions \"HTTP/1.1 200 OK\"\n",
      "INFO:httpx:HTTP Request: POST https://api.openai.com/v1/chat/completions \"HTTP/1.1 200 OK\"\n",
      "INFO:httpx:HTTP Request: POST https://api.openai.com/v1/chat/completions \"HTTP/1.1 200 OK\"\n",
      "INFO:httpx:HTTP Request: POST https://api.openai.com/v1/chat/completions \"HTTP/1.1 200 OK\"\n",
      "INFO:httpx:HTTP Request: POST https://api.openai.com/v1/chat/completions \"HTTP/1.1 200 OK\"\n",
      "INFO:httpx:HTTP Request: POST https://api.openai.com/v1/chat/completions \"HTTP/1.1 200 OK\"\n",
      "INFO:httpx:HTTP Request: POST https://api.openai.com/v1/chat/completions \"HTTP/1.1 200 OK\"\n",
      "INFO:httpx:HTTP Request: POST https://api.openai.com/v1/chat/completions \"HTTP/1.1 200 OK\"\n",
      "INFO:httpx:HTTP Request: POST https://api.openai.com/v1/chat/completions \"HTTP/1.1 200 OK\"\n",
      "INFO:httpx:HTTP Request: POST https://api.openai.com/v1/chat/completions \"HTTP/1.1 200 OK\"\n",
      "INFO:httpx:HTTP Request: POST https://api.openai.com/v1/chat/completions \"HTTP/1.1 200 OK\"\n",
      "INFO:httpx:HTTP Request: POST https://api.openai.com/v1/chat/completions \"HTTP/1.1 200 OK\"\n",
      "INFO:httpx:HTTP Request: POST https://api.openai.com/v1/chat/completions \"HTTP/1.1 200 OK\"\n",
      "INFO:httpx:HTTP Request: POST https://api.openai.com/v1/chat/completions \"HTTP/1.1 200 OK\"\n",
      "INFO:httpx:HTTP Request: POST https://api.openai.com/v1/chat/completions \"HTTP/1.1 200 OK\"\n",
      "INFO:httpx:HTTP Request: POST https://api.openai.com/v1/chat/completions \"HTTP/1.1 200 OK\"\n",
      "INFO:httpx:HTTP Request: POST https://api.openai.com/v1/chat/completions \"HTTP/1.1 200 OK\"\n",
      "INFO:httpx:HTTP Request: POST https://api.openai.com/v1/chat/completions \"HTTP/1.1 200 OK\"\n",
      "INFO:httpx:HTTP Request: POST https://api.openai.com/v1/chat/completions \"HTTP/1.1 200 OK\"\n",
      "INFO:httpx:HTTP Request: POST https://api.openai.com/v1/chat/completions \"HTTP/1.1 200 OK\"\n",
      "INFO:httpx:HTTP Request: POST https://api.openai.com/v1/chat/completions \"HTTP/1.1 200 OK\"\n",
      "INFO:httpx:HTTP Request: POST https://api.openai.com/v1/chat/completions \"HTTP/1.1 200 OK\"\n",
      "INFO:httpx:HTTP Request: POST https://api.openai.com/v1/chat/completions \"HTTP/1.1 200 OK\"\n",
      "INFO:httpx:HTTP Request: POST https://api.openai.com/v1/chat/completions \"HTTP/1.1 200 OK\"\n",
      "INFO:httpx:HTTP Request: POST https://api.openai.com/v1/chat/completions \"HTTP/1.1 200 OK\"\n",
      "INFO:httpx:HTTP Request: POST https://api.openai.com/v1/chat/completions \"HTTP/1.1 200 OK\"\n",
      "INFO:httpx:HTTP Request: POST https://api.openai.com/v1/chat/completions \"HTTP/1.1 200 OK\"\n",
      "INFO:httpx:HTTP Request: POST https://api.openai.com/v1/chat/completions \"HTTP/1.1 200 OK\"\n",
      "INFO:httpx:HTTP Request: POST https://api.openai.com/v1/chat/completions \"HTTP/1.1 200 OK\"\n",
      "INFO:httpx:HTTP Request: POST https://api.openai.com/v1/chat/completions \"HTTP/1.1 200 OK\"\n",
      "INFO:httpx:HTTP Request: POST https://api.openai.com/v1/chat/completions \"HTTP/1.1 200 OK\"\n",
      "INFO:httpx:HTTP Request: POST https://api.openai.com/v1/chat/completions \"HTTP/1.1 200 OK\"\n",
      "ERROR:ragas.executor:Exception raised in Job[367]: TimeoutError()\n",
      "INFO:httpx:HTTP Request: POST https://api.openai.com/v1/chat/completions \"HTTP/1.1 200 OK\"\n",
      "INFO:httpx:HTTP Request: POST https://api.openai.com/v1/chat/completions \"HTTP/1.1 200 OK\"\n",
      "INFO:httpx:HTTP Request: POST https://api.openai.com/v1/chat/completions \"HTTP/1.1 200 OK\"\n",
      "INFO:httpx:HTTP Request: POST https://api.openai.com/v1/chat/completions \"HTTP/1.1 200 OK\"\n",
      "INFO:httpx:HTTP Request: POST https://api.openai.com/v1/chat/completions \"HTTP/1.1 200 OK\"\n",
      "INFO:httpx:HTTP Request: POST https://api.openai.com/v1/chat/completions \"HTTP/1.1 200 OK\"\n",
      "INFO:httpx:HTTP Request: POST https://api.openai.com/v1/chat/completions \"HTTP/1.1 200 OK\"\n",
      "INFO:httpx:HTTP Request: POST https://api.openai.com/v1/chat/completions \"HTTP/1.1 200 OK\"\n",
      "INFO:httpx:HTTP Request: POST https://api.openai.com/v1/chat/completions \"HTTP/1.1 200 OK\"\n",
      "INFO:httpx:HTTP Request: POST https://api.openai.com/v1/chat/completions \"HTTP/1.1 200 OK\"\n",
      "INFO:httpx:HTTP Request: POST https://api.openai.com/v1/chat/completions \"HTTP/1.1 200 OK\"\n",
      "INFO:httpx:HTTP Request: POST https://api.openai.com/v1/chat/completions \"HTTP/1.1 200 OK\"\n",
      "INFO:httpx:HTTP Request: POST https://api.openai.com/v1/chat/completions \"HTTP/1.1 200 OK\"\n",
      "INFO:httpx:HTTP Request: POST https://api.openai.com/v1/chat/completions \"HTTP/1.1 200 OK\"\n",
      "INFO:httpx:HTTP Request: POST https://api.openai.com/v1/chat/completions \"HTTP/1.1 200 OK\"\n",
      "INFO:httpx:HTTP Request: POST https://api.openai.com/v1/chat/completions \"HTTP/1.1 200 OK\"\n",
      "INFO:httpx:HTTP Request: POST https://api.openai.com/v1/chat/completions \"HTTP/1.1 200 OK\"\n",
      "INFO:httpx:HTTP Request: POST https://api.openai.com/v1/chat/completions \"HTTP/1.1 200 OK\"\n",
      "INFO:httpx:HTTP Request: POST https://api.openai.com/v1/chat/completions \"HTTP/1.1 200 OK\"\n",
      "INFO:httpx:HTTP Request: POST https://api.openai.com/v1/chat/completions \"HTTP/1.1 200 OK\"\n",
      "INFO:httpx:HTTP Request: POST https://api.openai.com/v1/chat/completions \"HTTP/1.1 200 OK\"\n",
      "INFO:httpx:HTTP Request: POST https://api.openai.com/v1/chat/completions \"HTTP/1.1 200 OK\"\n",
      "INFO:httpx:HTTP Request: POST https://api.openai.com/v1/chat/completions \"HTTP/1.1 200 OK\"\n",
      "ERROR:ragas.executor:Exception raised in Job[379]: TimeoutError()\n",
      "ERROR:ragas.executor:Exception raised in Job[373]: TimeoutError()\n",
      "INFO:httpx:HTTP Request: POST https://api.openai.com/v1/chat/completions \"HTTP/1.1 200 OK\"\n",
      "INFO:httpx:HTTP Request: POST https://api.openai.com/v1/chat/completions \"HTTP/1.1 200 OK\"\n",
      "INFO:httpx:HTTP Request: POST https://api.openai.com/v1/chat/completions \"HTTP/1.1 200 OK\"\n",
      "INFO:httpx:HTTP Request: POST https://api.openai.com/v1/chat/completions \"HTTP/1.1 200 OK\"\n",
      "INFO:httpx:HTTP Request: POST https://api.openai.com/v1/chat/completions \"HTTP/1.1 200 OK\"\n",
      "INFO:httpx:HTTP Request: POST https://api.openai.com/v1/chat/completions \"HTTP/1.1 200 OK\"\n",
      "INFO:httpx:HTTP Request: POST https://api.openai.com/v1/chat/completions \"HTTP/1.1 200 OK\"\n",
      "INFO:httpx:HTTP Request: POST https://api.openai.com/v1/chat/completions \"HTTP/1.1 200 OK\"\n",
      "INFO:httpx:HTTP Request: POST https://api.openai.com/v1/chat/completions \"HTTP/1.1 200 OK\"\n",
      "INFO:httpx:HTTP Request: POST https://api.openai.com/v1/chat/completions \"HTTP/1.1 200 OK\"\n",
      "INFO:httpx:HTTP Request: POST https://api.openai.com/v1/chat/completions \"HTTP/1.1 200 OK\"\n",
      "INFO:httpx:HTTP Request: POST https://api.openai.com/v1/chat/completions \"HTTP/1.1 200 OK\"\n",
      "INFO:httpx:HTTP Request: POST https://api.openai.com/v1/chat/completions \"HTTP/1.1 200 OK\"\n",
      "INFO:httpx:HTTP Request: POST https://api.openai.com/v1/chat/completions \"HTTP/1.1 200 OK\"\n",
      "INFO:httpx:HTTP Request: POST https://api.openai.com/v1/chat/completions \"HTTP/1.1 200 OK\"\n",
      "INFO:httpx:HTTP Request: POST https://api.openai.com/v1/chat/completions \"HTTP/1.1 200 OK\"\n",
      "INFO:httpx:HTTP Request: POST https://api.openai.com/v1/chat/completions \"HTTP/1.1 200 OK\"\n",
      "INFO:httpx:HTTP Request: POST https://api.openai.com/v1/chat/completions \"HTTP/1.1 200 OK\"\n",
      "INFO:httpx:HTTP Request: POST https://api.openai.com/v1/chat/completions \"HTTP/1.1 200 OK\"\n",
      "INFO:httpx:HTTP Request: POST https://api.openai.com/v1/chat/completions \"HTTP/1.1 200 OK\"\n",
      "INFO:httpx:HTTP Request: POST https://api.openai.com/v1/chat/completions \"HTTP/1.1 200 OK\"\n",
      "INFO:httpx:HTTP Request: POST https://api.openai.com/v1/chat/completions \"HTTP/1.1 200 OK\"\n",
      "INFO:httpx:HTTP Request: POST https://api.openai.com/v1/chat/completions \"HTTP/1.1 200 OK\"\n",
      "INFO:httpx:HTTP Request: POST https://api.openai.com/v1/chat/completions \"HTTP/1.1 200 OK\"\n",
      "INFO:httpx:HTTP Request: POST https://api.openai.com/v1/chat/completions \"HTTP/1.1 200 OK\"\n",
      "INFO:httpx:HTTP Request: POST https://api.openai.com/v1/chat/completions \"HTTP/1.1 200 OK\"\n",
      "INFO:httpx:HTTP Request: POST https://api.openai.com/v1/chat/completions \"HTTP/1.1 200 OK\"\n",
      "INFO:httpx:HTTP Request: POST https://api.openai.com/v1/chat/completions \"HTTP/1.1 200 OK\"\n",
      "INFO:httpx:HTTP Request: POST https://api.openai.com/v1/chat/completions \"HTTP/1.1 200 OK\"\n",
      "INFO:httpx:HTTP Request: POST https://api.openai.com/v1/chat/completions \"HTTP/1.1 200 OK\"\n",
      "INFO:httpx:HTTP Request: POST https://api.openai.com/v1/chat/completions \"HTTP/1.1 200 OK\"\n",
      "INFO:httpx:HTTP Request: POST https://api.openai.com/v1/chat/completions \"HTTP/1.1 200 OK\"\n",
      "INFO:httpx:HTTP Request: POST https://api.openai.com/v1/chat/completions \"HTTP/1.1 200 OK\"\n",
      "INFO:httpx:HTTP Request: POST https://api.openai.com/v1/chat/completions \"HTTP/1.1 200 OK\"\n",
      "INFO:httpx:HTTP Request: POST https://api.openai.com/v1/chat/completions \"HTTP/1.1 200 OK\"\n",
      "INFO:httpx:HTTP Request: POST https://api.openai.com/v1/chat/completions \"HTTP/1.1 200 OK\"\n",
      "INFO:httpx:HTTP Request: POST https://api.openai.com/v1/chat/completions \"HTTP/1.1 200 OK\"\n",
      "INFO:httpx:HTTP Request: POST https://api.openai.com/v1/chat/completions \"HTTP/1.1 200 OK\"\n",
      "INFO:httpx:HTTP Request: POST https://api.openai.com/v1/chat/completions \"HTTP/1.1 200 OK\"\n",
      "INFO:httpx:HTTP Request: POST https://api.openai.com/v1/chat/completions \"HTTP/1.1 200 OK\"\n",
      "INFO:httpx:HTTP Request: POST https://api.openai.com/v1/chat/completions \"HTTP/1.1 200 OK\"\n",
      "INFO:httpx:HTTP Request: POST https://api.openai.com/v1/chat/completions \"HTTP/1.1 200 OK\"\n",
      "INFO:httpx:HTTP Request: POST https://api.openai.com/v1/chat/completions \"HTTP/1.1 200 OK\"\n",
      "INFO:httpx:HTTP Request: POST https://api.openai.com/v1/chat/completions \"HTTP/1.1 200 OK\"\n",
      "INFO:httpx:HTTP Request: POST https://api.openai.com/v1/chat/completions \"HTTP/1.1 200 OK\"\n",
      "INFO:httpx:HTTP Request: POST https://api.openai.com/v1/chat/completions \"HTTP/1.1 200 OK\"\n",
      "INFO:httpx:HTTP Request: POST https://api.openai.com/v1/chat/completions \"HTTP/1.1 200 OK\"\n",
      "INFO:httpx:HTTP Request: POST https://api.openai.com/v1/chat/completions \"HTTP/1.1 200 OK\"\n",
      "INFO:httpx:HTTP Request: POST https://api.openai.com/v1/chat/completions \"HTTP/1.1 200 OK\"\n",
      "INFO:httpx:HTTP Request: POST https://api.openai.com/v1/chat/completions \"HTTP/1.1 200 OK\"\n",
      "INFO:httpx:HTTP Request: POST https://api.openai.com/v1/chat/completions \"HTTP/1.1 200 OK\"\n",
      "INFO:httpx:HTTP Request: POST https://api.openai.com/v1/chat/completions \"HTTP/1.1 200 OK\"\n",
      "INFO:httpx:HTTP Request: POST https://api.openai.com/v1/chat/completions \"HTTP/1.1 200 OK\"\n",
      "INFO:httpx:HTTP Request: POST https://api.openai.com/v1/chat/completions \"HTTP/1.1 200 OK\"\n",
      "INFO:httpx:HTTP Request: POST https://api.openai.com/v1/chat/completions \"HTTP/1.1 200 OK\"\n",
      "INFO:httpx:HTTP Request: POST https://api.openai.com/v1/chat/completions \"HTTP/1.1 200 OK\"\n",
      "INFO:httpx:HTTP Request: POST https://api.openai.com/v1/chat/completions \"HTTP/1.1 200 OK\"\n",
      "INFO:httpx:HTTP Request: POST https://api.openai.com/v1/chat/completions \"HTTP/1.1 200 OK\"\n",
      "INFO:httpx:HTTP Request: POST https://api.openai.com/v1/chat/completions \"HTTP/1.1 200 OK\"\n",
      "INFO:httpx:HTTP Request: POST https://api.openai.com/v1/chat/completions \"HTTP/1.1 200 OK\"\n",
      "INFO:httpx:HTTP Request: POST https://api.openai.com/v1/chat/completions \"HTTP/1.1 200 OK\"\n",
      "INFO:httpx:HTTP Request: POST https://api.openai.com/v1/chat/completions \"HTTP/1.1 200 OK\"\n",
      "INFO:httpx:HTTP Request: POST https://api.openai.com/v1/chat/completions \"HTTP/1.1 200 OK\"\n",
      "INFO:httpx:HTTP Request: POST https://api.openai.com/v1/chat/completions \"HTTP/1.1 200 OK\"\n",
      "INFO:httpx:HTTP Request: POST https://api.openai.com/v1/chat/completions \"HTTP/1.1 200 OK\"\n",
      "INFO:httpx:HTTP Request: POST https://api.openai.com/v1/chat/completions \"HTTP/1.1 200 OK\"\n",
      "INFO:httpx:HTTP Request: POST https://api.openai.com/v1/chat/completions \"HTTP/1.1 200 OK\"\n",
      "INFO:httpx:HTTP Request: POST https://api.openai.com/v1/chat/completions \"HTTP/1.1 200 OK\"\n",
      "INFO:httpx:HTTP Request: POST https://api.openai.com/v1/chat/completions \"HTTP/1.1 200 OK\"\n",
      "INFO:httpx:HTTP Request: POST https://api.openai.com/v1/chat/completions \"HTTP/1.1 200 OK\"\n",
      "INFO:httpx:HTTP Request: POST https://api.openai.com/v1/chat/completions \"HTTP/1.1 200 OK\"\n",
      "INFO:httpx:HTTP Request: POST https://api.openai.com/v1/chat/completions \"HTTP/1.1 200 OK\"\n",
      "INFO:httpx:HTTP Request: POST https://api.openai.com/v1/chat/completions \"HTTP/1.1 200 OK\"\n",
      "INFO:httpx:HTTP Request: POST https://api.openai.com/v1/chat/completions \"HTTP/1.1 200 OK\"\n",
      "INFO:httpx:HTTP Request: POST https://api.openai.com/v1/chat/completions \"HTTP/1.1 200 OK\"\n",
      "INFO:httpx:HTTP Request: POST https://api.openai.com/v1/chat/completions \"HTTP/1.1 200 OK\"\n",
      "INFO:httpx:HTTP Request: POST https://api.openai.com/v1/chat/completions \"HTTP/1.1 200 OK\"\n",
      "INFO:httpx:HTTP Request: POST https://api.openai.com/v1/chat/completions \"HTTP/1.1 200 OK\"\n",
      "INFO:httpx:HTTP Request: POST https://api.openai.com/v1/chat/completions \"HTTP/1.1 200 OK\"\n",
      "INFO:httpx:HTTP Request: POST https://api.openai.com/v1/chat/completions \"HTTP/1.1 200 OK\"\n",
      "INFO:httpx:HTTP Request: POST https://api.openai.com/v1/chat/completions \"HTTP/1.1 200 OK\"\n",
      "INFO:httpx:HTTP Request: POST https://api.openai.com/v1/chat/completions \"HTTP/1.1 200 OK\"\n",
      "INFO:httpx:HTTP Request: POST https://api.openai.com/v1/chat/completions \"HTTP/1.1 200 OK\"\n",
      "INFO:httpx:HTTP Request: POST https://api.openai.com/v1/chat/completions \"HTTP/1.1 200 OK\"\n",
      "INFO:httpx:HTTP Request: POST https://api.openai.com/v1/chat/completions \"HTTP/1.1 200 OK\"\n",
      "INFO:httpx:HTTP Request: POST https://api.openai.com/v1/chat/completions \"HTTP/1.1 200 OK\"\n",
      "INFO:httpx:HTTP Request: POST https://api.openai.com/v1/chat/completions \"HTTP/1.1 200 OK\"\n",
      "INFO:httpx:HTTP Request: POST https://api.openai.com/v1/chat/completions \"HTTP/1.1 200 OK\"\n",
      "INFO:httpx:HTTP Request: POST https://api.openai.com/v1/chat/completions \"HTTP/1.1 200 OK\"\n",
      "INFO:httpx:HTTP Request: POST https://api.openai.com/v1/chat/completions \"HTTP/1.1 200 OK\"\n",
      "INFO:httpx:HTTP Request: POST https://api.openai.com/v1/chat/completions \"HTTP/1.1 200 OK\"\n",
      "INFO:httpx:HTTP Request: POST https://api.openai.com/v1/chat/completions \"HTTP/1.1 200 OK\"\n",
      "INFO:httpx:HTTP Request: POST https://api.openai.com/v1/chat/completions \"HTTP/1.1 200 OK\"\n",
      "INFO:httpx:HTTP Request: POST https://api.openai.com/v1/chat/completions \"HTTP/1.1 200 OK\"\n",
      "INFO:httpx:HTTP Request: POST https://api.openai.com/v1/chat/completions \"HTTP/1.1 200 OK\"\n",
      "INFO:httpx:HTTP Request: POST https://api.openai.com/v1/chat/completions \"HTTP/1.1 200 OK\"\n",
      "INFO:httpx:HTTP Request: POST https://api.openai.com/v1/chat/completions \"HTTP/1.1 200 OK\"\n",
      "INFO:httpx:HTTP Request: POST https://api.openai.com/v1/chat/completions \"HTTP/1.1 200 OK\"\n",
      "INFO:httpx:HTTP Request: POST https://api.openai.com/v1/chat/completions \"HTTP/1.1 200 OK\"\n",
      "INFO:httpx:HTTP Request: POST https://api.openai.com/v1/chat/completions \"HTTP/1.1 200 OK\"\n",
      "INFO:httpx:HTTP Request: POST https://api.openai.com/v1/chat/completions \"HTTP/1.1 200 OK\"\n",
      "INFO:httpx:HTTP Request: POST https://api.openai.com/v1/chat/completions \"HTTP/1.1 200 OK\"\n",
      "INFO:httpx:HTTP Request: POST https://api.openai.com/v1/chat/completions \"HTTP/1.1 200 OK\"\n",
      "INFO:httpx:HTTP Request: POST https://api.openai.com/v1/chat/completions \"HTTP/1.1 200 OK\"\n",
      "INFO:httpx:HTTP Request: POST https://api.openai.com/v1/chat/completions \"HTTP/1.1 200 OK\"\n",
      "INFO:httpx:HTTP Request: POST https://api.openai.com/v1/chat/completions \"HTTP/1.1 200 OK\"\n",
      "INFO:httpx:HTTP Request: POST https://api.openai.com/v1/chat/completions \"HTTP/1.1 200 OK\"\n",
      "INFO:httpx:HTTP Request: POST https://api.openai.com/v1/chat/completions \"HTTP/1.1 200 OK\"\n",
      "INFO:httpx:HTTP Request: POST https://api.openai.com/v1/chat/completions \"HTTP/1.1 200 OK\"\n",
      "INFO:httpx:HTTP Request: POST https://api.openai.com/v1/chat/completions \"HTTP/1.1 200 OK\"\n",
      "INFO:httpx:HTTP Request: POST https://api.openai.com/v1/chat/completions \"HTTP/1.1 200 OK\"\n",
      "INFO:httpx:HTTP Request: POST https://api.openai.com/v1/chat/completions \"HTTP/1.1 200 OK\"\n",
      "INFO:httpx:HTTP Request: POST https://api.openai.com/v1/chat/completions \"HTTP/1.1 200 OK\"\n",
      "INFO:httpx:HTTP Request: POST https://api.openai.com/v1/chat/completions \"HTTP/1.1 200 OK\"\n",
      "INFO:httpx:HTTP Request: POST https://api.openai.com/v1/chat/completions \"HTTP/1.1 200 OK\"\n",
      "INFO:httpx:HTTP Request: POST https://api.openai.com/v1/chat/completions \"HTTP/1.1 200 OK\"\n",
      "INFO:httpx:HTTP Request: POST https://api.openai.com/v1/chat/completions \"HTTP/1.1 200 OK\"\n",
      "INFO:httpx:HTTP Request: POST https://api.openai.com/v1/chat/completions \"HTTP/1.1 200 OK\"\n",
      "INFO:httpx:HTTP Request: POST https://api.openai.com/v1/chat/completions \"HTTP/1.1 200 OK\"\n",
      "INFO:httpx:HTTP Request: POST https://api.openai.com/v1/chat/completions \"HTTP/1.1 200 OK\"\n",
      "INFO:httpx:HTTP Request: POST https://api.openai.com/v1/chat/completions \"HTTP/1.1 200 OK\"\n",
      "INFO:httpx:HTTP Request: POST https://api.openai.com/v1/chat/completions \"HTTP/1.1 200 OK\"\n",
      "INFO:httpx:HTTP Request: POST https://api.openai.com/v1/chat/completions \"HTTP/1.1 200 OK\"\n",
      "INFO:httpx:HTTP Request: POST https://api.openai.com/v1/chat/completions \"HTTP/1.1 200 OK\"\n",
      "INFO:httpx:HTTP Request: POST https://api.openai.com/v1/chat/completions \"HTTP/1.1 200 OK\"\n",
      "INFO:httpx:HTTP Request: POST https://api.openai.com/v1/chat/completions \"HTTP/1.1 200 OK\"\n",
      "INFO:httpx:HTTP Request: POST https://api.openai.com/v1/chat/completions \"HTTP/1.1 200 OK\"\n",
      "INFO:httpx:HTTP Request: POST https://api.openai.com/v1/chat/completions \"HTTP/1.1 200 OK\"\n",
      "INFO:httpx:HTTP Request: POST https://api.openai.com/v1/chat/completions \"HTTP/1.1 200 OK\"\n",
      "INFO:httpx:HTTP Request: POST https://api.openai.com/v1/chat/completions \"HTTP/1.1 200 OK\"\n",
      "INFO:httpx:HTTP Request: POST https://api.openai.com/v1/chat/completions \"HTTP/1.1 200 OK\"\n",
      "INFO:httpx:HTTP Request: POST https://api.openai.com/v1/chat/completions \"HTTP/1.1 200 OK\"\n",
      "INFO:httpx:HTTP Request: POST https://api.openai.com/v1/chat/completions \"HTTP/1.1 200 OK\"\n",
      "INFO:httpx:HTTP Request: POST https://api.openai.com/v1/chat/completions \"HTTP/1.1 200 OK\"\n",
      "INFO:httpx:HTTP Request: POST https://api.openai.com/v1/chat/completions \"HTTP/1.1 200 OK\"\n",
      "INFO:httpx:HTTP Request: POST https://api.openai.com/v1/chat/completions \"HTTP/1.1 200 OK\"\n",
      "INFO:httpx:HTTP Request: POST https://api.openai.com/v1/chat/completions \"HTTP/1.1 200 OK\"\n",
      "INFO:httpx:HTTP Request: POST https://api.openai.com/v1/chat/completions \"HTTP/1.1 200 OK\"\n",
      "INFO:httpx:HTTP Request: POST https://api.openai.com/v1/chat/completions \"HTTP/1.1 200 OK\"\n",
      "INFO:httpx:HTTP Request: POST https://api.openai.com/v1/chat/completions \"HTTP/1.1 200 OK\"\n",
      "INFO:httpx:HTTP Request: POST https://api.openai.com/v1/chat/completions \"HTTP/1.1 200 OK\"\n",
      "INFO:httpx:HTTP Request: POST https://api.openai.com/v1/chat/completions \"HTTP/1.1 200 OK\"\n",
      "INFO:httpx:HTTP Request: POST https://api.openai.com/v1/chat/completions \"HTTP/1.1 200 OK\"\n",
      "INFO:httpx:HTTP Request: POST https://api.openai.com/v1/chat/completions \"HTTP/1.1 200 OK\"\n",
      "INFO:httpx:HTTP Request: POST https://api.openai.com/v1/chat/completions \"HTTP/1.1 200 OK\"\n",
      "INFO:httpx:HTTP Request: POST https://api.openai.com/v1/chat/completions \"HTTP/1.1 200 OK\"\n",
      "INFO:httpx:HTTP Request: POST https://api.openai.com/v1/chat/completions \"HTTP/1.1 200 OK\"\n",
      "INFO:httpx:HTTP Request: POST https://api.openai.com/v1/chat/completions \"HTTP/1.1 200 OK\"\n",
      "INFO:httpx:HTTP Request: POST https://api.openai.com/v1/chat/completions \"HTTP/1.1 200 OK\"\n",
      "INFO:httpx:HTTP Request: POST https://api.openai.com/v1/chat/completions \"HTTP/1.1 200 OK\"\n",
      "INFO:httpx:HTTP Request: POST https://api.openai.com/v1/chat/completions \"HTTP/1.1 200 OK\"\n",
      "INFO:httpx:HTTP Request: POST https://api.openai.com/v1/chat/completions \"HTTP/1.1 200 OK\"\n",
      "INFO:httpx:HTTP Request: POST https://api.openai.com/v1/chat/completions \"HTTP/1.1 200 OK\"\n",
      "INFO:httpx:HTTP Request: POST https://api.openai.com/v1/chat/completions \"HTTP/1.1 200 OK\"\n",
      "INFO:httpx:HTTP Request: POST https://api.openai.com/v1/chat/completions \"HTTP/1.1 200 OK\"\n",
      "INFO:httpx:HTTP Request: POST https://api.openai.com/v1/chat/completions \"HTTP/1.1 200 OK\"\n",
      "INFO:httpx:HTTP Request: POST https://api.openai.com/v1/chat/completions \"HTTP/1.1 200 OK\"\n",
      "INFO:httpx:HTTP Request: POST https://api.openai.com/v1/chat/completions \"HTTP/1.1 200 OK\"\n",
      "INFO:httpx:HTTP Request: POST https://api.openai.com/v1/chat/completions \"HTTP/1.1 200 OK\"\n",
      "INFO:httpx:HTTP Request: POST https://api.openai.com/v1/chat/completions \"HTTP/1.1 200 OK\"\n",
      "INFO:httpx:HTTP Request: POST https://api.openai.com/v1/chat/completions \"HTTP/1.1 200 OK\"\n",
      "INFO:httpx:HTTP Request: POST https://api.openai.com/v1/chat/completions \"HTTP/1.1 200 OK\"\n",
      "INFO:httpx:HTTP Request: POST https://api.openai.com/v1/chat/completions \"HTTP/1.1 200 OK\"\n",
      "INFO:httpx:HTTP Request: POST https://api.openai.com/v1/chat/completions \"HTTP/1.1 200 OK\"\n",
      "INFO:httpx:HTTP Request: POST https://api.openai.com/v1/chat/completions \"HTTP/1.1 200 OK\"\n",
      "INFO:httpx:HTTP Request: POST https://api.openai.com/v1/chat/completions \"HTTP/1.1 200 OK\"\n",
      "INFO:httpx:HTTP Request: POST https://api.openai.com/v1/chat/completions \"HTTP/1.1 200 OK\"\n",
      "INFO:httpx:HTTP Request: POST https://api.openai.com/v1/chat/completions \"HTTP/1.1 200 OK\"\n",
      "INFO:httpx:HTTP Request: POST https://api.openai.com/v1/chat/completions \"HTTP/1.1 200 OK\"\n",
      "INFO:httpx:HTTP Request: POST https://api.openai.com/v1/chat/completions \"HTTP/1.1 200 OK\"\n",
      "INFO:httpx:HTTP Request: POST https://api.openai.com/v1/chat/completions \"HTTP/1.1 200 OK\"\n",
      "INFO:httpx:HTTP Request: POST https://api.openai.com/v1/chat/completions \"HTTP/1.1 200 OK\"\n",
      "INFO:httpx:HTTP Request: POST https://api.openai.com/v1/chat/completions \"HTTP/1.1 200 OK\"\n",
      "INFO:httpx:HTTP Request: POST https://api.openai.com/v1/chat/completions \"HTTP/1.1 200 OK\"\n",
      "INFO:httpx:HTTP Request: POST https://api.openai.com/v1/chat/completions \"HTTP/1.1 200 OK\"\n",
      "INFO:httpx:HTTP Request: POST https://api.openai.com/v1/chat/completions \"HTTP/1.1 200 OK\"\n",
      "INFO:httpx:HTTP Request: POST https://api.openai.com/v1/chat/completions \"HTTP/1.1 200 OK\"\n",
      "INFO:httpx:HTTP Request: POST https://api.openai.com/v1/chat/completions \"HTTP/1.1 200 OK\"\n",
      "INFO:httpx:HTTP Request: POST https://api.openai.com/v1/chat/completions \"HTTP/1.1 200 OK\"\n",
      "INFO:httpx:HTTP Request: POST https://api.openai.com/v1/chat/completions \"HTTP/1.1 200 OK\"\n",
      "INFO:httpx:HTTP Request: POST https://api.openai.com/v1/chat/completions \"HTTP/1.1 200 OK\"\n",
      "INFO:httpx:HTTP Request: POST https://api.openai.com/v1/chat/completions \"HTTP/1.1 200 OK\"\n",
      "INFO:httpx:HTTP Request: POST https://api.openai.com/v1/chat/completions \"HTTP/1.1 200 OK\"\n",
      "INFO:httpx:HTTP Request: POST https://api.openai.com/v1/chat/completions \"HTTP/1.1 200 OK\"\n",
      "INFO:httpx:HTTP Request: POST https://api.openai.com/v1/chat/completions \"HTTP/1.1 200 OK\"\n",
      "INFO:httpx:HTTP Request: POST https://api.openai.com/v1/chat/completions \"HTTP/1.1 200 OK\"\n",
      "INFO:httpx:HTTP Request: POST https://api.openai.com/v1/chat/completions \"HTTP/1.1 200 OK\"\n",
      "INFO:httpx:HTTP Request: POST https://api.openai.com/v1/chat/completions \"HTTP/1.1 200 OK\"\n",
      "INFO:httpx:HTTP Request: POST https://api.openai.com/v1/chat/completions \"HTTP/1.1 200 OK\"\n",
      "INFO:httpx:HTTP Request: POST https://api.openai.com/v1/chat/completions \"HTTP/1.1 200 OK\"\n",
      "ERROR:ragas.executor:Exception raised in Job[429]: TimeoutError()\n",
      "INFO:httpx:HTTP Request: POST https://api.openai.com/v1/chat/completions \"HTTP/1.1 200 OK\"\n",
      "INFO:httpx:HTTP Request: POST https://api.openai.com/v1/chat/completions \"HTTP/1.1 200 OK\"\n",
      "INFO:httpx:HTTP Request: POST https://api.openai.com/v1/chat/completions \"HTTP/1.1 200 OK\"\n",
      "INFO:httpx:HTTP Request: POST https://api.openai.com/v1/chat/completions \"HTTP/1.1 200 OK\"\n",
      "INFO:httpx:HTTP Request: POST https://api.openai.com/v1/chat/completions \"HTTP/1.1 200 OK\"\n",
      "INFO:httpx:HTTP Request: POST https://api.openai.com/v1/chat/completions \"HTTP/1.1 200 OK\"\n",
      "INFO:httpx:HTTP Request: POST https://api.openai.com/v1/chat/completions \"HTTP/1.1 200 OK\"\n",
      "INFO:httpx:HTTP Request: POST https://api.openai.com/v1/chat/completions \"HTTP/1.1 200 OK\"\n",
      "INFO:httpx:HTTP Request: POST https://api.openai.com/v1/chat/completions \"HTTP/1.1 200 OK\"\n",
      "INFO:httpx:HTTP Request: POST https://api.openai.com/v1/chat/completions \"HTTP/1.1 200 OK\"\n",
      "INFO:httpx:HTTP Request: POST https://api.openai.com/v1/chat/completions \"HTTP/1.1 200 OK\"\n",
      "INFO:httpx:HTTP Request: POST https://api.openai.com/v1/chat/completions \"HTTP/1.1 200 OK\"\n",
      "INFO:httpx:HTTP Request: POST https://api.openai.com/v1/chat/completions \"HTTP/1.1 200 OK\"\n",
      "INFO:httpx:HTTP Request: POST https://api.openai.com/v1/chat/completions \"HTTP/1.1 200 OK\"\n",
      "INFO:httpx:HTTP Request: POST https://api.openai.com/v1/chat/completions \"HTTP/1.1 200 OK\"\n",
      "INFO:httpx:HTTP Request: POST https://api.openai.com/v1/chat/completions \"HTTP/1.1 200 OK\"\n",
      "INFO:httpx:HTTP Request: POST https://api.openai.com/v1/chat/completions \"HTTP/1.1 200 OK\"\n",
      "INFO:httpx:HTTP Request: POST https://api.openai.com/v1/chat/completions \"HTTP/1.1 200 OK\"\n",
      "INFO:httpx:HTTP Request: POST https://api.openai.com/v1/chat/completions \"HTTP/1.1 200 OK\"\n",
      "INFO:httpx:HTTP Request: POST https://api.openai.com/v1/chat/completions \"HTTP/1.1 200 OK\"\n",
      "INFO:httpx:HTTP Request: POST https://api.openai.com/v1/chat/completions \"HTTP/1.1 200 OK\"\n",
      "INFO:httpx:HTTP Request: POST https://api.openai.com/v1/chat/completions \"HTTP/1.1 200 OK\"\n",
      "INFO:httpx:HTTP Request: POST https://api.openai.com/v1/chat/completions \"HTTP/1.1 200 OK\"\n",
      "INFO:httpx:HTTP Request: POST https://api.openai.com/v1/chat/completions \"HTTP/1.1 200 OK\"\n",
      "INFO:httpx:HTTP Request: POST https://api.openai.com/v1/chat/completions \"HTTP/1.1 200 OK\"\n",
      "INFO:httpx:HTTP Request: POST https://api.openai.com/v1/chat/completions \"HTTP/1.1 200 OK\"\n",
      "INFO:httpx:HTTP Request: POST https://api.openai.com/v1/chat/completions \"HTTP/1.1 200 OK\"\n",
      "INFO:httpx:HTTP Request: POST https://api.openai.com/v1/chat/completions \"HTTP/1.1 200 OK\"\n",
      "INFO:httpx:HTTP Request: POST https://api.openai.com/v1/chat/completions \"HTTP/1.1 200 OK\"\n",
      "INFO:httpx:HTTP Request: POST https://api.openai.com/v1/chat/completions \"HTTP/1.1 200 OK\"\n",
      "INFO:httpx:HTTP Request: POST https://api.openai.com/v1/chat/completions \"HTTP/1.1 200 OK\"\n",
      "INFO:httpx:HTTP Request: POST https://api.openai.com/v1/chat/completions \"HTTP/1.1 200 OK\"\n",
      "INFO:httpx:HTTP Request: POST https://api.openai.com/v1/chat/completions \"HTTP/1.1 200 OK\"\n",
      "INFO:httpx:HTTP Request: POST https://api.openai.com/v1/chat/completions \"HTTP/1.1 200 OK\"\n",
      "INFO:httpx:HTTP Request: POST https://api.openai.com/v1/chat/completions \"HTTP/1.1 200 OK\"\n",
      "INFO:httpx:HTTP Request: POST https://api.openai.com/v1/chat/completions \"HTTP/1.1 200 OK\"\n",
      "INFO:httpx:HTTP Request: POST https://api.openai.com/v1/chat/completions \"HTTP/1.1 200 OK\"\n",
      "INFO:httpx:HTTP Request: POST https://api.openai.com/v1/chat/completions \"HTTP/1.1 200 OK\"\n",
      "INFO:httpx:HTTP Request: POST https://api.openai.com/v1/chat/completions \"HTTP/1.1 200 OK\"\n",
      "INFO:httpx:HTTP Request: POST https://api.openai.com/v1/chat/completions \"HTTP/1.1 200 OK\"\n",
      "INFO:httpx:HTTP Request: POST https://api.openai.com/v1/chat/completions \"HTTP/1.1 200 OK\"\n",
      "INFO:httpx:HTTP Request: POST https://api.openai.com/v1/chat/completions \"HTTP/1.1 200 OK\"\n",
      "INFO:httpx:HTTP Request: POST https://api.openai.com/v1/chat/completions \"HTTP/1.1 200 OK\"\n",
      "INFO:httpx:HTTP Request: POST https://api.openai.com/v1/chat/completions \"HTTP/1.1 200 OK\"\n",
      "INFO:httpx:HTTP Request: POST https://api.openai.com/v1/chat/completions \"HTTP/1.1 200 OK\"\n",
      "INFO:httpx:HTTP Request: POST https://api.openai.com/v1/chat/completions \"HTTP/1.1 200 OK\"\n",
      "INFO:httpx:HTTP Request: POST https://api.openai.com/v1/chat/completions \"HTTP/1.1 200 OK\"\n",
      "INFO:httpx:HTTP Request: POST https://api.openai.com/v1/chat/completions \"HTTP/1.1 200 OK\"\n",
      "INFO:httpx:HTTP Request: POST https://api.openai.com/v1/chat/completions \"HTTP/1.1 200 OK\"\n",
      "INFO:httpx:HTTP Request: POST https://api.openai.com/v1/chat/completions \"HTTP/1.1 200 OK\"\n",
      "INFO:httpx:HTTP Request: POST https://api.openai.com/v1/chat/completions \"HTTP/1.1 200 OK\"\n",
      "INFO:httpx:HTTP Request: POST https://api.openai.com/v1/chat/completions \"HTTP/1.1 200 OK\"\n",
      "INFO:httpx:HTTP Request: POST https://api.openai.com/v1/chat/completions \"HTTP/1.1 200 OK\"\n",
      "INFO:httpx:HTTP Request: POST https://api.openai.com/v1/chat/completions \"HTTP/1.1 200 OK\"\n",
      "INFO:httpx:HTTP Request: POST https://api.openai.com/v1/chat/completions \"HTTP/1.1 200 OK\"\n",
      "INFO:httpx:HTTP Request: POST https://api.openai.com/v1/chat/completions \"HTTP/1.1 200 OK\"\n",
      "INFO:httpx:HTTP Request: POST https://api.openai.com/v1/chat/completions \"HTTP/1.1 200 OK\"\n",
      "INFO:httpx:HTTP Request: POST https://api.openai.com/v1/chat/completions \"HTTP/1.1 200 OK\"\n",
      "INFO:httpx:HTTP Request: POST https://api.openai.com/v1/chat/completions \"HTTP/1.1 200 OK\"\n",
      "INFO:httpx:HTTP Request: POST https://api.openai.com/v1/chat/completions \"HTTP/1.1 200 OK\"\n",
      "INFO:httpx:HTTP Request: POST https://api.openai.com/v1/chat/completions \"HTTP/1.1 200 OK\"\n",
      "INFO:httpx:HTTP Request: POST https://api.openai.com/v1/chat/completions \"HTTP/1.1 200 OK\"\n",
      "INFO:httpx:HTTP Request: POST https://api.openai.com/v1/chat/completions \"HTTP/1.1 200 OK\"\n",
      "INFO:httpx:HTTP Request: POST https://api.openai.com/v1/chat/completions \"HTTP/1.1 200 OK\"\n",
      "INFO:httpx:HTTP Request: POST https://api.openai.com/v1/chat/completions \"HTTP/1.1 200 OK\"\n",
      "INFO:httpx:HTTP Request: POST https://api.openai.com/v1/chat/completions \"HTTP/1.1 200 OK\"\n",
      "INFO:httpx:HTTP Request: POST https://api.openai.com/v1/chat/completions \"HTTP/1.1 200 OK\"\n",
      "INFO:httpx:HTTP Request: POST https://api.openai.com/v1/chat/completions \"HTTP/1.1 200 OK\"\n",
      "INFO:httpx:HTTP Request: POST https://api.openai.com/v1/chat/completions \"HTTP/1.1 200 OK\"\n",
      "INFO:httpx:HTTP Request: POST https://api.openai.com/v1/chat/completions \"HTTP/1.1 200 OK\"\n",
      "INFO:httpx:HTTP Request: POST https://api.openai.com/v1/chat/completions \"HTTP/1.1 200 OK\"\n",
      "INFO:httpx:HTTP Request: POST https://api.openai.com/v1/chat/completions \"HTTP/1.1 200 OK\"\n",
      "INFO:httpx:HTTP Request: POST https://api.openai.com/v1/chat/completions \"HTTP/1.1 200 OK\"\n",
      "INFO:httpx:HTTP Request: POST https://api.openai.com/v1/chat/completions \"HTTP/1.1 200 OK\"\n",
      "INFO:httpx:HTTP Request: POST https://api.openai.com/v1/chat/completions \"HTTP/1.1 200 OK\"\n",
      "INFO:httpx:HTTP Request: POST https://api.openai.com/v1/chat/completions \"HTTP/1.1 200 OK\"\n",
      "INFO:httpx:HTTP Request: POST https://api.openai.com/v1/chat/completions \"HTTP/1.1 200 OK\"\n",
      "INFO:httpx:HTTP Request: POST https://api.openai.com/v1/chat/completions \"HTTP/1.1 200 OK\"\n",
      "INFO:httpx:HTTP Request: POST https://api.openai.com/v1/chat/completions \"HTTP/1.1 200 OK\"\n",
      "INFO:httpx:HTTP Request: POST https://api.openai.com/v1/chat/completions \"HTTP/1.1 200 OK\"\n",
      "INFO:httpx:HTTP Request: POST https://api.openai.com/v1/chat/completions \"HTTP/1.1 200 OK\"\n",
      "INFO:httpx:HTTP Request: POST https://api.openai.com/v1/chat/completions \"HTTP/1.1 200 OK\"\n",
      "INFO:httpx:HTTP Request: POST https://api.openai.com/v1/chat/completions \"HTTP/1.1 200 OK\"\n",
      "INFO:httpx:HTTP Request: POST https://api.openai.com/v1/chat/completions \"HTTP/1.1 200 OK\"\n",
      "ERROR:ragas.executor:Exception raised in Job[443]: TimeoutError()\n",
      "INFO:httpx:HTTP Request: POST https://api.openai.com/v1/chat/completions \"HTTP/1.1 200 OK\"\n",
      "INFO:httpx:HTTP Request: POST https://api.openai.com/v1/chat/completions \"HTTP/1.1 200 OK\"\n",
      "INFO:httpx:HTTP Request: POST https://api.openai.com/v1/chat/completions \"HTTP/1.1 200 OK\"\n",
      "INFO:httpx:HTTP Request: POST https://api.openai.com/v1/chat/completions \"HTTP/1.1 200 OK\"\n",
      "INFO:httpx:HTTP Request: POST https://api.openai.com/v1/chat/completions \"HTTP/1.1 200 OK\"\n",
      "INFO:httpx:HTTP Request: POST https://api.openai.com/v1/chat/completions \"HTTP/1.1 200 OK\"\n",
      "INFO:httpx:HTTP Request: POST https://api.openai.com/v1/chat/completions \"HTTP/1.1 200 OK\"\n",
      "INFO:httpx:HTTP Request: POST https://api.openai.com/v1/chat/completions \"HTTP/1.1 200 OK\"\n",
      "INFO:httpx:HTTP Request: POST https://api.openai.com/v1/chat/completions \"HTTP/1.1 200 OK\"\n",
      "INFO:httpx:HTTP Request: POST https://api.openai.com/v1/chat/completions \"HTTP/1.1 200 OK\"\n",
      "INFO:httpx:HTTP Request: POST https://api.openai.com/v1/chat/completions \"HTTP/1.1 200 OK\"\n",
      "INFO:httpx:HTTP Request: POST https://api.openai.com/v1/chat/completions \"HTTP/1.1 200 OK\"\n",
      "INFO:httpx:HTTP Request: POST https://api.openai.com/v1/chat/completions \"HTTP/1.1 200 OK\"\n",
      "INFO:httpx:HTTP Request: POST https://api.openai.com/v1/chat/completions \"HTTP/1.1 200 OK\"\n",
      "INFO:httpx:HTTP Request: POST https://api.openai.com/v1/chat/completions \"HTTP/1.1 200 OK\"\n",
      "INFO:httpx:HTTP Request: POST https://api.openai.com/v1/chat/completions \"HTTP/1.1 200 OK\"\n",
      "INFO:httpx:HTTP Request: POST https://api.openai.com/v1/chat/completions \"HTTP/1.1 200 OK\"\n",
      "INFO:httpx:HTTP Request: POST https://api.openai.com/v1/chat/completions \"HTTP/1.1 200 OK\"\n",
      "INFO:httpx:HTTP Request: POST https://api.openai.com/v1/chat/completions \"HTTP/1.1 200 OK\"\n",
      "INFO:httpx:HTTP Request: POST https://api.openai.com/v1/chat/completions \"HTTP/1.1 200 OK\"\n",
      "INFO:httpx:HTTP Request: POST https://api.openai.com/v1/chat/completions \"HTTP/1.1 200 OK\"\n",
      "INFO:httpx:HTTP Request: POST https://api.openai.com/v1/chat/completions \"HTTP/1.1 200 OK\"\n",
      "INFO:httpx:HTTP Request: POST https://api.openai.com/v1/chat/completions \"HTTP/1.1 200 OK\"\n",
      "INFO:httpx:HTTP Request: POST https://api.openai.com/v1/chat/completions \"HTTP/1.1 200 OK\"\n",
      "INFO:httpx:HTTP Request: POST https://api.openai.com/v1/chat/completions \"HTTP/1.1 200 OK\"\n",
      "INFO:httpx:HTTP Request: POST https://api.openai.com/v1/chat/completions \"HTTP/1.1 200 OK\"\n",
      "INFO:httpx:HTTP Request: POST https://api.openai.com/v1/chat/completions \"HTTP/1.1 200 OK\"\n",
      "INFO:httpx:HTTP Request: POST https://api.openai.com/v1/chat/completions \"HTTP/1.1 200 OK\"\n",
      "INFO:httpx:HTTP Request: POST https://api.openai.com/v1/chat/completions \"HTTP/1.1 200 OK\"\n",
      "INFO:httpx:HTTP Request: POST https://api.openai.com/v1/chat/completions \"HTTP/1.1 200 OK\"\n",
      "INFO:httpx:HTTP Request: POST https://api.openai.com/v1/chat/completions \"HTTP/1.1 200 OK\"\n",
      "INFO:httpx:HTTP Request: POST https://api.openai.com/v1/chat/completions \"HTTP/1.1 200 OK\"\n",
      "INFO:httpx:HTTP Request: POST https://api.openai.com/v1/chat/completions \"HTTP/1.1 200 OK\"\n",
      "INFO:httpx:HTTP Request: POST https://api.openai.com/v1/chat/completions \"HTTP/1.1 200 OK\"\n",
      "INFO:httpx:HTTP Request: POST https://api.openai.com/v1/chat/completions \"HTTP/1.1 200 OK\"\n",
      "INFO:httpx:HTTP Request: POST https://api.openai.com/v1/chat/completions \"HTTP/1.1 200 OK\"\n",
      "INFO:httpx:HTTP Request: POST https://api.openai.com/v1/chat/completions \"HTTP/1.1 200 OK\"\n",
      "INFO:httpx:HTTP Request: POST https://api.openai.com/v1/chat/completions \"HTTP/1.1 200 OK\"\n",
      "INFO:httpx:HTTP Request: POST https://api.openai.com/v1/chat/completions \"HTTP/1.1 200 OK\"\n",
      "INFO:httpx:HTTP Request: POST https://api.openai.com/v1/chat/completions \"HTTP/1.1 200 OK\"\n",
      "INFO:httpx:HTTP Request: POST https://api.openai.com/v1/chat/completions \"HTTP/1.1 200 OK\"\n",
      "INFO:httpx:HTTP Request: POST https://api.openai.com/v1/chat/completions \"HTTP/1.1 200 OK\"\n",
      "INFO:httpx:HTTP Request: POST https://api.openai.com/v1/chat/completions \"HTTP/1.1 200 OK\"\n",
      "INFO:httpx:HTTP Request: POST https://api.openai.com/v1/chat/completions \"HTTP/1.1 200 OK\"\n",
      "INFO:httpx:HTTP Request: POST https://api.openai.com/v1/chat/completions \"HTTP/1.1 200 OK\"\n",
      "INFO:httpx:HTTP Request: POST https://api.openai.com/v1/chat/completions \"HTTP/1.1 200 OK\"\n",
      "INFO:httpx:HTTP Request: POST https://api.openai.com/v1/chat/completions \"HTTP/1.1 200 OK\"\n",
      "INFO:httpx:HTTP Request: POST https://api.openai.com/v1/chat/completions \"HTTP/1.1 200 OK\"\n",
      "INFO:httpx:HTTP Request: POST https://api.openai.com/v1/chat/completions \"HTTP/1.1 200 OK\"\n",
      "INFO:httpx:HTTP Request: POST https://api.openai.com/v1/chat/completions \"HTTP/1.1 200 OK\"\n",
      "INFO:httpx:HTTP Request: POST https://api.openai.com/v1/chat/completions \"HTTP/1.1 200 OK\"\n",
      "INFO:httpx:HTTP Request: POST https://api.openai.com/v1/chat/completions \"HTTP/1.1 200 OK\"\n",
      "INFO:httpx:HTTP Request: POST https://api.openai.com/v1/chat/completions \"HTTP/1.1 200 OK\"\n",
      "INFO:httpx:HTTP Request: POST https://api.openai.com/v1/chat/completions \"HTTP/1.1 200 OK\"\n",
      "INFO:httpx:HTTP Request: POST https://api.openai.com/v1/chat/completions \"HTTP/1.1 200 OK\"\n",
      "INFO:httpx:HTTP Request: POST https://api.openai.com/v1/chat/completions \"HTTP/1.1 200 OK\"\n",
      "INFO:httpx:HTTP Request: POST https://api.openai.com/v1/chat/completions \"HTTP/1.1 200 OK\"\n",
      "INFO:httpx:HTTP Request: POST https://api.openai.com/v1/chat/completions \"HTTP/1.1 200 OK\"\n",
      "INFO:httpx:HTTP Request: POST https://api.openai.com/v1/chat/completions \"HTTP/1.1 200 OK\"\n",
      "INFO:httpx:HTTP Request: POST https://api.openai.com/v1/chat/completions \"HTTP/1.1 200 OK\"\n",
      "INFO:httpx:HTTP Request: POST https://api.openai.com/v1/chat/completions \"HTTP/1.1 200 OK\"\n",
      "INFO:httpx:HTTP Request: POST https://api.openai.com/v1/chat/completions \"HTTP/1.1 200 OK\"\n",
      "INFO:httpx:HTTP Request: POST https://api.openai.com/v1/chat/completions \"HTTP/1.1 200 OK\"\n",
      "INFO:httpx:HTTP Request: POST https://api.openai.com/v1/chat/completions \"HTTP/1.1 200 OK\"\n",
      "INFO:httpx:HTTP Request: POST https://api.openai.com/v1/chat/completions \"HTTP/1.1 200 OK\"\n",
      "INFO:httpx:HTTP Request: POST https://api.openai.com/v1/chat/completions \"HTTP/1.1 200 OK\"\n",
      "INFO:httpx:HTTP Request: POST https://api.openai.com/v1/chat/completions \"HTTP/1.1 200 OK\"\n",
      "INFO:httpx:HTTP Request: POST https://api.openai.com/v1/chat/completions \"HTTP/1.1 200 OK\"\n",
      "INFO:httpx:HTTP Request: POST https://api.openai.com/v1/chat/completions \"HTTP/1.1 200 OK\"\n",
      "INFO:httpx:HTTP Request: POST https://api.openai.com/v1/chat/completions \"HTTP/1.1 200 OK\"\n",
      "INFO:httpx:HTTP Request: POST https://api.openai.com/v1/chat/completions \"HTTP/1.1 200 OK\"\n",
      "INFO:httpx:HTTP Request: POST https://api.openai.com/v1/chat/completions \"HTTP/1.1 200 OK\"\n",
      "INFO:httpx:HTTP Request: POST https://api.openai.com/v1/chat/completions \"HTTP/1.1 200 OK\"\n",
      "INFO:httpx:HTTP Request: POST https://api.openai.com/v1/chat/completions \"HTTP/1.1 200 OK\"\n",
      "INFO:httpx:HTTP Request: POST https://api.openai.com/v1/chat/completions \"HTTP/1.1 200 OK\"\n",
      "INFO:httpx:HTTP Request: POST https://api.openai.com/v1/chat/completions \"HTTP/1.1 200 OK\"\n",
      "INFO:httpx:HTTP Request: POST https://api.openai.com/v1/chat/completions \"HTTP/1.1 200 OK\"\n",
      "INFO:httpx:HTTP Request: POST https://api.openai.com/v1/chat/completions \"HTTP/1.1 200 OK\"\n",
      "INFO:httpx:HTTP Request: POST https://api.openai.com/v1/chat/completions \"HTTP/1.1 200 OK\"\n",
      "INFO:httpx:HTTP Request: POST https://api.openai.com/v1/chat/completions \"HTTP/1.1 200 OK\"\n",
      "INFO:httpx:HTTP Request: POST https://api.openai.com/v1/chat/completions \"HTTP/1.1 200 OK\"\n",
      "INFO:httpx:HTTP Request: POST https://api.openai.com/v1/chat/completions \"HTTP/1.1 200 OK\"\n",
      "INFO:httpx:HTTP Request: POST https://api.openai.com/v1/chat/completions \"HTTP/1.1 200 OK\"\n",
      "INFO:httpx:HTTP Request: POST https://api.openai.com/v1/chat/completions \"HTTP/1.1 200 OK\"\n",
      "INFO:httpx:HTTP Request: POST https://api.openai.com/v1/chat/completions \"HTTP/1.1 200 OK\"\n",
      "INFO:httpx:HTTP Request: POST https://api.openai.com/v1/chat/completions \"HTTP/1.1 200 OK\"\n",
      "INFO:httpx:HTTP Request: POST https://api.openai.com/v1/chat/completions \"HTTP/1.1 200 OK\"\n",
      "INFO:httpx:HTTP Request: POST https://api.openai.com/v1/chat/completions \"HTTP/1.1 200 OK\"\n",
      "INFO:httpx:HTTP Request: POST https://api.openai.com/v1/chat/completions \"HTTP/1.1 200 OK\"\n",
      "INFO:httpx:HTTP Request: POST https://api.openai.com/v1/chat/completions \"HTTP/1.1 200 OK\"\n",
      "INFO:httpx:HTTP Request: POST https://api.openai.com/v1/chat/completions \"HTTP/1.1 200 OK\"\n",
      "INFO:httpx:HTTP Request: POST https://api.openai.com/v1/chat/completions \"HTTP/1.1 200 OK\"\n",
      "INFO:httpx:HTTP Request: POST https://api.openai.com/v1/chat/completions \"HTTP/1.1 200 OK\"\n",
      "INFO:httpx:HTTP Request: POST https://api.openai.com/v1/chat/completions \"HTTP/1.1 200 OK\"\n",
      "INFO:httpx:HTTP Request: POST https://api.openai.com/v1/chat/completions \"HTTP/1.1 200 OK\"\n",
      "INFO:httpx:HTTP Request: POST https://api.openai.com/v1/chat/completions \"HTTP/1.1 200 OK\"\n",
      "INFO:httpx:HTTP Request: POST https://api.openai.com/v1/chat/completions \"HTTP/1.1 200 OK\"\n",
      "INFO:httpx:HTTP Request: POST https://api.openai.com/v1/chat/completions \"HTTP/1.1 200 OK\"\n",
      "INFO:httpx:HTTP Request: POST https://api.openai.com/v1/chat/completions \"HTTP/1.1 200 OK\"\n",
      "INFO:httpx:HTTP Request: POST https://api.openai.com/v1/chat/completions \"HTTP/1.1 200 OK\"\n",
      "INFO:httpx:HTTP Request: POST https://api.openai.com/v1/chat/completions \"HTTP/1.1 200 OK\"\n",
      "INFO:httpx:HTTP Request: POST https://api.openai.com/v1/chat/completions \"HTTP/1.1 200 OK\"\n",
      "ERROR:ragas.executor:Exception raised in Job[491]: TimeoutError()\n",
      "ERROR:ragas.executor:Exception raised in Job[492]: TimeoutError()\n",
      "ERROR:ragas.executor:Exception raised in Job[479]: TimeoutError()\n",
      "ERROR:ragas.executor:Exception raised in Job[482]: TimeoutError()\n",
      "INFO:httpx:HTTP Request: POST https://api.openai.com/v1/chat/completions \"HTTP/1.1 200 OK\"\n",
      "INFO:httpx:HTTP Request: POST https://api.openai.com/v1/chat/completions \"HTTP/1.1 200 OK\"\n",
      "INFO:httpx:HTTP Request: POST https://api.openai.com/v1/chat/completions \"HTTP/1.1 200 OK\"\n",
      "INFO:httpx:HTTP Request: POST https://api.openai.com/v1/chat/completions \"HTTP/1.1 200 OK\"\n",
      "INFO:httpx:HTTP Request: POST https://api.openai.com/v1/chat/completions \"HTTP/1.1 200 OK\"\n",
      "INFO:httpx:HTTP Request: POST https://api.openai.com/v1/chat/completions \"HTTP/1.1 200 OK\"\n",
      "INFO:httpx:HTTP Request: POST https://api.openai.com/v1/chat/completions \"HTTP/1.1 200 OK\"\n",
      "INFO:httpx:HTTP Request: POST https://api.openai.com/v1/chat/completions \"HTTP/1.1 200 OK\"\n",
      "INFO:httpx:HTTP Request: POST https://api.openai.com/v1/chat/completions \"HTTP/1.1 200 OK\"\n",
      "INFO:httpx:HTTP Request: POST https://api.openai.com/v1/chat/completions \"HTTP/1.1 200 OK\"\n",
      "INFO:httpx:HTTP Request: POST https://api.openai.com/v1/chat/completions \"HTTP/1.1 200 OK\"\n",
      "INFO:httpx:HTTP Request: POST https://api.openai.com/v1/chat/completions \"HTTP/1.1 200 OK\"\n",
      "INFO:httpx:HTTP Request: POST https://api.openai.com/v1/chat/completions \"HTTP/1.1 200 OK\"\n",
      "INFO:httpx:HTTP Request: POST https://api.openai.com/v1/chat/completions \"HTTP/1.1 200 OK\"\n",
      "INFO:httpx:HTTP Request: POST https://api.openai.com/v1/chat/completions \"HTTP/1.1 200 OK\"\n",
      "INFO:httpx:HTTP Request: POST https://api.openai.com/v1/chat/completions \"HTTP/1.1 200 OK\"\n",
      "INFO:httpx:HTTP Request: POST https://api.openai.com/v1/chat/completions \"HTTP/1.1 200 OK\"\n",
      "INFO:httpx:HTTP Request: POST https://api.openai.com/v1/chat/completions \"HTTP/1.1 200 OK\"\n",
      "INFO:httpx:HTTP Request: POST https://api.openai.com/v1/chat/completions \"HTTP/1.1 200 OK\"\n",
      "INFO:httpx:HTTP Request: POST https://api.openai.com/v1/chat/completions \"HTTP/1.1 200 OK\"\n",
      "INFO:httpx:HTTP Request: POST https://api.openai.com/v1/chat/completions \"HTTP/1.1 200 OK\"\n",
      "INFO:httpx:HTTP Request: POST https://api.openai.com/v1/chat/completions \"HTTP/1.1 200 OK\"\n",
      "INFO:httpx:HTTP Request: POST https://api.openai.com/v1/chat/completions \"HTTP/1.1 200 OK\"\n",
      "INFO:httpx:HTTP Request: POST https://api.openai.com/v1/chat/completions \"HTTP/1.1 200 OK\"\n",
      "INFO:httpx:HTTP Request: POST https://api.openai.com/v1/chat/completions \"HTTP/1.1 200 OK\"\n",
      "INFO:httpx:HTTP Request: POST https://api.openai.com/v1/chat/completions \"HTTP/1.1 200 OK\"\n",
      "INFO:httpx:HTTP Request: POST https://api.openai.com/v1/chat/completions \"HTTP/1.1 200 OK\"\n",
      "INFO:httpx:HTTP Request: POST https://api.openai.com/v1/chat/completions \"HTTP/1.1 200 OK\"\n",
      "INFO:httpx:HTTP Request: POST https://api.openai.com/v1/chat/completions \"HTTP/1.1 200 OK\"\n",
      "INFO:httpx:HTTP Request: POST https://api.openai.com/v1/chat/completions \"HTTP/1.1 200 OK\"\n",
      "INFO:httpx:HTTP Request: POST https://api.openai.com/v1/chat/completions \"HTTP/1.1 200 OK\"\n",
      "INFO:httpx:HTTP Request: POST https://api.openai.com/v1/chat/completions \"HTTP/1.1 200 OK\"\n",
      "INFO:httpx:HTTP Request: POST https://api.openai.com/v1/chat/completions \"HTTP/1.1 200 OK\"\n",
      "INFO:httpx:HTTP Request: POST https://api.openai.com/v1/chat/completions \"HTTP/1.1 200 OK\"\n",
      "INFO:httpx:HTTP Request: POST https://api.openai.com/v1/chat/completions \"HTTP/1.1 200 OK\"\n",
      "INFO:httpx:HTTP Request: POST https://api.openai.com/v1/chat/completions \"HTTP/1.1 200 OK\"\n",
      "INFO:httpx:HTTP Request: POST https://api.openai.com/v1/chat/completions \"HTTP/1.1 200 OK\"\n",
      "INFO:httpx:HTTP Request: POST https://api.openai.com/v1/chat/completions \"HTTP/1.1 200 OK\"\n",
      "INFO:httpx:HTTP Request: POST https://api.openai.com/v1/chat/completions \"HTTP/1.1 200 OK\"\n",
      "INFO:httpx:HTTP Request: POST https://api.openai.com/v1/chat/completions \"HTTP/1.1 200 OK\"\n",
      "INFO:httpx:HTTP Request: POST https://api.openai.com/v1/chat/completions \"HTTP/1.1 200 OK\"\n",
      "INFO:httpx:HTTP Request: POST https://api.openai.com/v1/chat/completions \"HTTP/1.1 200 OK\"\n",
      "INFO:httpx:HTTP Request: POST https://api.openai.com/v1/chat/completions \"HTTP/1.1 200 OK\"\n",
      "INFO:httpx:HTTP Request: POST https://api.openai.com/v1/chat/completions \"HTTP/1.1 200 OK\"\n",
      "INFO:httpx:HTTP Request: POST https://api.openai.com/v1/chat/completions \"HTTP/1.1 200 OK\"\n",
      "INFO:httpx:HTTP Request: POST https://api.openai.com/v1/chat/completions \"HTTP/1.1 200 OK\"\n",
      "INFO:httpx:HTTP Request: POST https://api.openai.com/v1/chat/completions \"HTTP/1.1 200 OK\"\n",
      "INFO:httpx:HTTP Request: POST https://api.openai.com/v1/chat/completions \"HTTP/1.1 200 OK\"\n",
      "INFO:httpx:HTTP Request: POST https://api.openai.com/v1/chat/completions \"HTTP/1.1 200 OK\"\n",
      "INFO:httpx:HTTP Request: POST https://api.openai.com/v1/chat/completions \"HTTP/1.1 200 OK\"\n",
      "INFO:httpx:HTTP Request: POST https://api.openai.com/v1/chat/completions \"HTTP/1.1 200 OK\"\n",
      "INFO:httpx:HTTP Request: POST https://api.openai.com/v1/chat/completions \"HTTP/1.1 200 OK\"\n",
      "INFO:httpx:HTTP Request: POST https://api.openai.com/v1/chat/completions \"HTTP/1.1 200 OK\"\n"
     ]
    }
   ],
   "execution_count": 13
  },
  {
   "cell_type": "code",
   "id": "426b2ecc-cc27-4a20-8e1b-5ea5468e4c1a",
   "metadata": {
    "ExecuteTime": {
     "end_time": "2024-12-24T07:55:01.097080Z",
     "start_time": "2024-12-24T07:55:01.095195Z"
    }
   },
   "source": [
    "score_result"
   ],
   "outputs": [
    {
     "data": {
      "text/plain": [
       "{'context_recall': 0.6844, 'llm_context_precision_with_reference': 0.7368, 'llm_context_precision_without_reference': 0.7822, 'answer_correctness': 0.4175, 'answer_relevancy': 0.8714, 'semantic_similarity': 0.8031, 'faithfulness': 0.7847}"
      ]
     },
     "execution_count": 14,
     "metadata": {},
     "output_type": "execute_result"
    }
   ],
   "execution_count": 14
  },
  {
   "cell_type": "code",
   "id": "bf00a9f3-623d-45b3-85cd-d18cfe1ea900",
   "metadata": {
    "ExecuteTime": {
     "end_time": "2024-12-24T07:55:01.226129Z",
     "start_time": "2024-12-24T07:55:01.223846Z"
    }
   },
   "source": [
    "scoreset_pd = score_result.to_pandas()"
   ],
   "outputs": [],
   "execution_count": 15
  },
  {
   "cell_type": "code",
   "id": "21170f27-a8d7-42b1-8dcf-f3f1b5b0abdc",
   "metadata": {
    "ExecuteTime": {
     "end_time": "2024-12-24T07:55:01.297136Z",
     "start_time": "2024-12-24T07:55:01.267812Z"
    }
   },
   "source": "scoreset_pd.to_csv('synthetic_score_data_ragas_4o-mini_gemini.csv', index=False)",
   "outputs": [],
   "execution_count": 16
  },
  {
   "cell_type": "code",
   "id": "71554797-e399-49d3-be84-5b63e400c67a",
   "metadata": {
    "ExecuteTime": {
     "end_time": "2024-12-24T08:24:54.861476Z",
     "start_time": "2024-12-24T08:24:54.841969Z"
    }
   },
   "source": "scoreset_pd = pd.read_csv('synthetic_score_data_ragas_4o-mini_gemini.csv', converters={'retrieved_contexts': literal_eval, 'reference_contexts': literal_eval})",
   "outputs": [],
   "execution_count": 39
  },
  {
   "metadata": {
    "ExecuteTime": {
     "end_time": "2024-12-24T08:24:55.246121Z",
     "start_time": "2024-12-24T08:24:55.238831Z"
    }
   },
   "cell_type": "code",
   "source": "scoreset_pd",
   "id": "7a46c437a6411930",
   "outputs": [
    {
     "data": {
      "text/plain": [
       "                                           user_input  \\\n",
       "0        What kind of knowledge SHERLOCK HOLMES have?   \n",
       "1   What kind of knowledge does SHERLOCK HOLMES po...   \n",
       "2   In what ways does the character SHERLOCK HOLME...   \n",
       "3   What are the limits of SHERLOCK HOLMES's knowl...   \n",
       "4   What are the limitations of SHERLOCK HOLMES's ...   \n",
       "..                                                ...   \n",
       "70  What can be inferred about Sherlock Holmes's k...   \n",
       "71  What insights can be drawn from Sherlock Holme...   \n",
       "72  What insights can be drawn from Sherlock Holme...   \n",
       "73  What can be inferred about Sherlock Holmes's k...   \n",
       "74  What can be inferred about Sherlock Holmes's k...   \n",
       "\n",
       "                                   retrieved_contexts  \\\n",
       "0   [I was on the point of asking him what that wo...   \n",
       "1   [I was on the point of asking him what that wo...   \n",
       "2   [I was on the point of asking him what that wo...   \n",
       "3   [I was on the point of asking him what that wo...   \n",
       "4   [I was on the point of asking him what that wo...   \n",
       "..                                                ...   \n",
       "70  [I was on the point of asking him what that wo...   \n",
       "71  [I was on the point of asking him what that wo...   \n",
       "72  [I was on the point of asking him what that wo...   \n",
       "73  [I was on the point of asking him what that wo...   \n",
       "74  [I was on the point of asking him what that wo...   \n",
       "\n",
       "                                   reference_contexts  \\\n",
       "0   [I was on the point of asking him what that wo...   \n",
       "1   [I was on the point of asking him what that wo...   \n",
       "2   [I was on the point of asking him what that wo...   \n",
       "3   [I was on the point of asking him what that wo...   \n",
       "4   [I was on the point of asking him what that wo...   \n",
       "..                                                ...   \n",
       "70  [<1-hop>\\n\\nI was on the point of asking him w...   \n",
       "71  [<1-hop>\\n\\nI was on the point of asking him w...   \n",
       "72  [<1-hop>\\n\\nI was on the point of asking him w...   \n",
       "73  [<1-hop>\\n\\nI was on the point of asking him w...   \n",
       "74  [<1-hop>\\n\\nI was on the point of asking him w...   \n",
       "\n",
       "                                             response  \\\n",
       "0   {'text': \"Based on the narrator's list, Sherlo...   \n",
       "1   {'text': \"Based on the narrator's observations...   \n",
       "2   {'text': 'Based on the provided text excerpts,...   \n",
       "3   {'text': \"Based on the text provided, the limi...   \n",
       "4   {'text': 'Based on the provided text excerpts,...   \n",
       "..                                                ...   \n",
       "70  {'text': 'Okay, let\\'s analyze what can be inf...   \n",
       "71  {'text': 'Okay, let\\'s analyze Sherlock Holmes...   \n",
       "72  {'text': 'Okay, let\\'s analyze what can be inf...   \n",
       "73  {'text': 'Okay, let\\'s analyze what can be inf...   \n",
       "74  {'text': 'Okay, let\\'s analyze what can be inf...   \n",
       "\n",
       "                                            reference  context_recall  \\\n",
       "0   SHERLOCK HOLMES has no knowledge of Literature...        1.000000   \n",
       "1   According to the observations made, SHERLOCK H...        1.000000   \n",
       "2   The character SHERLOCK HOLMES demonstrates a s...        1.000000   \n",
       "3   According to the context, SHERLOCK HOLMES has ...        1.000000   \n",
       "4   According to the context, SHERLOCK HOLMES has ...        1.000000   \n",
       "..                                                ...             ...   \n",
       "70  Sherlock Holmes's knowledge in politics is des...        0.666667   \n",
       "71  Sherlock Holmes' knowledge in politics is desc...        0.333333   \n",
       "72  Sherlock Holmes' knowledge in politics is desc...        0.666667   \n",
       "73  Sherlock Holmes's knowledge in politics is des...        0.666667   \n",
       "74  Sherlock Holmes's knowledge in politics is des...        1.000000   \n",
       "\n",
       "    llm_context_precision_with_reference  \\\n",
       "0                               1.000000   \n",
       "1                               1.000000   \n",
       "2                               1.000000   \n",
       "3                               1.000000   \n",
       "4                               1.000000   \n",
       "..                                   ...   \n",
       "70                                   NaN   \n",
       "71                              1.000000   \n",
       "72                              0.833333   \n",
       "73                              0.833333   \n",
       "74                              0.833333   \n",
       "\n",
       "    llm_context_precision_without_reference  answer_correctness  \\\n",
       "0                                  1.000000            0.187640   \n",
       "1                                  1.000000            0.371369   \n",
       "2                                  1.000000            0.450303   \n",
       "3                                  1.000000            0.465205   \n",
       "4                                  1.000000            0.467892   \n",
       "..                                      ...                 ...   \n",
       "70                                      NaN            0.296683   \n",
       "71                                 0.805556            0.509576   \n",
       "72                                 1.000000            0.481113   \n",
       "73                                 1.000000            0.447299   \n",
       "74                                 1.000000            0.481470   \n",
       "\n",
       "    answer_relevancy  semantic_similarity  faithfulness  \n",
       "0           0.928529                  NaN      1.000000  \n",
       "1           0.915705             0.735477      1.000000  \n",
       "2           0.873316             0.841211      1.000000  \n",
       "3           0.948736             0.801996      1.000000  \n",
       "4           0.930107             0.871568      0.785714  \n",
       "..               ...                  ...           ...  \n",
       "70          0.989672             0.843876      0.951613  \n",
       "71          0.908528             0.838305      0.803279  \n",
       "72          0.962242             0.833542      0.903226  \n",
       "73          0.987936             0.841827      0.754098  \n",
       "74          0.989672             0.834972      0.737705  \n",
       "\n",
       "[75 rows x 12 columns]"
      ],
      "text/html": [
       "<div>\n",
       "<style scoped>\n",
       "    .dataframe tbody tr th:only-of-type {\n",
       "        vertical-align: middle;\n",
       "    }\n",
       "\n",
       "    .dataframe tbody tr th {\n",
       "        vertical-align: top;\n",
       "    }\n",
       "\n",
       "    .dataframe thead th {\n",
       "        text-align: right;\n",
       "    }\n",
       "</style>\n",
       "<table border=\"1\" class=\"dataframe\">\n",
       "  <thead>\n",
       "    <tr style=\"text-align: right;\">\n",
       "      <th></th>\n",
       "      <th>user_input</th>\n",
       "      <th>retrieved_contexts</th>\n",
       "      <th>reference_contexts</th>\n",
       "      <th>response</th>\n",
       "      <th>reference</th>\n",
       "      <th>context_recall</th>\n",
       "      <th>llm_context_precision_with_reference</th>\n",
       "      <th>llm_context_precision_without_reference</th>\n",
       "      <th>answer_correctness</th>\n",
       "      <th>answer_relevancy</th>\n",
       "      <th>semantic_similarity</th>\n",
       "      <th>faithfulness</th>\n",
       "    </tr>\n",
       "  </thead>\n",
       "  <tbody>\n",
       "    <tr>\n",
       "      <th>0</th>\n",
       "      <td>What kind of knowledge SHERLOCK HOLMES have?</td>\n",
       "      <td>[I was on the point of asking him what that wo...</td>\n",
       "      <td>[I was on the point of asking him what that wo...</td>\n",
       "      <td>{'text': \"Based on the narrator's list, Sherlo...</td>\n",
       "      <td>SHERLOCK HOLMES has no knowledge of Literature...</td>\n",
       "      <td>1.000000</td>\n",
       "      <td>1.000000</td>\n",
       "      <td>1.000000</td>\n",
       "      <td>0.187640</td>\n",
       "      <td>0.928529</td>\n",
       "      <td>NaN</td>\n",
       "      <td>1.000000</td>\n",
       "    </tr>\n",
       "    <tr>\n",
       "      <th>1</th>\n",
       "      <td>What kind of knowledge does SHERLOCK HOLMES po...</td>\n",
       "      <td>[I was on the point of asking him what that wo...</td>\n",
       "      <td>[I was on the point of asking him what that wo...</td>\n",
       "      <td>{'text': \"Based on the narrator's observations...</td>\n",
       "      <td>According to the observations made, SHERLOCK H...</td>\n",
       "      <td>1.000000</td>\n",
       "      <td>1.000000</td>\n",
       "      <td>1.000000</td>\n",
       "      <td>0.371369</td>\n",
       "      <td>0.915705</td>\n",
       "      <td>0.735477</td>\n",
       "      <td>1.000000</td>\n",
       "    </tr>\n",
       "    <tr>\n",
       "      <th>2</th>\n",
       "      <td>In what ways does the character SHERLOCK HOLME...</td>\n",
       "      <td>[I was on the point of asking him what that wo...</td>\n",
       "      <td>[I was on the point of asking him what that wo...</td>\n",
       "      <td>{'text': 'Based on the provided text excerpts,...</td>\n",
       "      <td>The character SHERLOCK HOLMES demonstrates a s...</td>\n",
       "      <td>1.000000</td>\n",
       "      <td>1.000000</td>\n",
       "      <td>1.000000</td>\n",
       "      <td>0.450303</td>\n",
       "      <td>0.873316</td>\n",
       "      <td>0.841211</td>\n",
       "      <td>1.000000</td>\n",
       "    </tr>\n",
       "    <tr>\n",
       "      <th>3</th>\n",
       "      <td>What are the limits of SHERLOCK HOLMES's knowl...</td>\n",
       "      <td>[I was on the point of asking him what that wo...</td>\n",
       "      <td>[I was on the point of asking him what that wo...</td>\n",
       "      <td>{'text': \"Based on the text provided, the limi...</td>\n",
       "      <td>According to the context, SHERLOCK HOLMES has ...</td>\n",
       "      <td>1.000000</td>\n",
       "      <td>1.000000</td>\n",
       "      <td>1.000000</td>\n",
       "      <td>0.465205</td>\n",
       "      <td>0.948736</td>\n",
       "      <td>0.801996</td>\n",
       "      <td>1.000000</td>\n",
       "    </tr>\n",
       "    <tr>\n",
       "      <th>4</th>\n",
       "      <td>What are the limitations of SHERLOCK HOLMES's ...</td>\n",
       "      <td>[I was on the point of asking him what that wo...</td>\n",
       "      <td>[I was on the point of asking him what that wo...</td>\n",
       "      <td>{'text': 'Based on the provided text excerpts,...</td>\n",
       "      <td>According to the context, SHERLOCK HOLMES has ...</td>\n",
       "      <td>1.000000</td>\n",
       "      <td>1.000000</td>\n",
       "      <td>1.000000</td>\n",
       "      <td>0.467892</td>\n",
       "      <td>0.930107</td>\n",
       "      <td>0.871568</td>\n",
       "      <td>0.785714</td>\n",
       "    </tr>\n",
       "    <tr>\n",
       "      <th>...</th>\n",
       "      <td>...</td>\n",
       "      <td>...</td>\n",
       "      <td>...</td>\n",
       "      <td>...</td>\n",
       "      <td>...</td>\n",
       "      <td>...</td>\n",
       "      <td>...</td>\n",
       "      <td>...</td>\n",
       "      <td>...</td>\n",
       "      <td>...</td>\n",
       "      <td>...</td>\n",
       "      <td>...</td>\n",
       "    </tr>\n",
       "    <tr>\n",
       "      <th>70</th>\n",
       "      <td>What can be inferred about Sherlock Holmes's k...</td>\n",
       "      <td>[I was on the point of asking him what that wo...</td>\n",
       "      <td>[&lt;1-hop&gt;\\n\\nI was on the point of asking him w...</td>\n",
       "      <td>{'text': 'Okay, let\\'s analyze what can be inf...</td>\n",
       "      <td>Sherlock Holmes's knowledge in politics is des...</td>\n",
       "      <td>0.666667</td>\n",
       "      <td>NaN</td>\n",
       "      <td>NaN</td>\n",
       "      <td>0.296683</td>\n",
       "      <td>0.989672</td>\n",
       "      <td>0.843876</td>\n",
       "      <td>0.951613</td>\n",
       "    </tr>\n",
       "    <tr>\n",
       "      <th>71</th>\n",
       "      <td>What insights can be drawn from Sherlock Holme...</td>\n",
       "      <td>[I was on the point of asking him what that wo...</td>\n",
       "      <td>[&lt;1-hop&gt;\\n\\nI was on the point of asking him w...</td>\n",
       "      <td>{'text': 'Okay, let\\'s analyze Sherlock Holmes...</td>\n",
       "      <td>Sherlock Holmes' knowledge in politics is desc...</td>\n",
       "      <td>0.333333</td>\n",
       "      <td>1.000000</td>\n",
       "      <td>0.805556</td>\n",
       "      <td>0.509576</td>\n",
       "      <td>0.908528</td>\n",
       "      <td>0.838305</td>\n",
       "      <td>0.803279</td>\n",
       "    </tr>\n",
       "    <tr>\n",
       "      <th>72</th>\n",
       "      <td>What insights can be drawn from Sherlock Holme...</td>\n",
       "      <td>[I was on the point of asking him what that wo...</td>\n",
       "      <td>[&lt;1-hop&gt;\\n\\nI was on the point of asking him w...</td>\n",
       "      <td>{'text': 'Okay, let\\'s analyze what can be inf...</td>\n",
       "      <td>Sherlock Holmes' knowledge in politics is desc...</td>\n",
       "      <td>0.666667</td>\n",
       "      <td>0.833333</td>\n",
       "      <td>1.000000</td>\n",
       "      <td>0.481113</td>\n",
       "      <td>0.962242</td>\n",
       "      <td>0.833542</td>\n",
       "      <td>0.903226</td>\n",
       "    </tr>\n",
       "    <tr>\n",
       "      <th>73</th>\n",
       "      <td>What can be inferred about Sherlock Holmes's k...</td>\n",
       "      <td>[I was on the point of asking him what that wo...</td>\n",
       "      <td>[&lt;1-hop&gt;\\n\\nI was on the point of asking him w...</td>\n",
       "      <td>{'text': 'Okay, let\\'s analyze what can be inf...</td>\n",
       "      <td>Sherlock Holmes's knowledge in politics is des...</td>\n",
       "      <td>0.666667</td>\n",
       "      <td>0.833333</td>\n",
       "      <td>1.000000</td>\n",
       "      <td>0.447299</td>\n",
       "      <td>0.987936</td>\n",
       "      <td>0.841827</td>\n",
       "      <td>0.754098</td>\n",
       "    </tr>\n",
       "    <tr>\n",
       "      <th>74</th>\n",
       "      <td>What can be inferred about Sherlock Holmes's k...</td>\n",
       "      <td>[I was on the point of asking him what that wo...</td>\n",
       "      <td>[&lt;1-hop&gt;\\n\\nI was on the point of asking him w...</td>\n",
       "      <td>{'text': 'Okay, let\\'s analyze what can be inf...</td>\n",
       "      <td>Sherlock Holmes's knowledge in politics is des...</td>\n",
       "      <td>1.000000</td>\n",
       "      <td>0.833333</td>\n",
       "      <td>1.000000</td>\n",
       "      <td>0.481470</td>\n",
       "      <td>0.989672</td>\n",
       "      <td>0.834972</td>\n",
       "      <td>0.737705</td>\n",
       "    </tr>\n",
       "  </tbody>\n",
       "</table>\n",
       "<p>75 rows × 12 columns</p>\n",
       "</div>"
      ]
     },
     "execution_count": 40,
     "metadata": {},
     "output_type": "execute_result"
    }
   ],
   "execution_count": 40
  },
  {
   "metadata": {
    "ExecuteTime": {
     "end_time": "2024-12-24T08:24:56.702572Z",
     "start_time": "2024-12-24T08:24:56.700680Z"
    }
   },
   "cell_type": "code",
   "source": "unique_scoreset_pd = scoreset_pd.iloc[scoreset_pd.user_input.drop_duplicates().index].copy()",
   "id": "3ddd69aeda78eebe",
   "outputs": [],
   "execution_count": 41
  },
  {
   "metadata": {
    "ExecuteTime": {
     "end_time": "2024-12-24T08:25:25.023191Z",
     "start_time": "2024-12-24T08:25:24.997359Z"
    }
   },
   "cell_type": "code",
   "source": "unique_scoreset_pd",
   "id": "816c9f6d43f1405d",
   "outputs": [
    {
     "data": {
      "text/plain": [
       "                                           user_input  \\\n",
       "0        What kind of knowledge SHERLOCK HOLMES have?   \n",
       "1   What kind of knowledge does SHERLOCK HOLMES po...   \n",
       "2   In what ways does the character SHERLOCK HOLME...   \n",
       "3   What are the limits of SHERLOCK HOLMES's knowl...   \n",
       "4   What are the limitations of SHERLOCK HOLMES's ...   \n",
       "5   What are the limitations of SHERLOCK HOLMES's ...   \n",
       "6   What does the document reveal about SHERLOCK H...   \n",
       "7   Wot are the limits of SHERLOCK HOLMES's knowle...   \n",
       "8                          What SHERLOCK HOLMES know?   \n",
       "9   What are the limits of SHERLOCK HOLMES's knowl...   \n",
       "10  What can be inferred about SHERLOCK HOLMES's k...   \n",
       "11         Wot is the limitashuns of SHERLOCK HOLMES?   \n",
       "12  What knowledge does the character possess abou...   \n",
       "13  What can you tell me about Mendelssohn's music...   \n",
       "14  What are some of the skills and interests of S...   \n",
       "15  What knowledge does Sherlock Holmes possess re...   \n",
       "16           Wot is the knoledge of British law like?   \n",
       "17  What can you tell me about Mendelssohn's music...   \n",
       "18  Wot is the significance of British law in the ...   \n",
       "19  What can be inferred about the social interact...   \n",
       "20  What pieces did Sherlock Holmes play on the vi...   \n",
       "21  What kind of skills does Sherlock Holmes have ...   \n",
       "22  What are some of the diverse skills and knowle...   \n",
       "23  What pieces did Sherlock Holmes play on the vi...   \n",
       "24  Who is Mr. Lestrade and what role does he play...   \n",
       "25  What insights can be drawn about the various i...   \n",
       "26                 What can you tell me about London?   \n",
       "27  What are some of the notable skills and charac...   \n",
       "28  What kind of knowledge does the individual pos...   \n",
       "29  What is the significance of having a good prac...   \n",
       "30  Who is Mr. Lestrade in relation to the detective?   \n",
       "31  What can you tell me about the different types...   \n",
       "32  What role does Mr. Lestrade play in the contex...   \n",
       "34  Wot can ya tell me about the significance of L...   \n",
       "35  Who is Mr. Lestrade and what role does he play...   \n",
       "36  What can you tell me about Sherlock Holmes's a...   \n",
       "37  What insights can be drawn from Sherlock Holme...   \n",
       "38  What insights can be drawn from Sherlock Holme...   \n",
       "39  What kind of knowledge does Sherlock Holmes ac...   \n",
       "42  What can be inferred about Sherlock Holmes's k...   \n",
       "43  What insights can be drawn from Sherlock Holme...   \n",
       "44  What insights can be drawn about Sherlock Holm...   \n",
       "45  What can be inferred about Sherlock Holmes's k...   \n",
       "46  In what ways does Sherlock Holmes's knowledge ...   \n",
       "48  What can be inferred about Sherlock Holmes's k...   \n",
       "49  What insights can be drawn from Sherlock Holme...   \n",
       "50  In what ways does Sherlock Holmes's knowledge ...   \n",
       "51  In what ways does Sherlock Holmes's knowledge ...   \n",
       "52  What can be inferred about Sherlock Holmes's k...   \n",
       "53  What can be inferred about Sherlock Holmes's k...   \n",
       "54  In what ways does Sherlock Holmes's knowledge ...   \n",
       "56  What insights can be drawn from Sherlock Holme...   \n",
       "60  In what ways does Sherlock Holmes's knowledge ...   \n",
       "66  In what ways does Sherlock Holmes's knowledge ...   \n",
       "\n",
       "                                   retrieved_contexts  \\\n",
       "0   [I was on the point of asking him what that wo...   \n",
       "1   [I was on the point of asking him what that wo...   \n",
       "2   [I was on the point of asking him what that wo...   \n",
       "3   [I was on the point of asking him what that wo...   \n",
       "4   [I was on the point of asking him what that wo...   \n",
       "5   [I was on the point of asking him what that wo...   \n",
       "6   [I was on the point of asking him what that wo...   \n",
       "7   [I was on the point of asking him what that wo...   \n",
       "8   [I was on the point of asking him what that wo...   \n",
       "9   [I was on the point of asking him what that wo...   \n",
       "10  [I was on the point of asking him what that wo...   \n",
       "11  [I was on the point of asking him what that wo...   \n",
       "12  [I was on the point of asking him what that wo...   \n",
       "13  [help I can. In the meantime I should like to ...   \n",
       "14  [I was on the point of asking him what that wo...   \n",
       "15  [help I can. In the meantime I should like to ...   \n",
       "16  [asked to prove that two and two made four, yo...   \n",
       "17  [about Cremona fiddles, and the difference bet...   \n",
       "18  [help I can. In the meantime I should like to ...   \n",
       "19  [observer. In height he was rather over six fe...   \n",
       "20  [If he does not come himself he will send an a...   \n",
       "21  [I was on the point of asking him what that wo...   \n",
       "22  [I was on the point of asking him what that wo...   \n",
       "23  [If he does not come himself he will send an a...   \n",
       "24  [asked to prove that two and two made four, yo...   \n",
       "25  [I was on the point of asking him what that wo...   \n",
       "26  [dropping another curtsey; “a gold wedding rin...   \n",
       "27  [I was on the point of asking him what that wo...   \n",
       "28  [asked to prove that two and two made four, yo...   \n",
       "29  [help I can. In the meantime I should like to ...   \n",
       "30  [help I can. In the meantime I should like to ...   \n",
       "31  [I was on the point of asking him what that wo...   \n",
       "32  [asked to prove that two and two made four, yo...   \n",
       "34  [dropping another curtsey; “a gold wedding rin...   \n",
       "35  [help I can. In the meantime I should like to ...   \n",
       "36  [I was on the point of asking him what that wo...   \n",
       "37  [I was on the point of asking him what that wo...   \n",
       "38  [I was on the point of asking him what that wo...   \n",
       "39  [I was on the point of asking him what that wo...   \n",
       "42  [I was on the point of asking him what that wo...   \n",
       "43  [I was on the point of asking him what that wo...   \n",
       "44  [I was on the point of asking him what that wo...   \n",
       "45  [I was on the point of asking him what that wo...   \n",
       "46  [I was on the point of asking him what that wo...   \n",
       "48  [I was on the point of asking him what that wo...   \n",
       "49  [I was on the point of asking him what that wo...   \n",
       "50  [I was on the point of asking him what that wo...   \n",
       "51  [I was on the point of asking him what that wo...   \n",
       "52  [I was on the point of asking him what that wo...   \n",
       "53  [help I can. In the meantime I should like to ...   \n",
       "54  [I was on the point of asking him what that wo...   \n",
       "56  [I was on the point of asking him what that wo...   \n",
       "60  [I was on the point of asking him what that wo...   \n",
       "66  [I was on the point of asking him what that wo...   \n",
       "\n",
       "                                   reference_contexts  \\\n",
       "0   [I was on the point of asking him what that wo...   \n",
       "1   [I was on the point of asking him what that wo...   \n",
       "2   [I was on the point of asking him what that wo...   \n",
       "3   [I was on the point of asking him what that wo...   \n",
       "4   [I was on the point of asking him what that wo...   \n",
       "5   [I was on the point of asking him what that wo...   \n",
       "6   [I was on the point of asking him what that wo...   \n",
       "7   [I was on the point of asking him what that wo...   \n",
       "8   [I was on the point of asking him what that wo...   \n",
       "9   [I was on the point of asking him what that wo...   \n",
       "10  [I was on the point of asking him what that wo...   \n",
       "11  [I was on the point of asking him what that wo...   \n",
       "12  [Politics.—Feeble. 5. Botany.—Variable. Well u...   \n",
       "13  [Politics.—Feeble. 5. Botany.—Variable. Well u...   \n",
       "14  [Politics.—Feeble. 5. Botany.—Variable. Well u...   \n",
       "15  [Politics.—Feeble. 5. Botany.—Variable. Well u...   \n",
       "16  [Politics.—Feeble. 5. Botany.—Variable. Well u...   \n",
       "17  [Politics.—Feeble. 5. Botany.—Variable. Well u...   \n",
       "18  [Politics.—Feeble. 5. Botany.—Variable. Well u...   \n",
       "19  [Politics.—Feeble. 5. Botany.—Variable. Well u...   \n",
       "20  [Politics.—Feeble. 5. Botany.—Variable. Well u...   \n",
       "21  [Politics.—Feeble. 5. Botany.—Variable. Well u...   \n",
       "22  [Politics.—Feeble. 5. Botany.—Variable. Well u...   \n",
       "23  [Politics.—Feeble. 5. Botany.—Variable. Well u...   \n",
       "24  [Politics.—Feeble. 5. Botany.—Variable. Well u...   \n",
       "25  [Politics.—Feeble. 5. Botany.—Variable. Well u...   \n",
       "26  [Politics.—Feeble. 5. Botany.—Variable. Well u...   \n",
       "27  [Politics.—Feeble. 5. Botany.—Variable. Well u...   \n",
       "28  [Politics.—Feeble. 5. Botany.—Variable. Well u...   \n",
       "29  [Politics.—Feeble. 5. Botany.—Variable. Well u...   \n",
       "30  [Politics.—Feeble. 5. Botany.—Variable. Well u...   \n",
       "31  [Politics.—Feeble. 5. Botany.—Variable. Well u...   \n",
       "32  [Politics.—Feeble. 5. Botany.—Variable. Well u...   \n",
       "34  [Politics.—Feeble. 5. Botany.—Variable. Well u...   \n",
       "35  [Politics.—Feeble. 5. Botany.—Variable. Well u...   \n",
       "36  [Politics.—Feeble. 5. Botany.—Variable. Well u...   \n",
       "37  [<1-hop>\\n\\nI was on the point of asking him w...   \n",
       "38  [<1-hop>\\n\\nI was on the point of asking him w...   \n",
       "39  [<1-hop>\\n\\nI was on the point of asking him w...   \n",
       "42  [<1-hop>\\n\\nI was on the point of asking him w...   \n",
       "43  [<1-hop>\\n\\nI was on the point of asking him w...   \n",
       "44  [<1-hop>\\n\\nI was on the point of asking him w...   \n",
       "45  [<1-hop>\\n\\nI was on the point of asking him w...   \n",
       "46  [<1-hop>\\n\\nI was on the point of asking him w...   \n",
       "48  [<1-hop>\\n\\nI was on the point of asking him w...   \n",
       "49  [<1-hop>\\n\\nI was on the point of asking him w...   \n",
       "50  [<1-hop>\\n\\nI was on the point of asking him w...   \n",
       "51  [<1-hop>\\n\\nI was on the point of asking him w...   \n",
       "52  [<1-hop>\\n\\nI was on the point of asking him w...   \n",
       "53  [<1-hop>\\n\\nI was on the point of asking him w...   \n",
       "54  [<1-hop>\\n\\nI was on the point of asking him w...   \n",
       "56  [<1-hop>\\n\\nI was on the point of asking him w...   \n",
       "60  [<1-hop>\\n\\nI was on the point of asking him w...   \n",
       "66  [<1-hop>\\n\\nI was on the point of asking him w...   \n",
       "\n",
       "                                             response  \\\n",
       "0   {'text': \"Based on the narrator's list, Sherlo...   \n",
       "1   {'text': \"Based on the narrator's observations...   \n",
       "2   {'text': 'Based on the provided text excerpts,...   \n",
       "3   {'text': \"Based on the text provided, the limi...   \n",
       "4   {'text': 'Based on the provided text excerpts,...   \n",
       "5   {'text': 'Based on the provided text excerpts,...   \n",
       "6   {'text': 'The document reveals the following a...   \n",
       "7   {'text': 'Based on the provided text excerpts,...   \n",
       "8   {'text': 'Based on the provided text excerpts,...   \n",
       "9   {'text': 'Based on the provided text excerpts,...   \n",
       "10  {'text': 'Based on the provided text excerpts,...   \n",
       "11  {'text': 'Based on the provided text excerpts,...   \n",
       "12  {'text': 'Based on the text provided, Sherlock...   \n",
       "13  {'text': \"Based on the text provided, there is...   \n",
       "14  {'text': 'Based on the provided text, here are...   \n",
       "15  {'text': 'Based on the provided text, Sherlock...   \n",
       "16  {'text': 'Based on the text provided, Sherlock...   \n",
       "17  {'text': 'Based on the provided text, there is...   \n",
       "18  {'text': 'Based on the provided text, here\\'s ...   \n",
       "19  {'text': 'Based on the context provided, here\\...   \n",
       "20  {'text': 'Based on the provided text excerpts,...   \n",
       "21  {'text': 'Based on the provided text excerpts,...   \n",
       "22  {'text': 'Based on the provided text, here are...   \n",
       "23  {'text': 'Based on the provided text excerpts,...   \n",
       "24  {'text': 'Based on the provided text excerpts,...   \n",
       "25  {'text': 'Based on the text, here are insights...   \n",
       "26  {'text': 'Based on the provided text excerpts,...   \n",
       "27  {'text': 'Based on the provided text excerpts,...   \n",
       "28  {'text': 'Based on the provided text, the indi...   \n",
       "29  {'text': \"Based on the provided text, we can i...   \n",
       "30  {'text': 'Based on the provided text, Mr. Lest...   \n",
       "31  {'text': 'Based on the provided text excerpts,...   \n",
       "32  {'text': 'Based on the provided text, Mr. Lest...   \n",
       "34  {'text': 'Okay, let\\'s look at what the provid...   \n",
       "35  {'text': 'Based on the provided text, Mr. Lest...   \n",
       "36  {'text': 'Based on the provided text, here\\'s ...   \n",
       "37  {'text': 'Based on the provided text, Sherlock...   \n",
       "38  {'text': 'Based on the provided text, Sherlock...   \n",
       "39  {'text': 'Based on the provided text, Sherlock...   \n",
       "42  {'text': 'Okay, let\\'s analyze Sherlock Holmes...   \n",
       "43  {'text': 'Based on the provided text, Sherlock...   \n",
       "44  {'text': 'Okay, let\\'s break down what the pro...   \n",
       "45  {'text': 'Based on the provided text, here\\'s ...   \n",
       "46  {'text': 'Okay, let\\'s analyze how Sherlock Ho...   \n",
       "48  {'text': 'Okay, let\\'s analyze Sherlock Holmes...   \n",
       "49  {'text': 'Okay, let\\'s analyze Sherlock Holmes...   \n",
       "50  {'text': 'Okay, let\\'s analyze how Sherlock Ho...   \n",
       "51  {'text': 'Okay, let\\'s analyze Sherlock Holmes...   \n",
       "52  {'text': 'Okay, let\\'s analyze Sherlock Holmes...   \n",
       "53  {'text': 'Okay, let\\'s analyze what can be inf...   \n",
       "54  {'text': 'Okay, let\\'s analyze how Sherlock Ho...   \n",
       "56  {'text': 'Okay, let\\'s analyze Sherlock Holmes...   \n",
       "60  {'text': 'Based on the provided text excerpts,...   \n",
       "66  {'text': 'Okay, let\\'s analyze how Sherlock Ho...   \n",
       "\n",
       "                                            reference  context_recall  \\\n",
       "0   SHERLOCK HOLMES has no knowledge of Literature...        1.000000   \n",
       "1   According to the observations made, SHERLOCK H...        1.000000   \n",
       "2   The character SHERLOCK HOLMES demonstrates a s...        1.000000   \n",
       "3   According to the context, SHERLOCK HOLMES has ...        1.000000   \n",
       "4   According to the context, SHERLOCK HOLMES has ...        1.000000   \n",
       "5   According to the context, SHERLOCK HOLMES has ...        1.000000   \n",
       "6   The document reveals that SHERLOCK HOLMES poss...        1.000000   \n",
       "7   The limits of SHERLOCK HOLMES's knowledge incl...        1.000000   \n",
       "8   SHERLOCK HOLMES has no knowledge of Literature...        1.000000   \n",
       "9   The limits of SHERLOCK HOLMES's knowledge, as ...        1.000000   \n",
       "10  The context suggests that SHERLOCK HOLMES poss...        1.000000   \n",
       "11  The limits of SHERLOCK HOLMES include a lack o...        1.000000   \n",
       "12  The character has a good practical knowledge o...        1.000000   \n",
       "13  The consulting detective noted that his compan...        1.000000   \n",
       "14  Sherlock Holmes possesses a variety of skills ...        1.000000   \n",
       "15  Sherlock Holmes has a good practical knowledge...        0.000000   \n",
       "16  He has a good practical knowledge of British law.        0.000000   \n",
       "17  The character is known to play pieces by Mende...        0.000000   \n",
       "18  A good practical knowledge of British law is e...        1.000000   \n",
       "19  The context suggests that London is a place wh...        1.000000   \n",
       "20  Sherlock Holmes played some of Mendelssohn’s L...        0.000000   \n",
       "21  Sherlock Holmes possesses a variety of skills ...        1.000000   \n",
       "22  Sherlock Holmes possesses a wide range of skil...        1.000000   \n",
       "23  Sherlock Holmes played some of Mendelssohn’s L...        0.000000   \n",
       "24  Mr. Lestrade is introduced as a little sallow ...        0.000000   \n",
       "25  The visitors to Sherlock Holmes in London repr...        1.000000   \n",
       "26  London is mentioned in the context of identify...        0.000000   \n",
       "27  Sherlock Holmes possesses a variety of notable...        1.000000   \n",
       "28  The individual has a good practical knowledge ...        0.000000   \n",
       "29  A good practical knowledge of British law is s...        0.000000   \n",
       "30  Mr. Lestrade is introduced as a little sallow ...        0.000000   \n",
       "31  Sherlock Holmes interacts with a variety of in...        1.000000   \n",
       "32  Mr. Lestrade is introduced as a frequent visit...        0.750000   \n",
       "34  London is significant in the context of Sherlo...        0.666667   \n",
       "35  Mr. Lestrade is introduced as a little sallow ...        0.000000   \n",
       "36  Sherlock Holmes's ability to play the violin i...        1.000000   \n",
       "37  Sherlock Holmes' knowledge in politics is desc...        0.500000   \n",
       "38  Sherlock Holmes' knowledge in politics is desc...        0.666667   \n",
       "39  Sherlock Holmes acquires knowledge that is des...        0.666667   \n",
       "42  Sherlock Holmes's knowledge in politics is des...        1.000000   \n",
       "43  Sherlock Holmes' knowledge of politics is desc...        0.500000   \n",
       "44  Sherlock Holmes' knowledge acquisition is sele...        0.750000   \n",
       "45  Sherlock Holmes's knowledge in politics is des...        0.666667   \n",
       "46  Sherlock Holmes's knowledge in various fields,...        0.750000   \n",
       "48  Sherlock Holmes's knowledge in politics is des...        0.500000   \n",
       "49  Sherlock Holmes' knowledge of politics is desc...        0.666667   \n",
       "50  Sherlock Holmes's knowledge in various fields ...        0.750000   \n",
       "51  Sherlock Holmes's knowledge of politics is des...        1.000000   \n",
       "52  Sherlock Holmes's knowledge in politics is des...        1.000000   \n",
       "53  Sherlock Holmes's knowledge in politics is des...        0.000000   \n",
       "54  Sherlock Holmes's knowledge in politics is des...        0.750000   \n",
       "56  Sherlock Holmes' knowledge in politics is desc...        1.000000   \n",
       "60  Sherlock Holmes's knowledge in various fields ...        0.500000   \n",
       "66  Sherlock Holmes's knowledge of various subject...        0.750000   \n",
       "\n",
       "    llm_context_precision_with_reference  \\\n",
       "0                               1.000000   \n",
       "1                               1.000000   \n",
       "2                               1.000000   \n",
       "3                               1.000000   \n",
       "4                               1.000000   \n",
       "5                               1.000000   \n",
       "6                                    NaN   \n",
       "7                               1.000000   \n",
       "8                               1.000000   \n",
       "9                               1.000000   \n",
       "10                              1.000000   \n",
       "11                              1.000000   \n",
       "12                              0.805556   \n",
       "13                                   NaN   \n",
       "14                              0.833333   \n",
       "15                              0.000000   \n",
       "16                              0.000000   \n",
       "17                              0.142857   \n",
       "18                              0.000000   \n",
       "19                              1.000000   \n",
       "20                              0.000000   \n",
       "21                              1.000000   \n",
       "22                              0.833333   \n",
       "23                              0.000000   \n",
       "24                              0.420635   \n",
       "25                              1.000000   \n",
       "26                              0.000000   \n",
       "27                              1.000000   \n",
       "28                              0.320635   \n",
       "29                              0.000000   \n",
       "30                              0.000000   \n",
       "31                              0.826020   \n",
       "32                              0.950000   \n",
       "34                              0.000000   \n",
       "35                              0.420635   \n",
       "36                              1.000000   \n",
       "37                              1.000000   \n",
       "38                              1.000000   \n",
       "39                              1.000000   \n",
       "42                                   NaN   \n",
       "43                              1.000000   \n",
       "44                              1.000000   \n",
       "45                              0.854167   \n",
       "46                              1.000000   \n",
       "48                              0.833333   \n",
       "49                              1.000000   \n",
       "50                              1.000000   \n",
       "51                              1.000000   \n",
       "52                              0.833333   \n",
       "53                              0.000000   \n",
       "54                                   NaN   \n",
       "56                              0.833333   \n",
       "60                              1.000000   \n",
       "66                              1.000000   \n",
       "\n",
       "    llm_context_precision_without_reference  answer_correctness  \\\n",
       "0                                  1.000000            0.187640   \n",
       "1                                  1.000000            0.371369   \n",
       "2                                  1.000000            0.450303   \n",
       "3                                  1.000000            0.465205   \n",
       "4                                  1.000000            0.467892   \n",
       "5                                  1.000000            0.519048   \n",
       "6                                       NaN            0.340213   \n",
       "7                                  1.000000            0.419258   \n",
       "8                                       NaN            0.291871   \n",
       "9                                  1.000000            0.560403   \n",
       "10                                 1.000000                 NaN   \n",
       "11                                 1.000000            0.904740   \n",
       "12                                 1.000000            0.561145   \n",
       "13                                 0.000000            0.169581   \n",
       "14                                 1.000000            0.461967   \n",
       "15                                 0.000000            0.696046   \n",
       "16                                 0.000000            0.921858   \n",
       "17                                 0.000000            0.169705   \n",
       "18                                 0.000000            0.514955   \n",
       "19                                 1.000000            0.432644   \n",
       "20                                 0.000000            0.493710   \n",
       "21                                 1.000000            0.294744   \n",
       "22                                 0.833333            0.522641   \n",
       "23                                 0.000000            0.170674   \n",
       "24                                 0.684524            0.242238   \n",
       "25                                      NaN            0.566174   \n",
       "26                                 0.000000            0.162023   \n",
       "27                                 1.000000                 NaN   \n",
       "28                                 0.320635            0.329249   \n",
       "29                                 0.000000            0.366266   \n",
       "30                                 0.492857            0.163365   \n",
       "31                                 0.780159            0.561652   \n",
       "32                                 1.000000            0.422750   \n",
       "34                                      NaN            0.253701   \n",
       "35                                      NaN                 NaN   \n",
       "36                                 1.000000            0.270957   \n",
       "37                                 1.000000            0.351176   \n",
       "38                                 0.805556            0.517745   \n",
       "39                                 1.000000            0.363267   \n",
       "42                                      NaN            0.338444   \n",
       "43                                 0.805556            0.299304   \n",
       "44                                 1.000000            0.337880   \n",
       "45                                 1.000000            0.392441   \n",
       "46                                 0.810000            0.645072   \n",
       "48                                      NaN            0.341218   \n",
       "49                                 0.805556            0.467767   \n",
       "50                                 0.733333            0.337822   \n",
       "51                                 0.805556            0.539068   \n",
       "52                                 0.805556                 NaN   \n",
       "53                                      NaN            0.542925   \n",
       "54                                 0.804167            0.606501   \n",
       "56                                 0.930556            0.334211   \n",
       "60                                 0.810000            0.240339   \n",
       "66                                 1.000000            0.606529   \n",
       "\n",
       "    answer_relevancy  semantic_similarity  faithfulness  \n",
       "0           0.928529                  NaN      1.000000  \n",
       "1           0.915705             0.735477      1.000000  \n",
       "2           0.873316             0.841211      1.000000  \n",
       "3           0.948736             0.801996      1.000000  \n",
       "4           0.930107             0.871568      0.785714  \n",
       "5           0.922658             0.876192      1.000000  \n",
       "6           0.952657             0.831440      0.935484  \n",
       "7           0.936305             0.819888      1.000000  \n",
       "8           0.834985             0.792485      1.000000  \n",
       "9           0.937915             0.856995      1.000000  \n",
       "10          0.887595             0.795780      0.962963  \n",
       "11          0.780584             0.849729      1.000000  \n",
       "12          0.817259             0.744579      1.000000  \n",
       "13          0.000000             0.678324      1.000000  \n",
       "14          1.000000             0.828999      1.000000  \n",
       "15          0.852066             0.784186      0.500000  \n",
       "16          0.551892             0.687433      0.000000  \n",
       "17          0.000000             0.678818      0.800000  \n",
       "18          0.911338             0.796661      0.029412  \n",
       "19          0.983604             0.807501      1.000000  \n",
       "20          0.000000             0.689127      0.666667  \n",
       "21          0.851681             0.787672      1.000000  \n",
       "22          0.940241             0.863290      1.000000  \n",
       "23          0.000000             0.682696      0.875000  \n",
       "24          0.945655             0.728950      0.836735  \n",
       "25          0.958954             0.764695      1.000000  \n",
       "26          0.762116             0.648090      1.000000  \n",
       "27          0.958808             0.829483      1.000000  \n",
       "28          0.839274             0.771539      0.000000  \n",
       "29          0.958761             0.783247      1.000000  \n",
       "30          0.908263             0.653459      0.300000  \n",
       "31          0.857832             0.746610      0.947368  \n",
       "32          0.980434             0.753502      1.000000  \n",
       "34          0.974611             0.784034      0.444444  \n",
       "35          0.867964             0.741268      0.750000  \n",
       "36          1.000000             0.776135      0.965517  \n",
       "37          0.889783             0.842205      0.428571  \n",
       "38          0.906056             0.820978      0.916667  \n",
       "39          0.917248             0.840822      1.000000  \n",
       "42          0.897828             0.808320      0.800000  \n",
       "43          0.907721             0.822215      0.776119  \n",
       "44          0.817563             0.837232      0.866667  \n",
       "45          0.988769             0.842491      0.905660  \n",
       "46          0.932181             0.802511      0.971014  \n",
       "48          0.950521             0.819417      0.704918  \n",
       "49          0.886810             0.827591      0.953125  \n",
       "50          0.934541             0.817955      1.000000  \n",
       "51          0.941295             0.822941      0.964912  \n",
       "52          0.929293             0.835077      1.000000  \n",
       "53          0.983504             0.838368      0.000000  \n",
       "54          0.916494             0.826003      0.957746  \n",
       "56          0.910467             0.836846      0.949153  \n",
       "60          0.926804             0.830919      0.750000  \n",
       "66          0.976353             0.826116      0.961538  "
      ],
      "text/html": [
       "<div>\n",
       "<style scoped>\n",
       "    .dataframe tbody tr th:only-of-type {\n",
       "        vertical-align: middle;\n",
       "    }\n",
       "\n",
       "    .dataframe tbody tr th {\n",
       "        vertical-align: top;\n",
       "    }\n",
       "\n",
       "    .dataframe thead th {\n",
       "        text-align: right;\n",
       "    }\n",
       "</style>\n",
       "<table border=\"1\" class=\"dataframe\">\n",
       "  <thead>\n",
       "    <tr style=\"text-align: right;\">\n",
       "      <th></th>\n",
       "      <th>user_input</th>\n",
       "      <th>retrieved_contexts</th>\n",
       "      <th>reference_contexts</th>\n",
       "      <th>response</th>\n",
       "      <th>reference</th>\n",
       "      <th>context_recall</th>\n",
       "      <th>llm_context_precision_with_reference</th>\n",
       "      <th>llm_context_precision_without_reference</th>\n",
       "      <th>answer_correctness</th>\n",
       "      <th>answer_relevancy</th>\n",
       "      <th>semantic_similarity</th>\n",
       "      <th>faithfulness</th>\n",
       "    </tr>\n",
       "  </thead>\n",
       "  <tbody>\n",
       "    <tr>\n",
       "      <th>0</th>\n",
       "      <td>What kind of knowledge SHERLOCK HOLMES have?</td>\n",
       "      <td>[I was on the point of asking him what that wo...</td>\n",
       "      <td>[I was on the point of asking him what that wo...</td>\n",
       "      <td>{'text': \"Based on the narrator's list, Sherlo...</td>\n",
       "      <td>SHERLOCK HOLMES has no knowledge of Literature...</td>\n",
       "      <td>1.000000</td>\n",
       "      <td>1.000000</td>\n",
       "      <td>1.000000</td>\n",
       "      <td>0.187640</td>\n",
       "      <td>0.928529</td>\n",
       "      <td>NaN</td>\n",
       "      <td>1.000000</td>\n",
       "    </tr>\n",
       "    <tr>\n",
       "      <th>1</th>\n",
       "      <td>What kind of knowledge does SHERLOCK HOLMES po...</td>\n",
       "      <td>[I was on the point of asking him what that wo...</td>\n",
       "      <td>[I was on the point of asking him what that wo...</td>\n",
       "      <td>{'text': \"Based on the narrator's observations...</td>\n",
       "      <td>According to the observations made, SHERLOCK H...</td>\n",
       "      <td>1.000000</td>\n",
       "      <td>1.000000</td>\n",
       "      <td>1.000000</td>\n",
       "      <td>0.371369</td>\n",
       "      <td>0.915705</td>\n",
       "      <td>0.735477</td>\n",
       "      <td>1.000000</td>\n",
       "    </tr>\n",
       "    <tr>\n",
       "      <th>2</th>\n",
       "      <td>In what ways does the character SHERLOCK HOLME...</td>\n",
       "      <td>[I was on the point of asking him what that wo...</td>\n",
       "      <td>[I was on the point of asking him what that wo...</td>\n",
       "      <td>{'text': 'Based on the provided text excerpts,...</td>\n",
       "      <td>The character SHERLOCK HOLMES demonstrates a s...</td>\n",
       "      <td>1.000000</td>\n",
       "      <td>1.000000</td>\n",
       "      <td>1.000000</td>\n",
       "      <td>0.450303</td>\n",
       "      <td>0.873316</td>\n",
       "      <td>0.841211</td>\n",
       "      <td>1.000000</td>\n",
       "    </tr>\n",
       "    <tr>\n",
       "      <th>3</th>\n",
       "      <td>What are the limits of SHERLOCK HOLMES's knowl...</td>\n",
       "      <td>[I was on the point of asking him what that wo...</td>\n",
       "      <td>[I was on the point of asking him what that wo...</td>\n",
       "      <td>{'text': \"Based on the text provided, the limi...</td>\n",
       "      <td>According to the context, SHERLOCK HOLMES has ...</td>\n",
       "      <td>1.000000</td>\n",
       "      <td>1.000000</td>\n",
       "      <td>1.000000</td>\n",
       "      <td>0.465205</td>\n",
       "      <td>0.948736</td>\n",
       "      <td>0.801996</td>\n",
       "      <td>1.000000</td>\n",
       "    </tr>\n",
       "    <tr>\n",
       "      <th>4</th>\n",
       "      <td>What are the limitations of SHERLOCK HOLMES's ...</td>\n",
       "      <td>[I was on the point of asking him what that wo...</td>\n",
       "      <td>[I was on the point of asking him what that wo...</td>\n",
       "      <td>{'text': 'Based on the provided text excerpts,...</td>\n",
       "      <td>According to the context, SHERLOCK HOLMES has ...</td>\n",
       "      <td>1.000000</td>\n",
       "      <td>1.000000</td>\n",
       "      <td>1.000000</td>\n",
       "      <td>0.467892</td>\n",
       "      <td>0.930107</td>\n",
       "      <td>0.871568</td>\n",
       "      <td>0.785714</td>\n",
       "    </tr>\n",
       "    <tr>\n",
       "      <th>5</th>\n",
       "      <td>What are the limitations of SHERLOCK HOLMES's ...</td>\n",
       "      <td>[I was on the point of asking him what that wo...</td>\n",
       "      <td>[I was on the point of asking him what that wo...</td>\n",
       "      <td>{'text': 'Based on the provided text excerpts,...</td>\n",
       "      <td>According to the context, SHERLOCK HOLMES has ...</td>\n",
       "      <td>1.000000</td>\n",
       "      <td>1.000000</td>\n",
       "      <td>1.000000</td>\n",
       "      <td>0.519048</td>\n",
       "      <td>0.922658</td>\n",
       "      <td>0.876192</td>\n",
       "      <td>1.000000</td>\n",
       "    </tr>\n",
       "    <tr>\n",
       "      <th>6</th>\n",
       "      <td>What does the document reveal about SHERLOCK H...</td>\n",
       "      <td>[I was on the point of asking him what that wo...</td>\n",
       "      <td>[I was on the point of asking him what that wo...</td>\n",
       "      <td>{'text': 'The document reveals the following a...</td>\n",
       "      <td>The document reveals that SHERLOCK HOLMES poss...</td>\n",
       "      <td>1.000000</td>\n",
       "      <td>NaN</td>\n",
       "      <td>NaN</td>\n",
       "      <td>0.340213</td>\n",
       "      <td>0.952657</td>\n",
       "      <td>0.831440</td>\n",
       "      <td>0.935484</td>\n",
       "    </tr>\n",
       "    <tr>\n",
       "      <th>7</th>\n",
       "      <td>Wot are the limits of SHERLOCK HOLMES's knowle...</td>\n",
       "      <td>[I was on the point of asking him what that wo...</td>\n",
       "      <td>[I was on the point of asking him what that wo...</td>\n",
       "      <td>{'text': 'Based on the provided text excerpts,...</td>\n",
       "      <td>The limits of SHERLOCK HOLMES's knowledge incl...</td>\n",
       "      <td>1.000000</td>\n",
       "      <td>1.000000</td>\n",
       "      <td>1.000000</td>\n",
       "      <td>0.419258</td>\n",
       "      <td>0.936305</td>\n",
       "      <td>0.819888</td>\n",
       "      <td>1.000000</td>\n",
       "    </tr>\n",
       "    <tr>\n",
       "      <th>8</th>\n",
       "      <td>What SHERLOCK HOLMES know?</td>\n",
       "      <td>[I was on the point of asking him what that wo...</td>\n",
       "      <td>[I was on the point of asking him what that wo...</td>\n",
       "      <td>{'text': 'Based on the provided text excerpts,...</td>\n",
       "      <td>SHERLOCK HOLMES has no knowledge of Literature...</td>\n",
       "      <td>1.000000</td>\n",
       "      <td>1.000000</td>\n",
       "      <td>NaN</td>\n",
       "      <td>0.291871</td>\n",
       "      <td>0.834985</td>\n",
       "      <td>0.792485</td>\n",
       "      <td>1.000000</td>\n",
       "    </tr>\n",
       "    <tr>\n",
       "      <th>9</th>\n",
       "      <td>What are the limits of SHERLOCK HOLMES's knowl...</td>\n",
       "      <td>[I was on the point of asking him what that wo...</td>\n",
       "      <td>[I was on the point of asking him what that wo...</td>\n",
       "      <td>{'text': 'Based on the provided text excerpts,...</td>\n",
       "      <td>The limits of SHERLOCK HOLMES's knowledge, as ...</td>\n",
       "      <td>1.000000</td>\n",
       "      <td>1.000000</td>\n",
       "      <td>1.000000</td>\n",
       "      <td>0.560403</td>\n",
       "      <td>0.937915</td>\n",
       "      <td>0.856995</td>\n",
       "      <td>1.000000</td>\n",
       "    </tr>\n",
       "    <tr>\n",
       "      <th>10</th>\n",
       "      <td>What can be inferred about SHERLOCK HOLMES's k...</td>\n",
       "      <td>[I was on the point of asking him what that wo...</td>\n",
       "      <td>[I was on the point of asking him what that wo...</td>\n",
       "      <td>{'text': 'Based on the provided text excerpts,...</td>\n",
       "      <td>The context suggests that SHERLOCK HOLMES poss...</td>\n",
       "      <td>1.000000</td>\n",
       "      <td>1.000000</td>\n",
       "      <td>1.000000</td>\n",
       "      <td>NaN</td>\n",
       "      <td>0.887595</td>\n",
       "      <td>0.795780</td>\n",
       "      <td>0.962963</td>\n",
       "    </tr>\n",
       "    <tr>\n",
       "      <th>11</th>\n",
       "      <td>Wot is the limitashuns of SHERLOCK HOLMES?</td>\n",
       "      <td>[I was on the point of asking him what that wo...</td>\n",
       "      <td>[I was on the point of asking him what that wo...</td>\n",
       "      <td>{'text': 'Based on the provided text excerpts,...</td>\n",
       "      <td>The limits of SHERLOCK HOLMES include a lack o...</td>\n",
       "      <td>1.000000</td>\n",
       "      <td>1.000000</td>\n",
       "      <td>1.000000</td>\n",
       "      <td>0.904740</td>\n",
       "      <td>0.780584</td>\n",
       "      <td>0.849729</td>\n",
       "      <td>1.000000</td>\n",
       "    </tr>\n",
       "    <tr>\n",
       "      <th>12</th>\n",
       "      <td>What knowledge does the character possess abou...</td>\n",
       "      <td>[I was on the point of asking him what that wo...</td>\n",
       "      <td>[Politics.—Feeble. 5. Botany.—Variable. Well u...</td>\n",
       "      <td>{'text': 'Based on the text provided, Sherlock...</td>\n",
       "      <td>The character has a good practical knowledge o...</td>\n",
       "      <td>1.000000</td>\n",
       "      <td>0.805556</td>\n",
       "      <td>1.000000</td>\n",
       "      <td>0.561145</td>\n",
       "      <td>0.817259</td>\n",
       "      <td>0.744579</td>\n",
       "      <td>1.000000</td>\n",
       "    </tr>\n",
       "    <tr>\n",
       "      <th>13</th>\n",
       "      <td>What can you tell me about Mendelssohn's music...</td>\n",
       "      <td>[help I can. In the meantime I should like to ...</td>\n",
       "      <td>[Politics.—Feeble. 5. Botany.—Variable. Well u...</td>\n",
       "      <td>{'text': \"Based on the text provided, there is...</td>\n",
       "      <td>The consulting detective noted that his compan...</td>\n",
       "      <td>1.000000</td>\n",
       "      <td>NaN</td>\n",
       "      <td>0.000000</td>\n",
       "      <td>0.169581</td>\n",
       "      <td>0.000000</td>\n",
       "      <td>0.678324</td>\n",
       "      <td>1.000000</td>\n",
       "    </tr>\n",
       "    <tr>\n",
       "      <th>14</th>\n",
       "      <td>What are some of the skills and interests of S...</td>\n",
       "      <td>[I was on the point of asking him what that wo...</td>\n",
       "      <td>[Politics.—Feeble. 5. Botany.—Variable. Well u...</td>\n",
       "      <td>{'text': 'Based on the provided text, here are...</td>\n",
       "      <td>Sherlock Holmes possesses a variety of skills ...</td>\n",
       "      <td>1.000000</td>\n",
       "      <td>0.833333</td>\n",
       "      <td>1.000000</td>\n",
       "      <td>0.461967</td>\n",
       "      <td>1.000000</td>\n",
       "      <td>0.828999</td>\n",
       "      <td>1.000000</td>\n",
       "    </tr>\n",
       "    <tr>\n",
       "      <th>15</th>\n",
       "      <td>What knowledge does Sherlock Holmes possess re...</td>\n",
       "      <td>[help I can. In the meantime I should like to ...</td>\n",
       "      <td>[Politics.—Feeble. 5. Botany.—Variable. Well u...</td>\n",
       "      <td>{'text': 'Based on the provided text, Sherlock...</td>\n",
       "      <td>Sherlock Holmes has a good practical knowledge...</td>\n",
       "      <td>0.000000</td>\n",
       "      <td>0.000000</td>\n",
       "      <td>0.000000</td>\n",
       "      <td>0.696046</td>\n",
       "      <td>0.852066</td>\n",
       "      <td>0.784186</td>\n",
       "      <td>0.500000</td>\n",
       "    </tr>\n",
       "    <tr>\n",
       "      <th>16</th>\n",
       "      <td>Wot is the knoledge of British law like?</td>\n",
       "      <td>[asked to prove that two and two made four, yo...</td>\n",
       "      <td>[Politics.—Feeble. 5. Botany.—Variable. Well u...</td>\n",
       "      <td>{'text': 'Based on the text provided, Sherlock...</td>\n",
       "      <td>He has a good practical knowledge of British law.</td>\n",
       "      <td>0.000000</td>\n",
       "      <td>0.000000</td>\n",
       "      <td>0.000000</td>\n",
       "      <td>0.921858</td>\n",
       "      <td>0.551892</td>\n",
       "      <td>0.687433</td>\n",
       "      <td>0.000000</td>\n",
       "    </tr>\n",
       "    <tr>\n",
       "      <th>17</th>\n",
       "      <td>What can you tell me about Mendelssohn's music...</td>\n",
       "      <td>[about Cremona fiddles, and the difference bet...</td>\n",
       "      <td>[Politics.—Feeble. 5. Botany.—Variable. Well u...</td>\n",
       "      <td>{'text': 'Based on the provided text, there is...</td>\n",
       "      <td>The character is known to play pieces by Mende...</td>\n",
       "      <td>0.000000</td>\n",
       "      <td>0.142857</td>\n",
       "      <td>0.000000</td>\n",
       "      <td>0.169705</td>\n",
       "      <td>0.000000</td>\n",
       "      <td>0.678818</td>\n",
       "      <td>0.800000</td>\n",
       "    </tr>\n",
       "    <tr>\n",
       "      <th>18</th>\n",
       "      <td>Wot is the significance of British law in the ...</td>\n",
       "      <td>[help I can. In the meantime I should like to ...</td>\n",
       "      <td>[Politics.—Feeble. 5. Botany.—Variable. Well u...</td>\n",
       "      <td>{'text': 'Based on the provided text, here\\'s ...</td>\n",
       "      <td>A good practical knowledge of British law is e...</td>\n",
       "      <td>1.000000</td>\n",
       "      <td>0.000000</td>\n",
       "      <td>0.000000</td>\n",
       "      <td>0.514955</td>\n",
       "      <td>0.911338</td>\n",
       "      <td>0.796661</td>\n",
       "      <td>0.029412</td>\n",
       "    </tr>\n",
       "    <tr>\n",
       "      <th>19</th>\n",
       "      <td>What can be inferred about the social interact...</td>\n",
       "      <td>[observer. In height he was rather over six fe...</td>\n",
       "      <td>[Politics.—Feeble. 5. Botany.—Variable. Well u...</td>\n",
       "      <td>{'text': 'Based on the context provided, here\\...</td>\n",
       "      <td>The context suggests that London is a place wh...</td>\n",
       "      <td>1.000000</td>\n",
       "      <td>1.000000</td>\n",
       "      <td>1.000000</td>\n",
       "      <td>0.432644</td>\n",
       "      <td>0.983604</td>\n",
       "      <td>0.807501</td>\n",
       "      <td>1.000000</td>\n",
       "    </tr>\n",
       "    <tr>\n",
       "      <th>20</th>\n",
       "      <td>What pieces did Sherlock Holmes play on the vi...</td>\n",
       "      <td>[If he does not come himself he will send an a...</td>\n",
       "      <td>[Politics.—Feeble. 5. Botany.—Variable. Well u...</td>\n",
       "      <td>{'text': 'Based on the provided text excerpts,...</td>\n",
       "      <td>Sherlock Holmes played some of Mendelssohn’s L...</td>\n",
       "      <td>0.000000</td>\n",
       "      <td>0.000000</td>\n",
       "      <td>0.000000</td>\n",
       "      <td>0.493710</td>\n",
       "      <td>0.000000</td>\n",
       "      <td>0.689127</td>\n",
       "      <td>0.666667</td>\n",
       "    </tr>\n",
       "    <tr>\n",
       "      <th>21</th>\n",
       "      <td>What kind of skills does Sherlock Holmes have ...</td>\n",
       "      <td>[I was on the point of asking him what that wo...</td>\n",
       "      <td>[Politics.—Feeble. 5. Botany.—Variable. Well u...</td>\n",
       "      <td>{'text': 'Based on the provided text excerpts,...</td>\n",
       "      <td>Sherlock Holmes possesses a variety of skills ...</td>\n",
       "      <td>1.000000</td>\n",
       "      <td>1.000000</td>\n",
       "      <td>1.000000</td>\n",
       "      <td>0.294744</td>\n",
       "      <td>0.851681</td>\n",
       "      <td>0.787672</td>\n",
       "      <td>1.000000</td>\n",
       "    </tr>\n",
       "    <tr>\n",
       "      <th>22</th>\n",
       "      <td>What are some of the diverse skills and knowle...</td>\n",
       "      <td>[I was on the point of asking him what that wo...</td>\n",
       "      <td>[Politics.—Feeble. 5. Botany.—Variable. Well u...</td>\n",
       "      <td>{'text': 'Based on the provided text, here are...</td>\n",
       "      <td>Sherlock Holmes possesses a wide range of skil...</td>\n",
       "      <td>1.000000</td>\n",
       "      <td>0.833333</td>\n",
       "      <td>0.833333</td>\n",
       "      <td>0.522641</td>\n",
       "      <td>0.940241</td>\n",
       "      <td>0.863290</td>\n",
       "      <td>1.000000</td>\n",
       "    </tr>\n",
       "    <tr>\n",
       "      <th>23</th>\n",
       "      <td>What pieces did Sherlock Holmes play on the vi...</td>\n",
       "      <td>[If he does not come himself he will send an a...</td>\n",
       "      <td>[Politics.—Feeble. 5. Botany.—Variable. Well u...</td>\n",
       "      <td>{'text': 'Based on the provided text excerpts,...</td>\n",
       "      <td>Sherlock Holmes played some of Mendelssohn’s L...</td>\n",
       "      <td>0.000000</td>\n",
       "      <td>0.000000</td>\n",
       "      <td>0.000000</td>\n",
       "      <td>0.170674</td>\n",
       "      <td>0.000000</td>\n",
       "      <td>0.682696</td>\n",
       "      <td>0.875000</td>\n",
       "    </tr>\n",
       "    <tr>\n",
       "      <th>24</th>\n",
       "      <td>Who is Mr. Lestrade and what role does he play...</td>\n",
       "      <td>[asked to prove that two and two made four, yo...</td>\n",
       "      <td>[Politics.—Feeble. 5. Botany.—Variable. Well u...</td>\n",
       "      <td>{'text': 'Based on the provided text excerpts,...</td>\n",
       "      <td>Mr. Lestrade is introduced as a little sallow ...</td>\n",
       "      <td>0.000000</td>\n",
       "      <td>0.420635</td>\n",
       "      <td>0.684524</td>\n",
       "      <td>0.242238</td>\n",
       "      <td>0.945655</td>\n",
       "      <td>0.728950</td>\n",
       "      <td>0.836735</td>\n",
       "    </tr>\n",
       "    <tr>\n",
       "      <th>25</th>\n",
       "      <td>What insights can be drawn about the various i...</td>\n",
       "      <td>[I was on the point of asking him what that wo...</td>\n",
       "      <td>[Politics.—Feeble. 5. Botany.—Variable. Well u...</td>\n",
       "      <td>{'text': 'Based on the text, here are insights...</td>\n",
       "      <td>The visitors to Sherlock Holmes in London repr...</td>\n",
       "      <td>1.000000</td>\n",
       "      <td>1.000000</td>\n",
       "      <td>NaN</td>\n",
       "      <td>0.566174</td>\n",
       "      <td>0.958954</td>\n",
       "      <td>0.764695</td>\n",
       "      <td>1.000000</td>\n",
       "    </tr>\n",
       "    <tr>\n",
       "      <th>26</th>\n",
       "      <td>What can you tell me about London?</td>\n",
       "      <td>[dropping another curtsey; “a gold wedding rin...</td>\n",
       "      <td>[Politics.—Feeble. 5. Botany.—Variable. Well u...</td>\n",
       "      <td>{'text': 'Based on the provided text excerpts,...</td>\n",
       "      <td>London is mentioned in the context of identify...</td>\n",
       "      <td>0.000000</td>\n",
       "      <td>0.000000</td>\n",
       "      <td>0.000000</td>\n",
       "      <td>0.162023</td>\n",
       "      <td>0.762116</td>\n",
       "      <td>0.648090</td>\n",
       "      <td>1.000000</td>\n",
       "    </tr>\n",
       "    <tr>\n",
       "      <th>27</th>\n",
       "      <td>What are some of the notable skills and charac...</td>\n",
       "      <td>[I was on the point of asking him what that wo...</td>\n",
       "      <td>[Politics.—Feeble. 5. Botany.—Variable. Well u...</td>\n",
       "      <td>{'text': 'Based on the provided text excerpts,...</td>\n",
       "      <td>Sherlock Holmes possesses a variety of notable...</td>\n",
       "      <td>1.000000</td>\n",
       "      <td>1.000000</td>\n",
       "      <td>1.000000</td>\n",
       "      <td>NaN</td>\n",
       "      <td>0.958808</td>\n",
       "      <td>0.829483</td>\n",
       "      <td>1.000000</td>\n",
       "    </tr>\n",
       "    <tr>\n",
       "      <th>28</th>\n",
       "      <td>What kind of knowledge does the individual pos...</td>\n",
       "      <td>[asked to prove that two and two made four, yo...</td>\n",
       "      <td>[Politics.—Feeble. 5. Botany.—Variable. Well u...</td>\n",
       "      <td>{'text': 'Based on the provided text, the indi...</td>\n",
       "      <td>The individual has a good practical knowledge ...</td>\n",
       "      <td>0.000000</td>\n",
       "      <td>0.320635</td>\n",
       "      <td>0.320635</td>\n",
       "      <td>0.329249</td>\n",
       "      <td>0.839274</td>\n",
       "      <td>0.771539</td>\n",
       "      <td>0.000000</td>\n",
       "    </tr>\n",
       "    <tr>\n",
       "      <th>29</th>\n",
       "      <td>What is the significance of having a good prac...</td>\n",
       "      <td>[help I can. In the meantime I should like to ...</td>\n",
       "      <td>[Politics.—Feeble. 5. Botany.—Variable. Well u...</td>\n",
       "      <td>{'text': \"Based on the provided text, we can i...</td>\n",
       "      <td>A good practical knowledge of British law is s...</td>\n",
       "      <td>0.000000</td>\n",
       "      <td>0.000000</td>\n",
       "      <td>0.000000</td>\n",
       "      <td>0.366266</td>\n",
       "      <td>0.958761</td>\n",
       "      <td>0.783247</td>\n",
       "      <td>1.000000</td>\n",
       "    </tr>\n",
       "    <tr>\n",
       "      <th>30</th>\n",
       "      <td>Who is Mr. Lestrade in relation to the detective?</td>\n",
       "      <td>[help I can. In the meantime I should like to ...</td>\n",
       "      <td>[Politics.—Feeble. 5. Botany.—Variable. Well u...</td>\n",
       "      <td>{'text': 'Based on the provided text, Mr. Lest...</td>\n",
       "      <td>Mr. Lestrade is introduced as a little sallow ...</td>\n",
       "      <td>0.000000</td>\n",
       "      <td>0.000000</td>\n",
       "      <td>0.492857</td>\n",
       "      <td>0.163365</td>\n",
       "      <td>0.908263</td>\n",
       "      <td>0.653459</td>\n",
       "      <td>0.300000</td>\n",
       "    </tr>\n",
       "    <tr>\n",
       "      <th>31</th>\n",
       "      <td>What can you tell me about the different types...</td>\n",
       "      <td>[I was on the point of asking him what that wo...</td>\n",
       "      <td>[Politics.—Feeble. 5. Botany.—Variable. Well u...</td>\n",
       "      <td>{'text': 'Based on the provided text excerpts,...</td>\n",
       "      <td>Sherlock Holmes interacts with a variety of in...</td>\n",
       "      <td>1.000000</td>\n",
       "      <td>0.826020</td>\n",
       "      <td>0.780159</td>\n",
       "      <td>0.561652</td>\n",
       "      <td>0.857832</td>\n",
       "      <td>0.746610</td>\n",
       "      <td>0.947368</td>\n",
       "    </tr>\n",
       "    <tr>\n",
       "      <th>32</th>\n",
       "      <td>What role does Mr. Lestrade play in the contex...</td>\n",
       "      <td>[asked to prove that two and two made four, yo...</td>\n",
       "      <td>[Politics.—Feeble. 5. Botany.—Variable. Well u...</td>\n",
       "      <td>{'text': 'Based on the provided text, Mr. Lest...</td>\n",
       "      <td>Mr. Lestrade is introduced as a frequent visit...</td>\n",
       "      <td>0.750000</td>\n",
       "      <td>0.950000</td>\n",
       "      <td>1.000000</td>\n",
       "      <td>0.422750</td>\n",
       "      <td>0.980434</td>\n",
       "      <td>0.753502</td>\n",
       "      <td>1.000000</td>\n",
       "    </tr>\n",
       "    <tr>\n",
       "      <th>34</th>\n",
       "      <td>Wot can ya tell me about the significance of L...</td>\n",
       "      <td>[dropping another curtsey; “a gold wedding rin...</td>\n",
       "      <td>[Politics.—Feeble. 5. Botany.—Variable. Well u...</td>\n",
       "      <td>{'text': 'Okay, let\\'s look at what the provid...</td>\n",
       "      <td>London is significant in the context of Sherlo...</td>\n",
       "      <td>0.666667</td>\n",
       "      <td>0.000000</td>\n",
       "      <td>NaN</td>\n",
       "      <td>0.253701</td>\n",
       "      <td>0.974611</td>\n",
       "      <td>0.784034</td>\n",
       "      <td>0.444444</td>\n",
       "    </tr>\n",
       "    <tr>\n",
       "      <th>35</th>\n",
       "      <td>Who is Mr. Lestrade and what role does he play...</td>\n",
       "      <td>[help I can. In the meantime I should like to ...</td>\n",
       "      <td>[Politics.—Feeble. 5. Botany.—Variable. Well u...</td>\n",
       "      <td>{'text': 'Based on the provided text, Mr. Lest...</td>\n",
       "      <td>Mr. Lestrade is introduced as a little sallow ...</td>\n",
       "      <td>0.000000</td>\n",
       "      <td>0.420635</td>\n",
       "      <td>NaN</td>\n",
       "      <td>NaN</td>\n",
       "      <td>0.867964</td>\n",
       "      <td>0.741268</td>\n",
       "      <td>0.750000</td>\n",
       "    </tr>\n",
       "    <tr>\n",
       "      <th>36</th>\n",
       "      <td>What can you tell me about Sherlock Holmes's a...</td>\n",
       "      <td>[I was on the point of asking him what that wo...</td>\n",
       "      <td>[Politics.—Feeble. 5. Botany.—Variable. Well u...</td>\n",
       "      <td>{'text': 'Based on the provided text, here\\'s ...</td>\n",
       "      <td>Sherlock Holmes's ability to play the violin i...</td>\n",
       "      <td>1.000000</td>\n",
       "      <td>1.000000</td>\n",
       "      <td>1.000000</td>\n",
       "      <td>0.270957</td>\n",
       "      <td>1.000000</td>\n",
       "      <td>0.776135</td>\n",
       "      <td>0.965517</td>\n",
       "    </tr>\n",
       "    <tr>\n",
       "      <th>37</th>\n",
       "      <td>What insights can be drawn from Sherlock Holme...</td>\n",
       "      <td>[I was on the point of asking him what that wo...</td>\n",
       "      <td>[&lt;1-hop&gt;\\n\\nI was on the point of asking him w...</td>\n",
       "      <td>{'text': 'Based on the provided text, Sherlock...</td>\n",
       "      <td>Sherlock Holmes' knowledge in politics is desc...</td>\n",
       "      <td>0.500000</td>\n",
       "      <td>1.000000</td>\n",
       "      <td>1.000000</td>\n",
       "      <td>0.351176</td>\n",
       "      <td>0.889783</td>\n",
       "      <td>0.842205</td>\n",
       "      <td>0.428571</td>\n",
       "    </tr>\n",
       "    <tr>\n",
       "      <th>38</th>\n",
       "      <td>What insights can be drawn from Sherlock Holme...</td>\n",
       "      <td>[I was on the point of asking him what that wo...</td>\n",
       "      <td>[&lt;1-hop&gt;\\n\\nI was on the point of asking him w...</td>\n",
       "      <td>{'text': 'Based on the provided text, Sherlock...</td>\n",
       "      <td>Sherlock Holmes' knowledge in politics is desc...</td>\n",
       "      <td>0.666667</td>\n",
       "      <td>1.000000</td>\n",
       "      <td>0.805556</td>\n",
       "      <td>0.517745</td>\n",
       "      <td>0.906056</td>\n",
       "      <td>0.820978</td>\n",
       "      <td>0.916667</td>\n",
       "    </tr>\n",
       "    <tr>\n",
       "      <th>39</th>\n",
       "      <td>What kind of knowledge does Sherlock Holmes ac...</td>\n",
       "      <td>[I was on the point of asking him what that wo...</td>\n",
       "      <td>[&lt;1-hop&gt;\\n\\nI was on the point of asking him w...</td>\n",
       "      <td>{'text': 'Based on the provided text, Sherlock...</td>\n",
       "      <td>Sherlock Holmes acquires knowledge that is des...</td>\n",
       "      <td>0.666667</td>\n",
       "      <td>1.000000</td>\n",
       "      <td>1.000000</td>\n",
       "      <td>0.363267</td>\n",
       "      <td>0.917248</td>\n",
       "      <td>0.840822</td>\n",
       "      <td>1.000000</td>\n",
       "    </tr>\n",
       "    <tr>\n",
       "      <th>42</th>\n",
       "      <td>What can be inferred about Sherlock Holmes's k...</td>\n",
       "      <td>[I was on the point of asking him what that wo...</td>\n",
       "      <td>[&lt;1-hop&gt;\\n\\nI was on the point of asking him w...</td>\n",
       "      <td>{'text': 'Okay, let\\'s analyze Sherlock Holmes...</td>\n",
       "      <td>Sherlock Holmes's knowledge in politics is des...</td>\n",
       "      <td>1.000000</td>\n",
       "      <td>NaN</td>\n",
       "      <td>NaN</td>\n",
       "      <td>0.338444</td>\n",
       "      <td>0.897828</td>\n",
       "      <td>0.808320</td>\n",
       "      <td>0.800000</td>\n",
       "    </tr>\n",
       "    <tr>\n",
       "      <th>43</th>\n",
       "      <td>What insights can be drawn from Sherlock Holme...</td>\n",
       "      <td>[I was on the point of asking him what that wo...</td>\n",
       "      <td>[&lt;1-hop&gt;\\n\\nI was on the point of asking him w...</td>\n",
       "      <td>{'text': 'Based on the provided text, Sherlock...</td>\n",
       "      <td>Sherlock Holmes' knowledge of politics is desc...</td>\n",
       "      <td>0.500000</td>\n",
       "      <td>1.000000</td>\n",
       "      <td>0.805556</td>\n",
       "      <td>0.299304</td>\n",
       "      <td>0.907721</td>\n",
       "      <td>0.822215</td>\n",
       "      <td>0.776119</td>\n",
       "    </tr>\n",
       "    <tr>\n",
       "      <th>44</th>\n",
       "      <td>What insights can be drawn about Sherlock Holm...</td>\n",
       "      <td>[I was on the point of asking him what that wo...</td>\n",
       "      <td>[&lt;1-hop&gt;\\n\\nI was on the point of asking him w...</td>\n",
       "      <td>{'text': 'Okay, let\\'s break down what the pro...</td>\n",
       "      <td>Sherlock Holmes' knowledge acquisition is sele...</td>\n",
       "      <td>0.750000</td>\n",
       "      <td>1.000000</td>\n",
       "      <td>1.000000</td>\n",
       "      <td>0.337880</td>\n",
       "      <td>0.817563</td>\n",
       "      <td>0.837232</td>\n",
       "      <td>0.866667</td>\n",
       "    </tr>\n",
       "    <tr>\n",
       "      <th>45</th>\n",
       "      <td>What can be inferred about Sherlock Holmes's k...</td>\n",
       "      <td>[I was on the point of asking him what that wo...</td>\n",
       "      <td>[&lt;1-hop&gt;\\n\\nI was on the point of asking him w...</td>\n",
       "      <td>{'text': 'Based on the provided text, here\\'s ...</td>\n",
       "      <td>Sherlock Holmes's knowledge in politics is des...</td>\n",
       "      <td>0.666667</td>\n",
       "      <td>0.854167</td>\n",
       "      <td>1.000000</td>\n",
       "      <td>0.392441</td>\n",
       "      <td>0.988769</td>\n",
       "      <td>0.842491</td>\n",
       "      <td>0.905660</td>\n",
       "    </tr>\n",
       "    <tr>\n",
       "      <th>46</th>\n",
       "      <td>In what ways does Sherlock Holmes's knowledge ...</td>\n",
       "      <td>[I was on the point of asking him what that wo...</td>\n",
       "      <td>[&lt;1-hop&gt;\\n\\nI was on the point of asking him w...</td>\n",
       "      <td>{'text': 'Okay, let\\'s analyze how Sherlock Ho...</td>\n",
       "      <td>Sherlock Holmes's knowledge in various fields,...</td>\n",
       "      <td>0.750000</td>\n",
       "      <td>1.000000</td>\n",
       "      <td>0.810000</td>\n",
       "      <td>0.645072</td>\n",
       "      <td>0.932181</td>\n",
       "      <td>0.802511</td>\n",
       "      <td>0.971014</td>\n",
       "    </tr>\n",
       "    <tr>\n",
       "      <th>48</th>\n",
       "      <td>What can be inferred about Sherlock Holmes's k...</td>\n",
       "      <td>[I was on the point of asking him what that wo...</td>\n",
       "      <td>[&lt;1-hop&gt;\\n\\nI was on the point of asking him w...</td>\n",
       "      <td>{'text': 'Okay, let\\'s analyze Sherlock Holmes...</td>\n",
       "      <td>Sherlock Holmes's knowledge in politics is des...</td>\n",
       "      <td>0.500000</td>\n",
       "      <td>0.833333</td>\n",
       "      <td>NaN</td>\n",
       "      <td>0.341218</td>\n",
       "      <td>0.950521</td>\n",
       "      <td>0.819417</td>\n",
       "      <td>0.704918</td>\n",
       "    </tr>\n",
       "    <tr>\n",
       "      <th>49</th>\n",
       "      <td>What insights can be drawn from Sherlock Holme...</td>\n",
       "      <td>[I was on the point of asking him what that wo...</td>\n",
       "      <td>[&lt;1-hop&gt;\\n\\nI was on the point of asking him w...</td>\n",
       "      <td>{'text': 'Okay, let\\'s analyze Sherlock Holmes...</td>\n",
       "      <td>Sherlock Holmes' knowledge of politics is desc...</td>\n",
       "      <td>0.666667</td>\n",
       "      <td>1.000000</td>\n",
       "      <td>0.805556</td>\n",
       "      <td>0.467767</td>\n",
       "      <td>0.886810</td>\n",
       "      <td>0.827591</td>\n",
       "      <td>0.953125</td>\n",
       "    </tr>\n",
       "    <tr>\n",
       "      <th>50</th>\n",
       "      <td>In what ways does Sherlock Holmes's knowledge ...</td>\n",
       "      <td>[I was on the point of asking him what that wo...</td>\n",
       "      <td>[&lt;1-hop&gt;\\n\\nI was on the point of asking him w...</td>\n",
       "      <td>{'text': 'Okay, let\\'s analyze how Sherlock Ho...</td>\n",
       "      <td>Sherlock Holmes's knowledge in various fields ...</td>\n",
       "      <td>0.750000</td>\n",
       "      <td>1.000000</td>\n",
       "      <td>0.733333</td>\n",
       "      <td>0.337822</td>\n",
       "      <td>0.934541</td>\n",
       "      <td>0.817955</td>\n",
       "      <td>1.000000</td>\n",
       "    </tr>\n",
       "    <tr>\n",
       "      <th>51</th>\n",
       "      <td>In what ways does Sherlock Holmes's knowledge ...</td>\n",
       "      <td>[I was on the point of asking him what that wo...</td>\n",
       "      <td>[&lt;1-hop&gt;\\n\\nI was on the point of asking him w...</td>\n",
       "      <td>{'text': 'Okay, let\\'s analyze Sherlock Holmes...</td>\n",
       "      <td>Sherlock Holmes's knowledge of politics is des...</td>\n",
       "      <td>1.000000</td>\n",
       "      <td>1.000000</td>\n",
       "      <td>0.805556</td>\n",
       "      <td>0.539068</td>\n",
       "      <td>0.941295</td>\n",
       "      <td>0.822941</td>\n",
       "      <td>0.964912</td>\n",
       "    </tr>\n",
       "    <tr>\n",
       "      <th>52</th>\n",
       "      <td>What can be inferred about Sherlock Holmes's k...</td>\n",
       "      <td>[I was on the point of asking him what that wo...</td>\n",
       "      <td>[&lt;1-hop&gt;\\n\\nI was on the point of asking him w...</td>\n",
       "      <td>{'text': 'Okay, let\\'s analyze Sherlock Holmes...</td>\n",
       "      <td>Sherlock Holmes's knowledge in politics is des...</td>\n",
       "      <td>1.000000</td>\n",
       "      <td>0.833333</td>\n",
       "      <td>0.805556</td>\n",
       "      <td>NaN</td>\n",
       "      <td>0.929293</td>\n",
       "      <td>0.835077</td>\n",
       "      <td>1.000000</td>\n",
       "    </tr>\n",
       "    <tr>\n",
       "      <th>53</th>\n",
       "      <td>What can be inferred about Sherlock Holmes's k...</td>\n",
       "      <td>[help I can. In the meantime I should like to ...</td>\n",
       "      <td>[&lt;1-hop&gt;\\n\\nI was on the point of asking him w...</td>\n",
       "      <td>{'text': 'Okay, let\\'s analyze what can be inf...</td>\n",
       "      <td>Sherlock Holmes's knowledge in politics is des...</td>\n",
       "      <td>0.000000</td>\n",
       "      <td>0.000000</td>\n",
       "      <td>NaN</td>\n",
       "      <td>0.542925</td>\n",
       "      <td>0.983504</td>\n",
       "      <td>0.838368</td>\n",
       "      <td>0.000000</td>\n",
       "    </tr>\n",
       "    <tr>\n",
       "      <th>54</th>\n",
       "      <td>In what ways does Sherlock Holmes's knowledge ...</td>\n",
       "      <td>[I was on the point of asking him what that wo...</td>\n",
       "      <td>[&lt;1-hop&gt;\\n\\nI was on the point of asking him w...</td>\n",
       "      <td>{'text': 'Okay, let\\'s analyze how Sherlock Ho...</td>\n",
       "      <td>Sherlock Holmes's knowledge in politics is des...</td>\n",
       "      <td>0.750000</td>\n",
       "      <td>NaN</td>\n",
       "      <td>0.804167</td>\n",
       "      <td>0.606501</td>\n",
       "      <td>0.916494</td>\n",
       "      <td>0.826003</td>\n",
       "      <td>0.957746</td>\n",
       "    </tr>\n",
       "    <tr>\n",
       "      <th>56</th>\n",
       "      <td>What insights can be drawn from Sherlock Holme...</td>\n",
       "      <td>[I was on the point of asking him what that wo...</td>\n",
       "      <td>[&lt;1-hop&gt;\\n\\nI was on the point of asking him w...</td>\n",
       "      <td>{'text': 'Okay, let\\'s analyze Sherlock Holmes...</td>\n",
       "      <td>Sherlock Holmes' knowledge in politics is desc...</td>\n",
       "      <td>1.000000</td>\n",
       "      <td>0.833333</td>\n",
       "      <td>0.930556</td>\n",
       "      <td>0.334211</td>\n",
       "      <td>0.910467</td>\n",
       "      <td>0.836846</td>\n",
       "      <td>0.949153</td>\n",
       "    </tr>\n",
       "    <tr>\n",
       "      <th>60</th>\n",
       "      <td>In what ways does Sherlock Holmes's knowledge ...</td>\n",
       "      <td>[I was on the point of asking him what that wo...</td>\n",
       "      <td>[&lt;1-hop&gt;\\n\\nI was on the point of asking him w...</td>\n",
       "      <td>{'text': 'Based on the provided text excerpts,...</td>\n",
       "      <td>Sherlock Holmes's knowledge in various fields ...</td>\n",
       "      <td>0.500000</td>\n",
       "      <td>1.000000</td>\n",
       "      <td>0.810000</td>\n",
       "      <td>0.240339</td>\n",
       "      <td>0.926804</td>\n",
       "      <td>0.830919</td>\n",
       "      <td>0.750000</td>\n",
       "    </tr>\n",
       "    <tr>\n",
       "      <th>66</th>\n",
       "      <td>In what ways does Sherlock Holmes's knowledge ...</td>\n",
       "      <td>[I was on the point of asking him what that wo...</td>\n",
       "      <td>[&lt;1-hop&gt;\\n\\nI was on the point of asking him w...</td>\n",
       "      <td>{'text': 'Okay, let\\'s analyze how Sherlock Ho...</td>\n",
       "      <td>Sherlock Holmes's knowledge of various subject...</td>\n",
       "      <td>0.750000</td>\n",
       "      <td>1.000000</td>\n",
       "      <td>1.000000</td>\n",
       "      <td>0.606529</td>\n",
       "      <td>0.976353</td>\n",
       "      <td>0.826116</td>\n",
       "      <td>0.961538</td>\n",
       "    </tr>\n",
       "  </tbody>\n",
       "</table>\n",
       "</div>"
      ]
     },
     "execution_count": 43,
     "metadata": {},
     "output_type": "execute_result"
    }
   ],
   "execution_count": 43
  },
  {
   "metadata": {
    "ExecuteTime": {
     "end_time": "2024-12-24T08:25:27.664009Z",
     "start_time": "2024-12-24T08:25:27.661252Z"
    }
   },
   "cell_type": "code",
   "source": "unique_scoreset_pd.iloc[:, 5:].mean()",
   "id": "c9a4b11ffe0acd10",
   "outputs": [
    {
     "data": {
      "text/plain": [
       "context_recall                             0.682099\n",
       "llm_context_precision_with_reference       0.718143\n",
       "llm_context_precision_without_reference    0.722334\n",
       "answer_correctness                         0.419754\n",
       "answer_relevancy                           0.840427\n",
       "semantic_similarity                        0.792096\n",
       "faithfulness                               0.827878\n",
       "dtype: float64"
      ]
     },
     "execution_count": 44,
     "metadata": {},
     "output_type": "execute_result"
    }
   ],
   "execution_count": 44
  },
  {
   "cell_type": "code",
   "id": "feb2987e-8f4d-4aba-b1ba-4c09e558ba97",
   "metadata": {
    "ExecuteTime": {
     "end_time": "2024-12-24T07:55:01.357823Z",
     "start_time": "2024-12-24T07:55:01.355628Z"
    }
   },
   "source": [
    "filter_scoreset_pd = scoreset_pd[(scoreset_pd.iloc[:, 5:] > 0.5).mean(axis=1) == 1].reset_index(drop=True).copy()"
   ],
   "outputs": [],
   "execution_count": 18
  },
  {
   "metadata": {
    "ExecuteTime": {
     "end_time": "2024-12-24T08:16:17.182582Z",
     "start_time": "2024-12-24T08:16:17.175431Z"
    }
   },
   "cell_type": "code",
   "source": "filter_scoreset_pd",
   "id": "8666d47536aea738",
   "outputs": [
    {
     "data": {
      "text/plain": [
       "                                           user_input  \\\n",
       "0   What are the limitations of SHERLOCK HOLMES's ...   \n",
       "1   What are the limits of SHERLOCK HOLMES's knowl...   \n",
       "2          Wot is the limitashuns of SHERLOCK HOLMES?   \n",
       "3   What knowledge does the character possess abou...   \n",
       "4   What are some of the diverse skills and knowle...   \n",
       "5   What can you tell me about the different types...   \n",
       "6   What insights can be drawn from Sherlock Holme...   \n",
       "7   In what ways does Sherlock Holmes's knowledge ...   \n",
       "8   In what ways does Sherlock Holmes's knowledge ...   \n",
       "9   What insights can be drawn from Sherlock Holme...   \n",
       "10  In what ways does Sherlock Holmes's knowledge ...   \n",
       "\n",
       "                                   retrieved_contexts  \\\n",
       "0   [I was on the point of asking him what that wo...   \n",
       "1   [I was on the point of asking him what that wo...   \n",
       "2   [I was on the point of asking him what that wo...   \n",
       "3   [I was on the point of asking him what that wo...   \n",
       "4   [I was on the point of asking him what that wo...   \n",
       "5   [I was on the point of asking him what that wo...   \n",
       "6   [I was on the point of asking him what that wo...   \n",
       "7   [I was on the point of asking him what that wo...   \n",
       "8   [I was on the point of asking him what that wo...   \n",
       "9   [I was on the point of asking him what that wo...   \n",
       "10  [I was on the point of asking him what that wo...   \n",
       "\n",
       "                                   reference_contexts  \\\n",
       "0   [I was on the point of asking him what that wo...   \n",
       "1   [I was on the point of asking him what that wo...   \n",
       "2   [I was on the point of asking him what that wo...   \n",
       "3   [Politics.—Feeble. 5. Botany.—Variable. Well u...   \n",
       "4   [Politics.—Feeble. 5. Botany.—Variable. Well u...   \n",
       "5   [Politics.—Feeble. 5. Botany.—Variable. Well u...   \n",
       "6   [<1-hop>\\n\\nI was on the point of asking him w...   \n",
       "7   [<1-hop>\\n\\nI was on the point of asking him w...   \n",
       "8   [<1-hop>\\n\\nI was on the point of asking him w...   \n",
       "9   [<1-hop>\\n\\nI was on the point of asking him w...   \n",
       "10  [<1-hop>\\n\\nI was on the point of asking him w...   \n",
       "\n",
       "                                             response  \\\n",
       "0   {'text': 'Based on the provided text excerpts,...   \n",
       "1   {'text': 'Based on the provided text excerpts,...   \n",
       "2   {'text': 'Based on the provided text excerpts,...   \n",
       "3   {'text': 'Based on the text provided, Sherlock...   \n",
       "4   {'text': 'Based on the provided text, here are...   \n",
       "5   {'text': 'Based on the provided text excerpts,...   \n",
       "6   {'text': 'Based on the provided text, Sherlock...   \n",
       "7   {'text': 'Okay, let\\'s analyze how Sherlock Ho...   \n",
       "8   {'text': 'Okay, let\\'s analyze Sherlock Holmes...   \n",
       "9   {'text': 'Based on the provided text excerpts,...   \n",
       "10  {'text': 'Okay, let\\'s analyze how Sherlock Ho...   \n",
       "\n",
       "                                            reference  context_recall  \\\n",
       "0   According to the context, SHERLOCK HOLMES has ...        1.000000   \n",
       "1   The limits of SHERLOCK HOLMES's knowledge, as ...        1.000000   \n",
       "2   The limits of SHERLOCK HOLMES include a lack o...        1.000000   \n",
       "3   The character has a good practical knowledge o...        1.000000   \n",
       "4   Sherlock Holmes possesses a wide range of skil...        1.000000   \n",
       "5   Sherlock Holmes interacts with a variety of in...        1.000000   \n",
       "6   Sherlock Holmes' knowledge in politics is desc...        0.666667   \n",
       "7   Sherlock Holmes's knowledge in various fields,...        0.750000   \n",
       "8   Sherlock Holmes's knowledge of politics is des...        1.000000   \n",
       "9   Sherlock Holmes' knowledge in politics is desc...        1.000000   \n",
       "10  Sherlock Holmes's knowledge of various subject...        0.750000   \n",
       "\n",
       "    llm_context_precision_with_reference  \\\n",
       "0                               1.000000   \n",
       "1                               1.000000   \n",
       "2                               1.000000   \n",
       "3                               0.805556   \n",
       "4                               0.833333   \n",
       "5                               0.826020   \n",
       "6                               1.000000   \n",
       "7                               1.000000   \n",
       "8                               1.000000   \n",
       "9                               1.000000   \n",
       "10                              1.000000   \n",
       "\n",
       "    llm_context_precision_without_reference  answer_correctness  \\\n",
       "0                                  1.000000            0.519048   \n",
       "1                                  1.000000            0.560403   \n",
       "2                                  1.000000            0.904740   \n",
       "3                                  1.000000            0.561145   \n",
       "4                                  0.833333            0.522641   \n",
       "5                                  0.780159            0.561652   \n",
       "6                                  0.805556            0.517745   \n",
       "7                                  0.810000            0.645072   \n",
       "8                                  0.805556            0.539068   \n",
       "9                                  1.000000            0.510293   \n",
       "10                                 1.000000            0.606529   \n",
       "\n",
       "    answer_relevancy  semantic_similarity  faithfulness  \n",
       "0           0.922658             0.876192      1.000000  \n",
       "1           0.937915             0.856995      1.000000  \n",
       "2           0.780584             0.849729      1.000000  \n",
       "3           0.817259             0.744579      1.000000  \n",
       "4           0.940241             0.863290      1.000000  \n",
       "5           0.857832             0.746610      0.947368  \n",
       "6           0.906056             0.820978      0.916667  \n",
       "7           0.932181             0.802511      0.971014  \n",
       "8           0.941295             0.822941      0.964912  \n",
       "9           0.940419             0.841170      0.932203  \n",
       "10          0.976353             0.826116      0.961538  "
      ],
      "text/html": [
       "<div>\n",
       "<style scoped>\n",
       "    .dataframe tbody tr th:only-of-type {\n",
       "        vertical-align: middle;\n",
       "    }\n",
       "\n",
       "    .dataframe tbody tr th {\n",
       "        vertical-align: top;\n",
       "    }\n",
       "\n",
       "    .dataframe thead th {\n",
       "        text-align: right;\n",
       "    }\n",
       "</style>\n",
       "<table border=\"1\" class=\"dataframe\">\n",
       "  <thead>\n",
       "    <tr style=\"text-align: right;\">\n",
       "      <th></th>\n",
       "      <th>user_input</th>\n",
       "      <th>retrieved_contexts</th>\n",
       "      <th>reference_contexts</th>\n",
       "      <th>response</th>\n",
       "      <th>reference</th>\n",
       "      <th>context_recall</th>\n",
       "      <th>llm_context_precision_with_reference</th>\n",
       "      <th>llm_context_precision_without_reference</th>\n",
       "      <th>answer_correctness</th>\n",
       "      <th>answer_relevancy</th>\n",
       "      <th>semantic_similarity</th>\n",
       "      <th>faithfulness</th>\n",
       "    </tr>\n",
       "  </thead>\n",
       "  <tbody>\n",
       "    <tr>\n",
       "      <th>0</th>\n",
       "      <td>What are the limitations of SHERLOCK HOLMES's ...</td>\n",
       "      <td>[I was on the point of asking him what that wo...</td>\n",
       "      <td>[I was on the point of asking him what that wo...</td>\n",
       "      <td>{'text': 'Based on the provided text excerpts,...</td>\n",
       "      <td>According to the context, SHERLOCK HOLMES has ...</td>\n",
       "      <td>1.000000</td>\n",
       "      <td>1.000000</td>\n",
       "      <td>1.000000</td>\n",
       "      <td>0.519048</td>\n",
       "      <td>0.922658</td>\n",
       "      <td>0.876192</td>\n",
       "      <td>1.000000</td>\n",
       "    </tr>\n",
       "    <tr>\n",
       "      <th>1</th>\n",
       "      <td>What are the limits of SHERLOCK HOLMES's knowl...</td>\n",
       "      <td>[I was on the point of asking him what that wo...</td>\n",
       "      <td>[I was on the point of asking him what that wo...</td>\n",
       "      <td>{'text': 'Based on the provided text excerpts,...</td>\n",
       "      <td>The limits of SHERLOCK HOLMES's knowledge, as ...</td>\n",
       "      <td>1.000000</td>\n",
       "      <td>1.000000</td>\n",
       "      <td>1.000000</td>\n",
       "      <td>0.560403</td>\n",
       "      <td>0.937915</td>\n",
       "      <td>0.856995</td>\n",
       "      <td>1.000000</td>\n",
       "    </tr>\n",
       "    <tr>\n",
       "      <th>2</th>\n",
       "      <td>Wot is the limitashuns of SHERLOCK HOLMES?</td>\n",
       "      <td>[I was on the point of asking him what that wo...</td>\n",
       "      <td>[I was on the point of asking him what that wo...</td>\n",
       "      <td>{'text': 'Based on the provided text excerpts,...</td>\n",
       "      <td>The limits of SHERLOCK HOLMES include a lack o...</td>\n",
       "      <td>1.000000</td>\n",
       "      <td>1.000000</td>\n",
       "      <td>1.000000</td>\n",
       "      <td>0.904740</td>\n",
       "      <td>0.780584</td>\n",
       "      <td>0.849729</td>\n",
       "      <td>1.000000</td>\n",
       "    </tr>\n",
       "    <tr>\n",
       "      <th>3</th>\n",
       "      <td>What knowledge does the character possess abou...</td>\n",
       "      <td>[I was on the point of asking him what that wo...</td>\n",
       "      <td>[Politics.—Feeble. 5. Botany.—Variable. Well u...</td>\n",
       "      <td>{'text': 'Based on the text provided, Sherlock...</td>\n",
       "      <td>The character has a good practical knowledge o...</td>\n",
       "      <td>1.000000</td>\n",
       "      <td>0.805556</td>\n",
       "      <td>1.000000</td>\n",
       "      <td>0.561145</td>\n",
       "      <td>0.817259</td>\n",
       "      <td>0.744579</td>\n",
       "      <td>1.000000</td>\n",
       "    </tr>\n",
       "    <tr>\n",
       "      <th>4</th>\n",
       "      <td>What are some of the diverse skills and knowle...</td>\n",
       "      <td>[I was on the point of asking him what that wo...</td>\n",
       "      <td>[Politics.—Feeble. 5. Botany.—Variable. Well u...</td>\n",
       "      <td>{'text': 'Based on the provided text, here are...</td>\n",
       "      <td>Sherlock Holmes possesses a wide range of skil...</td>\n",
       "      <td>1.000000</td>\n",
       "      <td>0.833333</td>\n",
       "      <td>0.833333</td>\n",
       "      <td>0.522641</td>\n",
       "      <td>0.940241</td>\n",
       "      <td>0.863290</td>\n",
       "      <td>1.000000</td>\n",
       "    </tr>\n",
       "    <tr>\n",
       "      <th>5</th>\n",
       "      <td>What can you tell me about the different types...</td>\n",
       "      <td>[I was on the point of asking him what that wo...</td>\n",
       "      <td>[Politics.—Feeble. 5. Botany.—Variable. Well u...</td>\n",
       "      <td>{'text': 'Based on the provided text excerpts,...</td>\n",
       "      <td>Sherlock Holmes interacts with a variety of in...</td>\n",
       "      <td>1.000000</td>\n",
       "      <td>0.826020</td>\n",
       "      <td>0.780159</td>\n",
       "      <td>0.561652</td>\n",
       "      <td>0.857832</td>\n",
       "      <td>0.746610</td>\n",
       "      <td>0.947368</td>\n",
       "    </tr>\n",
       "    <tr>\n",
       "      <th>6</th>\n",
       "      <td>What insights can be drawn from Sherlock Holme...</td>\n",
       "      <td>[I was on the point of asking him what that wo...</td>\n",
       "      <td>[&lt;1-hop&gt;\\n\\nI was on the point of asking him w...</td>\n",
       "      <td>{'text': 'Based on the provided text, Sherlock...</td>\n",
       "      <td>Sherlock Holmes' knowledge in politics is desc...</td>\n",
       "      <td>0.666667</td>\n",
       "      <td>1.000000</td>\n",
       "      <td>0.805556</td>\n",
       "      <td>0.517745</td>\n",
       "      <td>0.906056</td>\n",
       "      <td>0.820978</td>\n",
       "      <td>0.916667</td>\n",
       "    </tr>\n",
       "    <tr>\n",
       "      <th>7</th>\n",
       "      <td>In what ways does Sherlock Holmes's knowledge ...</td>\n",
       "      <td>[I was on the point of asking him what that wo...</td>\n",
       "      <td>[&lt;1-hop&gt;\\n\\nI was on the point of asking him w...</td>\n",
       "      <td>{'text': 'Okay, let\\'s analyze how Sherlock Ho...</td>\n",
       "      <td>Sherlock Holmes's knowledge in various fields,...</td>\n",
       "      <td>0.750000</td>\n",
       "      <td>1.000000</td>\n",
       "      <td>0.810000</td>\n",
       "      <td>0.645072</td>\n",
       "      <td>0.932181</td>\n",
       "      <td>0.802511</td>\n",
       "      <td>0.971014</td>\n",
       "    </tr>\n",
       "    <tr>\n",
       "      <th>8</th>\n",
       "      <td>In what ways does Sherlock Holmes's knowledge ...</td>\n",
       "      <td>[I was on the point of asking him what that wo...</td>\n",
       "      <td>[&lt;1-hop&gt;\\n\\nI was on the point of asking him w...</td>\n",
       "      <td>{'text': 'Okay, let\\'s analyze Sherlock Holmes...</td>\n",
       "      <td>Sherlock Holmes's knowledge of politics is des...</td>\n",
       "      <td>1.000000</td>\n",
       "      <td>1.000000</td>\n",
       "      <td>0.805556</td>\n",
       "      <td>0.539068</td>\n",
       "      <td>0.941295</td>\n",
       "      <td>0.822941</td>\n",
       "      <td>0.964912</td>\n",
       "    </tr>\n",
       "    <tr>\n",
       "      <th>9</th>\n",
       "      <td>What insights can be drawn from Sherlock Holme...</td>\n",
       "      <td>[I was on the point of asking him what that wo...</td>\n",
       "      <td>[&lt;1-hop&gt;\\n\\nI was on the point of asking him w...</td>\n",
       "      <td>{'text': 'Based on the provided text excerpts,...</td>\n",
       "      <td>Sherlock Holmes' knowledge in politics is desc...</td>\n",
       "      <td>1.000000</td>\n",
       "      <td>1.000000</td>\n",
       "      <td>1.000000</td>\n",
       "      <td>0.510293</td>\n",
       "      <td>0.940419</td>\n",
       "      <td>0.841170</td>\n",
       "      <td>0.932203</td>\n",
       "    </tr>\n",
       "    <tr>\n",
       "      <th>10</th>\n",
       "      <td>In what ways does Sherlock Holmes's knowledge ...</td>\n",
       "      <td>[I was on the point of asking him what that wo...</td>\n",
       "      <td>[&lt;1-hop&gt;\\n\\nI was on the point of asking him w...</td>\n",
       "      <td>{'text': 'Okay, let\\'s analyze how Sherlock Ho...</td>\n",
       "      <td>Sherlock Holmes's knowledge of various subject...</td>\n",
       "      <td>0.750000</td>\n",
       "      <td>1.000000</td>\n",
       "      <td>1.000000</td>\n",
       "      <td>0.606529</td>\n",
       "      <td>0.976353</td>\n",
       "      <td>0.826116</td>\n",
       "      <td>0.961538</td>\n",
       "    </tr>\n",
       "  </tbody>\n",
       "</table>\n",
       "</div>"
      ]
     },
     "execution_count": 29,
     "metadata": {},
     "output_type": "execute_result"
    }
   ],
   "execution_count": 29
  },
  {
   "cell_type": "code",
   "id": "54f5754e-0b82-4280-bff3-d33b2b637f45",
   "metadata": {
    "ExecuteTime": {
     "end_time": "2024-12-24T07:55:01.402384Z",
     "start_time": "2024-12-24T07:55:01.400733Z"
    }
   },
   "source": [
    "print('Len good dataset:', len(filter_scoreset_pd))"
   ],
   "outputs": [
    {
     "name": "stdout",
     "output_type": "stream",
     "text": [
      "Len good dataset: 11\n"
     ]
    }
   ],
   "execution_count": 19
  },
  {
   "metadata": {
    "ExecuteTime": {
     "end_time": "2024-12-24T08:23:06.321404Z",
     "start_time": "2024-12-24T08:23:06.318613Z"
    }
   },
   "cell_type": "code",
   "source": "scoreset_pd.iloc[:, 5:].mean()",
   "id": "c346789685355806",
   "outputs": [
    {
     "data": {
      "text/plain": [
       "context_recall                             0.684444\n",
       "llm_context_precision_with_reference       0.736769\n",
       "llm_context_precision_without_reference    0.782235\n",
       "answer_correctness                         0.417457\n",
       "answer_relevancy                           0.871395\n",
       "semantic_similarity                        0.803132\n",
       "faithfulness                               0.784748\n",
       "dtype: float64"
      ]
     },
     "execution_count": 30,
     "metadata": {},
     "output_type": "execute_result"
    }
   ],
   "execution_count": 30
  },
  {
   "metadata": {
    "ExecuteTime": {
     "end_time": "2024-12-24T08:23:09.805969Z",
     "start_time": "2024-12-24T08:23:09.803237Z"
    }
   },
   "cell_type": "code",
   "source": "filter_scoreset_pd.iloc[:, 5:].mean()",
   "id": "4a751eeadf5f3f66",
   "outputs": [
    {
     "data": {
      "text/plain": [
       "context_recall                             0.924242\n",
       "llm_context_precision_with_reference       0.951355\n",
       "llm_context_precision_without_reference    0.912237\n",
       "answer_correctness                         0.586212\n",
       "answer_relevancy                           0.904799\n",
       "semantic_similarity                        0.822828\n",
       "faithfulness                               0.972155\n",
       "dtype: float64"
      ]
     },
     "execution_count": 31,
     "metadata": {},
     "output_type": "execute_result"
    }
   ],
   "execution_count": 31
  },
  {
   "cell_type": "code",
   "id": "1492b07c-06de-4aec-81e2-2b935e5b9aaa",
   "metadata": {
    "ExecuteTime": {
     "end_time": "2024-12-24T08:11:40.603219Z",
     "start_time": "2024-12-24T08:11:40.600248Z"
    }
   },
   "source": [
    "def print_score_pd(scoreset_pd, idx):\n",
    "    print('user_input:', scoreset_pd.iloc[idx]['user_input'], '\\n')\n",
    "    print('retrieved_contexts:', scoreset_pd.iloc[idx]['retrieved_contexts'], '\\n')\n",
    "    print('reference_contexts:', scoreset_pd.iloc[idx]['reference_contexts'], '\\n')\n",
    "    print('response:', scoreset_pd.iloc[idx]['response'], '\\n')\n",
    "    print('reference:', scoreset_pd.iloc[idx]['reference'], '\\n')\n",
    "    \n",
    "    print('context_recall =', scoreset_pd.iloc[idx]['context_recall'])\n",
    "    print('llm_context_precision_with_reference =', scoreset_pd.iloc[idx]['llm_context_precision_with_reference'])\n",
    "    print('llm_context_precision_without_reference =', scoreset_pd.iloc[idx]['llm_context_precision_without_reference'])\n",
    "    print('answer_correctness =', scoreset_pd.iloc[idx]['answer_correctness'])\n",
    "    print('answer_relevancy =', scoreset_pd.iloc[idx]['answer_relevancy'])\n",
    "    print('semantic_similarity =', scoreset_pd.iloc[idx]['semantic_similarity'])\n",
    "    print('faithfulness =', scoreset_pd.iloc[idx]['faithfulness'])"
   ],
   "outputs": [],
   "execution_count": 22
  },
  {
   "cell_type": "code",
   "id": "524c2b31-2cbf-4cb8-a766-7aed2aabb8e4",
   "metadata": {
    "ExecuteTime": {
     "end_time": "2024-12-24T08:12:10.240365Z",
     "start_time": "2024-12-24T08:12:10.237019Z"
    }
   },
   "source": "print_score_pd(scoreset_pd, 70)",
   "outputs": [
    {
     "name": "stdout",
     "output_type": "stream",
     "text": [
      "user_input: What can be inferred about Sherlock Holmes's knowledge in politics and how it relates to his inquiry skills? \n",
      "\n",
      "retrieved_contexts: ['I was on the point of asking him what that work might be, but something\\nin his manner showed me that the question would be an unwelcome one. I\\npondered over our short conversation, however, and endeavoured to draw\\nmy deductions from it. He said that he would acquire no knowledge which\\ndid not bear upon his object. Therefore all the knowledge which he\\npossessed was such as would be useful to him. I enumerated in my own\\nmind all the various points upon which he had shown me that he was\\nexceptionally well-informed. I even took a pencil and jotted them down.\\nI could not help smiling at the document when I had completed it. It\\nran in this way—\\n\\n\\nSHERLOCK HOLMES—his limits.\\n\\n\\n1. Knowledge of Literature.—Nil.\\n2. Philosophy.—Nil.\\n3. Astronomy.—Nil.\\n4. Politics.—Feeble.\\n5. Botany.—Variable. Well up in belladonna, opium, and poisons\\ngenerally. Knows nothing of practical gardening.\\n6. Geology.—Practical, but limited. Tells at a glance different soils\\nfrom each other. After walks has shown me splashes upon his trousers,\\nand told me by their colour and consistence in what part of London he\\nhad received them.\\n7. Chemistry.—Profound.\\n8. Anatomy.—Accurate, but unsystematic.\\n9. Sensational Literature.—Immense. He appears to know every detail of\\nevery horror perpetrated in the century.\\n10. Plays the violin well.\\n11. Is an expert singlestick player, boxer, and swordsman.\\n12. Has a good practical knowledge of British law.\\n\\n\\nWhen I had got so far in my list I threw it into the fire in despair.\\n“If I can only find what the fellow is driving at by reconciling all\\nthese accomplishments, and discovering a calling which needs them all,”\\nI said to myself, “I may as well give up the attempt at once.”\\n\\nI see that I have alluded above to his powers upon the violin. These\\nwere very remarkable, but as eccentric as all his other\\naccomplishments. That he could play pieces, and difficult pieces, I\\nknew well, because at my request he has played me some of Mendelssohn’s\\nLieder, and other favourites. When left to himself, however, he would\\nseldom produce any music or attempt any recognized air. Leaning back in\\nhis arm-chair of an evening, he would close his eyes and scrape\\ncarelessly at the fiddle which was thrown across his knee. Sometimes\\nthe chords were sonorous and melancholy. Occasionally they were\\nfantastic and cheerful. Clearly they reflected the thoughts which\\npossessed him, but whether the music aided those thoughts, or whether\\nthe playing was simply the result of a whim or fancy was more than I\\ncould determine. I might have rebelled against these exasperating solos\\nhad it not been that he usually terminated them by playing in quick\\nsuccession a whole series of my favourite airs as a slight compensation\\nfor the trial upon my patience.\\n\\nDuring the first week or so we had no callers, and I had begun to think\\nthat my companion was as friendless a man as I was myself. Presently,\\nhowever, I found that he had many acquaintances, and those in the most\\ndifferent classes of society. There was one little sallow rat-faced,\\ndark-eyed fellow who was introduced to me as Mr. Lestrade, and who came\\nthree or four times in a single week. One morning a young girl called,\\nfashionably dressed, and stayed for half an hour or more. The same\\nafternoon brought a grey-headed, seedy visitor, looking like a Jew\\npedlar, who appeared to me to be much excited, and who was closely\\nfollowed by a slip-shod elderly woman. On another occasion an old\\nwhite-haired gentleman had an interview with my companion; and on\\nanother a railway porter in his velveteen uniform. When any of these\\nnondescript individuals put in an appearance, Sherlock Holmes used to\\nbeg for the use of the sitting-room, and I would retire to my bed-room.\\nHe always apologized to me for putting me to this inconvenience. “I\\nhave to use this room as a place of business,” he said, “and these\\npeople are my clients.” Again I had an opportunity of asking him a\\npoint blank question, and again my delicacy prevented me from forcing', 'another man to confide in me. I imagined at the time that he had some\\nstrong reason for not alluding to it, but he soon dispelled the idea by\\ncoming round to the subject of his own accord.\\n\\nIt was upon the 4th of March, as I have good reason to remember, that I\\nrose somewhat earlier than usual, and found that Sherlock Holmes had\\nnot yet finished his breakfast. The landlady had become so accustomed\\nto my late habits that my place had not been laid nor my coffee\\nprepared. With the unreasonable petulance of mankind I rang the bell\\nand gave a curt intimation that I was ready. Then I picked up a\\nmagazine from the table and attempted to while away the time with it,\\nwhile my companion munched silently at his toast. One of the articles\\nhad a pencil mark at the heading, and I naturally began to run my eye\\nthrough it.\\n\\nIts somewhat ambitious title was “The Book of Life,” and it attempted\\nto show how much an observant man might learn by an accurate and\\nsystematic examination of all that came in his way. It struck me as\\nbeing a remarkable mixture of shrewdness and of absurdity. The\\nreasoning was close and intense, but the deductions appeared to me to\\nbe far-fetched and exaggerated. The writer claimed by a momentary\\nexpression, a twitch of a muscle or a glance of an eye, to fathom a\\nman’s inmost thoughts. Deceit, according to him, was an impossibility\\nin the case of one trained to observation and analysis. His conclusions\\nwere as infallible as so many propositions of Euclid. So startling\\nwould his results appear to the uninitiated that until they learned the\\nprocesses by which he had arrived at them they might well consider him\\nas a necromancer.\\n\\n“From a drop of water,” said the writer, “a logician could infer the\\npossibility of an Atlantic or a Niagara without having seen or heard of\\none or the other. So all life is a great chain, the nature of which is\\nknown whenever we are shown a single link of it. Like all other arts,\\nthe Science of Deduction and Analysis is one which can only be acquired\\nby long and patient study nor, is life long enough to allow any mortal\\nto attain the highest possible perfection in it. Before turning to\\nthose moral and mental aspects of the matter which present the greatest\\ndifficulties, let the enquirer begin by mastering more elementary\\nproblems. Let him, on meeting a fellow-mortal, learn at a glance to\\ndistinguish the history of the man, and the trade or profession to\\nwhich he belongs. Puerile as such an exercise may seem, it sharpens the\\nfaculties of observation, and teaches one where to look and what to\\nlook for. By a man’s finger nails, by his coat-sleeve, by his boot, by\\nhis trouser knees, by the callosities of his forefinger and thumb, by\\nhis expression, by his shirt cuffs—by each of these things a man’s\\ncalling is plainly revealed. That all united should fail to enlighten\\nthe competent enquirer in any case is almost inconceivable.”\\n\\n“What ineffable twaddle!” I cried, slapping the magazine down on the\\ntable, “I never read such rubbish in my life.”\\n\\n“What is it?” asked Sherlock Holmes.\\n\\n“Why, this article,” I said, pointing at it with my egg spoon as I sat\\ndown to my breakfast. “I see that you have read it since you have\\nmarked it. I don’t deny that it is smartly written. It irritates me\\nthough. It is evidently the theory of some arm-chair lounger who\\nevolves all these neat little paradoxes in the seclusion of his own\\nstudy. It is not practical. I should like to see him clapped down in a\\nthird class carriage on the Underground, and asked to give the trades\\nof all his fellow-travellers. I would lay a thousand to one against\\nhim.”\\n\\n“You would lose your money,” Sherlock Holmes remarked calmly. “As for\\nthe article I wrote it myself.”\\n\\n“You!”\\n\\n“Yes, I have a turn both for observation and for deduction. The\\ntheories which I have expressed there, and which appear to you to be so\\nchimerical are really extremely practical—so practical that I depend\\nupon them for my bread and cheese.”', '“And how?” I asked involuntarily.\\n\\n“Well, I have a trade of my own. I suppose I am the only one in the\\nworld. I’m a consulting detective, if you can understand what that is.\\nHere in London we have lots of Government detectives and lots of\\nprivate ones. When these fellows are at fault they come to me, and I\\nmanage to put them on the right scent. They lay all the evidence before\\nme, and I am generally able, by the help of my knowledge of the history\\nof crime, to set them straight. There is a strong family resemblance\\nabout misdeeds, and if you have all the details of a thousand at your\\nfinger ends, it is odd if you can’t unravel the thousand and first.\\nLestrade is a well-known detective. He got himself into a fog recently\\nover a forgery case, and that was what brought him here.”\\n\\n“And these other people?”\\n\\n“They are mostly sent on by private inquiry agencies. They are all\\npeople who are in trouble about something, and want a little\\nenlightening. I listen to their story, they listen to my comments, and\\nthen I pocket my fee.”\\n\\n“But do you mean to say,” I said, “that without leaving your room you\\ncan unravel some knot which other men can make nothing of, although\\nthey have seen every detail for themselves?”\\n\\n“Quite so. I have a kind of intuition that way. Now and again a case\\nturns up which is a little more complex. Then I have to bustle about\\nand see things with my own eyes. You see I have a lot of special\\nknowledge which I apply to the problem, and which facilitates matters\\nwonderfully. Those rules of deduction laid down in that article which\\naroused your scorn, are invaluable to me in practical work. Observation\\nwith me is second nature. You appeared to be surprised when I told you,\\non our first meeting, that you had come from Afghanistan.”\\n\\n“You were told, no doubt.”\\n\\n“Nothing of the sort. I _knew_ you came from Afghanistan. From long\\nhabit the train of thoughts ran so swiftly through my mind, that I\\narrived at the conclusion without being conscious of intermediate\\nsteps. There were such steps, however. The train of reasoning ran,\\n‘Here is a gentleman of a medical type, but with the air of a military\\nman. Clearly an army doctor, then. He has just come from the tropics,\\nfor his face is dark, and that is not the natural tint of his skin, for\\nhis wrists are fair. He has undergone hardship and sickness, as his\\nhaggard face says clearly. His left arm has been injured. He holds it\\nin a stiff and unnatural manner. Where in the tropics could an English\\narmy doctor have seen much hardship and got his arm wounded? Clearly in\\nAfghanistan.’ The whole train of thought did not occupy a second. I\\nthen remarked that you came from Afghanistan, and you were astonished.”\\n\\n“It is simple enough as you explain it,” I said, smiling. “You remind\\nme of Edgar Allen Poe’s Dupin. I had no idea that such individuals did\\nexist outside of stories.”\\n\\nSherlock Holmes rose and lit his pipe. “No doubt you think that you are\\ncomplimenting me in comparing me to Dupin,” he observed. “Now, in my\\nopinion, Dupin was a very inferior fellow. That trick of his of\\nbreaking in on his friends’ thoughts with an apropos remark after a\\nquarter of an hour’s silence is really very showy and superficial. He\\nhad some analytical genius, no doubt; but he was by no means such a\\nphenomenon as Poe appeared to imagine.”\\n\\n“Have you read Gaboriau’s works?” I asked. “Does Lecoq come up to your\\nidea of a detective?”\\n\\nSherlock Holmes sniffed sardonically. “Lecoq was a miserable bungler,”\\nhe said, in an angry voice; “he had only one thing to recommend him,\\nand that was his energy. That book made me positively ill. The question\\nwas how to identify an unknown prisoner. I could have done it in\\ntwenty-four hours. Lecoq took six months or so. It might be made a\\ntext-book for detectives to teach them what to avoid.”\\n\\nI felt rather indignant at having two characters whom I had admired\\ntreated in this cavalier style. I walked over to the window, and stood', 'looking out into the busy street. “This fellow may be very clever,” I\\nsaid to myself, “but he is certainly very conceited.”\\n\\n“There are no crimes and no criminals in these days,” he said,\\nquerulously. “What is the use of having brains in our profession. I\\nknow well that I have it in me to make my name famous. No man lives or\\nhas ever lived who has brought the same amount of study and of natural\\ntalent to the detection of crime which I have done. And what is the\\nresult? There is no crime to detect, or, at most, some bungling\\nvillainy with a motive so transparent that even a Scotland Yard\\nofficial can see through it.”\\n\\nI was still annoyed at his bumptious style of conversation. I thought\\nit best to change the topic.\\n\\n“I wonder what that fellow is looking for?” I asked, pointing to a\\nstalwart, plainly-dressed individual who was walking slowly down the\\nother side of the street, looking anxiously at the numbers. He had a\\nlarge blue envelope in his hand, and was evidently the bearer of a\\nmessage.\\n\\n“You mean the retired sergeant of Marines,” said Sherlock Holmes.\\n\\n“Brag and bounce!” thought I to myself. “He knows that I cannot verify\\nhis guess.”\\n\\nThe thought had hardly passed through my mind when the man whom we were\\nwatching caught sight of the number on our door, and ran rapidly across\\nthe roadway. We heard a loud knock, a deep voice below, and heavy steps\\nascending the stair.\\n\\n“For Mr. Sherlock Holmes,” he said, stepping into the room and handing\\nmy friend the letter.\\n\\nHere was an opportunity of taking the conceit out of him. He little\\nthought of this when he made that random shot. “May I ask, my lad,” I\\nsaid, in the blandest voice, “what your trade may be?”\\n\\n“Commissionaire, sir,” he said, gruffly. “Uniform away for repairs.”\\n\\n“And you were?” I asked, with a slightly malicious glance at my\\ncompanion.\\n\\n“A sergeant, sir, Royal Marine Light Infantry, sir. No answer? Right,\\nsir.”\\n\\nHe clicked his heels together, raised his hand in a salute, and was\\ngone.\\n\\n\\n\\n\\nCHAPTER III.\\nTHE LAURISTON GARDENS MYSTERY\\n\\n\\nI confess that I was considerably startled by this fresh proof of the\\npractical nature of my companion’s theories. My respect for his powers\\nof analysis increased wondrously. There still remained some lurking\\nsuspicion in my mind, however, that the whole thing was a pre-arranged\\nepisode, intended to dazzle me, though what earthly object he could\\nhave in taking me in was past my comprehension. When I looked at him he\\nhad finished reading the note, and his eyes had assumed the vacant,\\nlack-lustre expression which showed mental abstraction.\\n\\n“How in the world did you deduce that?” I asked.\\n\\n“Deduce what?” said he, petulantly.\\n\\n“Why, that he was a retired sergeant of Marines.”\\n\\n“I have no time for trifles,” he answered, brusquely; then with a\\nsmile, “Excuse my rudeness. You broke the thread of my thoughts; but\\nperhaps it is as well. So you actually were not able to see that that\\nman was a sergeant of Marines?”\\n\\n“No, indeed.”\\n\\n“It was easier to know it than to explain why I knew it. If you were', 'help I can. In the meantime I should like to speak to the constable who\\nfound the body. Can you give me his name and address?”\\n\\nLestrade glanced at his note-book. “John Rance,” he said. “He is off\\nduty now. You will find him at 46, Audley Court, Kennington Park Gate.”\\n\\nHolmes took a note of the address.\\n\\n“Come along, Doctor,” he said; “we shall go and look him up. I’ll tell\\nyou one thing which may help you in the case,” he continued, turning to\\nthe two detectives. “There has been murder done, and the murderer was a\\nman. He was more than six feet high, was in the prime of life, had\\nsmall feet for his height, wore coarse, square-toed boots and smoked a\\nTrichinopoly cigar. He came here with his victim in a four-wheeled cab,\\nwhich was drawn by a horse with three old shoes and one new one on his\\noff fore leg. In all probability the murderer had a florid face, and\\nthe finger-nails of his right hand were remarkably long. These are only\\na few indications, but they may assist you.”\\n\\nLestrade and Gregson glanced at each other with an incredulous smile.\\n\\n“If this man was murdered, how was it done?” asked the former.\\n\\n“Poison,” said Sherlock Holmes curtly, and strode off. “One other\\nthing, Lestrade,” he added, turning round at the door: “‘Rache,’ is the\\nGerman for ‘revenge;’ so don’t lose your time looking for Miss Rachel.”\\n\\nWith which Parthian shot he walked away, leaving the two rivals\\nopen-mouthed behind him.\\n\\n\\n\\n\\nCHAPTER IV.\\nWHAT JOHN RANCE HAD TO TELL.\\n\\n\\nIt was one o’clock when we left No. 3, Lauriston Gardens. Sherlock\\nHolmes led me to the nearest telegraph office, whence he dispatched a\\nlong telegram. He then hailed a cab, and ordered the driver to take us\\nto the address given us by Lestrade.\\n\\n“There is nothing like first hand evidence,” he remarked; “as a matter\\nof fact, my mind is entirely made up upon the case, but still we may as\\nwell learn all that is to be learned.”\\n\\n“You amaze me, Holmes,” said I. “Surely you are not as sure as you\\npretend to be of all those particulars which you gave.”\\n\\n“There’s no room for a mistake,” he answered. “The very first thing\\nwhich I observed on arriving there was that a cab had made two ruts\\nwith its wheels close to the curb. Now, up to last night, we have had\\nno rain for a week, so that those wheels which left such a deep\\nimpression must have been there during the night. There were the marks\\nof the horse’s hoofs, too, the outline of one of which was far more\\nclearly cut than that of the other three, showing that that was a new\\nshoe. Since the cab was there after the rain began, and was not there\\nat any time during the morning—I have Gregson’s word for that—it\\nfollows that it must have been there during the night, and, therefore,\\nthat it brought those two individuals to the house.”\\n\\n“That seems simple enough,” said I; “but how about the other man’s\\nheight?”\\n\\n“Why, the height of a man, in nine cases out of ten, can be told from\\nthe length of his stride. It is a simple calculation enough, though\\nthere is no use my boring you with figures. I had this fellow’s stride\\nboth on the clay outside and on the dust within. Then I had a way of\\nchecking my calculation. When a man writes on a wall, his instinct\\nleads him to write about the level of his own eyes. Now that writing\\nwas just over six feet from the ground. It was child’s play.”\\n\\n“And his age?” I asked.\\n\\n“Well, if a man can stride four and a-half feet without the smallest\\neffort, he can’t be quite in the sere and yellow. That was the breadth\\nof a puddle on the garden walk which he had evidently walked across.\\nPatent-leather boots had gone round, and Square-toes had hopped over.\\nThere is no mystery about it at all. I am simply applying to ordinary\\nlife a few of those precepts of observation and deduction which I\\nadvocated in that article. Is there anything else that puzzles you?”\\n\\n“The finger nails and the Trichinopoly,” I suggested.\\n\\n“The writing on the wall was done with a man’s forefinger dipped in', 'blood. My glass allowed me to observe that the plaster was slightly\\nscratched in doing it, which would not have been the case if the man’s\\nnail had been trimmed. I gathered up some scattered ash from the floor.\\nIt was dark in colour and flakey—such an ash as is only made by a\\nTrichinopoly. I have made a special study of cigar ashes—in fact, I\\nhave written a monograph upon the subject. I flatter myself that I can\\ndistinguish at a glance the ash of any known brand, either of cigar or\\nof tobacco. It is just in such details that the skilled detective\\ndiffers from the Gregson and Lestrade type.”\\n\\n“And the florid face?” I asked.\\n\\n“Ah, that was a more daring shot, though I have no doubt that I was\\nright. You must not ask me that at the present state of the affair.”\\n\\nI passed my hand over my brow. “My head is in a whirl,” I remarked;\\n“the more one thinks of it the more mysterious it grows. How came these\\ntwo men—if there were two men—into an empty house? What has become of\\nthe cabman who drove them? How could one man compel another to take\\npoison? Where did the blood come from? What was the object of the\\nmurderer, since robbery had no part in it? How came the woman’s ring\\nthere? Above all, why should the second man write up the German word\\nRACHE before decamping? I confess that I cannot see any possible way of\\nreconciling all these facts.”\\n\\nMy companion smiled approvingly.\\n\\n“You sum up the difficulties of the situation succinctly and well,” he\\nsaid. “There is much that is still obscure, though I have quite made up\\nmy mind on the main facts. As to poor Lestrade’s discovery it was\\nsimply a blind intended to put the police upon a wrong track, by\\nsuggesting Socialism and secret societies. It was not done by a German.\\nThe A, if you noticed, was printed somewhat after the German fashion.\\nNow, a real German invariably prints in the Latin character, so that we\\nmay safely say that this was not written by one, but by a clumsy\\nimitator who overdid his part. It was simply a ruse to divert inquiry\\ninto a wrong channel. I’m not going to tell you much more of the case,\\nDoctor. You know a conjuror gets no credit when once he has explained\\nhis trick, and if I show you too much of my method of working, you will\\ncome to the conclusion that I am a very ordinary individual after all.”\\n\\n“I shall never do that,” I answered; “you have brought detection as\\nnear an exact science as it ever will be brought in this world.”\\n\\nMy companion flushed up with pleasure at my words, and the earnest way\\nin which I uttered them. I had already observed that he was as\\nsensitive to flattery on the score of his art as any girl could be of\\nher beauty.\\n\\n“I’ll tell you one other thing,” he said. “Patent-leathers and\\nSquare-toes came in the same cab, and they walked down the pathway\\ntogether as friendly as possible—arm-in-arm, in all probability. When\\nthey got inside they walked up and down the room—or rather,\\nPatent-leathers stood still while Square-toes walked up and down. I\\ncould read all that in the dust; and I could read that as he walked he\\ngrew more and more excited. That is shown by the increased length of\\nhis strides. He was talking all the while, and working himself up, no\\ndoubt, into a fury. Then the tragedy occurred. I’ve told you all I know\\nmyself now, for the rest is mere surmise and conjecture. We have a good\\nworking basis, however, on which to start. We must hurry up, for I want\\nto go to Halle’s concert to hear Norman Neruda this afternoon.”\\n\\nThis conversation had occurred while our cab had been threading its way\\nthrough a long succession of dingy streets and dreary by-ways. In the\\ndingiest and dreariest of them our driver suddenly came to a stand.\\n“That’s Audley Court in there,” he said, pointing to a narrow slit in\\nthe line of dead-coloured brick. “You’ll find me here when you come\\nback.”\\n\\nAudley Court was not an attractive locality. The narrow passage led us\\ninto a quadrangle paved with flags and lined by sordid dwellings. We', 'The constable’s features broadened into a grin. “I’ve seen many a drunk\\nchap in my time,” he said, “but never anyone so cryin’ drunk as that\\ncove. He was at the gate when I came out, a-leanin’ up agin the\\nrailings, and a-singin’ at the pitch o’ his lungs about Columbine’s\\nNew-fangled Banner, or some such stuff. He couldn’t stand, far less\\nhelp.”\\n\\n“What sort of a man was he?” asked Sherlock Holmes.\\n\\nJohn Rance appeared to be somewhat irritated at this digression. “He\\nwas an uncommon drunk sort o’ man,” he said. “He’d ha’ found hisself in\\nthe station if we hadn’t been so took up.”\\n\\n“His face—his dress—didn’t you notice them?” Holmes broke in\\nimpatiently.\\n\\n“I should think I did notice them, seeing that I had to prop him up—me\\nand Murcher between us. He was a long chap, with a red face, the lower\\npart muffled round——”\\n\\n“That will do,” cried Holmes. “What became of him?”\\n\\n“We’d enough to do without lookin’ after him,” the policeman said, in\\nan aggrieved voice. “I’ll wager he found his way home all right.”\\n\\n“How was he dressed?”\\n\\n“A brown overcoat.”\\n\\n“Had he a whip in his hand?”\\n\\n“A whip—no.”\\n\\n“He must have left it behind,” muttered my companion. “You didn’t\\nhappen to see or hear a cab after that?”\\n\\n“No.”\\n\\n“There’s a half-sovereign for you,” my companion said, standing up and\\ntaking his hat. “I am afraid, Rance, that you will never rise in the\\nforce. That head of yours should be for use as well as ornament. You\\nmight have gained your sergeant’s stripes last night. The man whom you\\nheld in your hands is the man who holds the clue of this mystery, and\\nwhom we are seeking. There is no use of arguing about it now; I tell\\nyou that it is so. Come along, Doctor.”\\n\\nWe started off for the cab together, leaving our informant incredulous,\\nbut obviously uncomfortable.\\n\\n“The blundering fool,” Holmes said, bitterly, as we drove back to our\\nlodgings. “Just to think of his having such an incomparable bit of good\\nluck, and not taking advantage of it.”\\n\\n“I am rather in the dark still. It is true that the description of this\\nman tallies with your idea of the second party in this mystery. But why\\nshould he come back to the house after leaving it? That is not the way\\nof criminals.”\\n\\n“The ring, man, the ring: that was what he came back for. If we have no\\nother way of catching him, we can always bait our line with the ring. I\\nshall have him, Doctor—I’ll lay you two to one that I have him. I must\\nthank you for it all. I might not have gone but for you, and so have\\nmissed the finest study I ever came across: a study in scarlet, eh? Why\\nshouldn’t we use a little art jargon. There’s the scarlet thread of\\nmurder running through the colourless skein of life, and our duty is to\\nunravel it, and isolate it, and expose every inch of it. And now for\\nlunch, and then for Norman Neruda. Her attack and her bowing are\\nsplendid. What’s that little thing of Chopin’s she plays so\\nmagnificently: Tra-la-la-lira-lira-lay.”\\n\\nLeaning back in the cab, this amateur bloodhound carolled away like a\\nlark while I meditated upon the many-sidedness of the human mind.\\n\\n\\n\\n\\nCHAPTER V.\\nOUR ADVERTISEMENT BRINGS A VISITOR.\\n\\n\\nOur morning’s exertions had been too much for my weak health, and I was\\ntired out in the afternoon. After Holmes’ departure for the concert, I\\nlay down upon the sofa and endeavoured to get a couple of hours’ sleep.\\nIt was a useless attempt. My mind had been too much excited by all that\\nhad occurred, and the strangest fancies and surmises crowded into it.\\nEvery time that I closed my eyes I saw before me the distorted\\nbaboon-like countenance of the murdered man. So sinister was the\\nimpression which that face had produced upon me that I found it\\ndifficult to feel anything but gratitude for him who had removed its\\nowner from the world. If ever human features bespoke vice of the most\\nmalignant type, they were certainly those of Enoch J. Drebber, of\\nCleveland. Still I recognized that justice must be done, and that the', 'depravity of the victim was no condonement in the eyes of the law.\\n\\nThe more I thought of it the more extraordinary did my companion’s\\nhypothesis, that the man had been poisoned, appear. I remembered how he\\nhad sniffed his lips, and had no doubt that he had detected something\\nwhich had given rise to the idea. Then, again, if not poison, what had\\ncaused the man’s death, since there was neither wound nor marks of\\nstrangulation? But, on the other hand, whose blood was that which lay\\nso thickly upon the floor? There were no signs of a struggle, nor had\\nthe victim any weapon with which he might have wounded an antagonist.\\nAs long as all these questions were unsolved, I felt that sleep would\\nbe no easy matter, either for Holmes or myself. His quiet\\nself-confident manner convinced me that he had already formed a theory\\nwhich explained all the facts, though what it was I could not for an\\ninstant conjecture.\\n\\nHe was very late in returning—so late, that I knew that the concert\\ncould not have detained him all the time. Dinner was on the table\\nbefore he appeared.\\n\\n“It was magnificent,” he said, as he took his seat. “Do you remember\\nwhat Darwin says about music? He claims that the power of producing and\\nappreciating it existed among the human race long before the power of\\nspeech was arrived at. Perhaps that is why we are so subtly influenced\\nby it. There are vague memories in our souls of those misty centuries\\nwhen the world was in its childhood.”\\n\\n“That’s rather a broad idea,” I remarked.\\n\\n“One’s ideas must be as broad as Nature if they are to interpret\\nNature,” he answered. “What’s the matter? You’re not looking quite\\nyourself. This Brixton Road affair has upset you.”\\n\\n“To tell the truth, it has,” I said. “I ought to be more case-hardened\\nafter my Afghan experiences. I saw my own comrades hacked to pieces at\\nMaiwand without losing my nerve.”\\n\\n“I can understand. There is a mystery about this which stimulates the\\nimagination; where there is no imagination there is no horror. Have you\\nseen the evening paper?”\\n\\n“No.”\\n\\n“It gives a fairly good account of the affair. It does not mention the\\nfact that when the man was raised up, a woman’s wedding ring fell upon\\nthe floor. It is just as well it does not.”\\n\\n“Why?”\\n\\n“Look at this advertisement,” he answered. “I had one sent to every\\npaper this morning immediately after the affair.”\\n\\nHe threw the paper across to me and I glanced at the place indicated.\\nIt was the first announcement in the “Found” column. “In Brixton Road,\\nthis morning,” it ran, “a plain gold wedding ring, found in the roadway\\nbetween the ‘White Hart’ Tavern and Holland Grove. Apply Dr. Watson,\\n221B, Baker Street, between eight and nine this evening.”\\n\\n“Excuse my using your name,” he said. “If I used my own some of these\\ndunderheads would recognize it, and want to meddle in the affair.”\\n\\n“That is all right,” I answered. “But supposing anyone applies, I have\\nno ring.”\\n\\n“Oh yes, you have,” said he, handing me one. “This will do very well.\\nIt is almost a facsimile.”\\n\\n“And who do you expect will answer this advertisement.”\\n\\n“Why, the man in the brown coat—our florid friend with the square toes.'] \n",
      "\n",
      "reference_contexts: ['<1-hop>\\n\\nI was on the point of asking him what that work might be, but something in his manner showed me that the question would be an unwelcome one. I pondered over our short conversation, however, and endeavoured to draw my deductions from it. He said that he would acquire no knowledge which did not bear upon his object. Therefore all the knowledge which he possessed was such as would be useful to him. I enumerated in my own mind all the various points upon which he had shown me that he was exceptionally well-informed. I even took a pencil and jotted them down. I could not help smiling at the document when I had completed it. It ran in this way— SHERLOCK HOLMES—his limits. 1. Knowledge of Literature.—Nil. 2. Philosophy.—Nil. 3. Astronomy.—Nil. 4.', '<2-hop>\\n\\nPolitics.—Feeble. 5. Botany.—Variable. Well up in belladonna, opium, and poisons generally. Knows nothing of practical gardening. 6. Geology.—Practical, but limited. Tells at a glance different soils from each other. After walks has shown me splashes upon his trousers, and told me by their colour and consistence in what part of London he had received them. 7. Chemistry.—Profound. 8. Anatomy.—Accurate, but unsystematic. 9. Sensational Literature.—Immense. He appears to know every detail of every horror perpetrated in the century. 10. Plays the violin well. 11. Is an expert singlestick player, boxer, and swordsman. 12. Has a good practical knowledge of British law. When I had got so far in my list I threw it into the fire in despair. “If I can only find what the fellow is driving at by reconciling all these accomplishments, and discovering a calling which needs them all,” I said to myself, “I may as well give up the attempt at once.” I see that I have alluded above to his powers upon the violin. These were very remarkable, but as eccentric as all his other accomplishments. That he could play pieces, and difficult pieces, I knew well, because at my request he has played me some of Mendelssohn’s Lieder, and other favourites. When left to himself, however, he would seldom produce any music or attempt any recognized air. Leaning back in his arm-chair of an evening, he would close his eyes and scrape carelessly at the fiddle which was thrown across his knee. Sometimes the chords were sonorous and melancholy. Occasionally they were fantastic and cheerful. Clearly they reflected the thoughts which possessed him, but whether the music aided those thoughts, or whether the playing was simply the result of a whim or fancy was more than I could determine. I might have rebelled against these exasperating solos had it not been that he usually terminated them by playing in quick succession a whole series of my favourite airs as a slight compensation for the trial upon my patience. During the first week or so we had no callers, and I had begun to think that my companion was as friendless a man as I was myself. Presently, however, I found that he had many acquaintances, and those in the most different classes of society. There was one little sallow rat-faced, dark-eyed fellow who was introduced to me as Mr. Lestrade, and who came three or four times in a single week. One morning a young girl called, fashionably dressed, and stayed for half an hour or more. The same afternoon brought a grey-headed, seedy visitor, looking like a Jew pedlar, who appeared to me to be much excited, and who was closely followed by a slip-shod elderly woman. On another occasion an old white-haired gentleman had an interview with my companion; and on another a railway porter in his velveteen uniform. When any of these nondescript individuals put in an appearance, Sherlock Holmes used to beg for the use of the sitting-room, and I would retire to my bed-room. He always apologized to me for putting me to this inconvenience. “I have to use this room as a place of business,” he said, “and these people are my clients.” Again I had an opportunity of asking him a point blank question, and again my delicacy prevented me from forcing'] \n",
      "\n",
      "response: {'text': 'Okay, let\\'s analyze what can be inferred about Sherlock Holmes\\'s knowledge of politics and how it relates to his inquiry skills, based on the provided text excerpts.\\n\\n**Key Point: \"Politics.—Feeble.\"**\\n\\nThe narrator\\'s list of Holmes\\'s limitations explicitly includes \"Politics.—Feeble.\" This isn\\'t a casual remark but a deliberate categorization, highlighting a conscious choice by Holmes to not engage deeply with this area.\\n\\n**Inferences About Holmes\\'s Knowledge of Politics:**\\n\\n1.  **Selective Learning:** Holmes operates under the principle that he \"would acquire no knowledge which did not bear upon his object.\" This reveals a highly pragmatic approach to learning, focused solely on what directly benefits his ability to solve crimes. Politics, being a complex and often abstract field, doesn\\'t fit into this utilitarian framework. He only cares for knowledge that has a specific purpose in his work.\\n\\n2.  **Practicality over Abstraction:** Holmes\\'s expertise lies in areas directly applicable to crime-solving: chemistry, botany (especially poisons), geology (soil analysis), anatomy, sensational literature, and British law. These are all about tangible evidence, real-world application, and legal frameworks, which is more important to him than politics.\\n\\n3.  **Individual Focus:** He is more interested in individual motivations, actions, and behavior than in broader political forces that might influence crime. He focuses on the specific details of each case, rather than broader social or political factors. He is interested in the psychology of the criminal, rather than how they were influenced by the wider world.\\n\\n4.  **Rejection of Conventional Thought:** Holmes\\'s limited understanding of politics suggests that he rejects conventional thought and the importance of studying traditional subjects. He is very sure of his own methods, and does not believe that political theory would be useful to him in solving crimes.\\n\\n5.  **Single-Minded Dedication:** This reinforces his single-minded dedication to his role as a consulting detective. He channels his energy and time towards his area of expertise, which leads to his success. He believes his way is the correct and most efficient way of doing things.\\n\\n**Impact on His Capabilities as a Consulting Detective:**\\n\\n1.  **Not a Hindrance:** It\\'s crucial to note that his lack of political knowledge doesn\\'t hinder his effectiveness as a detective. His success is rooted in his skills of observation, deduction, analysis, and deep understanding of criminal psychology, all of which are independent of political understanding. He excels in a specific area and this is not diminished by his disinterest in other fields.\\n\\n2.  **Objectivity:** His lack of political involvement might allow him to remain objective in his investigations, focusing solely on the facts of the case without being swayed by any political bias.\\n\\n3.  **Efficiency:** His focused and pragmatic approach allows him to use his methods efficiently, and to solve the cases quickly and effectively. He does not waste time on extraneous information, and can therefore focus on the specific details of each crime.\\n\\n4.  **Unique Perspective:** His unusual way of looking at the world allows him to see clues that others might miss. His limited knowledge of politics makes him different, and this unique perspective helps him in his professional life.\\n\\n**Relationship to Other Skills:**\\n\\n1.  **Deduction and Observation:** His \"Feeble\" knowledge of politics allows him to focus on other areas, such as observation and deduction, and to refine these to an extraordinary degree. His deductions, such as his assessment of the narrator, the messenger, or the clues at the crime scene, rely heavily on his powers of observation, not on his understanding of political systems.\\n\\n2.  **Practical Approach:** He is more interested in facts than ideas, and therefore his knowledge base emphasizes facts, logic, and observable details, over more theoretical concepts.\\n\\n3.  **Sensational Literature:** His knowledge of sensational literature, and the methods of real-world criminals, means that he does not need to focus on the political aspects of crime, and instead focuses on the psychology and specific actions of the criminals themselves.\\n\\n4.  **British Law:** His knowledge of British law helps him to understand the limitations and advantages of the official police system. While he works independently of the police force, he understands how they work and their limitations, as well as the ways he can work around them.\\n\\n**In Conclusion:**\\n\\nSherlock Holmes\\'s \"Feeble\" knowledge of politics is a deliberate choice, reflecting his focused, pragmatic, and unconventional approach to detection. It does not limit his skills as a detective, but instead it is a sign of his unique nature, his highly specialized knowledge base, and his single-minded dedication to his craft. He prioritizes practical skills over theoretical knowledge and is focused on solving crimes, not on wider social or political systems. He is a problem solver and only seeks the facts that relate directly to solving the issue.\\n', 'tokens': {'prompt': 60949, 'completion': 1010, 'total': 61959}} \n",
      "\n",
      "reference: Sherlock Holmes's knowledge in politics is described as 'feeble,' indicating that it is not a strong area for him. However, his inquiry skills are exceptional, as he only acquires knowledge that is useful to his objectives. This suggests that while he may lack depth in political knowledge, his ability to deduce and draw conclusions from conversations and observations compensates for this limitation. \n",
      "\n",
      "context_recall = 0.6666666666666666\n",
      "llm_context_precision_with_reference = nan\n",
      "llm_context_precision_without_reference = nan\n",
      "answer_correctness = 0.2966832097415647\n",
      "answer_relevancy = 0.9896722324596542\n",
      "semantic_similarity = 0.8438756961091161\n",
      "faithfulness = 0.9516129032258064\n"
     ]
    }
   ],
   "execution_count": 27
  },
  {
   "cell_type": "code",
   "id": "1695fb55-f7ed-49c1-87a1-e8d6337156c2",
   "metadata": {
    "ExecuteTime": {
     "end_time": "2024-12-24T08:12:10.895442Z",
     "start_time": "2024-12-24T08:12:10.892524Z"
    }
   },
   "source": [
    "print_score_pd(scoreset_pd, 5)"
   ],
   "outputs": [
    {
     "name": "stdout",
     "output_type": "stream",
     "text": [
      "user_input: What are the limitations of SHERLOCK HOLMES's knowledge as inferred from the context? \n",
      "\n",
      "retrieved_contexts: ['I was on the point of asking him what that work might be, but something\\nin his manner showed me that the question would be an unwelcome one. I\\npondered over our short conversation, however, and endeavoured to draw\\nmy deductions from it. He said that he would acquire no knowledge which\\ndid not bear upon his object. Therefore all the knowledge which he\\npossessed was such as would be useful to him. I enumerated in my own\\nmind all the various points upon which he had shown me that he was\\nexceptionally well-informed. I even took a pencil and jotted them down.\\nI could not help smiling at the document when I had completed it. It\\nran in this way—\\n\\n\\nSHERLOCK HOLMES—his limits.\\n\\n\\n1. Knowledge of Literature.—Nil.\\n2. Philosophy.—Nil.\\n3. Astronomy.—Nil.\\n4. Politics.—Feeble.\\n5. Botany.—Variable. Well up in belladonna, opium, and poisons\\ngenerally. Knows nothing of practical gardening.\\n6. Geology.—Practical, but limited. Tells at a glance different soils\\nfrom each other. After walks has shown me splashes upon his trousers,\\nand told me by their colour and consistence in what part of London he\\nhad received them.\\n7. Chemistry.—Profound.\\n8. Anatomy.—Accurate, but unsystematic.\\n9. Sensational Literature.—Immense. He appears to know every detail of\\nevery horror perpetrated in the century.\\n10. Plays the violin well.\\n11. Is an expert singlestick player, boxer, and swordsman.\\n12. Has a good practical knowledge of British law.\\n\\n\\nWhen I had got so far in my list I threw it into the fire in despair.\\n“If I can only find what the fellow is driving at by reconciling all\\nthese accomplishments, and discovering a calling which needs them all,”\\nI said to myself, “I may as well give up the attempt at once.”\\n\\nI see that I have alluded above to his powers upon the violin. These\\nwere very remarkable, but as eccentric as all his other\\naccomplishments. That he could play pieces, and difficult pieces, I\\nknew well, because at my request he has played me some of Mendelssohn’s\\nLieder, and other favourites. When left to himself, however, he would\\nseldom produce any music or attempt any recognized air. Leaning back in\\nhis arm-chair of an evening, he would close his eyes and scrape\\ncarelessly at the fiddle which was thrown across his knee. Sometimes\\nthe chords were sonorous and melancholy. Occasionally they were\\nfantastic and cheerful. Clearly they reflected the thoughts which\\npossessed him, but whether the music aided those thoughts, or whether\\nthe playing was simply the result of a whim or fancy was more than I\\ncould determine. I might have rebelled against these exasperating solos\\nhad it not been that he usually terminated them by playing in quick\\nsuccession a whole series of my favourite airs as a slight compensation\\nfor the trial upon my patience.\\n\\nDuring the first week or so we had no callers, and I had begun to think\\nthat my companion was as friendless a man as I was myself. Presently,\\nhowever, I found that he had many acquaintances, and those in the most\\ndifferent classes of society. There was one little sallow rat-faced,\\ndark-eyed fellow who was introduced to me as Mr. Lestrade, and who came\\nthree or four times in a single week. One morning a young girl called,\\nfashionably dressed, and stayed for half an hour or more. The same\\nafternoon brought a grey-headed, seedy visitor, looking like a Jew\\npedlar, who appeared to me to be much excited, and who was closely\\nfollowed by a slip-shod elderly woman. On another occasion an old\\nwhite-haired gentleman had an interview with my companion; and on\\nanother a railway porter in his velveteen uniform. When any of these\\nnondescript individuals put in an appearance, Sherlock Holmes used to\\nbeg for the use of the sitting-room, and I would retire to my bed-room.\\nHe always apologized to me for putting me to this inconvenience. “I\\nhave to use this room as a place of business,” he said, “and these\\npeople are my clients.” Again I had an opportunity of asking him a\\npoint blank question, and again my delicacy prevented me from forcing', 'another man to confide in me. I imagined at the time that he had some\\nstrong reason for not alluding to it, but he soon dispelled the idea by\\ncoming round to the subject of his own accord.\\n\\nIt was upon the 4th of March, as I have good reason to remember, that I\\nrose somewhat earlier than usual, and found that Sherlock Holmes had\\nnot yet finished his breakfast. The landlady had become so accustomed\\nto my late habits that my place had not been laid nor my coffee\\nprepared. With the unreasonable petulance of mankind I rang the bell\\nand gave a curt intimation that I was ready. Then I picked up a\\nmagazine from the table and attempted to while away the time with it,\\nwhile my companion munched silently at his toast. One of the articles\\nhad a pencil mark at the heading, and I naturally began to run my eye\\nthrough it.\\n\\nIts somewhat ambitious title was “The Book of Life,” and it attempted\\nto show how much an observant man might learn by an accurate and\\nsystematic examination of all that came in his way. It struck me as\\nbeing a remarkable mixture of shrewdness and of absurdity. The\\nreasoning was close and intense, but the deductions appeared to me to\\nbe far-fetched and exaggerated. The writer claimed by a momentary\\nexpression, a twitch of a muscle or a glance of an eye, to fathom a\\nman’s inmost thoughts. Deceit, according to him, was an impossibility\\nin the case of one trained to observation and analysis. His conclusions\\nwere as infallible as so many propositions of Euclid. So startling\\nwould his results appear to the uninitiated that until they learned the\\nprocesses by which he had arrived at them they might well consider him\\nas a necromancer.\\n\\n“From a drop of water,” said the writer, “a logician could infer the\\npossibility of an Atlantic or a Niagara without having seen or heard of\\none or the other. So all life is a great chain, the nature of which is\\nknown whenever we are shown a single link of it. Like all other arts,\\nthe Science of Deduction and Analysis is one which can only be acquired\\nby long and patient study nor, is life long enough to allow any mortal\\nto attain the highest possible perfection in it. Before turning to\\nthose moral and mental aspects of the matter which present the greatest\\ndifficulties, let the enquirer begin by mastering more elementary\\nproblems. Let him, on meeting a fellow-mortal, learn at a glance to\\ndistinguish the history of the man, and the trade or profession to\\nwhich he belongs. Puerile as such an exercise may seem, it sharpens the\\nfaculties of observation, and teaches one where to look and what to\\nlook for. By a man’s finger nails, by his coat-sleeve, by his boot, by\\nhis trouser knees, by the callosities of his forefinger and thumb, by\\nhis expression, by his shirt cuffs—by each of these things a man’s\\ncalling is plainly revealed. That all united should fail to enlighten\\nthe competent enquirer in any case is almost inconceivable.”\\n\\n“What ineffable twaddle!” I cried, slapping the magazine down on the\\ntable, “I never read such rubbish in my life.”\\n\\n“What is it?” asked Sherlock Holmes.\\n\\n“Why, this article,” I said, pointing at it with my egg spoon as I sat\\ndown to my breakfast. “I see that you have read it since you have\\nmarked it. I don’t deny that it is smartly written. It irritates me\\nthough. It is evidently the theory of some arm-chair lounger who\\nevolves all these neat little paradoxes in the seclusion of his own\\nstudy. It is not practical. I should like to see him clapped down in a\\nthird class carriage on the Underground, and asked to give the trades\\nof all his fellow-travellers. I would lay a thousand to one against\\nhim.”\\n\\n“You would lose your money,” Sherlock Holmes remarked calmly. “As for\\nthe article I wrote it myself.”\\n\\n“You!”\\n\\n“Yes, I have a turn both for observation and for deduction. The\\ntheories which I have expressed there, and which appear to you to be so\\nchimerical are really extremely practical—so practical that I depend\\nupon them for my bread and cheese.”', '“And how?” I asked involuntarily.\\n\\n“Well, I have a trade of my own. I suppose I am the only one in the\\nworld. I’m a consulting detective, if you can understand what that is.\\nHere in London we have lots of Government detectives and lots of\\nprivate ones. When these fellows are at fault they come to me, and I\\nmanage to put them on the right scent. They lay all the evidence before\\nme, and I am generally able, by the help of my knowledge of the history\\nof crime, to set them straight. There is a strong family resemblance\\nabout misdeeds, and if you have all the details of a thousand at your\\nfinger ends, it is odd if you can’t unravel the thousand and first.\\nLestrade is a well-known detective. He got himself into a fog recently\\nover a forgery case, and that was what brought him here.”\\n\\n“And these other people?”\\n\\n“They are mostly sent on by private inquiry agencies. They are all\\npeople who are in trouble about something, and want a little\\nenlightening. I listen to their story, they listen to my comments, and\\nthen I pocket my fee.”\\n\\n“But do you mean to say,” I said, “that without leaving your room you\\ncan unravel some knot which other men can make nothing of, although\\nthey have seen every detail for themselves?”\\n\\n“Quite so. I have a kind of intuition that way. Now and again a case\\nturns up which is a little more complex. Then I have to bustle about\\nand see things with my own eyes. You see I have a lot of special\\nknowledge which I apply to the problem, and which facilitates matters\\nwonderfully. Those rules of deduction laid down in that article which\\naroused your scorn, are invaluable to me in practical work. Observation\\nwith me is second nature. You appeared to be surprised when I told you,\\non our first meeting, that you had come from Afghanistan.”\\n\\n“You were told, no doubt.”\\n\\n“Nothing of the sort. I _knew_ you came from Afghanistan. From long\\nhabit the train of thoughts ran so swiftly through my mind, that I\\narrived at the conclusion without being conscious of intermediate\\nsteps. There were such steps, however. The train of reasoning ran,\\n‘Here is a gentleman of a medical type, but with the air of a military\\nman. Clearly an army doctor, then. He has just come from the tropics,\\nfor his face is dark, and that is not the natural tint of his skin, for\\nhis wrists are fair. He has undergone hardship and sickness, as his\\nhaggard face says clearly. His left arm has been injured. He holds it\\nin a stiff and unnatural manner. Where in the tropics could an English\\narmy doctor have seen much hardship and got his arm wounded? Clearly in\\nAfghanistan.’ The whole train of thought did not occupy a second. I\\nthen remarked that you came from Afghanistan, and you were astonished.”\\n\\n“It is simple enough as you explain it,” I said, smiling. “You remind\\nme of Edgar Allen Poe’s Dupin. I had no idea that such individuals did\\nexist outside of stories.”\\n\\nSherlock Holmes rose and lit his pipe. “No doubt you think that you are\\ncomplimenting me in comparing me to Dupin,” he observed. “Now, in my\\nopinion, Dupin was a very inferior fellow. That trick of his of\\nbreaking in on his friends’ thoughts with an apropos remark after a\\nquarter of an hour’s silence is really very showy and superficial. He\\nhad some analytical genius, no doubt; but he was by no means such a\\nphenomenon as Poe appeared to imagine.”\\n\\n“Have you read Gaboriau’s works?” I asked. “Does Lecoq come up to your\\nidea of a detective?”\\n\\nSherlock Holmes sniffed sardonically. “Lecoq was a miserable bungler,”\\nhe said, in an angry voice; “he had only one thing to recommend him,\\nand that was his energy. That book made me positively ill. The question\\nwas how to identify an unknown prisoner. I could have done it in\\ntwenty-four hours. Lecoq took six months or so. It might be made a\\ntext-book for detectives to teach them what to avoid.”\\n\\nI felt rather indignant at having two characters whom I had admired\\ntreated in this cavalier style. I walked over to the window, and stood', 'looking out into the busy street. “This fellow may be very clever,” I\\nsaid to myself, “but he is certainly very conceited.”\\n\\n“There are no crimes and no criminals in these days,” he said,\\nquerulously. “What is the use of having brains in our profession. I\\nknow well that I have it in me to make my name famous. No man lives or\\nhas ever lived who has brought the same amount of study and of natural\\ntalent to the detection of crime which I have done. And what is the\\nresult? There is no crime to detect, or, at most, some bungling\\nvillainy with a motive so transparent that even a Scotland Yard\\nofficial can see through it.”\\n\\nI was still annoyed at his bumptious style of conversation. I thought\\nit best to change the topic.\\n\\n“I wonder what that fellow is looking for?” I asked, pointing to a\\nstalwart, plainly-dressed individual who was walking slowly down the\\nother side of the street, looking anxiously at the numbers. He had a\\nlarge blue envelope in his hand, and was evidently the bearer of a\\nmessage.\\n\\n“You mean the retired sergeant of Marines,” said Sherlock Holmes.\\n\\n“Brag and bounce!” thought I to myself. “He knows that I cannot verify\\nhis guess.”\\n\\nThe thought had hardly passed through my mind when the man whom we were\\nwatching caught sight of the number on our door, and ran rapidly across\\nthe roadway. We heard a loud knock, a deep voice below, and heavy steps\\nascending the stair.\\n\\n“For Mr. Sherlock Holmes,” he said, stepping into the room and handing\\nmy friend the letter.\\n\\nHere was an opportunity of taking the conceit out of him. He little\\nthought of this when he made that random shot. “May I ask, my lad,” I\\nsaid, in the blandest voice, “what your trade may be?”\\n\\n“Commissionaire, sir,” he said, gruffly. “Uniform away for repairs.”\\n\\n“And you were?” I asked, with a slightly malicious glance at my\\ncompanion.\\n\\n“A sergeant, sir, Royal Marine Light Infantry, sir. No answer? Right,\\nsir.”\\n\\nHe clicked his heels together, raised his hand in a salute, and was\\ngone.\\n\\n\\n\\n\\nCHAPTER III.\\nTHE LAURISTON GARDENS MYSTERY\\n\\n\\nI confess that I was considerably startled by this fresh proof of the\\npractical nature of my companion’s theories. My respect for his powers\\nof analysis increased wondrously. There still remained some lurking\\nsuspicion in my mind, however, that the whole thing was a pre-arranged\\nepisode, intended to dazzle me, though what earthly object he could\\nhave in taking me in was past my comprehension. When I looked at him he\\nhad finished reading the note, and his eyes had assumed the vacant,\\nlack-lustre expression which showed mental abstraction.\\n\\n“How in the world did you deduce that?” I asked.\\n\\n“Deduce what?” said he, petulantly.\\n\\n“Why, that he was a retired sergeant of Marines.”\\n\\n“I have no time for trifles,” he answered, brusquely; then with a\\nsmile, “Excuse my rudeness. You broke the thread of my thoughts; but\\nperhaps it is as well. So you actually were not able to see that that\\nman was a sergeant of Marines?”\\n\\n“No, indeed.”\\n\\n“It was easier to know it than to explain why I knew it. If you were'] \n",
      "\n",
      "reference_contexts: ['I was on the point of asking him what that work might be, but something in his manner showed me that the question would be an unwelcome one. I pondered over our short conversation, however, and endeavoured to draw my deductions from it. He said that he would acquire no knowledge which did not bear upon his object. Therefore all the knowledge which he possessed was such as would be useful to him. I enumerated in my own mind all the various points upon which he had shown me that he was exceptionally well-informed. I even took a pencil and jotted them down. I could not help smiling at the document when I had completed it. It ran in this way— SHERLOCK HOLMES—his limits. 1. Knowledge of Literature.—Nil. 2. Philosophy.—Nil. 3. Astronomy.—Nil. 4.'] \n",
      "\n",
      "response: {'text': 'Based on the provided text excerpts, the limitations of Sherlock Holmes\\'s knowledge are:\\n\\n*   **Literature:** He has \"Nil\" knowledge of literature. This is explicitly stated in the narrator\\'s list.\\n*   **Philosophy:** He has \"Nil\" knowledge of philosophy. This is also explicitly stated in the narrator\\'s list.\\n*   **Astronomy:** He has \"Nil\" knowledge of astronomy, as listed by the narrator.\\n*   **Politics:** His knowledge of politics is \"Feeble.\" This is again from the narrator\\'s list, indicating a weak grasp of political matters.\\n*   **Practical Gardening:** While he knows a lot about botany, particularly poisons, he knows \"nothing of practical gardening\". This illustrates his focus on knowledge useful to his work rather than general or practical skills.\\n*   **Anatomy:** Although his knowledge is \"accurate,\" it is \"unsystematic,\" implying a lack of comprehensive, structured knowledge. This suggests he might have gaps or a less formal understanding of the subject.\\n\\nThese limitations are a direct result of his deliberate and selective approach to knowledge acquisition, focusing only on information that is relevant to his profession as a consulting detective and neglecting other areas. He seeks out practical knowledge applicable to his work rather than theoretical or broadly applicable knowledge.\\n', 'tokens': {'prompt': 8589, 'completion': 265, 'total': 8854}} \n",
      "\n",
      "reference: According to the context, SHERLOCK HOLMES has specific limitations in his knowledge, as he stated that he would acquire no knowledge which did not bear upon his object. The document enumerates his limits, indicating that he has no knowledge in Literature, Philosophy, or Astronomy. \n",
      "\n",
      "context_recall = 1.0\n",
      "llm_context_precision_with_reference = 0.999999999975\n",
      "llm_context_precision_without_reference = 0.9999999999666668\n",
      "answer_correctness = 0.5190480977698824\n",
      "answer_relevancy = 0.9226583050331708\n",
      "semantic_similarity = 0.8761923910795291\n",
      "faithfulness = 1.0\n"
     ]
    }
   ],
   "execution_count": 28
  },
  {
   "cell_type": "code",
   "execution_count": null,
   "id": "0beb8087-ee1c-47f7-8bd5-e43e2560b322",
   "metadata": {},
   "outputs": [],
   "source": []
  }
 ],
 "metadata": {
  "kernelspec": {
   "display_name": "Python 3 (ipykernel)",
   "language": "python",
   "name": "python3"
  },
  "language_info": {
   "codemirror_mode": {
    "name": "ipython",
    "version": 3
   },
   "file_extension": ".py",
   "mimetype": "text/x-python",
   "name": "python",
   "nbconvert_exporter": "python",
   "pygments_lexer": "ipython3",
   "version": "3.11.10"
  }
 },
 "nbformat": 4,
 "nbformat_minor": 5
}
